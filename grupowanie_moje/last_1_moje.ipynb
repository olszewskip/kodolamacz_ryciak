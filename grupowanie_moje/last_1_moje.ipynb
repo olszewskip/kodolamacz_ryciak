{
 "cells": [
  {
   "cell_type": "code",
   "execution_count": 124,
   "metadata": {},
   "outputs": [],
   "source": [
    "import numpy as np\n",
    "import pandas as pd\n",
    "import matplotlib.pyplot as plt\n",
    "import seaborn as sns\n",
    "\n",
    "from sklearn.metrics.pairwise import euclidean_distances\n",
    "from sklearn.cluster import DBSCAN\n"
   ]
  },
  {
   "cell_type": "code",
   "execution_count": 2,
   "metadata": {},
   "outputs": [],
   "source": [
    "dane = pd.read_csv('summer-travel-gps-full.csv')"
   ]
  },
  {
   "cell_type": "code",
   "execution_count": 6,
   "metadata": {},
   "outputs": [
    {
     "data": {
      "text/html": [
       "<div>\n",
       "<style scoped>\n",
       "    .dataframe tbody tr th:only-of-type {\n",
       "        vertical-align: middle;\n",
       "    }\n",
       "\n",
       "    .dataframe tbody tr th {\n",
       "        vertical-align: top;\n",
       "    }\n",
       "\n",
       "    .dataframe thead th {\n",
       "        text-align: right;\n",
       "    }\n",
       "</style>\n",
       "<table border=\"1\" class=\"dataframe\">\n",
       "  <thead>\n",
       "    <tr style=\"text-align: right;\">\n",
       "      <th></th>\n",
       "      <th>lat</th>\n",
       "      <th>lon</th>\n",
       "      <th>date</th>\n",
       "      <th>city</th>\n",
       "      <th>country</th>\n",
       "    </tr>\n",
       "  </thead>\n",
       "  <tbody>\n",
       "    <tr>\n",
       "      <th>0</th>\n",
       "      <td>51.481292</td>\n",
       "      <td>-0.451011</td>\n",
       "      <td>05/14/2014 09:07</td>\n",
       "      <td>West Drayton</td>\n",
       "      <td>United Kingdom</td>\n",
       "    </tr>\n",
       "    <tr>\n",
       "      <th>1</th>\n",
       "      <td>51.474005</td>\n",
       "      <td>-0.450999</td>\n",
       "      <td>05/14/2014 09:22</td>\n",
       "      <td>Hounslow</td>\n",
       "      <td>United Kingdom</td>\n",
       "    </tr>\n",
       "    <tr>\n",
       "      <th>2</th>\n",
       "      <td>51.478199</td>\n",
       "      <td>-0.446081</td>\n",
       "      <td>05/14/2014 10:51</td>\n",
       "      <td>Hounslow</td>\n",
       "      <td>United Kingdom</td>\n",
       "    </tr>\n",
       "  </tbody>\n",
       "</table>\n",
       "</div>"
      ],
      "text/plain": [
       "         lat       lon              date          city         country\n",
       "0  51.481292 -0.451011  05/14/2014 09:07  West Drayton  United Kingdom\n",
       "1  51.474005 -0.450999  05/14/2014 09:22      Hounslow  United Kingdom\n",
       "2  51.478199 -0.446081  05/14/2014 10:51      Hounslow  United Kingdom"
      ]
     },
     "execution_count": 6,
     "metadata": {},
     "output_type": "execute_result"
    }
   ],
   "source": [
    "dane[:3]"
   ]
  },
  {
   "cell_type": "code",
   "execution_count": 9,
   "metadata": {},
   "outputs": [
    {
     "data": {
      "text/plain": [
       "array(['West Drayton', 'Hounslow', 'Lisbon', 'Amadora',\n",
       "       'Algueirão-Mem Martins', 'Sintra', 'Damaia', 'Azambuja',\n",
       "       'Santarém', 'Zibreira', 'Ourém Municipality', 'São Mamede',\n",
       "       'Leiria District', 'Coimbra Municipality', 'Aveiro District',\n",
       "       'Vila Nova de Gaia', 'Porto', 'Vila Nova de Gaia Municipality',\n",
       "       'Porto District', 'Maia Municipality', 'Matosinhos', 'Maia',\n",
       "       'El Prat de Llobregat', 'Viladecans', 'Barcelona', 'Zendek',\n",
       "       'Tarnowskie Góry County', 'Silesian Voivodeship',\n",
       "       'Dabrowa Gornicza', 'Olkusz County', 'Krakow',\n",
       "       'Kraków-Śródmieście', 'Oswiecim', 'Babice, Oświęcim County',\n",
       "       'Wygiełzów, Lesser Poland Voivodeship', 'Chrzanów County',\n",
       "       'Wieliczka', 'Balice, Lesser Poland Voivodeship', 'Trzebinia',\n",
       "       'Imielin', 'Ruda Slaska', 'Gliwice', 'Bytom', 'Novy Bohumin',\n",
       "       'Ostrava', 'Suchdol nad Odrou', 'Hranice', 'Prerov',\n",
       "       'Ústí nad Orlicí', 'Kojice', 'Sadská', 'Prague', 'Úvaly',\n",
       "       'Poříčany', 'Kolin', 'Kutna Hora',\n",
       "       'Nové Dvory (Kutná Hora District)', 'Český Brod', 'Beroun', 'Mýto',\n",
       "       'Plzen', 'Blatnice', 'Kostelec', 'Rozvadov', 'Kümmersbruck',\n",
       "       'Winkelhaid', 'Kammerstein', 'Ansbach', 'Ellhofen', 'Obersulm',\n",
       "       'Stuttgart', 'Wernau', 'Riederich', 'Kirchentellinsfurt',\n",
       "       'Tübingen', 'Rottenburg', 'Horb am Neckar', 'Eutingen im Gäu',\n",
       "       'Schopfloch', 'Freudenstadt', 'Alpirsbach', 'Wolfach', 'Gutach',\n",
       "       'Gengenbach', 'Offenburg', 'Friesenheim', 'Freiburg',\n",
       "       'Kirchzarten', 'Titisee-Neustadt', 'Villingen-Schwenningen',\n",
       "       'Dietingen', 'Leinfelden-Echterdingen', 'Hospitalet de Llobregat',\n",
       "       'Belgrade', 'Slepčević', 'Sarajevo', 'Mostar', 'Ploče', 'Split',\n",
       "       'Herzegovina-Neretva Canton', 'Dubrovnik', 'Kotor', 'Prizren',\n",
       "       'Ohrid', 'Berat', 'Gjirokastër', 'Kakavia', 'Dytiki Ellada',\n",
       "       'Peloponnese', 'Athens', 'Attica', 'Istanbul', 'Munich'],\n",
       "      dtype=object)"
      ]
     },
     "execution_count": 9,
     "metadata": {},
     "output_type": "execute_result"
    }
   ],
   "source": [
    "dane.city.unique()"
   ]
  },
  {
   "cell_type": "code",
   "execution_count": 8,
   "metadata": {},
   "outputs": [
    {
     "data": {
      "image/png": "[encoded data removed]",
      "text/plain": [
       "<Figure size 432x288 with 1 Axes>"
      ]
     },
     "metadata": {
      "needs_background": "light"
     },
     "output_type": "display_data"
    }
   ],
   "source": [
    "plt.scatter(dane.lat, dane.lon)\n",
    "plt.show()"
   ]
  },
  {
   "cell_type": "code",
   "execution_count": 52,
   "metadata": {},
   "outputs": [
    {
     "data": {
      "text/html": [
       "<div>\n",
       "<style scoped>\n",
       "    .dataframe tbody tr th:only-of-type {\n",
       "        vertical-align: middle;\n",
       "    }\n",
       "\n",
       "    .dataframe tbody tr th {\n",
       "        vertical-align: top;\n",
       "    }\n",
       "\n",
       "    .dataframe thead th {\n",
       "        text-align: right;\n",
       "    }\n",
       "</style>\n",
       "<table border=\"1\" class=\"dataframe\">\n",
       "  <thead>\n",
       "    <tr style=\"text-align: right;\">\n",
       "      <th></th>\n",
       "      <th>lon</th>\n",
       "      <th>lat</th>\n",
       "    </tr>\n",
       "  </thead>\n",
       "  <tbody>\n",
       "    <tr>\n",
       "      <th>0</th>\n",
       "      <td>-0.451011</td>\n",
       "      <td>51.481292</td>\n",
       "    </tr>\n",
       "    <tr>\n",
       "      <th>1</th>\n",
       "      <td>-0.450999</td>\n",
       "      <td>51.474005</td>\n",
       "    </tr>\n",
       "    <tr>\n",
       "      <th>2</th>\n",
       "      <td>-0.446081</td>\n",
       "      <td>51.478199</td>\n",
       "    </tr>\n",
       "  </tbody>\n",
       "</table>\n",
       "</div>"
      ],
      "text/plain": [
       "        lon        lat\n",
       "0 -0.451011  51.481292\n",
       "1 -0.450999  51.474005\n",
       "2 -0.446081  51.478199"
      ]
     },
     "execution_count": 52,
     "metadata": {},
     "output_type": "execute_result"
    }
   ],
   "source": [
    "dane = pd.read_csv('summer-travel-gps-full.csv')\n",
    "points = dane[['lon','lat']]\n",
    "points[:3]"
   ]
  },
  {
   "cell_type": "code",
   "execution_count": 53,
   "metadata": {},
   "outputs": [
    {
     "data": {
      "image/png": "[encoded data removed]",
      "text/plain": [
       "<Figure size 432x288 with 2 Axes>"
      ]
     },
     "metadata": {
      "needs_background": "light"
     },
     "output_type": "display_data"
    }
   ],
   "source": [
    "dane.hist(column=['lon','lat'])\n",
    "plt.show()"
   ]
  },
  {
   "cell_type": "code",
   "execution_count": 54,
   "metadata": {},
   "outputs": [
    {
     "data": {
      "text/html": [
       "<div>\n",
       "<style scoped>\n",
       "    .dataframe tbody tr th:only-of-type {\n",
       "        vertical-align: middle;\n",
       "    }\n",
       "\n",
       "    .dataframe tbody tr th {\n",
       "        vertical-align: top;\n",
       "    }\n",
       "\n",
       "    .dataframe thead th {\n",
       "        text-align: right;\n",
       "    }\n",
       "</style>\n",
       "<table border=\"1\" class=\"dataframe\">\n",
       "  <thead>\n",
       "    <tr style=\"text-align: right;\">\n",
       "      <th></th>\n",
       "      <th>lon</th>\n",
       "      <th>lat</th>\n",
       "    </tr>\n",
       "  </thead>\n",
       "  <tbody>\n",
       "    <tr>\n",
       "      <th>count</th>\n",
       "      <td>1759.000000</td>\n",
       "      <td>1759.000000</td>\n",
       "    </tr>\n",
       "    <tr>\n",
       "      <th>mean</th>\n",
       "      <td>7.867407</td>\n",
       "      <td>43.142744</td>\n",
       "    </tr>\n",
       "    <tr>\n",
       "      <th>std</th>\n",
       "      <td>10.821489</td>\n",
       "      <td>3.897152</td>\n",
       "    </tr>\n",
       "    <tr>\n",
       "      <th>min</th>\n",
       "      <td>-9.425103</td>\n",
       "      <td>37.921659</td>\n",
       "    </tr>\n",
       "    <tr>\n",
       "      <th>25%</th>\n",
       "      <td>2.150215</td>\n",
       "      <td>41.143072</td>\n",
       "    </tr>\n",
       "    <tr>\n",
       "      <th>50%</th>\n",
       "      <td>2.183084</td>\n",
       "      <td>41.385976</td>\n",
       "    </tr>\n",
       "    <tr>\n",
       "      <th>75%</th>\n",
       "      <td>18.425965</td>\n",
       "      <td>47.989978</td>\n",
       "    </tr>\n",
       "    <tr>\n",
       "      <th>max</th>\n",
       "      <td>29.011215</td>\n",
       "      <td>51.481292</td>\n",
       "    </tr>\n",
       "  </tbody>\n",
       "</table>\n",
       "</div>"
      ],
      "text/plain": [
       "               lon          lat\n",
       "count  1759.000000  1759.000000\n",
       "mean      7.867407    43.142744\n",
       "std      10.821489     3.897152\n",
       "min      -9.425103    37.921659\n",
       "25%       2.150215    41.143072\n",
       "50%       2.183084    41.385976\n",
       "75%      18.425965    47.989978\n",
       "max      29.011215    51.481292"
      ]
     },
     "execution_count": 54,
     "metadata": {},
     "output_type": "execute_result"
    }
   ],
   "source": [
    "points.describe()"
   ]
  },
  {
   "cell_type": "code",
   "execution_count": 59,
   "metadata": {},
   "outputs": [],
   "source": [
    "from sklearn.preprocessing import StandardScaler\n",
    "scaler = StandardScaler()\n",
    "points_sc = scaler.fit_transform(points)\n",
    "dane_sc = pd.DataFrame(points_sc, columns=['lot', 'lat'])"
   ]
  },
  {
   "cell_type": "code",
   "execution_count": 60,
   "metadata": {},
   "outputs": [
    {
     "data": {
      "image/png": "[encoded data removed]",
      "text/plain": [
       "<Figure size 432x288 with 2 Axes>"
      ]
     },
     "metadata": {
      "needs_background": "light"
     },
     "output_type": "display_data"
    }
   ],
   "source": [
    "dane_sc.hist()\n",
    "plt.show()"
   ]
  },
  {
   "cell_type": "code",
   "execution_count": 61,
   "metadata": {},
   "outputs": [
    {
     "data": {
      "text/html": [
       "<div>\n",
       "<style scoped>\n",
       "    .dataframe tbody tr th:only-of-type {\n",
       "        vertical-align: middle;\n",
       "    }\n",
       "\n",
       "    .dataframe tbody tr th {\n",
       "        vertical-align: top;\n",
       "    }\n",
       "\n",
       "    .dataframe thead th {\n",
       "        text-align: right;\n",
       "    }\n",
       "</style>\n",
       "<table border=\"1\" class=\"dataframe\">\n",
       "  <thead>\n",
       "    <tr style=\"text-align: right;\">\n",
       "      <th></th>\n",
       "      <th>lot</th>\n",
       "      <th>lat</th>\n",
       "    </tr>\n",
       "  </thead>\n",
       "  <tbody>\n",
       "    <tr>\n",
       "      <th>count</th>\n",
       "      <td>1.759000e+03</td>\n",
       "      <td>1.759000e+03</td>\n",
       "    </tr>\n",
       "    <tr>\n",
       "      <th>mean</th>\n",
       "      <td>5.601293e-16</td>\n",
       "      <td>-7.644697e-16</td>\n",
       "    </tr>\n",
       "    <tr>\n",
       "      <th>std</th>\n",
       "      <td>1.000284e+00</td>\n",
       "      <td>1.000284e+00</td>\n",
       "    </tr>\n",
       "    <tr>\n",
       "      <th>min</th>\n",
       "      <td>-1.598433e+00</td>\n",
       "      <td>-1.340099e+00</td>\n",
       "    </tr>\n",
       "    <tr>\n",
       "      <th>25%</th>\n",
       "      <td>-5.284687e-01</td>\n",
       "      <td>-5.132570e-01</td>\n",
       "    </tr>\n",
       "    <tr>\n",
       "      <th>50%</th>\n",
       "      <td>-5.254304e-01</td>\n",
       "      <td>-4.509108e-01</td>\n",
       "    </tr>\n",
       "    <tr>\n",
       "      <th>75%</th>\n",
       "      <td>9.759803e-01</td>\n",
       "      <td>1.244142e+00</td>\n",
       "    </tr>\n",
       "    <tr>\n",
       "      <th>max</th>\n",
       "      <td>1.954428e+00</td>\n",
       "      <td>2.140260e+00</td>\n",
       "    </tr>\n",
       "  </tbody>\n",
       "</table>\n",
       "</div>"
      ],
      "text/plain": [
       "                lot           lat\n",
       "count  1.759000e+03  1.759000e+03\n",
       "mean   5.601293e-16 -7.644697e-16\n",
       "std    1.000284e+00  1.000284e+00\n",
       "min   -1.598433e+00 -1.340099e+00\n",
       "25%   -5.284687e-01 -5.132570e-01\n",
       "50%   -5.254304e-01 -4.509108e-01\n",
       "75%    9.759803e-01  1.244142e+00\n",
       "max    1.954428e+00  2.140260e+00"
      ]
     },
     "execution_count": 61,
     "metadata": {},
     "output_type": "execute_result"
    }
   ],
   "source": [
    "dane_sc.describe()"
   ]
  },
  {
   "cell_type": "code",
   "execution_count": 62,
   "metadata": {},
   "outputs": [
    {
     "data": {
      "text/plain": [
       "1759"
      ]
     },
     "execution_count": 62,
     "metadata": {},
     "output_type": "execute_result"
    }
   ],
   "source": [
    "len(points_sc)"
   ]
  },
  {
   "cell_type": "code",
   "execution_count": 89,
   "metadata": {},
   "outputs": [],
   "source": [
    "my_points = 1000*points_sc"
   ]
  },
  {
   "cell_type": "code",
   "execution_count": 90,
   "metadata": {},
   "outputs": [
    {
     "data": {
      "image/png": "[encoded data removed]",
      "text/plain": [
       "<Figure size 432x288 with 1 Axes>"
      ]
     },
     "metadata": {
      "needs_background": "light"
     },
     "output_type": "display_data"
    }
   ],
   "source": [
    "x = euclidean_distances(my_points)\n",
    "plt.hist(x[np.tril_indices(x.shape[0])], bins=50)#,cumulative=True\n",
    "plt.show()"
   ]
  },
  {
   "cell_type": "code",
   "execution_count": 91,
   "metadata": {},
   "outputs": [
    {
     "data": {
      "text/plain": [
       "array([[ 0.9,  0.9,  1. ,  1. ,  1.8,  1.9],\n",
       "       [ 0. ,  0. ,  0. ,  0. ,  0. ,  0. ],\n",
       "       [ 0.2,  0.2,  0.2,  0.3,  0.4,  0.4],\n",
       "       [ 0. ,  0. ,  0. ,  0. ,  0. ,  0. ],\n",
       "       [ 0.1,  0.2,  0.3,  0.3,  0.3,  0.3],\n",
       "       [ 0.3,  0.4,  0.4,  0.4,  0.5,  0.6],\n",
       "       [ 0.1,  0.1,  0.2,  0.3,  0.7,  0.8],\n",
       "       [ 0. ,  0. ,  0. ,  0. ,  0. ,  0. ],\n",
       "       [ 0.9, 11. , 23.1, 23.7, 24.2, 24.2],\n",
       "       [ 0. ,  3.5,  8.4,  9.3,  9.3,  9.6]])"
      ]
     },
     "execution_count": 91,
     "metadata": {},
     "output_type": "execute_result"
    }
   ],
   "source": [
    "k=6\n",
    "y = np.sort(x,axis=1)[:,1:]\n",
    "np.round(y[:1000:100,:k],1)"
   ]
  },
  {
   "cell_type": "code",
   "execution_count": 194,
   "metadata": {},
   "outputs": [
    {
     "data": {
      "text/plain": [
       "array([-1, -1, -1, ..., -1, -1, -1])"
      ]
     },
     "execution_count": 194,
     "metadata": {},
     "output_type": "execute_result"
    }
   ],
   "source": [
    "clustering = DBSCAN(eps=200, min_samples=30).fit(my_points)\n",
    "clustering.labels_"
   ]
  },
  {
   "cell_type": "code",
   "execution_count": 195,
   "metadata": {},
   "outputs": [],
   "source": [
    "y = pd.Series(clustering.labels_)"
   ]
  },
  {
   "cell_type": "code",
   "execution_count": 196,
   "metadata": {},
   "outputs": [
    {
     "data": {
      "text/plain": [
       "array([-1,  0,  1,  2,  3,  4,  5,  6,  7,  8])"
      ]
     },
     "execution_count": 196,
     "metadata": {},
     "output_type": "execute_result"
    }
   ],
   "source": [
    "y.unique()"
   ]
  },
  {
   "cell_type": "code",
   "execution_count": 174,
   "metadata": {},
   "outputs": [
    {
     "data": {
      "text/plain": [
       "113"
      ]
     },
     "execution_count": 174,
     "metadata": {},
     "output_type": "execute_result"
    }
   ],
   "source": [
    "len(dane.city.unique())"
   ]
  },
  {
   "cell_type": "code",
   "execution_count": 175,
   "metadata": {},
   "outputs": [],
   "source": [
    "colors = np.array(sns.color_palette(\"Set2\",30))"
   ]
  },
  {
   "cell_type": "code",
   "execution_count": 197,
   "metadata": {},
   "outputs": [
    {
     "data": {
      "text/plain": [
       "(array([-1,  0,  1,  2,  3,  4,  5,  6,  7,  8]),\n",
       " array([ 29, 181,  75, 646, 236, 217, 137,  64,  80,  94]))"
      ]
     },
     "execution_count": 197,
     "metadata": {},
     "output_type": "execute_result"
    }
   ],
   "source": [
    "np.unique(y, return_counts=True)"
   ]
  },
  {
   "cell_type": "code",
   "execution_count": 198,
   "metadata": {},
   "outputs": [
    {
     "name": "stdout",
     "output_type": "stream",
     "text": [
      "['West Drayton' 'Hounslow' 'Belgrade' 'Slepčević' 'Dytiki Ellada' 'Munich']\n",
      "['Lisbon' 'Amadora' 'Algueirão-Mem Martins' 'Sintra' 'Damaia' 'Azambuja'\n",
      " 'Santarém' 'Zibreira' 'Ourém Municipality' 'São Mamede' 'Leiria District'\n",
      " 'Coimbra Municipality']\n",
      "['Aveiro District' 'Vila Nova de Gaia' 'Porto'\n",
      " 'Vila Nova de Gaia Municipality' 'Porto District' 'Maia Municipality'\n",
      " 'Matosinhos' 'Maia']\n",
      "['El Prat de Llobregat' 'Viladecans' 'Barcelona' 'Hospitalet de Llobregat']\n",
      "['Zendek' 'Tarnowskie Góry County' 'Silesian Voivodeship'\n",
      " 'Dabrowa Gornicza' 'Olkusz County' 'Krakow' 'Kraków-Śródmieście'\n",
      " 'Oswiecim' 'Babice, Oświęcim County'\n",
      " 'Wygiełzów, Lesser Poland Voivodeship' 'Chrzanów County' 'Wieliczka'\n",
      " 'Balice, Lesser Poland Voivodeship' 'Trzebinia' 'Imielin' 'Ruda Slaska'\n",
      " 'Gliwice' 'Bytom' 'Novy Bohumin' 'Ostrava' 'Suchdol nad Odrou' 'Hranice'\n",
      " 'Prerov' 'Ústí nad Orlicí' 'Kojice' 'Sadská' 'Prague' 'Úvaly' 'Poříčany'\n",
      " 'Kolin' 'Kutna Hora' 'Nové Dvory (Kutná Hora District)' 'Český Brod'\n",
      " 'Beroun' 'Mýto' 'Plzen' 'Blatnice' 'Kostelec' 'Rozvadov' 'Kümmersbruck'\n",
      " 'Winkelhaid']\n",
      "['Kammerstein' 'Ansbach' 'Ellhofen' 'Obersulm' 'Stuttgart' 'Wernau'\n",
      " 'Riederich' 'Kirchentellinsfurt' 'Tübingen' 'Rottenburg' 'Horb am Neckar'\n",
      " 'Eutingen im Gäu' 'Schopfloch' 'Freudenstadt' 'Alpirsbach' 'Wolfach'\n",
      " 'Gutach' 'Gengenbach' 'Offenburg' 'Friesenheim' 'Freiburg' 'Kirchzarten'\n",
      " 'Titisee-Neustadt' 'Villingen-Schwenningen' 'Dietingen'\n",
      " 'Leinfelden-Echterdingen']\n",
      "['Sarajevo' 'Mostar' 'Ploče' 'Split' 'Herzegovina-Neretva Canton'\n",
      " 'Dubrovnik' 'Kotor' 'Prizren']\n",
      "['Ohrid' 'Berat' 'Gjirokastër' 'Kakavia']\n",
      "['Dytiki Ellada' 'Peloponnese' 'Athens' 'Attica']\n",
      "['Istanbul']\n"
     ]
    }
   ],
   "source": [
    "for label in y.unique():\n",
    "    print(dane[y == label].city.unique())"
   ]
  },
  {
   "cell_type": "code",
   "execution_count": 206,
   "metadata": {},
   "outputs": [],
   "source": [
    "alpha = [0.25]+[1]*(len(y)-1)"
   ]
  },
  {
   "cell_type": "code",
   "execution_count": 210,
   "metadata": {},
   "outputs": [
    {
     "data": {
      "image/png": "[encoded data removed]",
      "text/plain": [
       "<Figure size 432x288 with 1 Axes>"
      ]
     },
     "metadata": {
      "needs_background": "light"
     },
     "output_type": "display_data"
    }
   ],
   "source": [
    "plt.scatter(dane.lon, dane.lat, c = colors[y], alpha = 0.1)\n",
    "plt.show()"
   ]
  },
  {
   "cell_type": "code",
   "execution_count": 179,
   "metadata": {},
   "outputs": [
    {
     "data": {
      "text/plain": [
       "array([1.        , 0.85098039, 0.18431373])"
      ]
     },
     "execution_count": 179,
     "metadata": {},
     "output_type": "execute_result"
    }
   ],
   "source": [
    "colors[-1]"
   ]
  },
  {
   "cell_type": "code",
   "execution_count": null,
   "metadata": {},
   "outputs": [],
   "source": []
  }
 ],
 "metadata": {
  "kernelspec": {
   "display_name": "Python 3",
   "language": "python",
   "name": "python3"
  },
  "language_info": {
   "codemirror_mode": {
    "name": "ipython",
    "version": 3
   },
   "file_extension": ".py",
   "mimetype": "text/x-python",
   "name": "python",
   "nbconvert_exporter": "python",
   "pygments_lexer": "ipython3",
   "version": "3.6.6"
  }
 },
 "nbformat": 4,
 "nbformat_minor": 2
}
