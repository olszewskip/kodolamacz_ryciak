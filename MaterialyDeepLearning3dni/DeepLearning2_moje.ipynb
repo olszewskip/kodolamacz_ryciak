{
 "cells": [
  {
   "cell_type": "markdown",
   "metadata": {},
   "source": [
    "# Konwolucyjne siecie neuronowe\n",
    "\n",
    "## Convolution neural networks, CNN\n",
    "\n",
    "<br>"
   ]
  },
  {
   "cell_type": "markdown",
   "metadata": {},
   "source": [
    "# Filtry jako ekstraktory informacji\n",
    "\n",
    "<img src=\"Grafika/Filter.png\" width=\"550\">\n",
    "\n",
    "<img src=\"Grafika/OriginalAndFilter.png\" width=\"550\">\n",
    "\n",
    "<img src=\"Grafika/FirstPixelMulitiplication.png\" width=\"550\">\n",
    "\n",
    "<img src=\"Grafika/SecondMultiplication.png\" width=\"550\">\n",
    "\n",
    "Źródło: https://adeshpande3.github.io/adeshpande3.github.io/A-Beginner's-Guide-To-Understanding-Convolutional-Neural-Networks/"
   ]
  },
  {
   "cell_type": "markdown",
   "metadata": {},
   "source": [
    "### Filtrowanie - konwolucja (splot):\n",
    "\n",
    "<img src=\"Grafika/matrixConvolution.jpg\" width=\"450\">\n",
    "\n",
    "Źródło: https://i.stack.imgur.com/SKgim.jpga"
   ]
  },
  {
   "cell_type": "markdown",
   "metadata": {},
   "source": [
    "### Warstwa konwolucyjna\n",
    "\n",
    "Warstawa konwolucyjna analizuje obraz \"kawałek po kawałku\" i zwraca informację o poszczególnych obszarach przy użyciu filtrów.\n",
    "\n",
    "Warstwa konwolucyjna składa się z K filtrów i zwraca K \"tablic\" powstałych przez przetworzenie wejścia kolejnymi filtrami.\n",
    "\n",
    "Operacja splotu (konwolucja):\n",
    "\n",
    "<img src=\"Grafika/Convolution_schematic.gif\" width=\"450\">\n",
    "\n",
    "Źródło: http://deeplearning.stanford.edu/wiki/images/6/6c/Convolution_schematic.gif"
   ]
  },
  {
   "cell_type": "markdown",
   "metadata": {},
   "source": [
    "### W przypadku macierzy trójwymiarowych, filtorwanie wygląda tak:\n",
    "\n",
    "<img src=\"https://i.stack.imgur.com/FjvuN.gif\" width=\"550\">"
   ]
  },
  {
   "cell_type": "markdown",
   "metadata": {},
   "source": [
    "### Sieć konwolucyjna uczy się ekstrachować istotne \"informacje\" - parametrami sieci są wagi w filtrach.\n",
    "\n",
    "Czyli sieć sama uczy się tego, co jest istotne w danych dla naszego celu."
   ]
  },
  {
   "cell_type": "markdown",
   "metadata": {},
   "source": [
    "W sieciach konwolucyjnych na wyjście splotu nakłada się funkcję aktywacji. Z reguły jest to ReLU:\n",
    "\n",
    "<img src=\"Grafika/relu.png\" width=\"350\">\n",
    "\n",
    "Źródło: https://ml4a.github.io/images/figures/relu.png\n",
    "\n",
    "Takie przekształcenie można interpretować w następujący sposób: jeżeli w danym obszarze jest coś co dany filtr \"rozpoznaje\" (wartość splotu większa od 0), to zwracamy po prostu wynik splotu. Natomiast jeśli dane nie pasują do danego filtra (wartość ujemna), to niezaleznie od tego co w tych danych jest, zwracamy 0, które mówi, że nie ma tego czego szukamy."
   ]
  },
  {
   "cell_type": "markdown",
   "metadata": {},
   "source": [
    "## Pooling (subsampling)\n",
    "\n",
    "Pooling to agregacja informacji - zamiast przechowywać całą tablicę, którą zwrócił filtr, wyciągamy sobie po jednej \"informacji\" z podobszarów. W ten sposób otrzymujemy tablicę o zredukowanym wymiarze.\n",
    "\n",
    "MaxPooling:\n",
    "\n",
    "<img src=\"Grafika/MaxPool.png\" width=\"550\">\n",
    "\n",
    "Źródło: https://adeshpande3.github.io/assets/MaxPool.png\n",
    "\n",
    "Jaką informację wyekstrahuje \"max pooling\"?\n",
    "\n",
    "A jaką \"average pooling\"?\n",
    "\n",
    "W praktyce z reguły po każdej warstwie konwolucyjnej daje się max pooling."
   ]
  },
  {
   "cell_type": "markdown",
   "metadata": {},
   "source": [
    "### Wielowarstwowa sieć konwolucyjna\n",
    "\n",
    "Wielowarstwowe sieci konwolucyjne wykorzystują wielokrotne składanie operacji filtrowania i uczą się wykrywać bardzo złożone zależności.\n",
    "\n",
    "Wówczas każda kolejna warstwa w jakiś sposób agreguje informacje z poprzedniej warstwy do ogólniejszego poziomu. Przykladowa interpretacja w kontekście klasyfikacji czy na danym zdjęciu jest człowiek:\n",
    "- pierwsza warstwa: rozpoznawianie kształtów/konturów\n",
    "- druga warstwa: detekcja części ciała\n",
    "- trzecia: detekcja człowiek\n",
    "\n",
    "\n",
    "<img src=\"Grafika/LeNet.png\" width=\"700\">\n",
    "Źródło: https://adeshpande3.github.io/assets/LeNet.png\"\n",
    "\n",
    "### Wyjście sieci\n",
    "\n",
    "Ostatnia warsta konwolucyjna (lub pooling) jest rozwijana do wektora. Ten wektor jest przepuszczany przez warstwy dense, które prowadzą do predykcji. Oczywiście można dokonywać predykcji bezpośrednio z rozwiniętego wektora."
   ]
  },
  {
   "cell_type": "markdown",
   "metadata": {},
   "source": [
    "### Uwaga. Filtr dla obrazka 2D jest tablicą 2D. Natomiast kolejne warstwy są 3D - dochodzi wymiar liczby filtrów. Dlatego dalsze filtry są kostami 3D, które mają głębokość równą liczbie filtrów w poprzedniej warstwie.\n",
    "\n",
    "<img src=\"Grafika/conv3D.jpg\" width=\"700\">\n",
    "\n",
    "Źródło: https://www.mathworks.com/content/mathworks/www/en/discovery/convolutional-neural-network/_jcr_content/mainParsys/image_copy.img.jpg/1497876372993.jpg\n",
    "\n",
    "Naturalnie, jeżeli na wejściu mamy obiekt więcej niż dwu-wymiarowy to już pierwsza warstwa używa filtrów, które są kostkami."
   ]
  },
  {
   "cell_type": "markdown",
   "metadata": {},
   "source": [
    "## Strides - wielkość kroku przesunięcia\n",
    "\n",
    "Określa dokładność z jaką chcemy skanować dane.\n",
    "\n",
    "Strides = (1,1)\n",
    "\n",
    "<img src=\"Grafika/Stride1.png\" width=\"600\">\n",
    "\n",
    "Strides = (2,2)\n",
    "\n",
    "<img src=\"Grafika/Stride2.png\" width=\"600\">\n",
    "\n",
    "Źródło: https://adeshpande3.github.io/adeshpande3.github.io/A-Beginner's-Guide-To-Understanding-Convolutional-Neural-Networks-Part-2/\n"
   ]
  },
  {
   "cell_type": "markdown",
   "metadata": {},
   "source": [
    "### Jeszcze jednym istotnym parametrem jest rozmiar filtra."
   ]
  },
  {
   "cell_type": "markdown",
   "metadata": {},
   "source": [
    "# Przechodzimy do praktyki!"
   ]
  },
  {
   "cell_type": "markdown",
   "metadata": {},
   "source": [
    "# Obrazki 2D (szare)\n",
    "\n",
    "http://scikit-learn.org/0.15/auto_examples/applications/face_recognition.html"
   ]
  },
  {
   "cell_type": "code",
   "execution_count": 52,
   "metadata": {},
   "outputs": [],
   "source": [
    "import numpy as np\n",
    "import pandas as pd\n",
    "import os\n",
    "from keras.utils import np_utils"
   ]
  },
  {
   "cell_type": "code",
   "execution_count": 33,
   "metadata": {},
   "outputs": [],
   "source": [
    "from sklearn.datasets import fetch_lfw_people\n",
    "\n",
    "lfw_people = fetch_lfw_people(min_faces_per_person=70, resize=0.4)\n",
    "\n",
    "n_samples, h, w = lfw_people.images.shape\n",
    "\n",
    "X = lfw_people.data\n",
    "n_features = X.shape[1]\n",
    "\n",
    "y = lfw_people.target\n",
    "\n",
    "target_names = lfw_people.target_names"
   ]
  },
  {
   "cell_type": "code",
   "execution_count": 34,
   "metadata": {},
   "outputs": [
    {
     "data": {
      "text/plain": [
       "array([254.      , 254.      , 251.66667 , ...,  87.333336,  88.666664,\n",
       "        86.666664], dtype=float32)"
      ]
     },
     "execution_count": 34,
     "metadata": {},
     "output_type": "execute_result"
    }
   ],
   "source": [
    "X[0] # wektor - pozniej zamienimy na macierz, bo to jest obraz"
   ]
  },
  {
   "cell_type": "code",
   "execution_count": 35,
   "metadata": {},
   "outputs": [
    {
     "data": {
      "text/plain": [
       "(1288, 1850)"
      ]
     },
     "execution_count": 35,
     "metadata": {},
     "output_type": "execute_result"
    }
   ],
   "source": [
    "X.shape"
   ]
  },
  {
   "cell_type": "code",
   "execution_count": 36,
   "metadata": {},
   "outputs": [
    {
     "data": {
      "text/plain": [
       "(array([0, 1, 2, 3, 4, 5, 6]), array([ 77, 236, 121, 530, 109,  71, 144]))"
      ]
     },
     "execution_count": 36,
     "metadata": {},
     "output_type": "execute_result"
    }
   ],
   "source": [
    "np.unique(y,return_counts=True)"
   ]
  },
  {
   "cell_type": "code",
   "execution_count": 37,
   "metadata": {},
   "outputs": [
    {
     "data": {
      "text/plain": [
       "array(['Ariel Sharon', 'Colin Powell', 'Donald Rumsfeld', 'George W Bush',\n",
       "       'Gerhard Schroeder', 'Hugo Chavez', 'Tony Blair'], dtype='<U17')"
      ]
     },
     "execution_count": 37,
     "metadata": {},
     "output_type": "execute_result"
    }
   ],
   "source": [
    "target_names"
   ]
  },
  {
   "cell_type": "code",
   "execution_count": 38,
   "metadata": {},
   "outputs": [
    {
     "data": {
      "text/plain": [
       "array([[0., 0., 0., 0., 0., 1., 0.],\n",
       "       [0., 0., 0., 0., 0., 0., 1.],\n",
       "       [0., 0., 0., 1., 0., 0., 0.],\n",
       "       [0., 1., 0., 0., 0., 0., 0.],\n",
       "       [1., 0., 0., 0., 0., 0., 0.]], dtype=float32)"
      ]
     },
     "execution_count": 38,
     "metadata": {},
     "output_type": "execute_result"
    }
   ],
   "source": [
    "# przygotowanie y\n",
    "y = np_utils.to_categorical(y)\n",
    "y[:5]"
   ]
  },
  {
   "cell_type": "code",
   "execution_count": 39,
   "metadata": {},
   "outputs": [],
   "source": [
    "n_classes = y.shape[1]"
   ]
  },
  {
   "cell_type": "code",
   "execution_count": 40,
   "metadata": {},
   "outputs": [],
   "source": [
    "from sklearn.model_selection import train_test_split"
   ]
  },
  {
   "cell_type": "code",
   "execution_count": 41,
   "metadata": {},
   "outputs": [],
   "source": [
    "X_train, X_test, y_train, y_test = train_test_split(\n",
    "    X, y, test_size=0.4)\n",
    "\n",
    "X_train = np.array([x.reshape((h, w, 1)) for x in X_train])\n",
    "X_test = np.array([x.reshape((h, w, 1)) for x in X_test])"
   ]
  },
  {
   "cell_type": "code",
   "execution_count": 42,
   "metadata": {},
   "outputs": [
    {
     "data": {
      "text/plain": [
       "(772, 50, 37, 1)"
      ]
     },
     "execution_count": 42,
     "metadata": {},
     "output_type": "execute_result"
    }
   ],
   "source": [
    "X_train.shape"
   ]
  },
  {
   "cell_type": "code",
   "execution_count": 43,
   "metadata": {},
   "outputs": [],
   "source": [
    "# skalowanie X\n",
    "\n",
    "X_train = X_train/225\n",
    "X_test = X_test/225"
   ]
  },
  {
   "cell_type": "code",
   "execution_count": 44,
   "metadata": {},
   "outputs": [],
   "source": [
    "import matplotlib.pyplot as plt"
   ]
  },
  {
   "cell_type": "code",
   "execution_count": 45,
   "metadata": {},
   "outputs": [
    {
     "data": {
      "image/png": "[encoded data removed]",
      "text/plain": [
       "<Figure size 518.4x518.4 with 12 Axes>"
      ]
     },
     "metadata": {},
     "output_type": "display_data"
    }
   ],
   "source": [
    "images = X_train[:12]\n",
    "n_col = 4\n",
    "n_row = 3\n",
    "plt.figure(figsize=(1.8 * n_col, 2.4 * n_row))\n",
    "plt.subplots_adjust(bottom=0, left=.01, right=.99, top=.90, hspace=.35)\n",
    "for i in range(n_row * n_col):\n",
    "    plt.subplot(n_row, n_col, i + 1)\n",
    "    plt.imshow(images[i][:,:,0], cmap=plt.cm.gray)\n",
    "    plt.xticks(())\n",
    "    plt.yticks(())\n",
    "    \n",
    "plt.show()"
   ]
  },
  {
   "cell_type": "code",
   "execution_count": 46,
   "metadata": {},
   "outputs": [
    {
     "data": {
      "text/plain": [
       "(772, 50, 37, 1)"
      ]
     },
     "execution_count": 46,
     "metadata": {},
     "output_type": "execute_result"
    }
   ],
   "source": [
    "X_train.shape"
   ]
  },
  {
   "cell_type": "code",
   "execution_count": 47,
   "metadata": {},
   "outputs": [
    {
     "data": {
      "text/plain": [
       "(772, 7)"
      ]
     },
     "execution_count": 47,
     "metadata": {},
     "output_type": "execute_result"
    }
   ],
   "source": [
    "y_train.shape"
   ]
  },
  {
   "cell_type": "code",
   "execution_count": 48,
   "metadata": {},
   "outputs": [
    {
     "data": {
      "text/plain": [
       "(516, 50, 37, 1)"
      ]
     },
     "execution_count": 48,
     "metadata": {},
     "output_type": "execute_result"
    }
   ],
   "source": [
    "X_test.shape"
   ]
  },
  {
   "cell_type": "markdown",
   "metadata": {},
   "source": [
    "### Ćwiczenie 1. Punkt odniesienia\n",
    "\n",
    "Sprawdź klasyfikację przy użyciu perceptrona - sieć 0-warstwowa (lub 1-warstwowa licząc wyjście jako warstwę). Pamiętaj, że, aby uruchomić warstwę dense na danych, które nie są wektorem trzeba je \"rozwinąć\" przy uzyciu \"warstwy\" (operacji) Flatten. "
   ]
  },
  {
   "cell_type": "code",
   "execution_count": 51,
   "metadata": {},
   "outputs": [],
   "source": [
    "from keras import Sequential\n",
    "from keras.layers import Dense, Flatten, Dropout\n",
    "from keras.callbacks import EarlyStopping, ModelCheckpoint"
   ]
  },
  {
   "cell_type": "code",
   "execution_count": 23,
   "metadata": {},
   "outputs": [
    {
     "data": {
      "text/plain": [
       "(50, 37, 1)"
      ]
     },
     "execution_count": 23,
     "metadata": {},
     "output_type": "execute_result"
    }
   ],
   "source": [
    "X_train.shape[1:]"
   ]
  },
  {
   "cell_type": "code",
   "execution_count": 49,
   "metadata": {},
   "outputs": [
    {
     "name": "stdout",
     "output_type": "stream",
     "text": [
      "_________________________________________________________________\n",
      "Layer (type)                 Output Shape              Param #   \n",
      "=================================================================\n",
      "flatten_12 (Flatten)         (None, 1850)              0         \n",
      "_________________________________________________________________\n",
      "dense_23 (Dense)             (None, 7)                 12957     \n",
      "=================================================================\n",
      "Total params: 12,957\n",
      "Trainable params: 12,957\n",
      "Non-trainable params: 0\n",
      "_________________________________________________________________\n"
     ]
    }
   ],
   "source": [
    "model = Sequential()\n",
    "model.add(Flatten( input_shape = X_train.shape[1:] ))\n",
    "model.add(Dense(n_classes, activation=\"softmax\"))\n",
    "model.summary()"
   ]
  },
  {
   "cell_type": "code",
   "execution_count": 53,
   "metadata": {
    "scrolled": true
   },
   "outputs": [
    {
     "name": "stdout",
     "output_type": "stream",
     "text": [
      "Train on 579 samples, validate on 193 samples\n",
      "Epoch 1/100\n",
      "579/579 [==============================] - 1s 1ms/step - loss: 1.9103 - acc: 0.3368 - val_loss: 1.7469 - val_acc: 0.4301\n",
      "Epoch 2/100\n",
      "579/579 [==============================] - 0s 194us/step - loss: 1.7333 - acc: 0.3990 - val_loss: 1.6365 - val_acc: 0.4301\n",
      "Epoch 3/100\n",
      "579/579 [==============================] - 0s 163us/step - loss: 1.5870 - acc: 0.4197 - val_loss: 1.5294 - val_acc: 0.5078\n",
      "Epoch 4/100\n",
      "579/579 [==============================] - 0s 202us/step - loss: 1.5140 - acc: 0.4629 - val_loss: 1.5639 - val_acc: 0.4301\n",
      "Epoch 5/100\n",
      "579/579 [==============================] - 0s 153us/step - loss: 1.4750 - acc: 0.4663 - val_loss: 1.4774 - val_acc: 0.5181\n",
      "Epoch 6/100\n",
      "579/579 [==============================] - 0s 191us/step - loss: 1.4069 - acc: 0.5181 - val_loss: 1.4073 - val_acc: 0.4870\n",
      "Epoch 7/100\n",
      "579/579 [==============================] - 0s 190us/step - loss: 1.4331 - acc: 0.4715 - val_loss: 1.4152 - val_acc: 0.5492\n",
      "Epoch 8/100\n",
      "579/579 [==============================] - 0s 172us/step - loss: 1.3731 - acc: 0.5302 - val_loss: 1.3055 - val_acc: 0.5181\n",
      "Epoch 9/100\n",
      "579/579 [==============================] - 0s 166us/step - loss: 1.3306 - acc: 0.5354 - val_loss: 1.3013 - val_acc: 0.5751\n",
      "Epoch 10/100\n",
      "579/579 [==============================] - 0s 155us/step - loss: 1.2293 - acc: 0.5838 - val_loss: 1.3288 - val_acc: 0.5492\n",
      "Epoch 11/100\n",
      "579/579 [==============================] - 0s 163us/step - loss: 1.2808 - acc: 0.5492 - val_loss: 1.3747 - val_acc: 0.5959\n",
      "Epoch 12/100\n",
      "579/579 [==============================] - 0s 160us/step - loss: 1.1881 - acc: 0.5872 - val_loss: 1.2895 - val_acc: 0.6269\n",
      "Epoch 13/100\n",
      "579/579 [==============================] - 0s 150us/step - loss: 1.1424 - acc: 0.6166 - val_loss: 1.2922 - val_acc: 0.5285\n",
      "Epoch 14/100\n",
      "579/579 [==============================] - 0s 150us/step - loss: 1.1259 - acc: 0.5803 - val_loss: 1.1673 - val_acc: 0.6321\n",
      "Epoch 15/100\n",
      "579/579 [==============================] - 0s 147us/step - loss: 1.0591 - acc: 0.6356 - val_loss: 1.1700 - val_acc: 0.6373\n",
      "Epoch 16/100\n",
      "579/579 [==============================] - 0s 176us/step - loss: 1.0417 - acc: 0.6563 - val_loss: 1.1326 - val_acc: 0.6114\n",
      "Epoch 17/100\n",
      "579/579 [==============================] - 0s 144us/step - loss: 1.0138 - acc: 0.6632 - val_loss: 1.1277 - val_acc: 0.6062\n",
      "Epoch 18/100\n",
      "579/579 [==============================] - 0s 209us/step - loss: 0.9917 - acc: 0.6753 - val_loss: 1.1509 - val_acc: 0.5855\n",
      "Epoch 19/100\n",
      "579/579 [==============================] - 0s 174us/step - loss: 0.9814 - acc: 0.6770 - val_loss: 1.1678 - val_acc: 0.5907\n",
      "Epoch 20/100\n",
      "579/579 [==============================] - 0s 209us/step - loss: 0.9833 - acc: 0.6978 - val_loss: 1.1111 - val_acc: 0.6373\n",
      "Epoch 21/100\n",
      "579/579 [==============================] - 0s 187us/step - loss: 0.9538 - acc: 0.6718 - val_loss: 1.1132 - val_acc: 0.6218\n",
      "Epoch 22/100\n",
      "579/579 [==============================] - 0s 182us/step - loss: 0.9180 - acc: 0.7081 - val_loss: 1.0785 - val_acc: 0.6425\n",
      "Epoch 23/100\n",
      "579/579 [==============================] - 0s 140us/step - loss: 0.9456 - acc: 0.6598 - val_loss: 1.2520 - val_acc: 0.5440\n",
      "Epoch 24/100\n",
      "579/579 [==============================] - 0s 149us/step - loss: 0.9267 - acc: 0.6805 - val_loss: 1.1144 - val_acc: 0.6788\n",
      "Epoch 25/100\n",
      "579/579 [==============================] - 0s 144us/step - loss: 0.8525 - acc: 0.7427 - val_loss: 1.0987 - val_acc: 0.6736\n"
     ]
    },
    {
     "data": {
      "text/plain": [
       "<keras.callbacks.History at 0x7fe8593416a0>"
      ]
     },
     "execution_count": 53,
     "metadata": {},
     "output_type": "execute_result"
    }
   ],
   "source": [
    "early_stopping = EarlyStopping(patience=3, monitor=\"val_loss\")\n",
    "\n",
    "model.compile(loss=\"categorical_crossentropy\", optimizer=\"adam\", metrics=[\"accuracy\"])\n",
    "model.fit(X_train, y_train, validation_split=0.25, epochs=100, callbacks=[early_stopping])"
   ]
  },
  {
   "cell_type": "code",
   "execution_count": 27,
   "metadata": {},
   "outputs": [
    {
     "name": "stdout",
     "output_type": "stream",
     "text": [
      "516/516 [==============================] - 0s 71us/step\n"
     ]
    },
    {
     "data": {
      "text/plain": [
       "[1.1011483475219372, 0.6375968992248062]"
      ]
     },
     "execution_count": 27,
     "metadata": {},
     "output_type": "execute_result"
    }
   ],
   "source": [
    "model.evaluate(X_test, y_test)"
   ]
  },
  {
   "cell_type": "code",
   "execution_count": 28,
   "metadata": {},
   "outputs": [
    {
     "data": {
      "text/plain": [
       "array([0.06395349, 0.18023255, 0.09883721, 0.4127907 , 0.0872093 ,\n",
       "       0.03488372, 0.12209302], dtype=float32)"
      ]
     },
     "execution_count": 28,
     "metadata": {},
     "output_type": "execute_result"
    }
   ],
   "source": [
    "y_test.mean(0)"
   ]
  },
  {
   "cell_type": "code",
   "execution_count": 29,
   "metadata": {
    "scrolled": true
   },
   "outputs": [
    {
     "name": "stdout",
     "output_type": "stream",
     "text": [
      "_________________________________________________________________\n",
      "Layer (type)                 Output Shape              Param #   \n",
      "=================================================================\n",
      "flatten_3 (Flatten)          (None, 1850)              0         \n",
      "_________________________________________________________________\n",
      "dense_2 (Dense)              (None, 100)               185100    \n",
      "_________________________________________________________________\n",
      "dense_3 (Dense)              (None, 7)                 707       \n",
      "=================================================================\n",
      "Total params: 185,807\n",
      "Trainable params: 185,807\n",
      "Non-trainable params: 0\n",
      "_________________________________________________________________\n",
      "None\n",
      "Train on 579 samples, validate on 193 samples\n",
      "Epoch 1/100\n",
      "579/579 [==============================] - 1s 884us/step - loss: 2.0408 - acc: 0.3610 - val_loss: 1.7039 - val_acc: 0.4249\n",
      "Epoch 2/100\n",
      "579/579 [==============================] - 0s 247us/step - loss: 1.7093 - acc: 0.4007 - val_loss: 1.6048 - val_acc: 0.4560\n",
      "Epoch 3/100\n",
      "579/579 [==============================] - 0s 246us/step - loss: 1.6469 - acc: 0.4318 - val_loss: 1.5887 - val_acc: 0.4560\n",
      "Epoch 4/100\n",
      "579/579 [==============================] - 0s 280us/step - loss: 1.5669 - acc: 0.4698 - val_loss: 1.6247 - val_acc: 0.4301\n",
      "Epoch 5/100\n",
      "579/579 [==============================] - 0s 278us/step - loss: 1.4873 - acc: 0.4836 - val_loss: 1.6565 - val_acc: 0.3368\n",
      "Epoch 6/100\n",
      "579/579 [==============================] - 0s 273us/step - loss: 1.5228 - acc: 0.4646 - val_loss: 1.4457 - val_acc: 0.5233\n",
      "Epoch 7/100\n",
      "579/579 [==============================] - 0s 273us/step - loss: 1.4043 - acc: 0.5026 - val_loss: 1.4713 - val_acc: 0.4611\n",
      "Epoch 8/100\n",
      "579/579 [==============================] - 0s 283us/step - loss: 1.3999 - acc: 0.4957 - val_loss: 1.4329 - val_acc: 0.5648\n",
      "Epoch 9/100\n",
      "579/579 [==============================] - 0s 267us/step - loss: 1.2925 - acc: 0.5337 - val_loss: 1.4052 - val_acc: 0.5078\n",
      "Epoch 10/100\n",
      "579/579 [==============================] - 0s 258us/step - loss: 1.3444 - acc: 0.5078 - val_loss: 1.3449 - val_acc: 0.4767\n",
      "Epoch 11/100\n",
      "579/579 [==============================] - 0s 284us/step - loss: 1.2683 - acc: 0.5889 - val_loss: 1.3098 - val_acc: 0.5026\n",
      "Epoch 12/100\n",
      "579/579 [==============================] - 0s 253us/step - loss: 1.2674 - acc: 0.5613 - val_loss: 1.2940 - val_acc: 0.5440\n",
      "Epoch 13/100\n",
      "579/579 [==============================] - 0s 299us/step - loss: 1.1434 - acc: 0.6114 - val_loss: 1.2627 - val_acc: 0.5855\n",
      "Epoch 14/100\n",
      "579/579 [==============================] - 0s 342us/step - loss: 1.1178 - acc: 0.6131 - val_loss: 1.2637 - val_acc: 0.5389\n",
      "Epoch 15/100\n",
      "579/579 [==============================] - 0s 336us/step - loss: 1.0991 - acc: 0.6235 - val_loss: 1.1871 - val_acc: 0.6373\n",
      "Epoch 16/100\n",
      "579/579 [==============================] - 0s 361us/step - loss: 1.0512 - acc: 0.6459 - val_loss: 1.1893 - val_acc: 0.6321\n",
      "Epoch 17/100\n",
      "579/579 [==============================] - 0s 340us/step - loss: 0.9989 - acc: 0.6857 - val_loss: 1.1299 - val_acc: 0.5440\n",
      "Epoch 18/100\n",
      "579/579 [==============================] - 0s 285us/step - loss: 1.0083 - acc: 0.6649 - val_loss: 1.1876 - val_acc: 0.5130\n",
      "Epoch 19/100\n",
      "579/579 [==============================] - 0s 269us/step - loss: 0.9712 - acc: 0.6839 - val_loss: 1.0786 - val_acc: 0.6580\n",
      "Epoch 20/100\n",
      "579/579 [==============================] - 0s 343us/step - loss: 0.9182 - acc: 0.7185 - val_loss: 1.0970 - val_acc: 0.6321\n",
      "Epoch 21/100\n",
      "579/579 [==============================] - 0s 273us/step - loss: 0.9436 - acc: 0.6874 - val_loss: 1.0879 - val_acc: 0.6321\n",
      "Epoch 22/100\n",
      "579/579 [==============================] - 0s 311us/step - loss: 0.8942 - acc: 0.6995 - val_loss: 1.0743 - val_acc: 0.6010\n",
      "Epoch 23/100\n",
      "579/579 [==============================] - 0s 362us/step - loss: 0.8694 - acc: 0.7358 - val_loss: 1.0069 - val_acc: 0.6321\n",
      "Epoch 24/100\n",
      "579/579 [==============================] - 0s 369us/step - loss: 0.8597 - acc: 0.7064 - val_loss: 1.1361 - val_acc: 0.6425\n",
      "Epoch 25/100\n",
      "579/579 [==============================] - 0s 397us/step - loss: 0.8991 - acc: 0.7047 - val_loss: 1.0939 - val_acc: 0.6166\n",
      "Epoch 26/100\n",
      "579/579 [==============================] - 0s 357us/step - loss: 0.8336 - acc: 0.7375 - val_loss: 1.0261 - val_acc: 0.6788\n"
     ]
    },
    {
     "data": {
      "text/plain": [
       "<keras.callbacks.History at 0x7f488b9ed2e8>"
      ]
     },
     "execution_count": 29,
     "metadata": {},
     "output_type": "execute_result"
    }
   ],
   "source": [
    "model = Sequential()\n",
    "model.add(Flatten( input_shape = X_train.shape[1:] ))\n",
    "model.add(Dense(100, activation=\"relu\"))\n",
    "model.add(Dense(n_classes, activation=\"softmax\"))\n",
    "print(model.summary())\n",
    "\n",
    "early_stopping = EarlyStopping(patience=3, monitor=\"val_loss\")\n",
    "\n",
    "model.compile(loss=\"categorical_crossentropy\", optimizer=\"adam\", metrics=[\"accuracy\"])\n",
    "model.fit(X_train, y_train, validation_split=0.25, epochs=100, callbacks=[early_stopping])\n",
    "model.evaluate(X_test, y_test)"
   ]
  },
  {
   "cell_type": "code",
   "execution_count": 30,
   "metadata": {},
   "outputs": [
    {
     "name": "stdout",
     "output_type": "stream",
     "text": [
      "516/516 [==============================] - 0s 106us/step\n"
     ]
    },
    {
     "data": {
      "text/plain": [
       "[1.0604439234548761, 0.6124031007751938]"
      ]
     },
     "execution_count": 30,
     "metadata": {},
     "output_type": "execute_result"
    }
   ],
   "source": [
    "model.evaluate(X_test, y_test)"
   ]
  },
  {
   "cell_type": "markdown",
   "metadata": {},
   "source": [
    "### convolutional"
   ]
  },
  {
   "cell_type": "code",
   "execution_count": 31,
   "metadata": {},
   "outputs": [],
   "source": [
    "from keras.layers.convolutional import Conv2D, MaxPooling2D, AveragePooling2D"
   ]
  },
  {
   "cell_type": "code",
   "execution_count": 32,
   "metadata": {},
   "outputs": [],
   "source": [
    "?Conv2D"
   ]
  },
  {
   "cell_type": "code",
   "execution_count": 37,
   "metadata": {
    "scrolled": true
   },
   "outputs": [
    {
     "name": "stdout",
     "output_type": "stream",
     "text": [
      "_________________________________________________________________\n",
      "Layer (type)                 Output Shape              Param #   \n",
      "=================================================================\n",
      "conv2d_5 (Conv2D)            (None, 48, 35, 16)        160       \n",
      "_________________________________________________________________\n",
      "flatten_5 (Flatten)          (None, 26880)             0         \n",
      "_________________________________________________________________\n",
      "dense_5 (Dense)              (None, 7)                 188167    \n",
      "=================================================================\n",
      "Total params: 188,327\n",
      "Trainable params: 188,327\n",
      "Non-trainable params: 0\n",
      "_________________________________________________________________\n",
      "Train on 579 samples, validate on 193 samples\n",
      "Epoch 1/100\n",
      "579/579 [==============================] - 1s 1ms/step - loss: 2.6353 - acc: 0.3368 - val_loss: 1.6999 - val_acc: 0.4197\n",
      "Epoch 2/100\n",
      "579/579 [==============================] - 0s 719us/step - loss: 1.7247 - acc: 0.4542 - val_loss: 1.5663 - val_acc: 0.4767\n",
      "Epoch 3/100\n",
      "579/579 [==============================] - 0s 656us/step - loss: 1.4525 - acc: 0.4836 - val_loss: 1.5708 - val_acc: 0.4404\n",
      "Epoch 4/100\n",
      "579/579 [==============================] - 0s 679us/step - loss: 1.4201 - acc: 0.5406 - val_loss: 1.3692 - val_acc: 0.4715\n",
      "Epoch 5/100\n",
      "579/579 [==============================] - 0s 723us/step - loss: 1.2558 - acc: 0.5786 - val_loss: 1.2825 - val_acc: 0.5233\n",
      "Epoch 6/100\n",
      "579/579 [==============================] - 0s 720us/step - loss: 1.1293 - acc: 0.6131 - val_loss: 1.2669 - val_acc: 0.5026\n",
      "Epoch 7/100\n",
      "579/579 [==============================] - 1s 988us/step - loss: 1.0216 - acc: 0.6770 - val_loss: 1.1135 - val_acc: 0.5699\n",
      "Epoch 8/100\n",
      "579/579 [==============================] - 0s 760us/step - loss: 0.8673 - acc: 0.7358 - val_loss: 1.0207 - val_acc: 0.6373\n",
      "Epoch 9/100\n",
      "579/579 [==============================] - 0s 760us/step - loss: 0.8015 - acc: 0.7288 - val_loss: 1.0417 - val_acc: 0.6321\n",
      "Epoch 10/100\n",
      "579/579 [==============================] - 0s 848us/step - loss: 0.6782 - acc: 0.7945 - val_loss: 0.9199 - val_acc: 0.7306\n",
      "Epoch 11/100\n",
      "579/579 [==============================] - 0s 721us/step - loss: 0.6338 - acc: 0.8307 - val_loss: 0.8832 - val_acc: 0.6943\n",
      "Epoch 12/100\n",
      "579/579 [==============================] - 0s 775us/step - loss: 0.5661 - acc: 0.8325 - val_loss: 0.8878 - val_acc: 0.6891\n",
      "Epoch 13/100\n",
      "579/579 [==============================] - 1s 928us/step - loss: 0.4766 - acc: 0.8877 - val_loss: 0.8223 - val_acc: 0.6943\n",
      "Epoch 14/100\n",
      "579/579 [==============================] - 0s 742us/step - loss: 0.4013 - acc: 0.9016 - val_loss: 0.7667 - val_acc: 0.7461\n",
      "Epoch 15/100\n",
      "579/579 [==============================] - 0s 703us/step - loss: 0.3855 - acc: 0.9067 - val_loss: 0.7648 - val_acc: 0.7617\n",
      "Epoch 16/100\n",
      "579/579 [==============================] - 0s 733us/step - loss: 0.3259 - acc: 0.9240 - val_loss: 0.7359 - val_acc: 0.7668\n",
      "Epoch 17/100\n",
      "579/579 [==============================] - 0s 743us/step - loss: 0.2762 - acc: 0.9585 - val_loss: 0.7762 - val_acc: 0.7565\n",
      "Epoch 18/100\n",
      "579/579 [==============================] - 1s 1ms/step - loss: 0.2485 - acc: 0.9516 - val_loss: 0.7547 - val_acc: 0.7668\n",
      "Epoch 19/100\n",
      "579/579 [==============================] - 1s 2ms/step - loss: 0.2272 - acc: 0.9637 - val_loss: 0.7075 - val_acc: 0.7876\n",
      "Epoch 20/100\n",
      "579/579 [==============================] - 1s 926us/step - loss: 0.2286 - acc: 0.9465 - val_loss: 0.8361 - val_acc: 0.7098\n",
      "Epoch 21/100\n",
      "579/579 [==============================] - 0s 791us/step - loss: 0.2301 - acc: 0.9465 - val_loss: 0.7277 - val_acc: 0.7927\n",
      "Epoch 22/100\n",
      "579/579 [==============================] - 0s 736us/step - loss: 0.1899 - acc: 0.9672 - val_loss: 0.7512 - val_acc: 0.7720\n"
     ]
    },
    {
     "data": {
      "text/plain": [
       "<keras.callbacks.History at 0x7f48801b99b0>"
      ]
     },
     "execution_count": 37,
     "metadata": {},
     "output_type": "execute_result"
    }
   ],
   "source": [
    "model = Sequential()\n",
    "model.add( Conv2D(16,(3,3), input_shape=X_train.shape[1:]) )\n",
    "model.add( Flatten() )\n",
    "model.add( Dense(n_classes, activation=\"softmax\") )\n",
    "model.summary()\n",
    "early_stopping = EarlyStopping(patience=3, monitor=\"val_loss\")\n",
    "\n",
    "model.compile(loss=\"categorical_crossentropy\", optimizer=\"adam\", metrics=[\"accuracy\"])\n",
    "model.fit(X_train, y_train, validation_split=0.25, epochs=100, callbacks=[early_stopping])"
   ]
  },
  {
   "cell_type": "code",
   "execution_count": 38,
   "metadata": {},
   "outputs": [
    {
     "name": "stdout",
     "output_type": "stream",
     "text": [
      "516/516 [==============================] - 0s 268us/step\n"
     ]
    },
    {
     "data": {
      "text/plain": [
       "[0.7704246164292328, 0.7558139534883721]"
      ]
     },
     "execution_count": 38,
     "metadata": {},
     "output_type": "execute_result"
    }
   ],
   "source": [
    "model.evaluate(X_test, y_test)"
   ]
  },
  {
   "cell_type": "markdown",
   "metadata": {},
   "source": [
    "---"
   ]
  },
  {
   "cell_type": "code",
   "execution_count": 39,
   "metadata": {
    "scrolled": true
   },
   "outputs": [
    {
     "name": "stdout",
     "output_type": "stream",
     "text": [
      "_________________________________________________________________\n",
      "Layer (type)                 Output Shape              Param #   \n",
      "=================================================================\n",
      "conv2d_6 (Conv2D)            (None, 48, 35, 16)        160       \n",
      "_________________________________________________________________\n",
      "max_pooling2d_1 (MaxPooling2 (None, 24, 17, 16)        0         \n",
      "_________________________________________________________________\n",
      "flatten_6 (Flatten)          (None, 6528)              0         \n",
      "_________________________________________________________________\n",
      "dense_6 (Dense)              (None, 7)                 45703     \n",
      "=================================================================\n",
      "Total params: 45,863\n",
      "Trainable params: 45,863\n",
      "Non-trainable params: 0\n",
      "_________________________________________________________________\n",
      "Train on 579 samples, validate on 193 samples\n",
      "Epoch 1/100\n",
      "579/579 [==============================] - 1s 1ms/step - loss: 1.7196 - acc: 0.4128 - val_loss: 1.6771 - val_acc: 0.3057\n",
      "Epoch 2/100\n",
      "579/579 [==============================] - 0s 585us/step - loss: 1.5948 - acc: 0.4111 - val_loss: 1.5537 - val_acc: 0.4611\n",
      "Epoch 3/100\n",
      "579/579 [==============================] - 0s 593us/step - loss: 1.5520 - acc: 0.4542 - val_loss: 1.4956 - val_acc: 0.4404\n",
      "Epoch 4/100\n",
      "579/579 [==============================] - 0s 598us/step - loss: 1.4240 - acc: 0.4784 - val_loss: 1.3836 - val_acc: 0.4819\n",
      "Epoch 5/100\n",
      "579/579 [==============================] - 0s 628us/step - loss: 1.3437 - acc: 0.5561 - val_loss: 1.3549 - val_acc: 0.5078\n",
      "Epoch 6/100\n",
      "579/579 [==============================] - 0s 555us/step - loss: 1.2365 - acc: 0.5889 - val_loss: 1.3094 - val_acc: 0.4974\n",
      "Epoch 7/100\n",
      "579/579 [==============================] - 0s 760us/step - loss: 1.1623 - acc: 0.5976 - val_loss: 1.3168 - val_acc: 0.5233\n",
      "Epoch 8/100\n",
      "579/579 [==============================] - 0s 790us/step - loss: 1.0913 - acc: 0.6408 - val_loss: 1.1882 - val_acc: 0.6580\n",
      "Epoch 9/100\n",
      "579/579 [==============================] - 0s 558us/step - loss: 0.9610 - acc: 0.6995 - val_loss: 1.1083 - val_acc: 0.6943\n",
      "Epoch 10/100\n",
      "579/579 [==============================] - 0s 555us/step - loss: 0.8529 - acc: 0.7720 - val_loss: 0.9908 - val_acc: 0.6010\n",
      "Epoch 11/100\n",
      "579/579 [==============================] - 0s 561us/step - loss: 0.7968 - acc: 0.7478 - val_loss: 1.0067 - val_acc: 0.6684\n",
      "Epoch 12/100\n",
      "579/579 [==============================] - 0s 762us/step - loss: 0.7610 - acc: 0.7703 - val_loss: 0.9253 - val_acc: 0.7202\n",
      "Epoch 13/100\n",
      "579/579 [==============================] - 0s 669us/step - loss: 0.6500 - acc: 0.8273 - val_loss: 0.8561 - val_acc: 0.7254\n",
      "Epoch 14/100\n",
      "579/579 [==============================] - 0s 570us/step - loss: 0.6123 - acc: 0.8273 - val_loss: 0.8609 - val_acc: 0.7306\n",
      "Epoch 15/100\n",
      "579/579 [==============================] - 0s 670us/step - loss: 0.5411 - acc: 0.8601 - val_loss: 0.8431 - val_acc: 0.7565\n",
      "Epoch 16/100\n",
      "579/579 [==============================] - 0s 825us/step - loss: 0.5020 - acc: 0.8791 - val_loss: 0.7646 - val_acc: 0.7668\n",
      "Epoch 17/100\n",
      "579/579 [==============================] - 0s 600us/step - loss: 0.4341 - acc: 0.8877 - val_loss: 0.7829 - val_acc: 0.7358\n",
      "Epoch 18/100\n",
      "579/579 [==============================] - 0s 579us/step - loss: 0.4033 - acc: 0.9050 - val_loss: 0.7780 - val_acc: 0.7254\n",
      "Epoch 19/100\n",
      "579/579 [==============================] - 1s 892us/step - loss: 0.3703 - acc: 0.9085 - val_loss: 0.6954 - val_acc: 0.7927\n",
      "Epoch 20/100\n",
      "579/579 [==============================] - 1s 969us/step - loss: 0.3446 - acc: 0.9154 - val_loss: 0.7477 - val_acc: 0.7254\n",
      "Epoch 21/100\n",
      "579/579 [==============================] - 1s 890us/step - loss: 0.3204 - acc: 0.9275 - val_loss: 0.7094 - val_acc: 0.7617\n",
      "Epoch 22/100\n",
      "579/579 [==============================] - 0s 816us/step - loss: 0.3125 - acc: 0.9188 - val_loss: 0.6636 - val_acc: 0.8238\n",
      "Epoch 23/100\n",
      "579/579 [==============================] - 1s 905us/step - loss: 0.2952 - acc: 0.9344 - val_loss: 0.7269 - val_acc: 0.7772\n",
      "Epoch 24/100\n",
      "579/579 [==============================] - 0s 729us/step - loss: 0.2752 - acc: 0.9378 - val_loss: 0.7007 - val_acc: 0.7824\n",
      "Epoch 25/100\n",
      "579/579 [==============================] - 0s 691us/step - loss: 0.2694 - acc: 0.9326 - val_loss: 0.6401 - val_acc: 0.8031\n",
      "Epoch 26/100\n",
      "579/579 [==============================] - 0s 602us/step - loss: 0.2585 - acc: 0.9361 - val_loss: 0.6751 - val_acc: 0.8031\n",
      "Epoch 27/100\n",
      "579/579 [==============================] - 0s 660us/step - loss: 0.2286 - acc: 0.9568 - val_loss: 0.6970 - val_acc: 0.7772\n",
      "Epoch 28/100\n",
      "579/579 [==============================] - 0s 694us/step - loss: 0.2587 - acc: 0.9309 - val_loss: 0.6538 - val_acc: 0.8135\n",
      "516/516 [==============================] - 0s 226us/step\n"
     ]
    },
    {
     "data": {
      "text/plain": [
       "[0.6942874008370924, 0.7751937984496124]"
      ]
     },
     "execution_count": 39,
     "metadata": {},
     "output_type": "execute_result"
    }
   ],
   "source": [
    "model = Sequential()\n",
    "model.add( Conv2D(16,(3,3), input_shape=X_train.shape[1:]) )\n",
    "model.add( MaxPooling2D((2,2)) )\n",
    "model.add( Flatten() )\n",
    "model.add( Dense(n_classes, activation=\"softmax\") )\n",
    "model.summary()\n",
    "early_stopping = EarlyStopping(patience=3, monitor=\"val_loss\")\n",
    "\n",
    "model.compile(loss=\"categorical_crossentropy\", optimizer=\"adam\", metrics=[\"accuracy\"])\n",
    "model.fit(X_train, y_train, validation_split=0.25, epochs=100, callbacks=[early_stopping])\n",
    "\n",
    "model.evaluate(X_test, y_test)"
   ]
  },
  {
   "cell_type": "markdown",
   "metadata": {},
   "source": [
    "---"
   ]
  },
  {
   "cell_type": "code",
   "execution_count": 40,
   "metadata": {
    "scrolled": true
   },
   "outputs": [
    {
     "name": "stdout",
     "output_type": "stream",
     "text": [
      "_________________________________________________________________\n",
      "Layer (type)                 Output Shape              Param #   \n",
      "=================================================================\n",
      "conv2d_7 (Conv2D)            (None, 50, 37, 16)        160       \n",
      "_________________________________________________________________\n",
      "max_pooling2d_2 (MaxPooling2 (None, 25, 18, 16)        0         \n",
      "_________________________________________________________________\n",
      "flatten_7 (Flatten)          (None, 7200)              0         \n",
      "_________________________________________________________________\n",
      "dense_7 (Dense)              (None, 7)                 50407     \n",
      "=================================================================\n",
      "Total params: 50,567\n",
      "Trainable params: 50,567\n",
      "Non-trainable params: 0\n",
      "_________________________________________________________________\n",
      "Train on 579 samples, validate on 193 samples\n",
      "Epoch 1/100\n",
      "579/579 [==============================] - 1s 1ms/step - loss: 1.8017 - acc: 0.3851 - val_loss: 1.6818 - val_acc: 0.3938\n",
      "Epoch 2/100\n",
      "579/579 [==============================] - 0s 577us/step - loss: 1.6536 - acc: 0.4059 - val_loss: 1.5772 - val_acc: 0.4508\n",
      "Epoch 3/100\n",
      "579/579 [==============================] - 0s 560us/step - loss: 1.5277 - acc: 0.4542 - val_loss: 1.5568 - val_acc: 0.4663\n",
      "Epoch 4/100\n",
      "579/579 [==============================] - 0s 625us/step - loss: 1.4854 - acc: 0.4870 - val_loss: 1.4700 - val_acc: 0.4456\n",
      "Epoch 5/100\n",
      "579/579 [==============================] - 0s 601us/step - loss: 1.4274 - acc: 0.4836 - val_loss: 1.4279 - val_acc: 0.4663\n",
      "Epoch 6/100\n",
      "579/579 [==============================] - 0s 569us/step - loss: 1.3052 - acc: 0.5423 - val_loss: 1.3143 - val_acc: 0.4974\n",
      "Epoch 7/100\n",
      "579/579 [==============================] - 0s 790us/step - loss: 1.1776 - acc: 0.5889 - val_loss: 1.2502 - val_acc: 0.5285\n",
      "Epoch 8/100\n",
      "579/579 [==============================] - 0s 700us/step - loss: 1.1127 - acc: 0.5976 - val_loss: 1.1426 - val_acc: 0.5699\n",
      "Epoch 9/100\n",
      "579/579 [==============================] - 0s 814us/step - loss: 0.9925 - acc: 0.6598 - val_loss: 1.0941 - val_acc: 0.6166\n",
      "Epoch 10/100\n",
      "579/579 [==============================] - 0s 673us/step - loss: 0.9097 - acc: 0.7358 - val_loss: 1.0221 - val_acc: 0.6269\n",
      "Epoch 11/100\n",
      "579/579 [==============================] - 1s 957us/step - loss: 0.8065 - acc: 0.7755 - val_loss: 1.0379 - val_acc: 0.6632\n",
      "Epoch 12/100\n",
      "579/579 [==============================] - 1s 894us/step - loss: 0.7405 - acc: 0.7876 - val_loss: 0.9943 - val_acc: 0.6528\n",
      "Epoch 13/100\n",
      "579/579 [==============================] - 0s 683us/step - loss: 0.6765 - acc: 0.7997 - val_loss: 0.8469 - val_acc: 0.7098\n",
      "Epoch 14/100\n",
      "579/579 [==============================] - 0s 636us/step - loss: 0.6058 - acc: 0.8273 - val_loss: 0.9337 - val_acc: 0.6839\n",
      "Epoch 15/100\n",
      "579/579 [==============================] - 0s 693us/step - loss: 0.6326 - acc: 0.8152 - val_loss: 0.9368 - val_acc: 0.6477\n",
      "Epoch 16/100\n",
      "579/579 [==============================] - 0s 647us/step - loss: 0.5252 - acc: 0.8446 - val_loss: 0.8460 - val_acc: 0.7565\n",
      "Epoch 17/100\n",
      "579/579 [==============================] - 0s 627us/step - loss: 0.4842 - acc: 0.8774 - val_loss: 0.7585 - val_acc: 0.7720\n",
      "Epoch 18/100\n",
      "579/579 [==============================] - 0s 616us/step - loss: 0.4763 - acc: 0.8791 - val_loss: 0.7331 - val_acc: 0.7409\n",
      "Epoch 19/100\n",
      "579/579 [==============================] - 0s 625us/step - loss: 0.4329 - acc: 0.8774 - val_loss: 0.8025 - val_acc: 0.7668\n",
      "Epoch 20/100\n",
      "579/579 [==============================] - 0s 628us/step - loss: 0.4040 - acc: 0.8826 - val_loss: 0.7598 - val_acc: 0.7772\n",
      "Epoch 21/100\n",
      "579/579 [==============================] - 0s 611us/step - loss: 0.3758 - acc: 0.8981 - val_loss: 0.6605 - val_acc: 0.8290\n",
      "Epoch 22/100\n",
      "579/579 [==============================] - 0s 629us/step - loss: 0.3953 - acc: 0.8929 - val_loss: 0.8664 - val_acc: 0.7098\n",
      "Epoch 23/100\n",
      "579/579 [==============================] - 0s 638us/step - loss: 0.4258 - acc: 0.8756 - val_loss: 0.7859 - val_acc: 0.7565\n",
      "Epoch 24/100\n",
      "579/579 [==============================] - 0s 612us/step - loss: 0.3690 - acc: 0.9033 - val_loss: 0.7512 - val_acc: 0.7565\n",
      "516/516 [==============================] - 0s 233us/step\n"
     ]
    },
    {
     "data": {
      "text/plain": [
       "[0.7595266759857651, 0.7577519379844961]"
      ]
     },
     "execution_count": 40,
     "metadata": {},
     "output_type": "execute_result"
    }
   ],
   "source": [
    "model = Sequential()\n",
    "model.add( Conv2D(16,(3,3), input_shape=X_train.shape[1:], padding='same')  )\n",
    "model.add( MaxPooling2D((2,2)) )\n",
    "model.add( Flatten() )\n",
    "model.add( Dense(n_classes, activation=\"softmax\") )\n",
    "model.summary()\n",
    "early_stopping = EarlyStopping(patience=3, monitor=\"val_loss\")\n",
    "\n",
    "model.compile(loss=\"categorical_crossentropy\", optimizer=\"adam\", metrics=[\"accuracy\"])\n",
    "model.fit(X_train, y_train, validation_split=0.25, epochs=100, callbacks=[early_stopping])\n",
    "\n",
    "model.evaluate(X_test, y_test)"
   ]
  },
  {
   "cell_type": "markdown",
   "metadata": {},
   "source": [
    "---"
   ]
  },
  {
   "cell_type": "code",
   "execution_count": 41,
   "metadata": {
    "scrolled": true
   },
   "outputs": [
    {
     "name": "stdout",
     "output_type": "stream",
     "text": [
      "_________________________________________________________________\n",
      "Layer (type)                 Output Shape              Param #   \n",
      "=================================================================\n",
      "conv2d_8 (Conv2D)            (None, 50, 37, 16)        160       \n",
      "_________________________________________________________________\n",
      "average_pooling2d_1 (Average (None, 25, 18, 16)        0         \n",
      "_________________________________________________________________\n",
      "flatten_8 (Flatten)          (None, 7200)              0         \n",
      "_________________________________________________________________\n",
      "dense_8 (Dense)              (None, 7)                 50407     \n",
      "=================================================================\n",
      "Total params: 50,567\n",
      "Trainable params: 50,567\n",
      "Non-trainable params: 0\n",
      "_________________________________________________________________\n",
      "Train on 579 samples, validate on 193 samples\n",
      "Epoch 1/100\n",
      "579/579 [==============================] - 1s 1ms/step - loss: 1.8254 - acc: 0.3903 - val_loss: 1.6510 - val_acc: 0.4197\n",
      "Epoch 2/100\n",
      "579/579 [==============================] - 0s 589us/step - loss: 1.6181 - acc: 0.4076 - val_loss: 1.5677 - val_acc: 0.4197\n",
      "Epoch 3/100\n",
      "579/579 [==============================] - 0s 828us/step - loss: 1.5831 - acc: 0.4301 - val_loss: 1.5784 - val_acc: 0.4352\n",
      "Epoch 4/100\n",
      "579/579 [==============================] - 0s 706us/step - loss: 1.5043 - acc: 0.5009 - val_loss: 1.4992 - val_acc: 0.4404\n",
      "Epoch 5/100\n",
      "579/579 [==============================] - 0s 570us/step - loss: 1.4255 - acc: 0.4853 - val_loss: 1.4590 - val_acc: 0.4456\n",
      "Epoch 6/100\n",
      "579/579 [==============================] - 0s 567us/step - loss: 1.3198 - acc: 0.5509 - val_loss: 1.3550 - val_acc: 0.5078\n",
      "Epoch 7/100\n",
      "579/579 [==============================] - 0s 591us/step - loss: 1.2368 - acc: 0.6010 - val_loss: 1.2829 - val_acc: 0.5337\n",
      "Epoch 8/100\n",
      "579/579 [==============================] - 0s 601us/step - loss: 1.1199 - acc: 0.6425 - val_loss: 1.1805 - val_acc: 0.5337\n",
      "Epoch 9/100\n",
      "579/579 [==============================] - 0s 571us/step - loss: 1.0245 - acc: 0.6477 - val_loss: 1.1041 - val_acc: 0.5855\n",
      "Epoch 10/100\n",
      "579/579 [==============================] - 0s 621us/step - loss: 0.9039 - acc: 0.7012 - val_loss: 1.0300 - val_acc: 0.6632\n",
      "Epoch 11/100\n",
      "579/579 [==============================] - 0s 592us/step - loss: 0.8380 - acc: 0.7288 - val_loss: 0.9816 - val_acc: 0.6995\n",
      "Epoch 12/100\n",
      "579/579 [==============================] - 0s 608us/step - loss: 0.7530 - acc: 0.7651 - val_loss: 1.0304 - val_acc: 0.5751\n",
      "Epoch 13/100\n",
      "579/579 [==============================] - 0s 608us/step - loss: 0.7009 - acc: 0.7927 - val_loss: 0.8847 - val_acc: 0.7150\n",
      "Epoch 14/100\n",
      "579/579 [==============================] - 0s 597us/step - loss: 0.6584 - acc: 0.7997 - val_loss: 0.9432 - val_acc: 0.6528\n",
      "Epoch 15/100\n",
      "579/579 [==============================] - 0s 607us/step - loss: 0.6064 - acc: 0.8169 - val_loss: 0.9344 - val_acc: 0.7150\n",
      "Epoch 16/100\n",
      "579/579 [==============================] - 0s 605us/step - loss: 0.5671 - acc: 0.8238 - val_loss: 0.9919 - val_acc: 0.6891\n",
      "516/516 [==============================] - 0s 172us/step\n"
     ]
    },
    {
     "data": {
      "text/plain": [
       "[0.9668369210043619, 0.6782945736434108]"
      ]
     },
     "execution_count": 41,
     "metadata": {},
     "output_type": "execute_result"
    }
   ],
   "source": [
    "model = Sequential()\n",
    "model.add( Conv2D(16,(3,3), input_shape=X_train.shape[1:], padding='same')  )\n",
    "model.add( AveragePooling2D((2,2)) )\n",
    "model.add( Flatten() )\n",
    "model.add( Dense(n_classes, activation=\"softmax\") )\n",
    "model.summary()\n",
    "early_stopping = EarlyStopping(patience=3, monitor=\"val_loss\")\n",
    "\n",
    "model.compile(loss=\"categorical_crossentropy\", optimizer=\"adam\", metrics=[\"accuracy\"])\n",
    "model.fit(X_train, y_train, validation_split=0.25, epochs=100, callbacks=[early_stopping])\n",
    "\n",
    "model.evaluate(X_test, y_test)"
   ]
  },
  {
   "cell_type": "markdown",
   "metadata": {},
   "source": [
    "---"
   ]
  },
  {
   "cell_type": "code",
   "execution_count": 60,
   "metadata": {
    "scrolled": true
   },
   "outputs": [
    {
     "name": "stdout",
     "output_type": "stream",
     "text": [
      "_________________________________________________________________\n",
      "Layer (type)                 Output Shape              Param #   \n",
      "=================================================================\n",
      "conv2d_27 (Conv2D)           (None, 32, 32, 32)        896       \n",
      "_________________________________________________________________\n",
      "max_pooling2d_19 (MaxPooling (None, 16, 16, 32)        0         \n",
      "_________________________________________________________________\n",
      "conv2d_28 (Conv2D)           (None, 16, 16, 16)        4624      \n",
      "_________________________________________________________________\n",
      "max_pooling2d_20 (MaxPooling (None, 8, 8, 16)          0         \n",
      "_________________________________________________________________\n",
      "flatten_17 (Flatten)         (None, 1024)              0         \n",
      "_________________________________________________________________\n",
      "dense_29 (Dense)             (None, 7)                 7175      \n",
      "=================================================================\n",
      "Total params: 12,695\n",
      "Trainable params: 12,695\n",
      "Non-trainable params: 0\n",
      "_________________________________________________________________\n"
     ]
    },
    {
     "ename": "ValueError",
     "evalue": "Error when checking target: expected dense_29 to have 2 dimensions, but got array with shape (7000, 4, 2)",
     "output_type": "error",
     "traceback": [
      "\u001b[0;31m----------------------------------------------------------------------\u001b[0m",
      "\u001b[0;31mValueError\u001b[0m                           Traceback (most recent call last)",
      "\u001b[0;32m<ipython-input-60-9952f75f05e4>\u001b[0m in \u001b[0;36m<module>\u001b[0;34m\u001b[0m\n\u001b[1;32m     13\u001b[0m \u001b[0;34m\u001b[0m\u001b[0m\n\u001b[1;32m     14\u001b[0m \u001b[0mmodel\u001b[0m\u001b[0;34m.\u001b[0m\u001b[0mcompile\u001b[0m\u001b[0;34m(\u001b[0m\u001b[0mloss\u001b[0m\u001b[0;34m=\u001b[0m\u001b[0;34m\"categorical_crossentropy\"\u001b[0m\u001b[0;34m,\u001b[0m \u001b[0moptimizer\u001b[0m\u001b[0;34m=\u001b[0m\u001b[0;34m\"adam\"\u001b[0m\u001b[0;34m,\u001b[0m \u001b[0mmetrics\u001b[0m\u001b[0;34m=\u001b[0m\u001b[0;34m[\u001b[0m\u001b[0;34m\"accuracy\"\u001b[0m\u001b[0;34m]\u001b[0m\u001b[0;34m)\u001b[0m\u001b[0;34m\u001b[0m\u001b[0m\n\u001b[0;32m---> 15\u001b[0;31m \u001b[0mmodel\u001b[0m\u001b[0;34m.\u001b[0m\u001b[0mfit\u001b[0m\u001b[0;34m(\u001b[0m\u001b[0mX_train\u001b[0m\u001b[0;34m,\u001b[0m \u001b[0my_train\u001b[0m\u001b[0;34m,\u001b[0m \u001b[0mvalidation_split\u001b[0m\u001b[0;34m=\u001b[0m\u001b[0;36m0.25\u001b[0m\u001b[0;34m,\u001b[0m \u001b[0mepochs\u001b[0m\u001b[0;34m=\u001b[0m\u001b[0;36m100\u001b[0m\u001b[0;34m,\u001b[0m \u001b[0mcallbacks\u001b[0m\u001b[0;34m=\u001b[0m\u001b[0;34m[\u001b[0m\u001b[0mearly_stopping\u001b[0m\u001b[0;34m]\u001b[0m\u001b[0;34m)\u001b[0m\u001b[0;34m\u001b[0m\u001b[0m\n\u001b[0m\u001b[1;32m     16\u001b[0m \u001b[0;34m\u001b[0m\u001b[0m\n\u001b[1;32m     17\u001b[0m \u001b[0mmodel\u001b[0m\u001b[0;34m.\u001b[0m\u001b[0mevaluate\u001b[0m\u001b[0;34m(\u001b[0m\u001b[0mX_test\u001b[0m\u001b[0;34m,\u001b[0m \u001b[0my_test\u001b[0m\u001b[0;34m)\u001b[0m\u001b[0;34m\u001b[0m\u001b[0m\n",
      "\u001b[0;32m~/anaconda3/lib/python3.6/site-packages/keras/engine/training.py\u001b[0m in \u001b[0;36mfit\u001b[0;34m(self, x, y, batch_size, epochs, verbose, callbacks, validation_split, validation_data, shuffle, class_weight, sample_weight, initial_epoch, steps_per_epoch, validation_steps, **kwargs)\u001b[0m\n\u001b[1;32m    950\u001b[0m             \u001b[0msample_weight\u001b[0m\u001b[0;34m=\u001b[0m\u001b[0msample_weight\u001b[0m\u001b[0;34m,\u001b[0m\u001b[0;34m\u001b[0m\u001b[0m\n\u001b[1;32m    951\u001b[0m             \u001b[0mclass_weight\u001b[0m\u001b[0;34m=\u001b[0m\u001b[0mclass_weight\u001b[0m\u001b[0;34m,\u001b[0m\u001b[0;34m\u001b[0m\u001b[0m\n\u001b[0;32m--> 952\u001b[0;31m             batch_size=batch_size)\n\u001b[0m\u001b[1;32m    953\u001b[0m         \u001b[0;31m# Prepare validation data.\u001b[0m\u001b[0;34m\u001b[0m\u001b[0;34m\u001b[0m\u001b[0m\n\u001b[1;32m    954\u001b[0m         \u001b[0mdo_validation\u001b[0m \u001b[0;34m=\u001b[0m \u001b[0;32mFalse\u001b[0m\u001b[0;34m\u001b[0m\u001b[0m\n",
      "\u001b[0;32m~/anaconda3/lib/python3.6/site-packages/keras/engine/training.py\u001b[0m in \u001b[0;36m_standardize_user_data\u001b[0;34m(self, x, y, sample_weight, class_weight, check_array_lengths, batch_size)\u001b[0m\n\u001b[1;32m    787\u001b[0m                 \u001b[0mfeed_output_shapes\u001b[0m\u001b[0;34m,\u001b[0m\u001b[0;34m\u001b[0m\u001b[0m\n\u001b[1;32m    788\u001b[0m                 \u001b[0mcheck_batch_axis\u001b[0m\u001b[0;34m=\u001b[0m\u001b[0;32mFalse\u001b[0m\u001b[0;34m,\u001b[0m  \u001b[0;31m# Don't enforce the batch size.\u001b[0m\u001b[0;34m\u001b[0m\u001b[0m\n\u001b[0;32m--> 789\u001b[0;31m                 exception_prefix='target')\n\u001b[0m\u001b[1;32m    790\u001b[0m \u001b[0;34m\u001b[0m\u001b[0m\n\u001b[1;32m    791\u001b[0m             \u001b[0;31m# Generate sample-wise weight values given the `sample_weight` and\u001b[0m\u001b[0;34m\u001b[0m\u001b[0;34m\u001b[0m\u001b[0m\n",
      "\u001b[0;32m~/anaconda3/lib/python3.6/site-packages/keras/engine/training_utils.py\u001b[0m in \u001b[0;36mstandardize_input_data\u001b[0;34m(data, names, shapes, check_batch_axis, exception_prefix)\u001b[0m\n\u001b[1;32m    126\u001b[0m                         \u001b[0;34m': expected '\u001b[0m \u001b[0;34m+\u001b[0m \u001b[0mnames\u001b[0m\u001b[0;34m[\u001b[0m\u001b[0mi\u001b[0m\u001b[0;34m]\u001b[0m \u001b[0;34m+\u001b[0m \u001b[0;34m' to have '\u001b[0m \u001b[0;34m+\u001b[0m\u001b[0;34m\u001b[0m\u001b[0m\n\u001b[1;32m    127\u001b[0m                         \u001b[0mstr\u001b[0m\u001b[0;34m(\u001b[0m\u001b[0mlen\u001b[0m\u001b[0;34m(\u001b[0m\u001b[0mshape\u001b[0m\u001b[0;34m)\u001b[0m\u001b[0;34m)\u001b[0m \u001b[0;34m+\u001b[0m \u001b[0;34m' dimensions, but got array '\u001b[0m\u001b[0;34m\u001b[0m\u001b[0m\n\u001b[0;32m--> 128\u001b[0;31m                         'with shape ' + str(data_shape))\n\u001b[0m\u001b[1;32m    129\u001b[0m                 \u001b[0;32mif\u001b[0m \u001b[0;32mnot\u001b[0m \u001b[0mcheck_batch_axis\u001b[0m\u001b[0;34m:\u001b[0m\u001b[0;34m\u001b[0m\u001b[0m\n\u001b[1;32m    130\u001b[0m                     \u001b[0mdata_shape\u001b[0m \u001b[0;34m=\u001b[0m \u001b[0mdata_shape\u001b[0m\u001b[0;34m[\u001b[0m\u001b[0;36m1\u001b[0m\u001b[0;34m:\u001b[0m\u001b[0;34m]\u001b[0m\u001b[0;34m\u001b[0m\u001b[0m\n",
      "\u001b[0;31mValueError\u001b[0m: Error when checking target: expected dense_29 to have 2 dimensions, but got array with shape (7000, 4, 2)"
     ]
    }
   ],
   "source": [
    "model = Sequential()\n",
    "\n",
    "model.add( Conv2D(32,(3,3), input_shape=X_train.shape[1:], padding='same')  )\n",
    "model.add( MaxPooling2D((2,2)) )\n",
    "\n",
    "model.add( Conv2D(16,(3,3), input_shape=X_train.shape[1:], padding='same')  )\n",
    "model.add( MaxPooling2D((2,2)) )\n",
    "\n",
    "model.add( Flatten() )\n",
    "model.add( Dense(n_classes, activation=\"softmax\") )\n",
    "model.summary()\n",
    "early_stopping = EarlyStopping(patience=3, monitor=\"val_loss\")\n",
    "\n",
    "model.compile(loss=\"categorical_crossentropy\", optimizer=\"adam\", metrics=[\"accuracy\"])\n",
    "model.fit(X_train, y_train, validation_split=0.25, epochs=100, callbacks=[early_stopping])\n",
    "\n",
    "model.evaluate(X_test, y_test)"
   ]
  },
  {
   "cell_type": "code",
   "execution_count": null,
   "metadata": {},
   "outputs": [],
   "source": []
  },
  {
   "cell_type": "markdown",
   "metadata": {
    "collapsed": true
   },
   "source": [
    "<br>\n",
    "\n",
    "# Case study 2\n",
    "\n",
    "# Obrazki 3d (kolorowe - RGB)"
   ]
  },
  {
   "cell_type": "code",
   "execution_count": 62,
   "metadata": {
    "scrolled": true
   },
   "outputs": [
    {
     "name": "stdout",
     "output_type": "stream",
     "text": [
      "(7000, 32, 32, 3)\n",
      "(4000, 32, 32, 3)\n",
      "(array([0, 1, 2, 3], dtype=uint8), array([1738, 1733, 1779, 1750]))\n",
      "[[[170 180 198]\n",
      "  [168 178 196]\n",
      "  [177 185 203]\n",
      "  ...\n",
      "  [162 179 215]\n",
      "  [158 178 214]\n",
      "  [157 177 212]]\n",
      "\n",
      " [[168 181 198]\n",
      "  [172 185 201]\n",
      "  [171 183 200]\n",
      "  ...\n",
      "  [159 177 212]\n",
      "  [156 176 211]\n",
      "  [154 174 209]]\n",
      "\n",
      " [[154 170 186]\n",
      "  [149 165 181]\n",
      "  [129 144 162]\n",
      "  ...\n",
      "  [161 178 214]\n",
      "  [157 177 212]\n",
      "  [154 174 209]]\n",
      "\n",
      " ...\n",
      "\n",
      " [[ 74  84  80]\n",
      "  [ 76  85  81]\n",
      "  [ 78  85  82]\n",
      "  ...\n",
      "  [ 71  75  78]\n",
      "  [ 68  72  75]\n",
      "  [ 61  65  68]]\n",
      "\n",
      " [[ 68  76  77]\n",
      "  [ 69  77  78]\n",
      "  [ 72  79  78]\n",
      "  ...\n",
      "  [ 76  80  83]\n",
      "  [ 71  75  78]\n",
      "  [ 71  75  78]]\n",
      "\n",
      " [[ 67  75  78]\n",
      "  [ 68  76  79]\n",
      "  [ 69  75  76]\n",
      "  ...\n",
      "  [ 75  79  82]\n",
      "  [ 71  75  78]\n",
      "  [ 73  77  80]]]\n"
     ]
    },
    {
     "name": "stderr",
     "output_type": "stream",
     "text": [
      "/home/olszewskip/anaconda3/lib/python3.6/site-packages/ipykernel_launcher.py:23: DeprecationWarning: `toimage` is deprecated!\n",
      "`toimage` is deprecated in SciPy 1.0.0, and will be removed in 1.2.0.\n",
      "Use Pillow's ``Image.fromarray`` directly instead.\n"
     ]
    },
    {
     "data": {
      "image/png": "[encoded data removed]",
      "text/plain": [
       "<Figure size 432x288 with 9 Axes>"
      ]
     },
     "metadata": {
      "needs_background": "light"
     },
     "output_type": "display_data"
    }
   ],
   "source": [
    "from keras.datasets import cifar10\n",
    "from scipy.misc import toimage\n",
    "\n",
    "import numpy as np\n",
    "\n",
    "# load data\n",
    "(X_train, y_train), (X_test, y_test) = cifar10.load_data()\n",
    "\n",
    "nb_classes = 4\n",
    "n_samples = 7000\n",
    "\n",
    "X_train, y_train = X_train[np.where(y_train<nb_classes)[0]][:n_samples], y_train[np.where(y_train<nb_classes)[0]][:n_samples]\n",
    "X_test, y_test = X_test[np.where(y_test<nb_classes)[0]], y_test[np.where(y_test<nb_classes)[0]]\n",
    "\n",
    "print(X_train.shape)\n",
    "print(X_test.shape)\n",
    "print(np.unique(y_train,return_counts=True))\n",
    "print(X_train[0])\n",
    "\n",
    "# create a grid of 3x3 images\n",
    "for i in range(0, 9):\n",
    "    plt.subplot(330 + 1 + i)\n",
    "    plt.imshow(toimage(X_train[i]))\n",
    "# show the plot\n",
    "plt.show()"
   ]
  },
  {
   "cell_type": "code",
   "execution_count": 63,
   "metadata": {},
   "outputs": [
    {
     "data": {
      "text/plain": [
       "(32, 32, 3)"
      ]
     },
     "execution_count": 63,
     "metadata": {},
     "output_type": "execute_result"
    }
   ],
   "source": [
    "# normalize inputs from 0-255 to 0.0-1.0\n",
    "\n",
    "X_train = X_train/225\n",
    "X_test = X_test/225\n",
    "\n",
    "# one hot encode outputs\n",
    "y_train = np_utils.to_categorical(y_train)\n",
    "y_test = np_utils.to_categorical(y_test)\n",
    "\n",
    "num_classes = y_test.shape[1]\n",
    "\n",
    "X_train[0].shape"
   ]
  },
  {
   "cell_type": "markdown",
   "metadata": {},
   "source": [
    "### Zadanie 1. Zbuduj jednowarstwową siec konwolucyjną z maxpoolingiem.\n",
    "\n",
    "Liczba filtrów: 32; rozmiar filtra: 5x5."
   ]
  },
  {
   "cell_type": "code",
   "execution_count": null,
   "metadata": {
    "collapsed": true
   },
   "outputs": [],
   "source": []
  },
  {
   "cell_type": "markdown",
   "metadata": {},
   "source": [
    "### Zadanie 2. Zbuduj i przetestuj sieć przestawioną na rysunku:\n",
    "\n",
    "<img src=\"https://adeshpande3.github.io/assets/LeNet.png\" width=\"700\">\n",
    "Źródło: https://adeshpande3.github.io/assets/LeNet.png\"\n"
   ]
  },
  {
   "cell_type": "code",
   "execution_count": 52,
   "metadata": {},
   "outputs": [
    {
     "data": {
      "text/plain": [
       "4"
      ]
     },
     "execution_count": 52,
     "metadata": {},
     "output_type": "execute_result"
    }
   ],
   "source": [
    "num_classes"
   ]
  },
  {
   "cell_type": "code",
   "execution_count": 47,
   "metadata": {},
   "outputs": [
    {
     "data": {
      "text/plain": [
       "(32, 32, 3)"
      ]
     },
     "execution_count": 47,
     "metadata": {},
     "output_type": "execute_result"
    }
   ],
   "source": [
    "X_train.shape[1:]"
   ]
  },
  {
   "cell_type": "code",
   "execution_count": 64,
   "metadata": {},
   "outputs": [
    {
     "name": "stdout",
     "output_type": "stream",
     "text": [
      "_________________________________________________________________\n",
      "Layer (type)                 Output Shape              Param #   \n",
      "=================================================================\n",
      "conv2d_29 (Conv2D)           (None, 28, 28, 6)         456       \n",
      "_________________________________________________________________\n",
      "max_pooling2d_21 (MaxPooling (None, 14, 14, 6)         0         \n",
      "_________________________________________________________________\n",
      "conv2d_30 (Conv2D)           (None, 10, 10, 16)        2416      \n",
      "_________________________________________________________________\n",
      "max_pooling2d_22 (MaxPooling (None, 5, 5, 16)          0         \n",
      "_________________________________________________________________\n",
      "flatten_18 (Flatten)         (None, 400)               0         \n",
      "_________________________________________________________________\n",
      "dense_30 (Dense)             (None, 120)               48120     \n",
      "_________________________________________________________________\n",
      "dense_31 (Dense)             (None, 84)                10164     \n",
      "_________________________________________________________________\n",
      "dense_32 (Dense)             (None, 4)                 340       \n",
      "=================================================================\n",
      "Total params: 61,496\n",
      "Trainable params: 61,496\n",
      "Non-trainable params: 0\n",
      "_________________________________________________________________\n",
      "Train on 5250 samples, validate on 1750 samples\n",
      "Epoch 1/100\n",
      "5250/5250 [==============================] - 5s 875us/step - loss: 1.0383 - acc: 0.5573 - val_loss: 0.9452 - val_acc: 0.6217\n",
      "Epoch 2/100\n",
      "5250/5250 [==============================] - 3s 659us/step - loss: 0.7876 - acc: 0.6829 - val_loss: 0.7730 - val_acc: 0.6851\n",
      "Epoch 3/100\n",
      "5250/5250 [==============================] - 3s 630us/step - loss: 0.6936 - acc: 0.7244 - val_loss: 0.7921 - val_acc: 0.6966\n",
      "Epoch 4/100\n",
      "5250/5250 [==============================] - 3s 606us/step - loss: 0.6165 - acc: 0.7543 - val_loss: 0.7583 - val_acc: 0.7046\n",
      "Epoch 5/100\n",
      "5250/5250 [==============================] - 3s 596us/step - loss: 0.5389 - acc: 0.7962 - val_loss: 0.7591 - val_acc: 0.7034\n",
      "Epoch 6/100\n",
      "5250/5250 [==============================] - 3s 619us/step - loss: 0.5386 - acc: 0.7905 - val_loss: 0.7408 - val_acc: 0.7286\n",
      "Epoch 7/100\n",
      "5250/5250 [==============================] - 3s 650us/step - loss: 0.4270 - acc: 0.8387 - val_loss: 0.7458 - val_acc: 0.7131\n",
      "Epoch 8/100\n",
      "5250/5250 [==============================] - 4s 703us/step - loss: 0.3674 - acc: 0.8653 - val_loss: 0.8583 - val_acc: 0.7091\n",
      "Epoch 9/100\n",
      "5250/5250 [==============================] - 4s 707us/step - loss: 0.3079 - acc: 0.8874 - val_loss: 0.9178 - val_acc: 0.7109\n",
      "4000/4000 [==============================] - 1s 236us/step\n"
     ]
    },
    {
     "data": {
      "text/plain": [
       "[0.9189577610492706, 0.70525]"
      ]
     },
     "execution_count": 64,
     "metadata": {},
     "output_type": "execute_result"
    }
   ],
   "source": [
    "model = Sequential()\n",
    "\n",
    "model.add( Conv2D(6,(5,5), input_shape=X_train[0].shape, padding='valid')  )\n",
    "model.add( MaxPooling2D((2,2)) )\n",
    "\n",
    "model.add( Conv2D(16,(5,5), padding='valid')  )\n",
    "model.add( MaxPooling2D((2,2)) )\n",
    "\n",
    "model.add( Flatten() )\n",
    "\n",
    "model.add( Dense(120, activation=\"relu\") )\n",
    "model.add( Dense(84, activation=\"relu\") )\n",
    "model.add( Dense(num_classes, activation=\"softmax\") )\n",
    "model.summary()\n",
    "early_stopping = EarlyStopping(patience=3, monitor=\"val_loss\")\n",
    "\n",
    "model.compile(loss=\"categorical_crossentropy\", optimizer=\"adam\", metrics=[\"accuracy\"])\n",
    "model.fit(X_train, y_train, validation_split=0.25, epochs=100, callbacks=[early_stopping])\n",
    "\n",
    "model.evaluate(X_test, y_test)"
   ]
  },
  {
   "cell_type": "code",
   "execution_count": 65,
   "metadata": {},
   "outputs": [
    {
     "data": {
      "text/plain": [
       "array([2, 2, 1, ..., 3, 3, 3])"
      ]
     },
     "execution_count": 65,
     "metadata": {},
     "output_type": "execute_result"
    }
   ],
   "source": [
    "model.predict_classes(X_test)"
   ]
  },
  {
   "cell_type": "markdown",
   "metadata": {},
   "source": [
    "---"
   ]
  },
  {
   "cell_type": "markdown",
   "metadata": {},
   "source": [
    "### Transfer learning"
   ]
  },
  {
   "cell_type": "code",
   "execution_count": 3,
   "metadata": {},
   "outputs": [],
   "source": [
    "from keras.applications import VGG16"
   ]
  },
  {
   "cell_type": "code",
   "execution_count": 4,
   "metadata": {},
   "outputs": [],
   "source": [
    "base_model = VGG16(weights='imagenet', include_top=False)"
   ]
  },
  {
   "cell_type": "code",
   "execution_count": 5,
   "metadata": {},
   "outputs": [
    {
     "name": "stdout",
     "output_type": "stream",
     "text": [
      "_________________________________________________________________\n",
      "Layer (type)                 Output Shape              Param #   \n",
      "=================================================================\n",
      "input_3 (InputLayer)         (None, None, None, 3)     0         \n",
      "_________________________________________________________________\n",
      "block1_conv1 (Conv2D)        (None, None, None, 64)    1792      \n",
      "_________________________________________________________________\n",
      "block1_conv2 (Conv2D)        (None, None, None, 64)    36928     \n",
      "_________________________________________________________________\n",
      "block1_pool (MaxPooling2D)   (None, None, None, 64)    0         \n",
      "_________________________________________________________________\n",
      "block2_conv1 (Conv2D)        (None, None, None, 128)   73856     \n",
      "_________________________________________________________________\n",
      "block2_conv2 (Conv2D)        (None, None, None, 128)   147584    \n",
      "_________________________________________________________________\n",
      "block2_pool (MaxPooling2D)   (None, None, None, 128)   0         \n",
      "_________________________________________________________________\n",
      "block3_conv1 (Conv2D)        (None, None, None, 256)   295168    \n",
      "_________________________________________________________________\n",
      "block3_conv2 (Conv2D)        (None, None, None, 256)   590080    \n",
      "_________________________________________________________________\n",
      "block3_conv3 (Conv2D)        (None, None, None, 256)   590080    \n",
      "_________________________________________________________________\n",
      "block3_pool (MaxPooling2D)   (None, None, None, 256)   0         \n",
      "_________________________________________________________________\n",
      "block4_conv1 (Conv2D)        (None, None, None, 512)   1180160   \n",
      "_________________________________________________________________\n",
      "block4_conv2 (Conv2D)        (None, None, None, 512)   2359808   \n",
      "_________________________________________________________________\n",
      "block4_conv3 (Conv2D)        (None, None, None, 512)   2359808   \n",
      "_________________________________________________________________\n",
      "block4_pool (MaxPooling2D)   (None, None, None, 512)   0         \n",
      "_________________________________________________________________\n",
      "block5_conv1 (Conv2D)        (None, None, None, 512)   2359808   \n",
      "_________________________________________________________________\n",
      "block5_conv2 (Conv2D)        (None, None, None, 512)   2359808   \n",
      "_________________________________________________________________\n",
      "block5_conv3 (Conv2D)        (None, None, None, 512)   2359808   \n",
      "_________________________________________________________________\n",
      "block5_pool (MaxPooling2D)   (None, None, None, 512)   0         \n",
      "=================================================================\n",
      "Total params: 14,714,688\n",
      "Trainable params: 14,714,688\n",
      "Non-trainable params: 0\n",
      "_________________________________________________________________\n"
     ]
    }
   ],
   "source": [
    "base_model.summary()"
   ]
  },
  {
   "cell_type": "markdown",
   "metadata": {},
   "source": [
    "---"
   ]
  },
  {
   "cell_type": "markdown",
   "metadata": {},
   "source": [
    "https://gist.github.com/fchollet/7eb39b44eb9e16e59632d25fb3119975"
   ]
  },
  {
   "cell_type": "code",
   "execution_count": 28,
   "metadata": {
    "scrolled": true
   },
   "outputs": [
    {
     "name": "stdout",
     "output_type": "stream",
     "text": [
      "Model loaded.\n",
      "_________________________________________________________________\n",
      "Layer (type)                 Output Shape              Param #   \n",
      "=================================================================\n",
      "vgg16 (Model)                (None, 4, 4, 512)         14714688  \n",
      "_________________________________________________________________\n",
      "sequential_18 (Sequential)   (None, 1)                 2097665   \n",
      "=================================================================\n",
      "Total params: 16,812,353\n",
      "Trainable params: 16,812,353\n",
      "Non-trainable params: 0\n",
      "_________________________________________________________________\n"
     ]
    }
   ],
   "source": [
    "'''This script goes along the blog post\n",
    "\"Building powerful image classification models using very little data\"\n",
    "from blog.keras.io.\n",
    "It uses data that can be downloaded at:\n",
    "https://www.kaggle.com/c/dogs-vs-cats/data\n",
    "In our setup, we:\n",
    "- created a data/ folder\n",
    "- created train/ and validation/ subfolders inside data/\n",
    "- created cats/ and dogs/ subfolders inside train/ and validation/\n",
    "- put the cat pictures index 0-999 in data/train/cats\n",
    "- put the cat pictures index 1000-1400 in data/validation/cats\n",
    "- put the dogs pictures index 12500-13499 in data/train/dogs\n",
    "- put the dog pictures index 13500-13900 in data/validation/dogs\n",
    "So that we have 1000 training examples for each class, and 400 validation examples for each class.\n",
    "In summary, this is our directory structure:\n",
    "```\n",
    "data/\n",
    "    train/\n",
    "        dogs/\n",
    "            dog001.jpg\n",
    "            dog002.jpg\n",
    "            ...\n",
    "        cats/\n",
    "            cat001.jpg\n",
    "            cat002.jpg\n",
    "            ...\n",
    "    validation/\n",
    "        dogs/\n",
    "            dog001.jpg\n",
    "            dog002.jpg\n",
    "            ...\n",
    "        cats/\n",
    "            cat001.jpg\n",
    "            cat002.jpg\n",
    "            ...\n",
    "```\n",
    "'''\n",
    "\n",
    "from keras import applications\n",
    "from keras.preprocessing.image import ImageDataGenerator\n",
    "from keras import optimizers\n",
    "from keras.models import Sequential\n",
    "from keras.layers import Input, Dropout, Flatten, Dense\n",
    "\n",
    "# path to the model weights files.\n",
    "weights_path = '../keras/examples/vgg16_weights.h5'\n",
    "top_model_weights_path = 'fc_model.h5'\n",
    "# dimensions of our images.\n",
    "img_width, img_height = 150, 15\n",
    "0\n",
    "\n",
    "train_data_dir = 'Dane/data/train'\n",
    "validation_data_dir = 'Dane/data/validation'\n",
    "nb_train_samples = 2000\n",
    "nb_validation_samples = 800\n",
    "epochs = 50\n",
    "batch_size = 16\n",
    "\n",
    "# added:\n",
    "# input_tensor = Input(shape=(150,150,3))\n",
    "# end of added\n",
    "\n",
    "# added: input_shape = (img_width, img_height, 3) below\n",
    "\n",
    "# build the VGG16 network\n",
    "\n",
    "# input_tensor = Input(shape=(img_width, img_height, 3))\n",
    "\n",
    "h, w = 150, 150\n",
    "\n",
    "model = applications.VGG16(weights='imagenet', include_top=False, input_shape=(h, w, 3))\n",
    "print('Model loaded.')\n",
    "\n",
    "# build a classifier model to put on top of the convolutional model\n",
    "top_model = Sequential()\n",
    "top_model.add(Flatten(input_shape= model.output_shape[1:]))\n",
    "top_model.add(Dense(256, activation='relu'))\n",
    "top_model.add(Dropout(0.5))\n",
    "top_model.add(Dense(1, activation='sigmoid'))\n",
    "\n",
    "# note that it is necessary to start with a fully-trained\n",
    "# classifier, including the top classifier,\n",
    "# in order to successfully do fine-tuning\n",
    "# top_model.load_weights(top_model_weights_path)\n",
    "\n",
    "# add the model on top of the convolutional base\n",
    "model_transfer = Sequential()\n",
    "model_transfer.add(model)\n",
    "model_transfer.add(top_model)\n",
    "model_transfer.summary()"
   ]
  },
  {
   "cell_type": "code",
   "execution_count": 29,
   "metadata": {},
   "outputs": [],
   "source": [
    "model_transfer.layers[0].trainable = False"
   ]
  },
  {
   "cell_type": "code",
   "execution_count": 31,
   "metadata": {},
   "outputs": [
    {
     "name": "stdout",
     "output_type": "stream",
     "text": [
      "Found 1607 images belonging to 2 classes.\n",
      "Found 363 images belonging to 2 classes.\n"
     ]
    },
    {
     "name": "stderr",
     "output_type": "stream",
     "text": [
      "/home/olszewskip/anaconda3/lib/python3.6/site-packages/ipykernel_launcher.py:34: UserWarning: The semantics of the Keras 2 argument `steps_per_epoch` is not the same as the Keras 1 argument `samples_per_epoch`. `steps_per_epoch` is the number of batches to draw from the generator at each epoch. Basically steps_per_epoch = samples_per_epoch/batch_size. Similarly `nb_val_samples`->`validation_steps` and `val_samples`->`steps` arguments have changed. Update your method calls accordingly.\n",
      "/home/olszewskip/anaconda3/lib/python3.6/site-packages/ipykernel_launcher.py:34: UserWarning: Update your `fit_generator` call to the Keras 2 API: `fit_generator(<keras_pre..., epochs=50, validation_data=<keras_pre..., steps_per_epoch=125, validation_steps=800)`\n"
     ]
    },
    {
     "ename": "RuntimeError",
     "evalue": "You must compile your model before using it.",
     "output_type": "error",
     "traceback": [
      "\u001b[0;31m----------------------------------------------------------------------\u001b[0m",
      "\u001b[0;31mRuntimeError\u001b[0m                         Traceback (most recent call last)",
      "\u001b[0;32m<ipython-input-31-0da077206326>\u001b[0m in \u001b[0;36m<module>\u001b[0;34m\u001b[0m\n\u001b[1;32m     32\u001b[0m     \u001b[0mepochs\u001b[0m\u001b[0;34m=\u001b[0m\u001b[0mepochs\u001b[0m\u001b[0;34m,\u001b[0m\u001b[0;34m\u001b[0m\u001b[0m\n\u001b[1;32m     33\u001b[0m     \u001b[0mvalidation_data\u001b[0m\u001b[0;34m=\u001b[0m\u001b[0mvalidation_generator\u001b[0m\u001b[0;34m,\u001b[0m\u001b[0;34m\u001b[0m\u001b[0m\n\u001b[0;32m---> 34\u001b[0;31m nb_val_samples=nb_validation_samples)\n\u001b[0m",
      "\u001b[0;32m~/anaconda3/lib/python3.6/site-packages/keras/legacy/interfaces.py\u001b[0m in \u001b[0;36mwrapper\u001b[0;34m(*args, **kwargs)\u001b[0m\n\u001b[1;32m     89\u001b[0m                 warnings.warn('Update your `' + object_name + '` call to the ' +\n\u001b[1;32m     90\u001b[0m                               'Keras 2 API: ' + signature, stacklevel=2)\n\u001b[0;32m---> 91\u001b[0;31m             \u001b[0;32mreturn\u001b[0m \u001b[0mfunc\u001b[0m\u001b[0;34m(\u001b[0m\u001b[0;34m*\u001b[0m\u001b[0margs\u001b[0m\u001b[0;34m,\u001b[0m \u001b[0;34m**\u001b[0m\u001b[0mkwargs\u001b[0m\u001b[0;34m)\u001b[0m\u001b[0;34m\u001b[0m\u001b[0m\n\u001b[0m\u001b[1;32m     92\u001b[0m         \u001b[0mwrapper\u001b[0m\u001b[0;34m.\u001b[0m\u001b[0m_original_function\u001b[0m \u001b[0;34m=\u001b[0m \u001b[0mfunc\u001b[0m\u001b[0;34m\u001b[0m\u001b[0m\n\u001b[1;32m     93\u001b[0m         \u001b[0;32mreturn\u001b[0m \u001b[0mwrapper\u001b[0m\u001b[0;34m\u001b[0m\u001b[0m\n",
      "\u001b[0;32m~/anaconda3/lib/python3.6/site-packages/keras/engine/training.py\u001b[0m in \u001b[0;36mfit_generator\u001b[0;34m(self, generator, steps_per_epoch, epochs, verbose, callbacks, validation_data, validation_steps, class_weight, max_queue_size, workers, use_multiprocessing, shuffle, initial_epoch)\u001b[0m\n\u001b[1;32m   1416\u001b[0m             \u001b[0muse_multiprocessing\u001b[0m\u001b[0;34m=\u001b[0m\u001b[0muse_multiprocessing\u001b[0m\u001b[0;34m,\u001b[0m\u001b[0;34m\u001b[0m\u001b[0m\n\u001b[1;32m   1417\u001b[0m             \u001b[0mshuffle\u001b[0m\u001b[0;34m=\u001b[0m\u001b[0mshuffle\u001b[0m\u001b[0;34m,\u001b[0m\u001b[0;34m\u001b[0m\u001b[0m\n\u001b[0;32m-> 1418\u001b[0;31m             initial_epoch=initial_epoch)\n\u001b[0m\u001b[1;32m   1419\u001b[0m \u001b[0;34m\u001b[0m\u001b[0m\n\u001b[1;32m   1420\u001b[0m     \u001b[0;34m@\u001b[0m\u001b[0minterfaces\u001b[0m\u001b[0;34m.\u001b[0m\u001b[0mlegacy_generator_methods_support\u001b[0m\u001b[0;34m\u001b[0m\u001b[0m\n",
      "\u001b[0;32m~/anaconda3/lib/python3.6/site-packages/keras/engine/training_generator.py\u001b[0m in \u001b[0;36mfit_generator\u001b[0;34m(model, generator, steps_per_epoch, epochs, verbose, callbacks, validation_data, validation_steps, class_weight, max_queue_size, workers, use_multiprocessing, shuffle, initial_epoch)\u001b[0m\n\u001b[1;32m     38\u001b[0m \u001b[0;34m\u001b[0m\u001b[0m\n\u001b[1;32m     39\u001b[0m     \u001b[0mdo_validation\u001b[0m \u001b[0;34m=\u001b[0m \u001b[0mbool\u001b[0m\u001b[0;34m(\u001b[0m\u001b[0mvalidation_data\u001b[0m\u001b[0;34m)\u001b[0m\u001b[0;34m\u001b[0m\u001b[0m\n\u001b[0;32m---> 40\u001b[0;31m     \u001b[0mmodel\u001b[0m\u001b[0;34m.\u001b[0m\u001b[0m_make_train_function\u001b[0m\u001b[0;34m(\u001b[0m\u001b[0;34m)\u001b[0m\u001b[0;34m\u001b[0m\u001b[0m\n\u001b[0m\u001b[1;32m     41\u001b[0m     \u001b[0;32mif\u001b[0m \u001b[0mdo_validation\u001b[0m\u001b[0;34m:\u001b[0m\u001b[0;34m\u001b[0m\u001b[0m\n\u001b[1;32m     42\u001b[0m         \u001b[0mmodel\u001b[0m\u001b[0;34m.\u001b[0m\u001b[0m_make_test_function\u001b[0m\u001b[0;34m(\u001b[0m\u001b[0;34m)\u001b[0m\u001b[0;34m\u001b[0m\u001b[0m\n",
      "\u001b[0;32m~/anaconda3/lib/python3.6/site-packages/keras/engine/training.py\u001b[0m in \u001b[0;36m_make_train_function\u001b[0;34m(self)\u001b[0m\n\u001b[1;32m    494\u001b[0m     \u001b[0;32mdef\u001b[0m \u001b[0m_make_train_function\u001b[0m\u001b[0;34m(\u001b[0m\u001b[0mself\u001b[0m\u001b[0;34m)\u001b[0m\u001b[0;34m:\u001b[0m\u001b[0;34m\u001b[0m\u001b[0m\n\u001b[1;32m    495\u001b[0m         \u001b[0;32mif\u001b[0m \u001b[0;32mnot\u001b[0m \u001b[0mhasattr\u001b[0m\u001b[0;34m(\u001b[0m\u001b[0mself\u001b[0m\u001b[0;34m,\u001b[0m \u001b[0;34m'train_function'\u001b[0m\u001b[0;34m)\u001b[0m\u001b[0;34m:\u001b[0m\u001b[0;34m\u001b[0m\u001b[0m\n\u001b[0;32m--> 496\u001b[0;31m             \u001b[0;32mraise\u001b[0m \u001b[0mRuntimeError\u001b[0m\u001b[0;34m(\u001b[0m\u001b[0;34m'You must compile your model before using it.'\u001b[0m\u001b[0;34m)\u001b[0m\u001b[0;34m\u001b[0m\u001b[0m\n\u001b[0m\u001b[1;32m    497\u001b[0m         \u001b[0mself\u001b[0m\u001b[0;34m.\u001b[0m\u001b[0m_check_trainable_weights_consistency\u001b[0m\u001b[0;34m(\u001b[0m\u001b[0;34m)\u001b[0m\u001b[0;34m\u001b[0m\u001b[0m\n\u001b[1;32m    498\u001b[0m         \u001b[0;32mif\u001b[0m \u001b[0mself\u001b[0m\u001b[0;34m.\u001b[0m\u001b[0mtrain_function\u001b[0m \u001b[0;32mis\u001b[0m \u001b[0;32mNone\u001b[0m\u001b[0;34m:\u001b[0m\u001b[0;34m\u001b[0m\u001b[0m\n",
      "\u001b[0;31mRuntimeError\u001b[0m: You must compile your model before using it."
     ]
    }
   ],
   "source": [
    "# compile the model with a SGD/momentum optimizer\n",
    "# and a very slow learning rate.\n",
    "model_transfer.compile(loss='binary_crossentropy',\n",
    "              optimizer=optimizers.SGD(lr=1e-4, momentum=0.9),\n",
    "              metrics=['accuracy'])\n",
    "\n",
    "# prepare data augmentation configuration\n",
    "train_datagen = ImageDataGenerator(\n",
    "    rescale=1./ 255,\n",
    "    shear_range=0.2,\n",
    "    zoom_range=0.2,\n",
    "    horizontal_flip=True)\n",
    "\n",
    "test_datagen = ImageDataGenerator(rescale=1./ 255)\n",
    "\n",
    "train_generator = train_datagen.flow_from_directory(\n",
    "    train_data_dir,\n",
    "    target_size=(img_height, img_width),\n",
    "    batch_size=batch_size,\n",
    "    class_mode='binary')\n",
    "\n",
    "validation_generator = test_datagen.flow_from_directory(\n",
    "    validation_data_dir,\n",
    "    target_size=(img_height, img_width),\n",
    "    batch_size=batch_size,\n",
    "    class_mode='binary')\n",
    "\n",
    "# fine-tune the model\n",
    "model.fit_generator(\n",
    "    train_generator,\n",
    "    samples_per_epoch=nb_train_samples,\n",
    "    epochs=epochs,\n",
    "    validation_data=validation_generator,\n",
    "nb_val_samples=nb_validation_samples)\n"
   ]
  },
  {
   "cell_type": "code",
   "execution_count": 21,
   "metadata": {},
   "outputs": [
    {
     "name": "stdout",
     "output_type": "stream",
     "text": [
      "_________________________________________________________________\n",
      "Layer (type)                 Output Shape              Param #   \n",
      "=================================================================\n",
      "vgg16 (Model)                (None, 4, 4, 512)         14714688  \n",
      "_________________________________________________________________\n",
      "sequential_10 (Sequential)   (None, 1)                 2097665   \n",
      "=================================================================\n",
      "Total params: 16,812,353\n",
      "Trainable params: 2,097,665\n",
      "Non-trainable params: 14,714,688\n",
      "_________________________________________________________________\n"
     ]
    }
   ],
   "source": [
    "h,w = 150, 150\n",
    "\n",
    "model = VGG16(weights='imagenet',include_top=False,input_shape=(h,w,3))\n",
    "\n",
    "\n",
    "\n",
    "top_model = Sequential()\n",
    "top_model.add(Flatten(input_shape=model.output_shape[1:]))\n",
    "top_model.add(Dense(256, activation='relu'))\n",
    "top_model.add(Dense(1, activation='sigmoid'))\n",
    "\n",
    "model_transfer = Sequential()\n",
    "model_transfer.add(model)\n",
    "model_transfer.add(top_model)\n",
    "\n",
    "model_transfer.layers[0].trainable = False\n",
    "\n",
    "model_transfer.summary()"
   ]
  },
  {
   "cell_type": "markdown",
   "metadata": {},
   "source": [
    "---"
   ]
  },
  {
   "cell_type": "markdown",
   "metadata": {},
   "source": [
    "### twarze"
   ]
  },
  {
   "cell_type": "code",
   "execution_count": 54,
   "metadata": {},
   "outputs": [
    {
     "name": "stdout",
     "output_type": "stream",
     "text": [
      "_________________________________________________________________\n",
      "Layer (type)                 Output Shape              Param #   \n",
      "=================================================================\n",
      "flatten_13 (Flatten)         (None, 1850)              0         \n",
      "_________________________________________________________________\n",
      "dense_24 (Dense)             (None, 100)               185100    \n",
      "_________________________________________________________________\n",
      "dense_25 (Dense)             (None, 7)                 707       \n",
      "=================================================================\n",
      "Total params: 185,807\n",
      "Trainable params: 185,807\n",
      "Non-trainable params: 0\n",
      "_________________________________________________________________\n",
      "None\n",
      "Train on 579 samples, validate on 193 samples\n",
      "Epoch 1/100\n",
      "579/579 [==============================] - 1s 1ms/step - loss: 2.0738 - acc: 0.3333 - val_loss: 1.6483 - val_acc: 0.4301\n",
      "Epoch 2/100\n",
      "579/579 [==============================] - 0s 306us/step - loss: 1.6614 - acc: 0.3972 - val_loss: 1.7051 - val_acc: 0.2694\n",
      "Epoch 3/100\n",
      "579/579 [==============================] - 0s 286us/step - loss: 1.6241 - acc: 0.4283 - val_loss: 1.5589 - val_acc: 0.4352\n",
      "Epoch 4/100\n",
      "579/579 [==============================] - 0s 264us/step - loss: 1.5428 - acc: 0.4456 - val_loss: 1.5021 - val_acc: 0.5181\n",
      "Epoch 5/100\n",
      "579/579 [==============================] - 0s 347us/step - loss: 1.5214 - acc: 0.4404 - val_loss: 1.4795 - val_acc: 0.5233\n",
      "Epoch 6/100\n",
      "579/579 [==============================] - 0s 311us/step - loss: 1.4708 - acc: 0.4870 - val_loss: 1.4219 - val_acc: 0.4974\n",
      "Epoch 7/100\n",
      "579/579 [==============================] - 0s 311us/step - loss: 1.4316 - acc: 0.5199 - val_loss: 1.4621 - val_acc: 0.5337\n",
      "Epoch 8/100\n",
      "579/579 [==============================] - 0s 381us/step - loss: 1.3612 - acc: 0.5250 - val_loss: 1.3214 - val_acc: 0.5596\n",
      "Epoch 9/100\n",
      "579/579 [==============================] - 0s 349us/step - loss: 1.3104 - acc: 0.5423 - val_loss: 1.3707 - val_acc: 0.5078\n",
      "Epoch 10/100\n",
      "579/579 [==============================] - 0s 334us/step - loss: 1.3552 - acc: 0.4991 - val_loss: 1.3376 - val_acc: 0.5078\n",
      "Epoch 11/100\n",
      "579/579 [==============================] - 0s 377us/step - loss: 1.2599 - acc: 0.5872 - val_loss: 1.2616 - val_acc: 0.5648\n",
      "Epoch 12/100\n",
      "579/579 [==============================] - 0s 354us/step - loss: 1.2167 - acc: 0.5699 - val_loss: 1.2197 - val_acc: 0.5492\n",
      "Epoch 13/100\n",
      "579/579 [==============================] - 0s 312us/step - loss: 1.2081 - acc: 0.5838 - val_loss: 1.2531 - val_acc: 0.5803\n",
      "Epoch 14/100\n",
      "579/579 [==============================] - 0s 294us/step - loss: 1.1944 - acc: 0.5855 - val_loss: 1.1759 - val_acc: 0.5855\n",
      "Epoch 15/100\n",
      "579/579 [==============================] - 0s 300us/step - loss: 1.1329 - acc: 0.5959 - val_loss: 1.3889 - val_acc: 0.5492\n",
      "Epoch 16/100\n",
      "579/579 [==============================] - 0s 405us/step - loss: 1.2289 - acc: 0.5423 - val_loss: 1.1628 - val_acc: 0.6062\n",
      "Epoch 17/100\n",
      "579/579 [==============================] - 0s 368us/step - loss: 1.1072 - acc: 0.5959 - val_loss: 1.1766 - val_acc: 0.5959\n",
      "Epoch 18/100\n",
      "579/579 [==============================] - ETA: 0s - loss: 1.0621 - acc: 0.649 - 0s 278us/step - loss: 1.0644 - acc: 0.6304 - val_loss: 1.2146 - val_acc: 0.5492\n",
      "Epoch 19/100\n",
      "579/579 [==============================] - 0s 287us/step - loss: 1.1419 - acc: 0.5838 - val_loss: 1.1336 - val_acc: 0.5648\n",
      "Epoch 20/100\n",
      "579/579 [==============================] - 0s 379us/step - loss: 1.1702 - acc: 0.5630 - val_loss: 1.1075 - val_acc: 0.6839\n",
      "Epoch 21/100\n",
      "579/579 [==============================] - 0s 373us/step - loss: 1.0025 - acc: 0.6718 - val_loss: 1.1007 - val_acc: 0.5959\n",
      "Epoch 22/100\n",
      "579/579 [==============================] - 0s 365us/step - loss: 0.9674 - acc: 0.6649 - val_loss: 1.0929 - val_acc: 0.6166\n",
      "Epoch 23/100\n",
      "579/579 [==============================] - 0s 387us/step - loss: 0.9946 - acc: 0.6459 - val_loss: 1.1746 - val_acc: 0.6218\n",
      "Epoch 24/100\n",
      "579/579 [==============================] - 0s 406us/step - loss: 0.9541 - acc: 0.6926 - val_loss: 1.0689 - val_acc: 0.6425\n",
      "Epoch 25/100\n",
      "579/579 [==============================] - 0s 411us/step - loss: 0.9120 - acc: 0.6839 - val_loss: 1.0601 - val_acc: 0.6218\n",
      "Epoch 26/100\n",
      "579/579 [==============================] - 0s 396us/step - loss: 0.8913 - acc: 0.7133 - val_loss: 1.0622 - val_acc: 0.6114\n",
      "Epoch 27/100\n",
      "579/579 [==============================] - 0s 389us/step - loss: 0.8772 - acc: 0.6978 - val_loss: 1.0315 - val_acc: 0.6114\n",
      "Epoch 28/100\n",
      "579/579 [==============================] - 0s 385us/step - loss: 0.8914 - acc: 0.7012 - val_loss: 1.2366 - val_acc: 0.5440\n",
      "Epoch 29/100\n",
      "579/579 [==============================] - 0s 379us/step - loss: 0.8953 - acc: 0.6943 - val_loss: 1.0262 - val_acc: 0.6580\n",
      "Epoch 30/100\n",
      "579/579 [==============================] - 0s 329us/step - loss: 0.8690 - acc: 0.6995 - val_loss: 0.9566 - val_acc: 0.6684\n",
      "Epoch 31/100\n",
      "579/579 [==============================] - 0s 318us/step - loss: 0.7849 - acc: 0.7375 - val_loss: 0.9252 - val_acc: 0.7047\n",
      "Epoch 32/100\n",
      "579/579 [==============================] - 0s 292us/step - loss: 0.7681 - acc: 0.7634 - val_loss: 0.9393 - val_acc: 0.6632\n",
      "Epoch 33/100\n",
      "579/579 [==============================] - 0s 262us/step - loss: 0.8087 - acc: 0.7340 - val_loss: 0.9373 - val_acc: 0.6684\n",
      "Epoch 34/100\n",
      "579/579 [==============================] - 0s 285us/step - loss: 0.7594 - acc: 0.7582 - val_loss: 0.9100 - val_acc: 0.7047\n",
      "Epoch 35/100\n",
      "579/579 [==============================] - 0s 266us/step - loss: 0.7420 - acc: 0.7686 - val_loss: 0.9199 - val_acc: 0.6528\n",
      "Epoch 36/100\n",
      "579/579 [==============================] - 0s 278us/step - loss: 0.7087 - acc: 0.7858 - val_loss: 0.9171 - val_acc: 0.6736\n",
      "Epoch 37/100\n",
      "579/579 [==============================] - 0s 261us/step - loss: 0.6967 - acc: 0.7841 - val_loss: 0.9125 - val_acc: 0.6943\n",
      "516/516 [==============================] - 0s 95us/step\n"
     ]
    },
    {
     "data": {
      "text/plain": [
       "[0.8711593077164288, 0.7015503875968992]"
      ]
     },
     "execution_count": 54,
     "metadata": {},
     "output_type": "execute_result"
    }
   ],
   "source": [
    "model = Sequential()\n",
    "model.add(Flatten( input_shape = X_train.shape[1:] ))\n",
    "model.add(Dense(100, activation=\"relu\"))\n",
    "model.add(Dense(n_classes, activation=\"softmax\"))\n",
    "print(model.summary())\n",
    "\n",
    "early_stopping = EarlyStopping(patience=3, monitor=\"val_loss\")\n",
    "\n",
    "model.compile(loss=\"categorical_crossentropy\", optimizer=\"adam\", metrics=[\"accuracy\"])\n",
    "model.fit(X_train, y_train, validation_split=0.25, epochs=100, callbacks=[early_stopping])\n",
    "model.evaluate(X_test, y_test)"
   ]
  },
  {
   "cell_type": "code",
   "execution_count": null,
   "metadata": {},
   "outputs": [],
   "source": [
    "# graph API"
   ]
  },
  {
   "cell_type": "code",
   "execution_count": 56,
   "metadata": {},
   "outputs": [],
   "source": [
    "from keras.models import Model\n",
    "from keras.layers import Input"
   ]
  },
  {
   "cell_type": "code",
   "execution_count": 58,
   "metadata": {},
   "outputs": [
    {
     "name": "stdout",
     "output_type": "stream",
     "text": [
      "_________________________________________________________________\n",
      "Layer (type)                 Output Shape              Param #   \n",
      "=================================================================\n",
      "input_16 (InputLayer)        (None, 50, 37, 1)         0         \n",
      "_________________________________________________________________\n",
      "flatten_15 (Flatten)         (None, 1850)              0         \n",
      "_________________________________________________________________\n",
      "dense_28 (Dense)             (None, 100)               185100    \n",
      "_________________________________________________________________\n",
      "dense_29 (Dense)             (None, 7)                 707       \n",
      "=================================================================\n",
      "Total params: 185,807\n",
      "Trainable params: 185,807\n",
      "Non-trainable params: 0\n",
      "_________________________________________________________________\n"
     ]
    }
   ],
   "source": [
    "input_data = Input(shape = X_train.shape[1:])\n",
    "flatten = Flatten()(input_data)\n",
    "dense = Dense(100, activation='relu')(flatten)\n",
    "classify = Dense(n_classes, activation='softmax')(dense)\n",
    "\n",
    "model = Model(inputs=input_data, outputs=classify)\n",
    "model.summary()"
   ]
  },
  {
   "cell_type": "code",
   "execution_count": 59,
   "metadata": {
    "scrolled": true
   },
   "outputs": [
    {
     "name": "stdout",
     "output_type": "stream",
     "text": [
      "Train on 579 samples, validate on 193 samples\n",
      "Epoch 1/100\n",
      "579/579 [==============================] - 1s 1ms/step - loss: 1.9402 - acc: 0.3851 - val_loss: 1.7134 - val_acc: 0.4456\n",
      "Epoch 2/100\n",
      "579/579 [==============================] - 0s 303us/step - loss: 1.6884 - acc: 0.4231 - val_loss: 1.5118 - val_acc: 0.4767\n",
      "Epoch 3/100\n",
      "579/579 [==============================] - 0s 275us/step - loss: 1.5870 - acc: 0.4456 - val_loss: 1.5539 - val_acc: 0.4352\n",
      "Epoch 4/100\n",
      "579/579 [==============================] - 0s 241us/step - loss: 1.4745 - acc: 0.4456 - val_loss: 1.4815 - val_acc: 0.4922\n",
      "Epoch 5/100\n",
      "579/579 [==============================] - 0s 257us/step - loss: 1.4372 - acc: 0.4629 - val_loss: 1.4628 - val_acc: 0.5181\n",
      "Epoch 6/100\n",
      "579/579 [==============================] - 0s 243us/step - loss: 1.4549 - acc: 0.4940 - val_loss: 1.3923 - val_acc: 0.5130\n",
      "Epoch 7/100\n",
      "579/579 [==============================] - 0s 258us/step - loss: 1.3449 - acc: 0.4888 - val_loss: 1.4609 - val_acc: 0.5337\n",
      "Epoch 8/100\n",
      "579/579 [==============================] - 0s 313us/step - loss: 1.3252 - acc: 0.5233 - val_loss: 1.4176 - val_acc: 0.5285\n",
      "Epoch 9/100\n",
      "579/579 [==============================] - 0s 400us/step - loss: 1.3424 - acc: 0.5112 - val_loss: 1.2674 - val_acc: 0.5699\n",
      "Epoch 10/100\n",
      "579/579 [==============================] - 0s 309us/step - loss: 1.1626 - acc: 0.6183 - val_loss: 1.2601 - val_acc: 0.5959\n",
      "Epoch 11/100\n",
      "579/579 [==============================] - 0s 279us/step - loss: 1.1358 - acc: 0.6252 - val_loss: 1.2652 - val_acc: 0.6114\n",
      "Epoch 12/100\n",
      "579/579 [==============================] - 0s 263us/step - loss: 1.1917 - acc: 0.5907 - val_loss: 1.3537 - val_acc: 0.5233\n",
      "Epoch 13/100\n",
      "579/579 [==============================] - 0s 286us/step - loss: 1.1187 - acc: 0.6200 - val_loss: 1.3345 - val_acc: 0.5699\n",
      "516/516 [==============================] - 0s 145us/step\n"
     ]
    },
    {
     "data": {
      "text/plain": [
       "[1.30296668803045, 0.563953488372093]"
      ]
     },
     "execution_count": 59,
     "metadata": {},
     "output_type": "execute_result"
    }
   ],
   "source": [
    "early_stopping = EarlyStopping(patience=3, monitor=\"val_loss\")\n",
    "\n",
    "model.compile(loss=\"categorical_crossentropy\", optimizer=\"adam\", metrics=[\"accuracy\"])\n",
    "model.fit(X_train, y_train, validation_split=0.25, epochs=100, callbacks=[early_stopping])\n",
    "model.evaluate(X_test, y_test)"
   ]
  },
  {
   "cell_type": "markdown",
   "metadata": {},
   "source": [
    "---"
   ]
  },
  {
   "cell_type": "code",
   "execution_count": 60,
   "metadata": {},
   "outputs": [],
   "source": [
    "from keras.layers import Concatenate"
   ]
  },
  {
   "cell_type": "code",
   "execution_count": 61,
   "metadata": {},
   "outputs": [
    {
     "name": "stdout",
     "output_type": "stream",
     "text": [
      "__________________________________________________________________________________________________\n",
      "Layer (type)                    Output Shape         Param #     Connected to                     \n",
      "==================================================================================================\n",
      "input_17 (InputLayer)           (None, 50, 37, 1)    0                                            \n",
      "__________________________________________________________________________________________________\n",
      "flatten_16 (Flatten)            (None, 1850)         0           input_17[0][0]                   \n",
      "__________________________________________________________________________________________________\n",
      "dense_30 (Dense)                (None, 10)           18510       flatten_16[0][0]                 \n",
      "__________________________________________________________________________________________________\n",
      "dense_32 (Dense)                (None, 10)           18510       flatten_16[0][0]                 \n",
      "__________________________________________________________________________________________________\n",
      "dense_31 (Dense)                (None, 10)           110         dense_30[0][0]                   \n",
      "__________________________________________________________________________________________________\n",
      "dense_33 (Dense)                (None, 10)           110         dense_32[0][0]                   \n",
      "__________________________________________________________________________________________________\n",
      "concatenate_1 (Concatenate)     (None, 20)           0           dense_31[0][0]                   \n",
      "                                                                 dense_33[0][0]                   \n",
      "__________________________________________________________________________________________________\n",
      "dense_34 (Dense)                (None, 50)           1050        concatenate_1[0][0]              \n",
      "__________________________________________________________________________________________________\n",
      "dense_35 (Dense)                (None, 7)            357         dense_34[0][0]                   \n",
      "==================================================================================================\n",
      "Total params: 38,647\n",
      "Trainable params: 38,647\n",
      "Non-trainable params: 0\n",
      "__________________________________________________________________________________________________\n"
     ]
    }
   ],
   "source": [
    "input_data = Input(shape = X_train.shape[1:])\n",
    "flatten = Flatten()(input_data)\n",
    "branch1_dense = Dense(10, activation='relu')(flatten)\n",
    "branch1_dense = Dense(10, activation='relu')(branch1_dense)\n",
    "\n",
    "branch2_dense = Dense(10, activation='relu')(flatten)\n",
    "branch2_dense = Dense(10, activation='relu')(branch2_dense)\n",
    "\n",
    "concat = Concatenate()([branch1_dense, branch2_dense])\n",
    "\n",
    "classify = Dense(50, activation='relu')(concat)\n",
    "classify = Dense(n_classes, activation='softmax')(classify)\n",
    "\n",
    "model = Model(inputs=input_data, outputs=classify)\n",
    "model.summary()"
   ]
  },
  {
   "cell_type": "code",
   "execution_count": 62,
   "metadata": {
    "scrolled": true
   },
   "outputs": [
    {
     "name": "stdout",
     "output_type": "stream",
     "text": [
      "Train on 579 samples, validate on 193 samples\n",
      "Epoch 1/100\n",
      "579/579 [==============================] - 1s 2ms/step - loss: 1.7805 - acc: 0.3541 - val_loss: 1.6735 - val_acc: 0.4301\n",
      "Epoch 2/100\n",
      "579/579 [==============================] - 0s 217us/step - loss: 1.7088 - acc: 0.4059 - val_loss: 1.6414 - val_acc: 0.4301\n",
      "Epoch 3/100\n",
      "579/579 [==============================] - 0s 218us/step - loss: 1.7051 - acc: 0.4059 - val_loss: 1.6195 - val_acc: 0.4301\n",
      "Epoch 4/100\n",
      "579/579 [==============================] - 0s 207us/step - loss: 1.6757 - acc: 0.4059 - val_loss: 1.6043 - val_acc: 0.4301\n",
      "Epoch 5/100\n",
      "579/579 [==============================] - 0s 193us/step - loss: 1.6606 - acc: 0.4059 - val_loss: 1.6083 - val_acc: 0.4301\n",
      "Epoch 6/100\n",
      "579/579 [==============================] - 0s 199us/step - loss: 1.6636 - acc: 0.4059 - val_loss: 1.6163 - val_acc: 0.4456\n",
      "Epoch 7/100\n",
      "579/579 [==============================] - 0s 207us/step - loss: 1.6374 - acc: 0.4180 - val_loss: 1.5709 - val_acc: 0.4301\n",
      "Epoch 8/100\n",
      "579/579 [==============================] - 0s 221us/step - loss: 1.6020 - acc: 0.4059 - val_loss: 1.5247 - val_acc: 0.4301\n",
      "Epoch 9/100\n",
      "579/579 [==============================] - 0s 264us/step - loss: 1.5815 - acc: 0.4249 - val_loss: 1.5357 - val_acc: 0.4301\n",
      "Epoch 10/100\n",
      "579/579 [==============================] - 0s 356us/step - loss: 1.5355 - acc: 0.4249 - val_loss: 1.4787 - val_acc: 0.4560\n",
      "Epoch 11/100\n",
      "579/579 [==============================] - 0s 283us/step - loss: 1.4964 - acc: 0.4370 - val_loss: 1.5438 - val_acc: 0.5078\n",
      "Epoch 12/100\n",
      "579/579 [==============================] - 0s 231us/step - loss: 1.4899 - acc: 0.4594 - val_loss: 1.4630 - val_acc: 0.4870\n",
      "Epoch 13/100\n",
      "579/579 [==============================] - 0s 258us/step - loss: 1.4313 - acc: 0.4715 - val_loss: 1.3878 - val_acc: 0.5181\n",
      "Epoch 14/100\n",
      "579/579 [==============================] - 0s 228us/step - loss: 1.3532 - acc: 0.5043 - val_loss: 1.3835 - val_acc: 0.5337\n",
      "Epoch 15/100\n",
      "579/579 [==============================] - 0s 242us/step - loss: 1.3762 - acc: 0.4698 - val_loss: 1.4641 - val_acc: 0.5078\n",
      "Epoch 16/100\n",
      "579/579 [==============================] - 0s 234us/step - loss: 1.3074 - acc: 0.5233 - val_loss: 1.3865 - val_acc: 0.5026\n",
      "Epoch 17/100\n",
      "579/579 [==============================] - 0s 313us/step - loss: 1.3026 - acc: 0.5164 - val_loss: 1.2995 - val_acc: 0.5337\n",
      "Epoch 18/100\n",
      "579/579 [==============================] - 0s 385us/step - loss: 1.2704 - acc: 0.5389 - val_loss: 1.3977 - val_acc: 0.5078\n",
      "Epoch 19/100\n",
      "579/579 [==============================] - 0s 303us/step - loss: 1.2445 - acc: 0.5509 - val_loss: 1.2480 - val_acc: 0.5544\n",
      "Epoch 20/100\n",
      "579/579 [==============================] - 0s 254us/step - loss: 1.1556 - acc: 0.5786 - val_loss: 1.2683 - val_acc: 0.5699\n",
      "Epoch 21/100\n",
      "579/579 [==============================] - 0s 214us/step - loss: 1.1229 - acc: 0.5907 - val_loss: 1.2191 - val_acc: 0.5803\n",
      "Epoch 22/100\n",
      "579/579 [==============================] - 0s 260us/step - loss: 1.0771 - acc: 0.6269 - val_loss: 1.2689 - val_acc: 0.5492\n",
      "Epoch 23/100\n",
      "579/579 [==============================] - 0s 283us/step - loss: 1.0552 - acc: 0.6045 - val_loss: 1.1976 - val_acc: 0.5699\n",
      "Epoch 24/100\n",
      "579/579 [==============================] - 0s 256us/step - loss: 1.0253 - acc: 0.6166 - val_loss: 1.1465 - val_acc: 0.5803\n",
      "Epoch 25/100\n",
      "579/579 [==============================] - 0s 310us/step - loss: 1.0158 - acc: 0.6131 - val_loss: 1.1370 - val_acc: 0.5699\n",
      "Epoch 26/100\n",
      "579/579 [==============================] - 0s 359us/step - loss: 0.9679 - acc: 0.6442 - val_loss: 1.0910 - val_acc: 0.6218\n",
      "Epoch 27/100\n",
      "579/579 [==============================] - 0s 255us/step - loss: 0.9371 - acc: 0.6701 - val_loss: 1.0640 - val_acc: 0.6425\n",
      "Epoch 28/100\n",
      "579/579 [==============================] - 0s 236us/step - loss: 0.9669 - acc: 0.6373 - val_loss: 1.1173 - val_acc: 0.6062\n",
      "Epoch 29/100\n",
      "579/579 [==============================] - 0s 250us/step - loss: 0.9176 - acc: 0.6649 - val_loss: 1.1064 - val_acc: 0.6166\n",
      "Epoch 30/100\n",
      "579/579 [==============================] - 0s 258us/step - loss: 0.9411 - acc: 0.6528 - val_loss: 1.4745 - val_acc: 0.4974\n",
      "516/516 [==============================] - 0s 134us/step\n"
     ]
    },
    {
     "data": {
      "text/plain": [
       "[1.3139830504276955, 0.5135658914728682]"
      ]
     },
     "execution_count": 62,
     "metadata": {},
     "output_type": "execute_result"
    }
   ],
   "source": [
    "early_stopping = EarlyStopping(patience=3, monitor=\"val_loss\")\n",
    "\n",
    "model.compile(loss=\"categorical_crossentropy\", optimizer=\"adam\", metrics=[\"accuracy\"])\n",
    "model.fit(X_train, y_train, validation_split=0.25, epochs=100, callbacks=[early_stopping])\n",
    "model.evaluate(X_test, y_test)"
   ]
  },
  {
   "cell_type": "markdown",
   "metadata": {},
   "source": [
    "---"
   ]
  },
  {
   "cell_type": "code",
   "execution_count": null,
   "metadata": {},
   "outputs": [],
   "source": [
    "obrazek = Input(shape=...)\n",
    "tekst = Input(...)\n",
    "...\n",
    "...\n",
    "output = Dense(1)\n",
    "\n",
    "model = Model(inputs=[obrazek, tekst], outputs=output)\n",
    "\n",
    "model.fit([obrazki_train, teksty_train], y_train)"
   ]
  },
  {
   "cell_type": "markdown",
   "metadata": {},
   "source": [
    "---"
   ]
  },
  {
   "cell_type": "code",
   "execution_count": 64,
   "metadata": {},
   "outputs": [],
   "source": [
    "h, w = 150, 150\n",
    "base_model = VGG16(weights='imagenet', include_top=False, input_shape=(h,w,3))"
   ]
  },
  {
   "cell_type": "code",
   "execution_count": 67,
   "metadata": {},
   "outputs": [
    {
     "data": {
      "text/plain": [
       "<tf.Tensor 'block2_pool_14/MaxPool:0' shape=(?, 37, 37, 128) dtype=float32>"
      ]
     },
     "execution_count": 67,
     "metadata": {},
     "output_type": "execute_result"
    }
   ],
   "source": [
    "base_model.layers[6].output"
   ]
  },
  {
   "cell_type": "code",
   "execution_count": 68,
   "metadata": {},
   "outputs": [
    {
     "name": "stdout",
     "output_type": "stream",
     "text": [
      "_________________________________________________________________\n",
      "Layer (type)                 Output Shape              Param #   \n",
      "=================================================================\n",
      "input_18 (InputLayer)        (None, 150, 150, 3)       0         \n",
      "_________________________________________________________________\n",
      "block1_conv1 (Conv2D)        (None, 150, 150, 64)      1792      \n",
      "_________________________________________________________________\n",
      "block1_conv2 (Conv2D)        (None, 150, 150, 64)      36928     \n",
      "_________________________________________________________________\n",
      "block1_pool (MaxPooling2D)   (None, 75, 75, 64)        0         \n",
      "_________________________________________________________________\n",
      "block2_conv1 (Conv2D)        (None, 75, 75, 128)       73856     \n",
      "_________________________________________________________________\n",
      "block2_conv2 (Conv2D)        (None, 75, 75, 128)       147584    \n",
      "_________________________________________________________________\n",
      "block2_pool (MaxPooling2D)   (None, 37, 37, 128)       0         \n",
      "_________________________________________________________________\n",
      "flatten_17 (Flatten)         (None, 175232)            0         \n",
      "_________________________________________________________________\n",
      "dense_36 (Dense)             (None, 50)                8761650   \n",
      "_________________________________________________________________\n",
      "dense_37 (Dense)             (None, 7)                 357       \n",
      "=================================================================\n",
      "Total params: 9,022,167\n",
      "Trainable params: 9,022,167\n",
      "Non-trainable params: 0\n",
      "_________________________________________________________________\n"
     ]
    }
   ],
   "source": [
    "wejscie = base_model.input\n",
    "\n",
    "cechy_vgg = base_model.layers[6].output\n",
    "\n",
    "classify = Flatten()(cechy_vgg)\n",
    "classify = Dense(50)(classify)\n",
    "output = Dense(n_classes, activation='softmax')(classify)\n",
    "\n",
    "model = Model(inputs = wejscie, outputs=output)\n",
    "model.summary()"
   ]
  },
  {
   "cell_type": "code",
   "execution_count": null,
   "metadata": {},
   "outputs": [],
   "source": []
  }
 ],
 "metadata": {
  "kernelspec": {
   "display_name": "Python 3",
   "language": "python",
   "name": "python3"
  },
  "language_info": {
   "codemirror_mode": {
    "name": "ipython",
    "version": 3
   },
   "file_extension": ".py",
   "mimetype": "text/x-python",
   "name": "python",
   "nbconvert_exporter": "python",
   "pygments_lexer": "ipython3",
   "version": "3.6.6"
  }
 },
 "nbformat": 4,
 "nbformat_minor": 2
}
