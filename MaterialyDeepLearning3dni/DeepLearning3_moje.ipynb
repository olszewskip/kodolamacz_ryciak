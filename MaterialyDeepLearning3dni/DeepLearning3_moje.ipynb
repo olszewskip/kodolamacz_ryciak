{
 "cells": [
  {
   "cell_type": "markdown",
   "metadata": {},
   "source": [
    "# Recurrent neural networks"
   ]
  },
  {
   "cell_type": "code",
   "execution_count": 1,
   "metadata": {},
   "outputs": [],
   "source": [
    "import csv\n",
    "import itertools\n",
    "import nltk\n",
    "import sys\n",
    "\n",
    "import numpy as np\n",
    "\n",
    "\n",
    "def softmax(x):\n",
    "    \"\"\"Compute softmax values for each sets of scores in x.\"\"\"\n",
    "    e_x = np.exp(x - np.max(x))\n",
    "    return e_x / e_x.sum()"
   ]
  },
  {
   "cell_type": "code",
   "execution_count": 2,
   "metadata": {},
   "outputs": [],
   "source": [
    "vocabulary_size = 75\n",
    "\n",
    "with open(\"Dane/kod.txt\") as f:\n",
    "    sentences = f.readlines()"
   ]
  },
  {
   "cell_type": "code",
   "execution_count": 3,
   "metadata": {},
   "outputs": [],
   "source": [
    "sentences = [s for s in sentences if s.strip() != '']"
   ]
  },
  {
   "cell_type": "code",
   "execution_count": 4,
   "metadata": {
    "scrolled": true
   },
   "outputs": [
    {
     "data": {
      "text/plain": [
       "['class RNNNumpy:\\n',\n",
       " '    def __init__(self, word_dim, hidden_dim=100, bptt_truncate=4):\\n',\n",
       " '        # Assign instance variables\\n',\n",
       " '        self.word_dim = word_dim\\n',\n",
       " '        self.hidden_dim = hidden_dim\\n',\n",
       " '        self.bptt_truncate = bptt_truncate\\n',\n",
       " '        # Randomly initialize the network parameters\\n',\n",
       " '        self.U = np.random.uniform(-np.sqrt(1./word_dim), np.sqrt(1./word_dim), (hidden_dim, word_dim))\\n',\n",
       " '        self.V = np.random.uniform(-np.sqrt(1./hidden_dim), np.sqrt(1./hidden_dim), (word_dim, hidden_dim))\\n',\n",
       " '        self.W = np.random.uniform(-np.sqrt(1./hidden_dim), np.sqrt(1./hidden_dim), (hidden_dim, hidden_dim))\\n']"
      ]
     },
     "execution_count": 4,
     "metadata": {},
     "output_type": "execute_result"
    }
   ],
   "source": [
    "sentences[:10]"
   ]
  },
  {
   "cell_type": "code",
   "execution_count": 5,
   "metadata": {},
   "outputs": [],
   "source": [
    "tokenized_sentences = [list(sent) for sent in sentences]"
   ]
  },
  {
   "cell_type": "code",
   "execution_count": 6,
   "metadata": {},
   "outputs": [
    {
     "data": {
      "text/plain": [
       "[['c',\n",
       "  'l',\n",
       "  'a',\n",
       "  's',\n",
       "  's',\n",
       "  ' ',\n",
       "  'R',\n",
       "  'N',\n",
       "  'N',\n",
       "  'N',\n",
       "  'u',\n",
       "  'm',\n",
       "  'p',\n",
       "  'y',\n",
       "  ':',\n",
       "  '\\n'],\n",
       " [' ',\n",
       "  ' ',\n",
       "  ' ',\n",
       "  ' ',\n",
       "  'd',\n",
       "  'e',\n",
       "  'f',\n",
       "  ' ',\n",
       "  '_',\n",
       "  '_',\n",
       "  'i',\n",
       "  'n',\n",
       "  'i',\n",
       "  't',\n",
       "  '_',\n",
       "  '_',\n",
       "  '(',\n",
       "  's',\n",
       "  'e',\n",
       "  'l',\n",
       "  'f',\n",
       "  ',',\n",
       "  ' ',\n",
       "  'w',\n",
       "  'o',\n",
       "  'r',\n",
       "  'd',\n",
       "  '_',\n",
       "  'd',\n",
       "  'i',\n",
       "  'm',\n",
       "  ',',\n",
       "  ' ',\n",
       "  'h',\n",
       "  'i',\n",
       "  'd',\n",
       "  'd',\n",
       "  'e',\n",
       "  'n',\n",
       "  '_',\n",
       "  'd',\n",
       "  'i',\n",
       "  'm',\n",
       "  '=',\n",
       "  '1',\n",
       "  '0',\n",
       "  '0',\n",
       "  ',',\n",
       "  ' ',\n",
       "  'b',\n",
       "  'p',\n",
       "  't',\n",
       "  't',\n",
       "  '_',\n",
       "  't',\n",
       "  'r',\n",
       "  'u',\n",
       "  'n',\n",
       "  'c',\n",
       "  'a',\n",
       "  't',\n",
       "  'e',\n",
       "  '=',\n",
       "  '4',\n",
       "  ')',\n",
       "  ':',\n",
       "  '\\n'],\n",
       " [' ',\n",
       "  ' ',\n",
       "  ' ',\n",
       "  ' ',\n",
       "  ' ',\n",
       "  ' ',\n",
       "  ' ',\n",
       "  ' ',\n",
       "  '#',\n",
       "  ' ',\n",
       "  'A',\n",
       "  's',\n",
       "  's',\n",
       "  'i',\n",
       "  'g',\n",
       "  'n',\n",
       "  ' ',\n",
       "  'i',\n",
       "  'n',\n",
       "  's',\n",
       "  't',\n",
       "  'a',\n",
       "  'n',\n",
       "  'c',\n",
       "  'e',\n",
       "  ' ',\n",
       "  'v',\n",
       "  'a',\n",
       "  'r',\n",
       "  'i',\n",
       "  'a',\n",
       "  'b',\n",
       "  'l',\n",
       "  'e',\n",
       "  's',\n",
       "  '\\n']]"
      ]
     },
     "execution_count": 6,
     "metadata": {},
     "output_type": "execute_result"
    }
   ],
   "source": [
    "tokenized_sentences[:3]"
   ]
  },
  {
   "cell_type": "code",
   "execution_count": 7,
   "metadata": {},
   "outputs": [
    {
     "name": "stdout",
     "output_type": "stream",
     "text": [
      "Using vocabulary size 75.\n",
      "\n",
      "Example sentence: 'class RNNNumpy:\n",
      "'\n",
      "\n",
      "Example sentence after Pre-processing: '['c', 'l', 'a', 's', 's', ' ', 'R', 'N', 'N', 'N', 'u', 'm', 'p', 'y', ':', '\\n']'\n",
      "[50, 59, 48, 66, 66, 1, 37, 34, 34, 34, 68, 60, 63, 72, 19]\n",
      "[59, 48, 66, 66, 1, 37, 34, 34, 34, 68, 60, 63, 72, 19, 0]\n"
     ]
    }
   ],
   "source": [
    "vocab = np.unique([item for sublist in tokenized_sentences for item in sublist]) \n",
    "index_to_word = [x[0] for x in vocab]\n",
    "\n",
    "word_to_index = dict([(w,i) for i,w in enumerate(index_to_word)])\n",
    " \n",
    "print( \"Using vocabulary size %d.\" % len(vocab))\n",
    "\n",
    "# Create the training data\n",
    "X_train = np.asarray([[word_to_index[w] for w in sent[:-1]] for sent in tokenized_sentences])\n",
    "y_train = np.asarray([[word_to_index[w] for w in sent[1:]] for sent in tokenized_sentences])\n",
    "\n",
    "\n",
    "print( \"\\nExample sentence: '%s'\" % sentences[0])\n",
    "print( \"\\nExample sentence after Pre-processing: '%s'\" % tokenized_sentences[0])\n",
    "print( X_train[0])\n",
    "print( y_train[0])"
   ]
  },
  {
   "cell_type": "code",
   "execution_count": 8,
   "metadata": {},
   "outputs": [
    {
     "data": {
      "text/plain": [
       "(150,)"
      ]
     },
     "execution_count": 8,
     "metadata": {},
     "output_type": "execute_result"
    }
   ],
   "source": [
    "X_train.shape"
   ]
  },
  {
   "cell_type": "code",
   "execution_count": 9,
   "metadata": {},
   "outputs": [],
   "source": [
    "class RNNNumpy:\n",
    "     \n",
    "    def __init__(self, word_dim, hidden_dim=100, bptt_truncate=4):\n",
    "        # Assign instance variables\n",
    "        self.word_dim = word_dim\n",
    "        self.hidden_dim = hidden_dim\n",
    "        self.bptt_truncate = bptt_truncate\n",
    "        # Randomly initialize the network parameters\n",
    "        self.U = np.random.uniform(-np.sqrt(1./word_dim), np.sqrt(1./word_dim), (hidden_dim, word_dim))\n",
    "        self.V = np.random.uniform(-np.sqrt(1./hidden_dim), np.sqrt(1./hidden_dim), (word_dim, hidden_dim))\n",
    "        self.W = np.random.uniform(-np.sqrt(1./hidden_dim), np.sqrt(1./hidden_dim), (hidden_dim, hidden_dim))\n",
    "\n"
   ]
  },
  {
   "cell_type": "code",
   "execution_count": 10,
   "metadata": {},
   "outputs": [],
   "source": [
    "def forward_propagation(self, x):\n",
    "    # The total number of time steps\n",
    "    T = len(x)\n",
    "    # During forward propagation we save all hidden states in s because need them later.\n",
    "    # We add one additional element for the initial hidden, which we set to 0\n",
    "    h = np.zeros((T + 1, self.hidden_dim))\n",
    "    h[-1] = np.zeros(self.hidden_dim)\n",
    "    # The outputs at each time step. Again, we save them for later.\n",
    "    o = np.zeros((T, self.word_dim))\n",
    "    # For each time step...\n",
    "    for t in np.arange(T):\n",
    "        # Note that we are indxing U by x[t]. This is the same as multiplying U with a one-hot vector.\n",
    "         \n",
    "        x_t =  np.eye(len(vocab))[x[t]] # Kodowanie one-hot. \n",
    "                                        # Formalnie rzecz biorac, x_t jest gotowym wektorem wprowadzanym do sieci,\n",
    "                                        # ale dla wygody tu przetwarzamy indeks na wektor\n",
    "        \n",
    "        h[t] = np.tanh(np.dot(self.U, x_t) + np.dot(self.W, h[t-1])) # obliczanie stanu ukrytego\n",
    "        o[t] = softmax(np.dot(self.V, h[t])) # predykcja dla x_t\n",
    "                                             # uwaga: w zalenosci od problemu bedzie nas interesowac \n",
    "                                             #        kazda predykcja lub tylko ostatnia\n",
    "        \n",
    "    return [o, h]\n",
    " \n",
    "RNNNumpy.forward_propagation = forward_propagation"
   ]
  },
  {
   "cell_type": "code",
   "execution_count": 11,
   "metadata": {},
   "outputs": [],
   "source": [
    "def predict(self, x):\n",
    "    # Perform forward propagation and return index of the highest score\n",
    "    o, s = self.forward_propagation(x)\n",
    "    return np.argmax(o, axis=1)\n",
    " \n",
    "RNNNumpy.predict = predict"
   ]
  },
  {
   "cell_type": "code",
   "execution_count": 12,
   "metadata": {
    "scrolled": true
   },
   "outputs": [
    {
     "data": {
      "text/plain": [
       "[51,\n",
       " 52,\n",
       " 53,\n",
       " 1,\n",
       " 53,\n",
       " 62,\n",
       " 65,\n",
       " 70,\n",
       " 48,\n",
       " 65,\n",
       " 51,\n",
       " 47,\n",
       " 63,\n",
       " 65,\n",
       " 62,\n",
       " 63,\n",
       " 48,\n",
       " 54,\n",
       " 48,\n",
       " 67,\n",
       " 56,\n",
       " 62,\n",
       " 61,\n",
       " 6,\n",
       " 66,\n",
       " 52,\n",
       " 59,\n",
       " 53,\n",
       " 10,\n",
       " 1,\n",
       " 71,\n",
       " 7,\n",
       " 19]"
      ]
     },
     "execution_count": 12,
     "metadata": {},
     "output_type": "execute_result"
    }
   ],
   "source": [
    "X_train[10]"
   ]
  },
  {
   "cell_type": "code",
   "execution_count": 13,
   "metadata": {
    "scrolled": true
   },
   "outputs": [
    {
     "name": "stdout",
     "output_type": "stream",
     "text": [
      "(33, 75)\n",
      "[[0.0137885  0.01259464 0.01312937 ... 0.0121929  0.01291467 0.01447739]\n",
      " [0.01307076 0.01411536 0.01411408 ... 0.01378971 0.01418804 0.01405048]\n",
      " [0.01281134 0.01272381 0.01326489 ... 0.01275765 0.01318253 0.01373512]\n",
      " ...\n",
      " [0.01314944 0.01428113 0.01362903 ... 0.01324931 0.0143878  0.01310582]\n",
      " [0.013139   0.01351207 0.0123365  ... 0.01295007 0.01473019 0.0127632 ]\n",
      " [0.01313058 0.01459512 0.01356838 ... 0.01243141 0.01246906 0.01237279]]\n"
     ]
    }
   ],
   "source": [
    "# Test:\n",
    "\n",
    "np.random.seed(10)\n",
    "model = RNNNumpy(vocabulary_size)\n",
    "o, s = model.forward_propagation(X_train[10])\n",
    "print(o.shape)\n",
    "print(o)"
   ]
  },
  {
   "cell_type": "code",
   "execution_count": 14,
   "metadata": {},
   "outputs": [
    {
     "name": "stdout",
     "output_type": "stream",
     "text": [
      "(33,)\n",
      "[58 68  5 56 45 67 11 42 69 11 26 48 58 11 53  1 68 15 69 52 20 24 46 27\n",
      " 34 21 24  5 57 56 69 73 49]\n"
     ]
    }
   ],
   "source": [
    "predictions = model.predict(X_train[10])\n",
    "print(predictions.shape)\n",
    "print(predictions)"
   ]
  },
  {
   "cell_type": "code",
   "execution_count": 15,
   "metadata": {},
   "outputs": [],
   "source": [
    "def calculate_total_loss(self, x, y):\n",
    "    L = 0\n",
    "    # For each sentence...\n",
    "    for i in np.arange(len(y)):\n",
    "        o, s = self.forward_propagation(x[i])\n",
    "        # We only care about our prediction of the \"correct\" words\n",
    "        correct_word_predictions = o[np.arange(len(y[i])), y[i]]\n",
    "        # Add to the loss based on how off we were\n",
    "        L += -1 * np.sum(np.log(correct_word_predictions))\n",
    "    return L\n",
    " \n",
    "def calculate_loss(self, x, y):\n",
    "    # Divide the total loss by the number of training examples\n",
    "    N = np.sum((len(y_i) for y_i in y))\n",
    "    return self.calculate_total_loss(x,y)/N\n",
    "\n",
    "RNNNumpy.calculate_total_loss = calculate_total_loss\n",
    "RNNNumpy.calculate_loss = calculate_loss"
   ]
  },
  {
   "cell_type": "code",
   "execution_count": 16,
   "metadata": {},
   "outputs": [
    {
     "name": "stdout",
     "output_type": "stream",
     "text": [
      "Loss for random predictions: 4.317488\n"
     ]
    },
    {
     "name": "stderr",
     "output_type": "stream",
     "text": [
      "/home/olszewskip/anaconda3/lib/python3.6/site-packages/ipykernel_launcher.py:14: DeprecationWarning: Calling np.sum(generator) is deprecated, and in the future will give a different result. Use np.sum(np.from_iter(generator)) or the python sum builtin instead.\n",
      "  \n"
     ]
    },
    {
     "name": "stdout",
     "output_type": "stream",
     "text": [
      "Actual loss: 4.324395\n"
     ]
    }
   ],
   "source": [
    "# Limit to 1000 examples to save time\n",
    "print(\"Loss for random predictions: %f\" % np.log(vocabulary_size))\n",
    "print(\"Actual loss: %f\" % model.calculate_loss(X_train[:1000], y_train[:1000]))"
   ]
  },
  {
   "cell_type": "code",
   "execution_count": 17,
   "metadata": {},
   "outputs": [],
   "source": [
    "def bptt(self, x, y):\n",
    "    T = len(y)\n",
    "    # Perform forward propagation\n",
    "    o, s = self.forward_propagation(x)\n",
    "    \n",
    "    # We accumulate the gradients in these variables\n",
    "    dLdU = np.zeros(self.U.shape)\n",
    "    dLdV = np.zeros(self.V.shape)\n",
    "    dLdW = np.zeros(self.W.shape)\n",
    "    delta_o = o\n",
    "    delta_o[np.arange(len(y)), y] -= 1.\n",
    "    \n",
    "    # For each output backwards...\n",
    "    for t in np.arange(T)[::-1]:\n",
    "        dLdV += np.outer(delta_o[t], s[t].T)\n",
    "        # Initial delta calculation\n",
    "        delta_t = self.V.T.dot(delta_o[t]) * (1 - (s[t] ** 2))\n",
    "        # Backpropagation through time (for at most self.bptt_truncate steps)\n",
    "        for bptt_step in np.arange(max(0, t-self.bptt_truncate), t+1)[::-1]:\n",
    "            # print \"Backpropagation step t=%d bptt step=%d \" % (t, bptt_step)\n",
    "            dLdW += np.outer(delta_t, s[bptt_step-1])              \n",
    "            dLdU[:,x[bptt_step]] += delta_t\n",
    "            # Update delta for next step\n",
    "            delta_t = self.W.T.dot(delta_t) * (1 - s[bptt_step-1] ** 2)\n",
    "    return [dLdU, dLdV, dLdW]\n",
    " \n",
    "RNNNumpy.bptt = bptt"
   ]
  },
  {
   "cell_type": "code",
   "execution_count": 18,
   "metadata": {},
   "outputs": [
    {
     "name": "stdout",
     "output_type": "stream",
     "text": [
      "13.9 ms ± 1.46 ms per loop (mean ± std. dev. of 7 runs, 100 loops each)\n"
     ]
    }
   ],
   "source": [
    "import datetime\n",
    "import time\n",
    "\n",
    "# Performs one step of SGD.\n",
    "def numpy_sdg_step(self, x, y, learning_rate):\n",
    "    # Calculate the gradients\n",
    "    dLdU, dLdV, dLdW = self.bptt(x, y)\n",
    "    # Change parameters according to gradients and learning rate\n",
    "    self.U -= learning_rate * dLdU\n",
    "    self.V -= learning_rate * dLdV\n",
    "    self.W -= learning_rate * dLdW\n",
    " \n",
    "RNNNumpy.sgd_step = numpy_sdg_step\n",
    "# Outer SGD Loop\n",
    "# - model: The RNN model instance\n",
    "# - X_train: The training data set\n",
    "# - y_train: The training data labels\n",
    "# - learning_rate: Initial learning rate for SGD\n",
    "# - nepoch: Number of times to iterate through the complete dataset\n",
    "# - evaluate_loss_after: Evaluate the loss after this many epochs\n",
    "def train_with_sgd(self, X_train, y_train, learning_rate=0.005, nepoch=100, evaluate_loss_after=5):\n",
    "    # We keep track of the losses so we can plot them later\n",
    "    losses = []\n",
    "    num_examples_seen = 0\n",
    "    for epoch in range(nepoch):\n",
    "        # Optionally evaluate the loss\n",
    "        if (epoch % evaluate_loss_after == 0):\n",
    "            loss = model.calculate_loss(X_train, y_train)\n",
    "            losses.append((num_examples_seen, loss))\n",
    "            \n",
    "            # Adjust the learning rate if loss increases\n",
    "            if (len(losses) > 1 and losses[-1][1] > losses[-2][1]):\n",
    "                learning_rate = learning_rate * 0.5 \n",
    "                print(\"Setting learning rate to %f\" % learning_rate)\n",
    "            sys.stdout.flush()\n",
    "        # For each training example...\n",
    "        for i in range(len(y_train)):\n",
    "            # One SGD step\n",
    "            self.sgd_step(X_train[i], y_train[i], learning_rate)\n",
    "            num_examples_seen += 1\n",
    "    return(losses)\n",
    "\n",
    "RNNNumpy.train_with_sgd = train_with_sgd\n",
    "            \n",
    "np.random.seed(10)\n",
    "model = RNNNumpy(vocabulary_size)\n",
    "%timeit model.sgd_step(X_train[10], y_train[10], 0.005)"
   ]
  },
  {
   "cell_type": "code",
   "execution_count": 19,
   "metadata": {},
   "outputs": [
    {
     "name": "stderr",
     "output_type": "stream",
     "text": [
      "/home/olszewskip/anaconda3/lib/python3.6/site-packages/ipykernel_launcher.py:14: DeprecationWarning: Calling np.sum(generator) is deprecated, and in the future will give a different result. Use np.sum(np.from_iter(generator)) or the python sum builtin instead.\n",
      "  \n"
     ]
    },
    {
     "name": "stdout",
     "output_type": "stream",
     "text": [
      "Setting learning rate to 0.002500\n",
      "Setting learning rate to 0.001250\n",
      "Setting learning rate to 0.000625\n"
     ]
    }
   ],
   "source": [
    "np.random.seed(10)\n",
    "# Train on a small subset of the data to see what happens\n",
    "model = RNNNumpy(vocabulary_size)\n",
    "losses = model.train_with_sgd(X_train, y_train, nepoch=100, evaluate_loss_after=5)"
   ]
  },
  {
   "cell_type": "code",
   "execution_count": 20,
   "metadata": {},
   "outputs": [],
   "source": [
    "def generate_text(s,n=3):\n",
    "    \"\"\"\n",
    "    \n",
    "    Funkcja przewiduje n nastepnych liter dla podanegou tekstu (napisu) s.\n",
    "    \n",
    "    \"\"\"\n",
    "    s = list(s)\n",
    "    \n",
    "    X_new = np.asarray([[word_to_index[w] for w in sent] for sent in s])[:,0]\n",
    "    \n",
    "    pred = np.zeros(n,dtype=\"int\")\n",
    "    for i in range(n):\n",
    "        pred[i] = model.predict(np.concatenate([X_new, pred[:i]]))[-1]\n",
    "    print(\"original: \", ''.join([x[0] for x in s]) )\n",
    "    print(\"prediction: \", ''.join([x[0] for x in s])+''.join([[index_to_word[w] for w in sent] for sent in [pred]][0]))"
   ]
  },
  {
   "cell_type": "markdown",
   "metadata": {},
   "source": [
    "Testowanie:"
   ]
  },
  {
   "cell_type": "code",
   "execution_count": 37,
   "metadata": {},
   "outputs": [
    {
     "name": "stdout",
     "output_type": "stream",
     "text": [
      "original:  for\n",
      "prediction:  formarn_pros = err\n"
     ]
    }
   ],
   "source": [
    "generate_text(\"for\", 15)"
   ]
  },
  {
   "cell_type": "markdown",
   "metadata": {},
   "source": [
    "## Embeddingi\n",
    "\n",
    "Przeanalizujmy co się dzieje w RNN, gdy podajemy słowa w reprezentacji one hot.\n",
    "\n",
    "## $$ h_t = f( W^h * h_{t-1} + W^x * x_t + b)$$\n",
    "\n",
    "Zatem jeśli x to \"one-hot\" z jedynką na pozycji $i$ to:\n",
    "\n",
    "## $$ W^x * x_t = W^x[:,i],  $$\n",
    "\n",
    "Czyli wkład informacji embeddinga sprowadza się do wzięcia odpowieniej kolumny macierzy wag.\n",
    "\n",
    "Czyli i-ta kolumna macierzy wag jest w pewnym sensie reprezentacją słowa i.\n",
    "\n",
    "Zatem pójdźmy krok dalej: stwórzmy sobie dodatkową warstwę w sieci, zawierającą reprezentacje słów, które będą przekazywane do wyliczenia stanu ukrytego.\n",
    "\n",
    "Wówczas sieć z warstwą embeddingów ma postać:\n",
    "\n",
    "<br>\n",
    "\n",
    "$x_t$ - id słowa wejściowego w momencie $t$.\n",
    "\n",
    "$EMB$ - macierz embeddingów\n",
    "\n",
    "<br>\n",
    "\n",
    "$$emb_t = EMB[x_t]$$\n",
    "$$ h_t = f( W^h * h_{t-1} + W^x * emb_t + b)$$\n",
    "\n",
    "<br>\n",
    "\n",
    "Ta warstwa nazywa się EMBEDDING'ami (embedding layer).\n",
    "\n",
    "\n",
    "<img src=\"Grafika/embeddings.jpg\" width=\"700\">\n",
    "Źródło: https://www.slideshare.net/Geeks_Lab/aibigdata-lab-2016-62764857\n",
    "\n",
    "\n",
    "\n",
    "### Zauważmy, że embeddingi są parametrami sieci, ale jednocześnie reprezentacją słów. Oznacza to, że trenując sieć, uczymy embeddingi, czyli uczymy się reprezentacji słów.\n"
   ]
  },
  {
   "cell_type": "markdown",
   "metadata": {},
   "source": [
    "### Case study: IMBD"
   ]
  },
  {
   "cell_type": "code",
   "execution_count": 38,
   "metadata": {},
   "outputs": [
    {
     "name": "stderr",
     "output_type": "stream",
     "text": [
      "Using TensorFlow backend.\n"
     ]
    }
   ],
   "source": [
    "from keras.preprocessing import sequence\n",
    "\n",
    "from keras.models import Sequential\n",
    "from keras.layers import Dense, Dropout, Embedding, SimpleRNN, LSTM, Bidirectional\n",
    "\n",
    "from keras.callbacks import EarlyStopping\n",
    "\n",
    "from keras.datasets import imdb"
   ]
  },
  {
   "cell_type": "code",
   "execution_count": 39,
   "metadata": {},
   "outputs": [],
   "source": [
    "max_features = 5000\n",
    "maxlen = 400\n",
    "batch_size = 32\n",
    "embedding_dims = 50\n",
    "epochs = 3"
   ]
  },
  {
   "cell_type": "code",
   "execution_count": 40,
   "metadata": {},
   "outputs": [
    {
     "name": "stdout",
     "output_type": "stream",
     "text": [
      "Downloading data from https://s3.amazonaws.com/text-datasets/imdb.npz\n",
      "17465344/17464789 [==============================] - 8s 0us/step\n",
      "25000 train sequences\n",
      "25000 test sequences\n",
      "[list([1, 14, 22, 16, 43, 530, 973, 1622, 1385, 65, 458, 4468, 66, 3941, 4, 173, 36, 256, 5, 25, 100, 43, 838, 112, 50, 670, 2, 9, 35, 480, 284, 5, 150, 4, 172, 112, 167, 2, 336, 385, 39, 4, 172, 4536, 1111, 17, 546, 38, 13, 447, 4, 192, 50, 16, 6, 147, 2025, 19, 14, 22, 4, 1920, 4613, 469, 4, 22, 71, 87, 12, 16, 43, 530, 38, 76, 15, 13, 1247, 4, 22, 17, 515, 17, 12, 16, 626, 18, 2, 5, 62, 386, 12, 8, 316, 8, 106, 5, 4, 2223, 2, 16, 480, 66, 3785, 33, 4, 130, 12, 16, 38, 619, 5, 25, 124, 51, 36, 135, 48, 25, 1415, 33, 6, 22, 12, 215, 28, 77, 52, 5, 14, 407, 16, 82, 2, 8, 4, 107, 117, 2, 15, 256, 4, 2, 7, 3766, 5, 723, 36, 71, 43, 530, 476, 26, 400, 317, 46, 7, 4, 2, 1029, 13, 104, 88, 4, 381, 15, 297, 98, 32, 2071, 56, 26, 141, 6, 194, 2, 18, 4, 226, 22, 21, 134, 476, 26, 480, 5, 144, 30, 2, 18, 51, 36, 28, 224, 92, 25, 104, 4, 226, 65, 16, 38, 1334, 88, 12, 16, 283, 5, 16, 4472, 113, 103, 32, 15, 16, 2, 19, 178, 32])\n",
      " list([1, 194, 1153, 194, 2, 78, 228, 5, 6, 1463, 4369, 2, 134, 26, 4, 715, 8, 118, 1634, 14, 394, 20, 13, 119, 954, 189, 102, 5, 207, 110, 3103, 21, 14, 69, 188, 8, 30, 23, 7, 4, 249, 126, 93, 4, 114, 9, 2300, 1523, 5, 647, 4, 116, 9, 35, 2, 4, 229, 9, 340, 1322, 4, 118, 9, 4, 130, 4901, 19, 4, 1002, 5, 89, 29, 952, 46, 37, 4, 455, 9, 45, 43, 38, 1543, 1905, 398, 4, 1649, 26, 2, 5, 163, 11, 3215, 2, 4, 1153, 9, 194, 775, 7, 2, 2, 349, 2637, 148, 605, 2, 2, 15, 123, 125, 68, 2, 2, 15, 349, 165, 4362, 98, 5, 4, 228, 9, 43, 2, 1157, 15, 299, 120, 5, 120, 174, 11, 220, 175, 136, 50, 9, 4373, 228, 2, 5, 2, 656, 245, 2350, 5, 4, 2, 131, 152, 491, 18, 2, 32, 2, 1212, 14, 9, 6, 371, 78, 22, 625, 64, 1382, 9, 8, 168, 145, 23, 4, 1690, 15, 16, 4, 1355, 5, 28, 6, 52, 154, 462, 33, 89, 78, 285, 16, 145, 95])\n",
      " list([1, 14, 47, 8, 30, 31, 7, 4, 249, 108, 7, 4, 2, 54, 61, 369, 13, 71, 149, 14, 22, 112, 4, 2401, 311, 12, 16, 3711, 33, 75, 43, 1829, 296, 4, 86, 320, 35, 534, 19, 263, 4821, 1301, 4, 1873, 33, 89, 78, 12, 66, 16, 4, 360, 7, 4, 58, 316, 334, 11, 4, 1716, 43, 645, 662, 8, 257, 85, 1200, 42, 1228, 2578, 83, 68, 3912, 15, 36, 165, 1539, 278, 36, 69, 2, 780, 8, 106, 14, 2, 1338, 18, 6, 22, 12, 215, 28, 610, 40, 6, 87, 326, 23, 2300, 21, 23, 22, 12, 272, 40, 57, 31, 11, 4, 22, 47, 6, 2307, 51, 9, 170, 23, 595, 116, 595, 1352, 13, 191, 79, 638, 89, 2, 14, 9, 8, 106, 607, 624, 35, 534, 6, 227, 7, 129, 113])]\n"
     ]
    }
   ],
   "source": [
    "(x_train, y_train), (x_test, y_test) = imdb.load_data(num_words=max_features)\n",
    "print(len(x_train), 'train sequences')\n",
    "print(len(x_test), 'test sequences')\n",
    "print(x_train[:3])"
   ]
  },
  {
   "cell_type": "code",
   "execution_count": 41,
   "metadata": {},
   "outputs": [],
   "source": [
    "# Ujednolicenie długości ciągów - padding:\n",
    "\n",
    "x_train = sequence.pad_sequences(x_train,maxlen=maxlen)\n",
    "x_test = sequence.pad_sequences(x_test, maxlen=maxlen)"
   ]
  },
  {
   "cell_type": "code",
   "execution_count": 42,
   "metadata": {
    "scrolled": true
   },
   "outputs": [
    {
     "data": {
      "text/plain": [
       "array([   0,    0,    0,    0,    0,    0,    0,    0,    0,    0,    0,\n",
       "          0,    0,    0,    0,    0,    0,    0,    0,    0,    0,    0,\n",
       "          0,    0,    0,    0,    0,    0,    0,    0,    0,    0,    0,\n",
       "          0,    0,    0,    0,    0,    0,    0,    0,    0,    0,    0,\n",
       "          0,    0,    0,    0,    0,    0,    0,    0,    0,    0,    0,\n",
       "          0,    0,    0,    0,    0,    0,    0,    0,    0,    0,    0,\n",
       "          0,    0,    0,    0,    0,    0,    0,    0,    0,    0,    0,\n",
       "          0,    0,    0,    0,    0,    0,    0,    0,    0,    0,    0,\n",
       "          0,    0,    0,    0,    0,    0,    0,    0,    0,    0,    0,\n",
       "          0,    0,    0,    0,    0,    0,    0,    0,    0,    0,    0,\n",
       "          0,    0,    0,    0,    0,    0,    0,    0,    0,    0,    0,\n",
       "          0,    0,    0,    0,    0,    0,    0,    0,    0,    0,    0,\n",
       "          0,    0,    0,    0,    0,    0,    0,    0,    0,    0,    0,\n",
       "          0,    0,    0,    0,    0,    0,    0,    0,    0,    0,    0,\n",
       "          0,    0,    0,    0,    0,    0,    0,    0,    0,    0,    0,\n",
       "          0,    0,    0,    0,    0,    0,    0,    0,    0,    0,    0,\n",
       "          0,    0,    0,    0,    0,    0,    1,   14,   22,   16,   43,\n",
       "        530,  973, 1622, 1385,   65,  458, 4468,   66, 3941,    4,  173,\n",
       "         36,  256,    5,   25,  100,   43,  838,  112,   50,  670,    2,\n",
       "          9,   35,  480,  284,    5,  150,    4,  172,  112,  167,    2,\n",
       "        336,  385,   39,    4,  172, 4536, 1111,   17,  546,   38,   13,\n",
       "        447,    4,  192,   50,   16,    6,  147, 2025,   19,   14,   22,\n",
       "          4, 1920, 4613,  469,    4,   22,   71,   87,   12,   16,   43,\n",
       "        530,   38,   76,   15,   13, 1247,    4,   22,   17,  515,   17,\n",
       "         12,   16,  626,   18,    2,    5,   62,  386,   12,    8,  316,\n",
       "          8,  106,    5,    4, 2223,    2,   16,  480,   66, 3785,   33,\n",
       "          4,  130,   12,   16,   38,  619,    5,   25,  124,   51,   36,\n",
       "        135,   48,   25, 1415,   33,    6,   22,   12,  215,   28,   77,\n",
       "         52,    5,   14,  407,   16,   82,    2,    8,    4,  107,  117,\n",
       "          2,   15,  256,    4,    2,    7, 3766,    5,  723,   36,   71,\n",
       "         43,  530,  476,   26,  400,  317,   46,    7,    4,    2, 1029,\n",
       "         13,  104,   88,    4,  381,   15,  297,   98,   32, 2071,   56,\n",
       "         26,  141,    6,  194,    2,   18,    4,  226,   22,   21,  134,\n",
       "        476,   26,  480,    5,  144,   30,    2,   18,   51,   36,   28,\n",
       "        224,   92,   25,  104,    4,  226,   65,   16,   38, 1334,   88,\n",
       "         12,   16,  283,    5,   16, 4472,  113,  103,   32,   15,   16,\n",
       "          2,   19,  178,   32], dtype=int32)"
      ]
     },
     "execution_count": 42,
     "metadata": {},
     "output_type": "execute_result"
    }
   ],
   "source": [
    "x_train[0]"
   ]
  },
  {
   "cell_type": "code",
   "execution_count": 43,
   "metadata": {},
   "outputs": [
    {
     "data": {
      "text/plain": [
       "array([1, 0, 0, ..., 0, 1, 0])"
      ]
     },
     "execution_count": 43,
     "metadata": {},
     "output_type": "execute_result"
    }
   ],
   "source": [
    "y_train"
   ]
  },
  {
   "cell_type": "code",
   "execution_count": 44,
   "metadata": {},
   "outputs": [],
   "source": [
    "n_train = 5000\n",
    "n_test = 2000\n",
    "x_train = x_train[:n_train]\n",
    "y_train = y_train[:n_train]\n",
    "x_test = x_test[:n_test]\n",
    "y_test = y_test[:n_test]"
   ]
  },
  {
   "cell_type": "markdown",
   "metadata": {},
   "source": [
    "### Zadania"
   ]
  },
  {
   "cell_type": "markdown",
   "metadata": {},
   "source": [
    "### Zwykła sieć rekurencyjna ( z embeddingami)"
   ]
  },
  {
   "cell_type": "code",
   "execution_count": 51,
   "metadata": {},
   "outputs": [
    {
     "data": {
      "text/plain": [
       "400"
      ]
     },
     "execution_count": 51,
     "metadata": {},
     "output_type": "execute_result"
    }
   ],
   "source": []
  },
  {
   "cell_type": "code",
   "execution_count": 58,
   "metadata": {},
   "outputs": [
    {
     "name": "stdout",
     "output_type": "stream",
     "text": [
      "_________________________________________________________________\n",
      "Layer (type)                 Output Shape              Param #   \n",
      "=================================================================\n",
      "embedding_5 (Embedding)      (None, 400, 50)           250000    \n",
      "_________________________________________________________________\n",
      "simple_rnn_4 (SimpleRNN)     (None, 100)               15100     \n",
      "_________________________________________________________________\n",
      "dense_2 (Dense)              (None, 1)                 101       \n",
      "=================================================================\n",
      "Total params: 265,201\n",
      "Trainable params: 265,201\n",
      "Non-trainable params: 0\n",
      "_________________________________________________________________\n"
     ]
    }
   ],
   "source": [
    "model = Sequential()\n",
    "model.add( Embedding( max_features, embedding_dims, input_length=maxlen ) )\n",
    "model.add(SimpleRNN(100, dropout=0.5))\n",
    "model.add(Dense(1,activation='sigmoid'))\n",
    "model.summary()"
   ]
  },
  {
   "cell_type": "code",
   "execution_count": 59,
   "metadata": {},
   "outputs": [
    {
     "name": "stdout",
     "output_type": "stream",
     "text": [
      "Train on 4000 samples, validate on 1000 samples\n",
      "Epoch 1/100\n",
      "4000/4000 [==============================] - 19s 5ms/step - loss: 0.6959 - acc: 0.5085 - val_loss: 0.6820 - val_acc: 0.5850\n",
      "Epoch 2/100\n",
      "4000/4000 [==============================] - 21s 5ms/step - loss: 0.6571 - acc: 0.6398 - val_loss: 0.6654 - val_acc: 0.6200\n",
      "Epoch 3/100\n",
      "4000/4000 [==============================] - 22s 5ms/step - loss: 0.6446 - acc: 0.6392 - val_loss: 0.6624 - val_acc: 0.6430\n",
      "Epoch 4/100\n",
      "4000/4000 [==============================] - 23s 6ms/step - loss: 0.6470 - acc: 0.6577 - val_loss: 0.6692 - val_acc: 0.5540\n",
      "Epoch 5/100\n",
      "4000/4000 [==============================] - 22s 6ms/step - loss: 0.6146 - acc: 0.7080 - val_loss: 0.6415 - val_acc: 0.6260\n",
      "Epoch 6/100\n",
      "4000/4000 [==============================] - 22s 5ms/step - loss: 0.5694 - acc: 0.7288 - val_loss: 0.6425 - val_acc: 0.6260\n"
     ]
    },
    {
     "data": {
      "text/plain": [
       "<keras.callbacks.History at 0x7f696f1ae6d8>"
      ]
     },
     "execution_count": 59,
     "metadata": {},
     "output_type": "execute_result"
    }
   ],
   "source": [
    "model.compile(loss='binary_crossentropy', optimizer=\"adam\", metrics=['accuracy'])\n",
    "early_stopping = EarlyStopping(patience=3, monitor=\"val_acc\")\n",
    "model.fit(x_train, y_train, epochs=100, validation_split=0.2, callbacks=[early_stopping])"
   ]
  },
  {
   "cell_type": "code",
   "execution_count": 60,
   "metadata": {},
   "outputs": [
    {
     "name": "stdout",
     "output_type": "stream",
     "text": [
      "2000/2000 [==============================] - 2s 795us/step\n"
     ]
    },
    {
     "data": {
      "text/plain": [
       "[0.6563675355911255, 0.608]"
      ]
     },
     "execution_count": 60,
     "metadata": {},
     "output_type": "execute_result"
    }
   ],
   "source": [
    "model.evaluate(x_test, y_test)"
   ]
  },
  {
   "cell_type": "code",
   "execution_count": 61,
   "metadata": {
    "scrolled": true
   },
   "outputs": [
    {
     "name": "stdout",
     "output_type": "stream",
     "text": [
      "_________________________________________________________________\n",
      "Layer (type)                 Output Shape              Param #   \n",
      "=================================================================\n",
      "embedding_6 (Embedding)      (None, 400, 50)           250000    \n",
      "_________________________________________________________________\n",
      "simple_rnn_5 (SimpleRNN)     (None, 100)               15100     \n",
      "_________________________________________________________________\n",
      "dense_3 (Dense)              (None, 50)                5050      \n",
      "_________________________________________________________________\n",
      "dense_4 (Dense)              (None, 1)                 51        \n",
      "=================================================================\n",
      "Total params: 270,201\n",
      "Trainable params: 270,201\n",
      "Non-trainable params: 0\n",
      "_________________________________________________________________\n",
      "Train on 4000 samples, validate on 1000 samples\n",
      "Epoch 1/100\n",
      "4000/4000 [==============================] - 19s 5ms/step - loss: 0.7037 - acc: 0.4978 - val_loss: 0.6915 - val_acc: 0.5570\n",
      "Epoch 2/100\n",
      "4000/4000 [==============================] - 21s 5ms/step - loss: 0.6935 - acc: 0.5205 - val_loss: 0.6931 - val_acc: 0.5040\n",
      "Epoch 3/100\n",
      "4000/4000 [==============================] - 22s 6ms/step - loss: 0.6903 - acc: 0.5310 - val_loss: 0.6866 - val_acc: 0.5710\n",
      "Epoch 4/100\n",
      "4000/4000 [==============================] - 22s 6ms/step - loss: 0.6802 - acc: 0.5793 - val_loss: 0.6871 - val_acc: 0.5350\n",
      "Epoch 5/100\n",
      "4000/4000 [==============================] - 22s 6ms/step - loss: 0.6442 - acc: 0.6422 - val_loss: 0.6450 - val_acc: 0.5910\n",
      "Epoch 6/100\n",
      "4000/4000 [==============================] - 22s 6ms/step - loss: 0.5581 - acc: 0.7218 - val_loss: 0.6933 - val_acc: 0.5990\n",
      "Epoch 7/100\n",
      "4000/4000 [==============================] - 22s 5ms/step - loss: 0.5152 - acc: 0.7412 - val_loss: 0.6279 - val_acc: 0.6680\n",
      "Epoch 8/100\n",
      "4000/4000 [==============================] - 22s 6ms/step - loss: 0.4372 - acc: 0.7993 - val_loss: 0.6439 - val_acc: 0.6800\n",
      "Epoch 9/100\n",
      "4000/4000 [==============================] - 23s 6ms/step - loss: 0.3753 - acc: 0.8380 - val_loss: 0.6606 - val_acc: 0.6900\n",
      "Epoch 10/100\n",
      "4000/4000 [==============================] - 22s 6ms/step - loss: 0.3482 - acc: 0.8538 - val_loss: 0.6850 - val_acc: 0.6920\n",
      "Epoch 11/100\n",
      "4000/4000 [==============================] - 22s 6ms/step - loss: 0.2836 - acc: 0.8832 - val_loss: 0.7863 - val_acc: 0.6840\n",
      "Epoch 12/100\n",
      "4000/4000 [==============================] - 22s 6ms/step - loss: 0.2678 - acc: 0.8915 - val_loss: 0.7596 - val_acc: 0.6910\n",
      "Epoch 13/100\n",
      "4000/4000 [==============================] - 22s 6ms/step - loss: 0.2472 - acc: 0.9073 - val_loss: 0.8693 - val_acc: 0.6460\n",
      "2000/2000 [==============================] - 2s 1ms/step\n"
     ]
    },
    {
     "data": {
      "text/plain": [
       "[0.906218529701233, 0.631]"
      ]
     },
     "execution_count": 61,
     "metadata": {},
     "output_type": "execute_result"
    }
   ],
   "source": [
    "model = Sequential()\n",
    "model.add( Embedding( max_features, embedding_dims, input_length=maxlen ) )\n",
    "model.add(SimpleRNN(100, dropout=0.5))\n",
    "model.add(Dense(50,activation='sigmoid'))\n",
    "model.add(Dense(1,activation='sigmoid'))\n",
    "model.summary()\n",
    "\n",
    "model.compile(loss='binary_crossentropy', optimizer=\"adam\", metrics=['accuracy'])\n",
    "early_stopping = EarlyStopping(patience=3, monitor=\"val_acc\")\n",
    "model.fit(x_train, y_train, epochs=100, validation_split=0.2, callbacks=[early_stopping])\n",
    "\n",
    "model.evaluate(x_test, y_test)"
   ]
  },
  {
   "cell_type": "code",
   "execution_count": null,
   "metadata": {},
   "outputs": [],
   "source": []
  },
  {
   "cell_type": "code",
   "execution_count": 62,
   "metadata": {},
   "outputs": [
    {
     "name": "stdout",
     "output_type": "stream",
     "text": [
      "_________________________________________________________________\n",
      "Layer (type)                 Output Shape              Param #   \n",
      "=================================================================\n",
      "embedding_7 (Embedding)      (None, 400, 50)           250000    \n",
      "_________________________________________________________________\n",
      "bidirectional_1 (Bidirection (None, 200)               30200     \n",
      "_________________________________________________________________\n",
      "dense_5 (Dense)              (None, 50)                10050     \n",
      "_________________________________________________________________\n",
      "dense_6 (Dense)              (None, 1)                 51        \n",
      "=================================================================\n",
      "Total params: 290,301\n",
      "Trainable params: 290,301\n",
      "Non-trainable params: 0\n",
      "_________________________________________________________________\n",
      "Train on 4000 samples, validate on 1000 samples\n",
      "Epoch 1/100\n",
      "4000/4000 [==============================] - 39s 10ms/step - loss: 0.6966 - acc: 0.5072 - val_loss: 0.6909 - val_acc: 0.5270\n",
      "Epoch 2/100\n",
      "4000/4000 [==============================] - 42s 10ms/step - loss: 0.6930 - acc: 0.5160 - val_loss: 0.7529 - val_acc: 0.4900\n",
      "Epoch 3/100\n",
      "4000/4000 [==============================] - 42s 10ms/step - loss: 0.6974 - acc: 0.5185 - val_loss: 0.6940 - val_acc: 0.5010\n",
      "Epoch 4/100\n",
      "4000/4000 [==============================] - 42s 10ms/step - loss: 0.6925 - acc: 0.5307 - val_loss: 0.6907 - val_acc: 0.5200\n",
      "2000/2000 [==============================] - 4s 2ms/step\n"
     ]
    },
    {
     "data": {
      "text/plain": [
       "[0.686422926902771, 0.5455]"
      ]
     },
     "execution_count": 62,
     "metadata": {},
     "output_type": "execute_result"
    }
   ],
   "source": [
    "model = Sequential()\n",
    "model.add( Embedding( max_features, embedding_dims, input_length=maxlen ) )\n",
    "model.add(Bidirectional(SimpleRNN(100, dropout=0.5)))\n",
    "model.add(Dense(50,activation='sigmoid'))\n",
    "model.add(Dense(1,activation='sigmoid'))\n",
    "model.summary()\n",
    "\n",
    "model.compile(loss='binary_crossentropy', optimizer=\"adam\", metrics=['accuracy'])\n",
    "early_stopping = EarlyStopping(patience=3, monitor=\"val_acc\")\n",
    "model.fit(x_train, y_train, epochs=100, validation_split=0.2, callbacks=[early_stopping])\n",
    "\n",
    "model.evaluate(x_test, y_test)"
   ]
  },
  {
   "cell_type": "code",
   "execution_count": null,
   "metadata": {},
   "outputs": [],
   "source": []
  },
  {
   "cell_type": "code",
   "execution_count": 65,
   "metadata": {},
   "outputs": [
    {
     "name": "stdout",
     "output_type": "stream",
     "text": [
      "_________________________________________________________________\n",
      "Layer (type)                 Output Shape              Param #   \n",
      "=================================================================\n",
      "embedding_10 (Embedding)     (None, 400, 50)           250000    \n",
      "_________________________________________________________________\n",
      "simple_rnn_11 (SimpleRNN)    (None, 400, 10)           610       \n",
      "_________________________________________________________________\n",
      "simple_rnn_12 (SimpleRNN)    (None, 20)                620       \n",
      "_________________________________________________________________\n",
      "dense_10 (Dense)             (None, 1)                 21        \n",
      "=================================================================\n",
      "Total params: 251,251\n",
      "Trainable params: 251,251\n",
      "Non-trainable params: 0\n",
      "_________________________________________________________________\n",
      "Train on 4000 samples, validate on 1000 samples\n",
      "Epoch 1/100\n",
      "4000/4000 [==============================] - 26s 7ms/step - loss: 0.6181 - acc: 0.6440 - val_loss: 0.5312 - val_acc: 0.7360\n",
      "Epoch 2/100\n",
      "4000/4000 [==============================] - 27s 7ms/step - loss: 0.3368 - acc: 0.8632 - val_loss: 0.5036 - val_acc: 0.7660\n",
      "Epoch 3/100\n",
      "4000/4000 [==============================] - 26s 7ms/step - loss: 0.1376 - acc: 0.9565 - val_loss: 0.6009 - val_acc: 0.7680\n",
      "Epoch 4/100\n",
      "4000/4000 [==============================] - 27s 7ms/step - loss: 0.0561 - acc: 0.9828 - val_loss: 0.7135 - val_acc: 0.7590\n",
      "Epoch 5/100\n",
      "4000/4000 [==============================] - 27s 7ms/step - loss: 0.0688 - acc: 0.9795 - val_loss: 0.7413 - val_acc: 0.7750\n",
      "Epoch 6/100\n",
      "4000/4000 [==============================] - 26s 7ms/step - loss: 0.0212 - acc: 0.9963 - val_loss: 0.8409 - val_acc: 0.7620\n",
      "Epoch 7/100\n",
      "4000/4000 [==============================] - 26s 6ms/step - loss: 0.0505 - acc: 0.9843 - val_loss: 0.7966 - val_acc: 0.7400\n",
      "Epoch 8/100\n",
      "4000/4000 [==============================] - 27s 7ms/step - loss: 0.0285 - acc: 0.9915 - val_loss: 0.8732 - val_acc: 0.7370\n",
      "2000/2000 [==============================] - 2s 974us/step\n"
     ]
    },
    {
     "data": {
      "text/plain": [
       "[0.8264236125946045, 0.7535]"
      ]
     },
     "execution_count": 65,
     "metadata": {},
     "output_type": "execute_result"
    }
   ],
   "source": [
    "model = Sequential()\n",
    "model.add( Embedding( max_features, embedding_dims, input_length=maxlen ) )\n",
    "model.add(SimpleRNN(10, return_sequences=True))\n",
    "model.add(SimpleRNN(20))\n",
    "model.add(Dense(1,activation='sigmoid'))\n",
    "model.summary()\n",
    "\n",
    "model.compile(loss='binary_crossentropy', optimizer=\"adam\", metrics=['accuracy'])\n",
    "early_stopping = EarlyStopping(patience=3, monitor=\"val_acc\")\n",
    "model.fit(x_train, y_train, epochs=100, validation_split=0.2, callbacks=[early_stopping])\n",
    "\n",
    "model.evaluate(x_test, y_test)"
   ]
  },
  {
   "cell_type": "code",
   "execution_count": null,
   "metadata": {},
   "outputs": [],
   "source": []
  },
  {
   "cell_type": "code",
   "execution_count": 67,
   "metadata": {},
   "outputs": [],
   "source": [
    "from keras.layers import LSTM, GRU"
   ]
  },
  {
   "cell_type": "code",
   "execution_count": 68,
   "metadata": {},
   "outputs": [
    {
     "name": "stdout",
     "output_type": "stream",
     "text": [
      "_________________________________________________________________\n",
      "Layer (type)                 Output Shape              Param #   \n",
      "=================================================================\n",
      "embedding_11 (Embedding)     (None, 400, 50)           250000    \n",
      "_________________________________________________________________\n",
      "lstm_1 (LSTM)                (None, 20)                5680      \n",
      "_________________________________________________________________\n",
      "dense_11 (Dense)             (None, 1)                 21        \n",
      "=================================================================\n",
      "Total params: 255,701\n",
      "Trainable params: 255,701\n",
      "Non-trainable params: 0\n",
      "_________________________________________________________________\n",
      "Train on 4000 samples, validate on 1000 samples\n",
      "Epoch 1/100\n",
      "4000/4000 [==============================] - 60s 15ms/step - loss: 0.6080 - acc: 0.6735 - val_loss: 0.4750 - val_acc: 0.7850\n",
      "Epoch 2/100\n",
      "4000/4000 [==============================] - 63s 16ms/step - loss: 0.3466 - acc: 0.8645 - val_loss: 0.4333 - val_acc: 0.8150\n",
      "Epoch 3/100\n",
      "4000/4000 [==============================] - 63s 16ms/step - loss: 0.2355 - acc: 0.9147 - val_loss: 0.4410 - val_acc: 0.8130\n",
      "Epoch 4/100\n",
      "4000/4000 [==============================] - 63s 16ms/step - loss: 0.1658 - acc: 0.9420 - val_loss: 0.4694 - val_acc: 0.8100\n",
      "Epoch 5/100\n",
      " 832/4000 [=====>........................] - ETA: 49s - loss: 0.1002 - acc: 0.9724"
     ]
    },
    {
     "ename": "KeyboardInterrupt",
     "evalue": "",
     "output_type": "error",
     "traceback": [
      "\u001b[0;31m----------------------------------------------------------------------\u001b[0m",
      "\u001b[0;31mKeyboardInterrupt\u001b[0m                    Traceback (most recent call last)",
      "\u001b[0;32m<ipython-input-68-5f2ac77316e4>\u001b[0m in \u001b[0;36m<module>\u001b[0;34m\u001b[0m\n\u001b[1;32m      7\u001b[0m \u001b[0mmodel\u001b[0m\u001b[0;34m.\u001b[0m\u001b[0mcompile\u001b[0m\u001b[0;34m(\u001b[0m\u001b[0mloss\u001b[0m\u001b[0;34m=\u001b[0m\u001b[0;34m'binary_crossentropy'\u001b[0m\u001b[0;34m,\u001b[0m \u001b[0moptimizer\u001b[0m\u001b[0;34m=\u001b[0m\u001b[0;34m\"adam\"\u001b[0m\u001b[0;34m,\u001b[0m \u001b[0mmetrics\u001b[0m\u001b[0;34m=\u001b[0m\u001b[0;34m[\u001b[0m\u001b[0;34m'accuracy'\u001b[0m\u001b[0;34m]\u001b[0m\u001b[0;34m)\u001b[0m\u001b[0;34m\u001b[0m\u001b[0m\n\u001b[1;32m      8\u001b[0m \u001b[0mearly_stopping\u001b[0m \u001b[0;34m=\u001b[0m \u001b[0mEarlyStopping\u001b[0m\u001b[0;34m(\u001b[0m\u001b[0mpatience\u001b[0m\u001b[0;34m=\u001b[0m\u001b[0;36m3\u001b[0m\u001b[0;34m,\u001b[0m \u001b[0mmonitor\u001b[0m\u001b[0;34m=\u001b[0m\u001b[0;34m\"val_acc\"\u001b[0m\u001b[0;34m)\u001b[0m\u001b[0;34m\u001b[0m\u001b[0m\n\u001b[0;32m----> 9\u001b[0;31m \u001b[0mmodel\u001b[0m\u001b[0;34m.\u001b[0m\u001b[0mfit\u001b[0m\u001b[0;34m(\u001b[0m\u001b[0mx_train\u001b[0m\u001b[0;34m,\u001b[0m \u001b[0my_train\u001b[0m\u001b[0;34m,\u001b[0m \u001b[0mepochs\u001b[0m\u001b[0;34m=\u001b[0m\u001b[0;36m100\u001b[0m\u001b[0;34m,\u001b[0m \u001b[0mvalidation_split\u001b[0m\u001b[0;34m=\u001b[0m\u001b[0;36m0.2\u001b[0m\u001b[0;34m,\u001b[0m \u001b[0mcallbacks\u001b[0m\u001b[0;34m=\u001b[0m\u001b[0;34m[\u001b[0m\u001b[0mearly_stopping\u001b[0m\u001b[0;34m]\u001b[0m\u001b[0;34m)\u001b[0m\u001b[0;34m\u001b[0m\u001b[0m\n\u001b[0m\u001b[1;32m     10\u001b[0m \u001b[0;34m\u001b[0m\u001b[0m\n\u001b[1;32m     11\u001b[0m \u001b[0mmodel\u001b[0m\u001b[0;34m.\u001b[0m\u001b[0mevaluate\u001b[0m\u001b[0;34m(\u001b[0m\u001b[0mx_test\u001b[0m\u001b[0;34m,\u001b[0m \u001b[0my_test\u001b[0m\u001b[0;34m)\u001b[0m\u001b[0;34m\u001b[0m\u001b[0m\n",
      "\u001b[0;32m~/anaconda3/lib/python3.6/site-packages/keras/engine/training.py\u001b[0m in \u001b[0;36mfit\u001b[0;34m(self, x, y, batch_size, epochs, verbose, callbacks, validation_split, validation_data, shuffle, class_weight, sample_weight, initial_epoch, steps_per_epoch, validation_steps, **kwargs)\u001b[0m\n\u001b[1;32m   1037\u001b[0m                                         \u001b[0minitial_epoch\u001b[0m\u001b[0;34m=\u001b[0m\u001b[0minitial_epoch\u001b[0m\u001b[0;34m,\u001b[0m\u001b[0;34m\u001b[0m\u001b[0m\n\u001b[1;32m   1038\u001b[0m                                         \u001b[0msteps_per_epoch\u001b[0m\u001b[0;34m=\u001b[0m\u001b[0msteps_per_epoch\u001b[0m\u001b[0;34m,\u001b[0m\u001b[0;34m\u001b[0m\u001b[0m\n\u001b[0;32m-> 1039\u001b[0;31m                                         validation_steps=validation_steps)\n\u001b[0m\u001b[1;32m   1040\u001b[0m \u001b[0;34m\u001b[0m\u001b[0m\n\u001b[1;32m   1041\u001b[0m     def evaluate(self, x=None, y=None,\n",
      "\u001b[0;32m~/anaconda3/lib/python3.6/site-packages/keras/engine/training_arrays.py\u001b[0m in \u001b[0;36mfit_loop\u001b[0;34m(model, f, ins, out_labels, batch_size, epochs, verbose, callbacks, val_f, val_ins, shuffle, callback_metrics, initial_epoch, steps_per_epoch, validation_steps)\u001b[0m\n\u001b[1;32m    197\u001b[0m                     \u001b[0mins_batch\u001b[0m\u001b[0;34m[\u001b[0m\u001b[0mi\u001b[0m\u001b[0;34m]\u001b[0m \u001b[0;34m=\u001b[0m \u001b[0mins_batch\u001b[0m\u001b[0;34m[\u001b[0m\u001b[0mi\u001b[0m\u001b[0;34m]\u001b[0m\u001b[0;34m.\u001b[0m\u001b[0mtoarray\u001b[0m\u001b[0;34m(\u001b[0m\u001b[0;34m)\u001b[0m\u001b[0;34m\u001b[0m\u001b[0m\n\u001b[1;32m    198\u001b[0m \u001b[0;34m\u001b[0m\u001b[0m\n\u001b[0;32m--> 199\u001b[0;31m                 \u001b[0mouts\u001b[0m \u001b[0;34m=\u001b[0m \u001b[0mf\u001b[0m\u001b[0;34m(\u001b[0m\u001b[0mins_batch\u001b[0m\u001b[0;34m)\u001b[0m\u001b[0;34m\u001b[0m\u001b[0m\n\u001b[0m\u001b[1;32m    200\u001b[0m                 \u001b[0mouts\u001b[0m \u001b[0;34m=\u001b[0m \u001b[0mto_list\u001b[0m\u001b[0;34m(\u001b[0m\u001b[0mouts\u001b[0m\u001b[0;34m)\u001b[0m\u001b[0;34m\u001b[0m\u001b[0m\n\u001b[1;32m    201\u001b[0m                 \u001b[0;32mfor\u001b[0m \u001b[0ml\u001b[0m\u001b[0;34m,\u001b[0m \u001b[0mo\u001b[0m \u001b[0;32min\u001b[0m \u001b[0mzip\u001b[0m\u001b[0;34m(\u001b[0m\u001b[0mout_labels\u001b[0m\u001b[0;34m,\u001b[0m \u001b[0mouts\u001b[0m\u001b[0;34m)\u001b[0m\u001b[0;34m:\u001b[0m\u001b[0;34m\u001b[0m\u001b[0m\n",
      "\u001b[0;32m~/anaconda3/lib/python3.6/site-packages/keras/backend/tensorflow_backend.py\u001b[0m in \u001b[0;36m__call__\u001b[0;34m(self, inputs)\u001b[0m\n\u001b[1;32m   2713\u001b[0m                 \u001b[0;32mreturn\u001b[0m \u001b[0mself\u001b[0m\u001b[0;34m.\u001b[0m\u001b[0m_legacy_call\u001b[0m\u001b[0;34m(\u001b[0m\u001b[0minputs\u001b[0m\u001b[0;34m)\u001b[0m\u001b[0;34m\u001b[0m\u001b[0m\n\u001b[1;32m   2714\u001b[0m \u001b[0;34m\u001b[0m\u001b[0m\n\u001b[0;32m-> 2715\u001b[0;31m             \u001b[0;32mreturn\u001b[0m \u001b[0mself\u001b[0m\u001b[0;34m.\u001b[0m\u001b[0m_call\u001b[0m\u001b[0;34m(\u001b[0m\u001b[0minputs\u001b[0m\u001b[0;34m)\u001b[0m\u001b[0;34m\u001b[0m\u001b[0m\n\u001b[0m\u001b[1;32m   2716\u001b[0m         \u001b[0;32melse\u001b[0m\u001b[0;34m:\u001b[0m\u001b[0;34m\u001b[0m\u001b[0m\n\u001b[1;32m   2717\u001b[0m             \u001b[0;32mif\u001b[0m \u001b[0mpy_any\u001b[0m\u001b[0;34m(\u001b[0m\u001b[0mis_tensor\u001b[0m\u001b[0;34m(\u001b[0m\u001b[0mx\u001b[0m\u001b[0;34m)\u001b[0m \u001b[0;32mfor\u001b[0m \u001b[0mx\u001b[0m \u001b[0;32min\u001b[0m \u001b[0minputs\u001b[0m\u001b[0;34m)\u001b[0m\u001b[0;34m:\u001b[0m\u001b[0;34m\u001b[0m\u001b[0m\n",
      "\u001b[0;32m~/anaconda3/lib/python3.6/site-packages/keras/backend/tensorflow_backend.py\u001b[0m in \u001b[0;36m_call\u001b[0;34m(self, inputs)\u001b[0m\n\u001b[1;32m   2673\u001b[0m             \u001b[0mfetched\u001b[0m \u001b[0;34m=\u001b[0m \u001b[0mself\u001b[0m\u001b[0;34m.\u001b[0m\u001b[0m_callable_fn\u001b[0m\u001b[0;34m(\u001b[0m\u001b[0;34m*\u001b[0m\u001b[0marray_vals\u001b[0m\u001b[0;34m,\u001b[0m \u001b[0mrun_metadata\u001b[0m\u001b[0;34m=\u001b[0m\u001b[0mself\u001b[0m\u001b[0;34m.\u001b[0m\u001b[0mrun_metadata\u001b[0m\u001b[0;34m)\u001b[0m\u001b[0;34m\u001b[0m\u001b[0m\n\u001b[1;32m   2674\u001b[0m         \u001b[0;32melse\u001b[0m\u001b[0;34m:\u001b[0m\u001b[0;34m\u001b[0m\u001b[0m\n\u001b[0;32m-> 2675\u001b[0;31m             \u001b[0mfetched\u001b[0m \u001b[0;34m=\u001b[0m \u001b[0mself\u001b[0m\u001b[0;34m.\u001b[0m\u001b[0m_callable_fn\u001b[0m\u001b[0;34m(\u001b[0m\u001b[0;34m*\u001b[0m\u001b[0marray_vals\u001b[0m\u001b[0;34m)\u001b[0m\u001b[0;34m\u001b[0m\u001b[0m\n\u001b[0m\u001b[1;32m   2676\u001b[0m         \u001b[0;32mreturn\u001b[0m \u001b[0mfetched\u001b[0m\u001b[0;34m[\u001b[0m\u001b[0;34m:\u001b[0m\u001b[0mlen\u001b[0m\u001b[0;34m(\u001b[0m\u001b[0mself\u001b[0m\u001b[0;34m.\u001b[0m\u001b[0moutputs\u001b[0m\u001b[0;34m)\u001b[0m\u001b[0;34m]\u001b[0m\u001b[0;34m\u001b[0m\u001b[0m\n\u001b[1;32m   2677\u001b[0m \u001b[0;34m\u001b[0m\u001b[0m\n",
      "\u001b[0;32m~/anaconda3/lib/python3.6/site-packages/tensorflow/python/client/session.py\u001b[0m in \u001b[0;36m__call__\u001b[0;34m(self, *args, **kwargs)\u001b[0m\n\u001b[1;32m   1397\u001b[0m           ret = tf_session.TF_SessionRunCallable(\n\u001b[1;32m   1398\u001b[0m               \u001b[0mself\u001b[0m\u001b[0;34m.\u001b[0m\u001b[0m_session\u001b[0m\u001b[0;34m.\u001b[0m\u001b[0m_session\u001b[0m\u001b[0;34m,\u001b[0m \u001b[0mself\u001b[0m\u001b[0;34m.\u001b[0m\u001b[0m_handle\u001b[0m\u001b[0;34m,\u001b[0m \u001b[0margs\u001b[0m\u001b[0;34m,\u001b[0m \u001b[0mstatus\u001b[0m\u001b[0;34m,\u001b[0m\u001b[0;34m\u001b[0m\u001b[0m\n\u001b[0;32m-> 1399\u001b[0;31m               run_metadata_ptr)\n\u001b[0m\u001b[1;32m   1400\u001b[0m         \u001b[0;32mif\u001b[0m \u001b[0mrun_metadata\u001b[0m\u001b[0;34m:\u001b[0m\u001b[0;34m\u001b[0m\u001b[0m\n\u001b[1;32m   1401\u001b[0m           \u001b[0mproto_data\u001b[0m \u001b[0;34m=\u001b[0m \u001b[0mtf_session\u001b[0m\u001b[0;34m.\u001b[0m\u001b[0mTF_GetBuffer\u001b[0m\u001b[0;34m(\u001b[0m\u001b[0mrun_metadata_ptr\u001b[0m\u001b[0;34m)\u001b[0m\u001b[0;34m\u001b[0m\u001b[0m\n",
      "\u001b[0;31mKeyboardInterrupt\u001b[0m: "
     ]
    }
   ],
   "source": [
    "model = Sequential()\n",
    "model.add( Embedding( max_features, embedding_dims, input_length=maxlen ) )\n",
    "model.add(LSTM(20))\n",
    "model.add(Dense(1,activation='sigmoid'))\n",
    "model.summary()\n",
    "\n",
    "model.compile(loss='binary_crossentropy', optimizer=\"adam\", metrics=['accuracy'])\n",
    "early_stopping = EarlyStopping(patience=3, monitor=\"val_acc\")\n",
    "model.fit(x_train, y_train, epochs=100, validation_split=0.2, callbacks=[early_stopping])\n",
    "\n",
    "model.evaluate(x_test, y_test)"
   ]
  },
  {
   "cell_type": "markdown",
   "metadata": {},
   "source": [
    "# Model word2vec \n",
    "\n",
    "<img src=\"https://deeplearning4j.org/img/word2vec_diagrams.png\" width=\"700\">\n",
    "Źródło: https://deeplearning4j.org/img/word2vec_diagrams.png\n",
    "\n",
    "<img src=\"https://s3-ap-south-1.amazonaws.com/av-blog-media/wp-content/uploads/2017/06/06062705/Word-Vectors.png\" width=\"700\">\n",
    "Źródło: https://s3-ap-south-1.amazonaws.com/av-blog-media/wp-content/uploads/2017/06/06062705/Word-Vectors.png\n"
   ]
  },
  {
   "cell_type": "markdown",
   "metadata": {},
   "source": [
    "### Case study: Analiza sentymentu\n",
    "\n",
    "Znaleźć najlepszą sieć. Przykładowe warianty:\n",
    "\n",
    "1. Simple RNN\n",
    "2. LSTM - porównaj na zbiorze testowym jakość działania modelu wziętego z najlepszej iteracji oraz modelu po zatrzymaniu uczenia\n",
    "3. LSTM + warstwa/y dense na końcu\n",
    "4. BiLSTM\n",
    "5. dwuwarstwowy LSTM\n",
    "6. dwuwartwowy BiLSTM + dense\n",
    "7. CNN + LSTM - przepuścić dane przez warstwę konwolucyjną - conv1d (+ max pooling), a następnie przejechać LSTM'em po tym wyszło."
   ]
  },
  {
   "cell_type": "code",
   "execution_count": 70,
   "metadata": {},
   "outputs": [
    {
     "name": "stdout",
     "output_type": "stream",
     "text": [
      "(5000, 300)\n"
     ]
    }
   ],
   "source": [
    "import numpy as np\n",
    "\n",
    "file_with_filtered_embeddings = \"Dane/data_poleval/embeddings.txt\"\n",
    "\n",
    "words2ids = {}\n",
    "embeddings = []\n",
    "\n",
    "embeddings.append(np.zeros(300)) # rezerwujemy embeddingi na paddin i nieznane slowa\n",
    "embeddings.append(np.zeros(300))\n",
    "\n",
    "i = 0\n",
    "with open(file_with_filtered_embeddings,\"r\") as f:\n",
    "    for line in f:\n",
    "        toks = line.split(\" \")\n",
    "        word = toks[0]\n",
    "        embeddings.append(np.array([float(x) for x in toks[1:]]))\n",
    "        words2ids[word] = i+2 # +3 - przesuniecie po to zeby specjalne embeddingi byly na pozycji 0 i 1\n",
    "        i = i + 1\n",
    "\n",
    "\n",
    "embeddings = np.array(embeddings)\n",
    "print(embeddings.shape)"
   ]
  },
  {
   "cell_type": "code",
   "execution_count": 71,
   "metadata": {},
   "outputs": [
    {
     "data": {
      "text/plain": [
       "{'mają': 2,\n",
       " 'cytrusów': 3,\n",
       " 'ponadto': 4,\n",
       " 'pięknej': 5,\n",
       " 'pudrowego': 6,\n",
       " 'produkt': 7,\n",
       " 'brodzików': 8,\n",
       " 'U': 9,\n",
       " 'podziwu': 10,\n",
       " 'słowem': 11,\n",
       " 'diabłem': 12,\n",
       " 'malarze': 13,\n",
       " 'mój': 14,\n",
       " 'przestać': 15,\n",
       " 'whiskey': 16,\n",
       " 'żadnej': 17,\n",
       " 'Swój': 18,\n",
       " 'pieprzową': 19,\n",
       " 'figury': 20,\n",
       " 'kupować': 21,\n",
       " 'pozostałych': 22,\n",
       " 'komplety': 23,\n",
       " 'zamachu': 24,\n",
       " 'dalekosiężne': 25,\n",
       " 'leżą': 26,\n",
       " 'aprobatą': 27,\n",
       " 'bujnym': 28,\n",
       " 'podobieństwa': 29,\n",
       " 'sukienki': 30,\n",
       " 'uciemiężone': 31,\n",
       " 'koszulę': 32,\n",
       " 'koszuli': 33,\n",
       " 'koszule': 34,\n",
       " 'dłużej': 35,\n",
       " 'wypuści': 36,\n",
       " 'tworząc': 37,\n",
       " 'rekompensuje': 38,\n",
       " 'przecudowny': 39,\n",
       " 'wyróżniających': 40,\n",
       " 'należytemu': 41,\n",
       " 'konkretnych': 42,\n",
       " 'święto': 43,\n",
       " 'patologiem': 44,\n",
       " 'przeciętnej': 45,\n",
       " 'Donatellę': 46,\n",
       " 'powstańcza': 47,\n",
       " 'testu': 48,\n",
       " 'mieszkania': 49,\n",
       " 'tę': 50,\n",
       " 'adekwatna': 51,\n",
       " 'oczekiwaniami': 52,\n",
       " 'natomiast': 53,\n",
       " 'polecenia': 54,\n",
       " 'nasz': 55,\n",
       " 'Można': 56,\n",
       " 'Uwielbiam': 57,\n",
       " 'sprawców': 58,\n",
       " 'Używała': 59,\n",
       " 'wyjątkowy': 60,\n",
       " 'kolorze': 61,\n",
       " 'lekarzy': 62,\n",
       " 'lekarze': 63,\n",
       " 'ogólnie': 64,\n",
       " 'wody': 65,\n",
       " 'wywołuje': 66,\n",
       " 'wywołują': 67,\n",
       " 'zielony': 68,\n",
       " 'zielono': 69,\n",
       " 'zielone': 70,\n",
       " 'podróbki': 71,\n",
       " 'natarczywą': 72,\n",
       " 'Niska': 73,\n",
       " 'wychodzą': 74,\n",
       " 'wtedy': 75,\n",
       " 'wyróżnia': 76,\n",
       " 'patrzyły': 77,\n",
       " 'opcja': 78,\n",
       " 'gustownie': 79,\n",
       " 'boski': 80,\n",
       " 'Ducha': 81,\n",
       " 'orientalnych': 82,\n",
       " 'wartość': 83,\n",
       " 'najgorszy': 84,\n",
       " 'cechy': 85,\n",
       " 'zmienili': 86,\n",
       " 'Niepowtarzalny': 87,\n",
       " 'własny': 88,\n",
       " 'amerykańskiej': 89,\n",
       " 'oblicza': 90,\n",
       " 'oblicze': 91,\n",
       " 'stylu': 92,\n",
       " 'bawełniane': 93,\n",
       " 'problemy': 94,\n",
       " 'problemu': 95,\n",
       " 'Przez': 96,\n",
       " 'Przed': 97,\n",
       " 'zainteresuje': 98,\n",
       " 'biorą': 99,\n",
       " 'przeznaczona': 100,\n",
       " 'czuła': 101,\n",
       " 'przestępców': 102,\n",
       " 'aktywność': 103,\n",
       " 'rewolucyjnym': 104,\n",
       " 'towarzyszyły': 105,\n",
       " 'ubraniem': 106,\n",
       " 'wypróbować': 107,\n",
       " 'lubiła': 108,\n",
       " 'kiedy': 109,\n",
       " 'uważnie': 110,\n",
       " 'Zróżnicowana': 111,\n",
       " 'upływie': 112,\n",
       " 'skąpo': 113,\n",
       " 'Miło': 114,\n",
       " 'pomimo': 115,\n",
       " 'Nie': 116,\n",
       " 'powiadomić': 117,\n",
       " 'flakonie': 118,\n",
       " 'flakonik': 119,\n",
       " 'najczulszym': 120,\n",
       " 'lustrował': 121,\n",
       " 'kosztują': 122,\n",
       " 'Gilada': 123,\n",
       " 'trawą': 124,\n",
       " 'choinkę': 125,\n",
       " 'namiętny': 126,\n",
       " 'kojarzyła': 127,\n",
       " 'swojego': 128,\n",
       " 'dobrze': 129,\n",
       " 'działa': 130,\n",
       " 'zauważył': 131,\n",
       " 'powagi': 132,\n",
       " 'Minusem': 133,\n",
       " 'cytoplazmatyczne': 134,\n",
       " 'podobnym': 135,\n",
       " 'straty': 136,\n",
       " 'jedynie': 137,\n",
       " 'pozbawioną': 138,\n",
       " 'pozbawiona': 139,\n",
       " 'przestępstwa': 140,\n",
       " 'naczyń': 141,\n",
       " 'adidas': 142,\n",
       " 'córki': 143,\n",
       " 'mistrz': 144,\n",
       " 'zimny': 145,\n",
       " 'ołtarza': 146,\n",
       " 'fajnym': 147,\n",
       " 'znajdujące': 148,\n",
       " 'Jest': 149,\n",
       " 'lider': 150,\n",
       " 'wyjście': 151,\n",
       " 'wyjścia': 152,\n",
       " 'słodkich': 153,\n",
       " 'Przechodzień': 154,\n",
       " 'sprawiają': 155,\n",
       " 'przecież': 156,\n",
       " 'Rocznie': 157,\n",
       " 'odbierają': 158,\n",
       " 'Kolejną': 159,\n",
       " 'Kolejna': 160,\n",
       " 'Kolejny': 161,\n",
       " 'oszpecić': 162,\n",
       " 'wandali': 163,\n",
       " 'ginie': 164,\n",
       " 'podtrzyma': 165,\n",
       " 'uznanie': 166,\n",
       " 'odświeżający': 167,\n",
       " 'odświeżająca': 168,\n",
       " 'podrabianych': 169,\n",
       " 'mdłości': 170,\n",
       " 'W': 171,\n",
       " 'dziwne': 172,\n",
       " 'dziwny': 173,\n",
       " 'sejsmicznej': 174,\n",
       " 'materiału': 175,\n",
       " 'Zachowała': 176,\n",
       " 'odpowiadać': 177,\n",
       " 'odpowiadał': 178,\n",
       " 'nakrętki': 179,\n",
       " 'cielisty': 180,\n",
       " 'Davidoff': 181,\n",
       " 'tanich': 182,\n",
       " 'możliwość': 183,\n",
       " 'markowych': 184,\n",
       " 'zmniejszając': 185,\n",
       " 'Magdę': 186,\n",
       " 'trwa': 187,\n",
       " 'wąskim': 188,\n",
       " 'ludzkości': 189,\n",
       " 'Plus': 190,\n",
       " 'słodkiego': 191,\n",
       " 'zastrzeżeń': 192,\n",
       " 'deski': 193,\n",
       " 'wiruje': 194,\n",
       " 'zbrodniarz': 195,\n",
       " 'złota': 196,\n",
       " 'równocześnie': 197,\n",
       " 'niezapomniane': 198,\n",
       " 'środowisk': 199,\n",
       " 'szanować': 200,\n",
       " 'męskość': 201,\n",
       " 'kwiatowego': 202,\n",
       " 'kadzidła': 203,\n",
       " 'zeznania': 204,\n",
       " 'rocznicy': 205,\n",
       " 'gwarem': 206,\n",
       " 'jedwabisty': 207,\n",
       " 'lubili': 208,\n",
       " 'jakimi': 209,\n",
       " 'urządzenie': 210,\n",
       " 'elektryzującym': 211,\n",
       " 'najbliższej': 212,\n",
       " 'dalej': 213,\n",
       " 'kwiatowa': 214,\n",
       " 'kwiatowo': 215,\n",
       " 'kwiatowy': 216,\n",
       " 'kwiatową': 217,\n",
       " 'Materiał': 218,\n",
       " 'napaść': 219,\n",
       " 'radością': 220,\n",
       " 'starannie': 221,\n",
       " 't': 222,\n",
       " 'charakterem': 223,\n",
       " 'charakterek': 224,\n",
       " 'chronionej': 225,\n",
       " 'historycznej': 226,\n",
       " 'spędzenie': 227,\n",
       " 'zobaczysz': 228,\n",
       " 'młodego': 229,\n",
       " 'najwyższej': 230,\n",
       " 'szklanek': 231,\n",
       " 'nietuzinkowy': 232,\n",
       " 'powiatem': 233,\n",
       " 'pomoc': 234,\n",
       " 'usiąść': 235,\n",
       " 'pomysł': 236,\n",
       " 'stringów': 237,\n",
       " 'Mężczyźni': 238,\n",
       " 'oczekuje': 239,\n",
       " 'Rush': 240,\n",
       " 'etapie': 241,\n",
       " 'korzystnie': 242,\n",
       " 'kandydaci': 243,\n",
       " 'oprawionych': 244,\n",
       " 'używa': 245,\n",
       " 'Stefano': 246,\n",
       " 'miniaturkę': 247,\n",
       " 'kolorystyka': 248,\n",
       " 'gwałtowne': 249,\n",
       " 'Czekaj': 250,\n",
       " 'miesięcy': 251,\n",
       " 'słowa': 252,\n",
       " 'chcą': 253,\n",
       " 'Zwiefkę': 254,\n",
       " 'pozwoliła': 255,\n",
       " 'pazur': 256,\n",
       " 'samonośny': 257,\n",
       " 'Kolorki': 258,\n",
       " 'mycia': 259,\n",
       " 'odnoszę': 260,\n",
       " 'Twój': 261,\n",
       " 'przeciętnego': 262,\n",
       " 'typowej': 263,\n",
       " 'użyciu': 264,\n",
       " 'użycie': 265,\n",
       " 'zanim': 266,\n",
       " 'dotkniętego': 267,\n",
       " 'objęciach': 268,\n",
       " 'przedstawicielach': 269,\n",
       " 'obiekt': 270,\n",
       " 'pewniej': 271,\n",
       " 'zmianą': 272,\n",
       " 'wieczorem': 273,\n",
       " 'łączą': 274,\n",
       " 'swoim': 275,\n",
       " 'spasuje': 276,\n",
       " 'prawdziwa': 277,\n",
       " 'prawdziwy': 278,\n",
       " 'fajnych': 279,\n",
       " 'nieziemski': 280,\n",
       " 'nietrzeźwość': 281,\n",
       " 'dróg': 282,\n",
       " 'kształt': 283,\n",
       " 'kolorową': 284,\n",
       " 'wiele': 285,\n",
       " 'wielu': 286,\n",
       " 'Oświadczył': 287,\n",
       " 'nietrwałe': 288,\n",
       " 'sztuczny': 289,\n",
       " 'Komendy': 290,\n",
       " 'młodej': 291,\n",
       " 'poeta': 292,\n",
       " 'malutka': 293,\n",
       " 'mężem': 294,\n",
       " 'zareklamowany': 295,\n",
       " 'sukienkach': 296,\n",
       " 'zainstalować': 297,\n",
       " 'haftem': 298,\n",
       " 'On': 299,\n",
       " 'Od': 300,\n",
       " 'OK': 301,\n",
       " 'utworzenia': 302,\n",
       " 'uzupełnienie': 303,\n",
       " 'zmysłowość': 304,\n",
       " 'nieprzyzwoitość': 305,\n",
       " 'warunków': 306,\n",
       " 'wiadomo': 307,\n",
       " 'wyrafinowany': 308,\n",
       " 'tymi': 309,\n",
       " 'biustowi': 310,\n",
       " 'snu': 311,\n",
       " 'zdarzyło': 312,\n",
       " 'zdarzyła': 313,\n",
       " 'porządnie': 314,\n",
       " '30ml': 315,\n",
       " 'Panowie': 316,\n",
       " 'próbki': 317,\n",
       " 'Sama': 318,\n",
       " 'Elegancki': 319,\n",
       " 'mdli': 320,\n",
       " 'konserwatywnie': 321,\n",
       " 'sposób': 322,\n",
       " 'polską': 323,\n",
       " 'polska': 324,\n",
       " 'taką': 325,\n",
       " 'taka': 326,\n",
       " 'taki': 327,\n",
       " 'pana': 328,\n",
       " 'pani': 329,\n",
       " 'położeniu': 330,\n",
       " 'utrzymania': 331,\n",
       " 'szli': 332,\n",
       " 'Irga': 333,\n",
       " 'wymienionych': 334,\n",
       " 'wyostrza': 335,\n",
       " 'przykład': 336,\n",
       " 'gęba': 337,\n",
       " 'zakładania': 338,\n",
       " 'brytyjscy': 339,\n",
       " 'lepiej': 340,\n",
       " 'wczesny': 341,\n",
       " 'owocnych': 342,\n",
       " 'pereł': 343,\n",
       " 'wyciszający': 344,\n",
       " 'bałaganu': 345,\n",
       " 'skórzanych': 346,\n",
       " 'chętny': 347,\n",
       " 'pozytywnie': 348,\n",
       " 'zastaw': 349,\n",
       " 'tygodniem': 350,\n",
       " 'zamykaniem': 351,\n",
       " 'podkreśla': 352,\n",
       " 'zdecydowanych': 353,\n",
       " 'podczas': 354,\n",
       " 'ok': 355,\n",
       " 'of': 356,\n",
       " 'od': 357,\n",
       " 'wspaniałej': 358,\n",
       " 'poprzez': 359,\n",
       " 'szczególne': 360,\n",
       " 'piersi': 361,\n",
       " 'Później': 362,\n",
       " 'wojnie': 363,\n",
       " 'posiadam': 364,\n",
       " 'import': 365,\n",
       " 'tego': 366,\n",
       " 'zamówiony': 367,\n",
       " 'pasowała': 368,\n",
       " 'zgodnym': 369,\n",
       " 'prezentuje': 370,\n",
       " 'przyjęła': 371,\n",
       " 'Christian': 372,\n",
       " 'zmysłowego': 373,\n",
       " 'stołecznych': 374,\n",
       " 'twarde': 375,\n",
       " 'muzyce': 376,\n",
       " 'kolacji': 377,\n",
       " 'chociaż': 378,\n",
       " 'szkoda': 379,\n",
       " 'antyutleniacze': 380,\n",
       " 'Ratko': 381,\n",
       " 'bladymi': 382,\n",
       " 'testy': 383,\n",
       " 'Coco': 384,\n",
       " 'szans': 385,\n",
       " 'miseczek': 386,\n",
       " 'kwiatów': 387,\n",
       " 'zapachem': 388,\n",
       " 'energicznej': 389,\n",
       " 'ofercie': 390,\n",
       " 'Niedzieli': 391,\n",
       " 'dizajnie': 392,\n",
       " 'optycznie': 393,\n",
       " 'nagrodach': 394,\n",
       " 'prysznica': 395,\n",
       " 'atrakcyjność': 396,\n",
       " 'Czwartku': 397,\n",
       " 'Generalnie': 398,\n",
       " 'najpiękniejszych': 399,\n",
       " 'duszę': 400,\n",
       " 'duszy': 401,\n",
       " 'zamieniony': 402,\n",
       " 'przereklamowany': 403,\n",
       " 'Przy': 404,\n",
       " 'czarna': 405,\n",
       " 'czarny': 406,\n",
       " 'drogeryjnych': 407,\n",
       " 'czarną': 408,\n",
       " 'Perfumy': 409,\n",
       " 'podnosi': 410,\n",
       " 'inaczej': 411,\n",
       " 'rynku': 412,\n",
       " 'Powązkach': 413,\n",
       " 'tłumu': 414,\n",
       " 'białek': 415,\n",
       " 'Jędrzejowskiego': 416,\n",
       " 'zawsze': 417,\n",
       " 'owocowe': 418,\n",
       " 'lekkie': 419,\n",
       " 'lekkim': 420,\n",
       " 'Frontery': 421,\n",
       " 'takiego': 422,\n",
       " 'porwana': 423,\n",
       " 'Odrobina': 424,\n",
       " 'kontrowersyjnych': 425,\n",
       " 'rozwijały': 426,\n",
       " 'pozorom': 427,\n",
       " 'pomidora': 428,\n",
       " 'Fascynująca': 429,\n",
       " 'uwiera': 430,\n",
       " 'gładkich': 431,\n",
       " 'POLECAM': 432,\n",
       " 'żywić': 433,\n",
       " 'użytkowniczka': 434,\n",
       " 'Idealnie': 435,\n",
       " 'protestów': 436,\n",
       " 'rokowała': 437,\n",
       " 'wyższe': 438,\n",
       " 'łąką': 439,\n",
       " 'alternatywa': 440,\n",
       " 'Całkiem': 441,\n",
       " 'porażką': 442,\n",
       " 'Dzień': 443,\n",
       " 'klientem': 444,\n",
       " 'zabrał': 445,\n",
       " 'Hoop': 446,\n",
       " 'chłopakowi': 447,\n",
       " 'przepiękny': 448,\n",
       " 'światowym': 449,\n",
       " 'eksmitowanych': 450,\n",
       " 'Cenowo': 451,\n",
       " 'zupy': 452,\n",
       " 'Dobrze': 453,\n",
       " 'horrendalna': 454,\n",
       " 'konkurencji': 455,\n",
       " 'głosowania': 456,\n",
       " 'praktyczny': 457,\n",
       " 'praktyczne': 458,\n",
       " 'Większość': 459,\n",
       " 'Napewno': 460,\n",
       " 'rozumieć': 461,\n",
       " 'zdolny': 462,\n",
       " 'wpływem': 463,\n",
       " 'Perfum': 464,\n",
       " 'torebce': 465,\n",
       " 'młodzieżą': 466,\n",
       " 'żądania': 467,\n",
       " 'kontakt': 468,\n",
       " 'głębokich': 469,\n",
       " 'żałuję': 470,\n",
       " 'wypadek': 471,\n",
       " 'Zajmuje': 472,\n",
       " 'pochód': 473,\n",
       " 'zupełnie': 474,\n",
       " 'ładnym': 475,\n",
       " 'drzewny': 476,\n",
       " 'drzewno': 477,\n",
       " 'drzewną': 478,\n",
       " 'znana': 479,\n",
       " 'znane': 480,\n",
       " 'znany': 481,\n",
       " 'nieco': 482,\n",
       " 'porzeczkę': 483,\n",
       " 'genialny': 484,\n",
       " 'rywalizowało': 485,\n",
       " 'ukochanym': 486,\n",
       " 'najbliższy': 487,\n",
       " 'płaskich': 488,\n",
       " 'dojrzałego': 489,\n",
       " 'nieudanych': 490,\n",
       " 'model': 491,\n",
       " 'nakazom': 492,\n",
       " 'rycinie': 493,\n",
       " 'używam': 494,\n",
       " 'używał': 495,\n",
       " 'używać': 496,\n",
       " 'Focusa': 497,\n",
       " 'uroczystego': 498,\n",
       " 'cudownego': 499,\n",
       " 'końcowym': 500,\n",
       " 'wzrok': 501,\n",
       " 'tata': 502,\n",
       " 'przestrzennej': 503,\n",
       " 'trzyma': 504,\n",
       " 'rodziców': 505,\n",
       " 'pyszniła': 506,\n",
       " 'parkiecie': 507,\n",
       " 'żadna': 508,\n",
       " 'żadną': 509,\n",
       " 'domów': 510,\n",
       " 'Pour': 511,\n",
       " 'klasą': 512,\n",
       " 'klasę': 513,\n",
       " 'włożę': 514,\n",
       " 'klasy': 515,\n",
       " 'urzekł': 516,\n",
       " 'urzeka': 517,\n",
       " 'wyglądu': 518,\n",
       " 'wygląda': 519,\n",
       " 'miłośników': 520,\n",
       " 'Polskim': 521,\n",
       " 'pół': 522,\n",
       " 'nieprzewidywalności': 523,\n",
       " 'gubią': 524,\n",
       " 'czegoś': 525,\n",
       " 'uroku': 526,\n",
       " 'prysznic': 527,\n",
       " 'Rosję': 528,\n",
       " 'ramiona': 529,\n",
       " 'sympatykom': 530,\n",
       " 'jakość': 531,\n",
       " 'wypowiedzieli': 532,\n",
       " 'efektywną': 533,\n",
       " 'całymi': 534,\n",
       " 'utrzymywał': 535,\n",
       " 'pożarniczy': 536,\n",
       " 'dyskotekę': 537,\n",
       " 'Wkoło': 538,\n",
       " 'przeminie': 539,\n",
       " 'Cyganeria': 540,\n",
       " 'także': 541,\n",
       " 'Polki': 542,\n",
       " 'Noszę': 543,\n",
       " 'Uniwersytetu': 544,\n",
       " 'Było': 545,\n",
       " 'specyficzny': 546,\n",
       " 'odczuwasz': 547,\n",
       " 'męża': 548,\n",
       " 'egoistycznych': 549,\n",
       " 'zmienił': 550,\n",
       " 'zmienić': 551,\n",
       " 'zmienia': 552,\n",
       " 'mdława': 553,\n",
       " 'czystym': 554,\n",
       " 'efektu': 555,\n",
       " 'imię': 556,\n",
       " 'Kolor': 557,\n",
       " 'najbliższym': 558,\n",
       " 'duchu': 559,\n",
       " 'bunt': 560,\n",
       " 'republiki': 561,\n",
       " 'spotykany': 562,\n",
       " 'kwiatowym': 563,\n",
       " 'zmienione': 564,\n",
       " 'zostawiając': 565,\n",
       " 'Ma': 566,\n",
       " 'Mi': 567,\n",
       " 'strefie': 568,\n",
       " 'uwodzić': 569,\n",
       " 'dystansem': 570,\n",
       " 'odstępy': 571,\n",
       " 'niczym': 572,\n",
       " 'drobnej': 573,\n",
       " 'nutę': 574,\n",
       " 'nuty': 575,\n",
       " 'nuta': 576,\n",
       " 'mediacjach': 577,\n",
       " 'końca': 578,\n",
       " 'koszulce': 579,\n",
       " 'religijni': 580,\n",
       " 'stronę': 581,\n",
       " 'realizmu': 582,\n",
       " 'zagranicznego': 583,\n",
       " 'wykonania': 584,\n",
       " 'przywiązanej': 585,\n",
       " 'zakup': 586,\n",
       " 'ktorą': 587,\n",
       " 'wrażliwą': 588,\n",
       " 'stanie': 589,\n",
       " 'stanik': 590,\n",
       " 'odstrasza': 591,\n",
       " 'Kompletnie': 592,\n",
       " 'przygody': 593,\n",
       " 'Flakonik': 594,\n",
       " 'odparzeń': 595,\n",
       " 'wieczory': 596,\n",
       " 'zbrodnie': 597,\n",
       " 'koloniami': 598,\n",
       " 'intryguje': 599,\n",
       " 'jeszcze': 600,\n",
       " 'obracająca': 601,\n",
       " 'Lauren': 602,\n",
       " 'kłują': 603,\n",
       " 'tytuł': 604,\n",
       " 'wykazuje': 605,\n",
       " 'rozwaliło': 606,\n",
       " 'rozwaliły': 607,\n",
       " 'czasami': 608,\n",
       " 'tknąć': 609,\n",
       " 'jakie': 610,\n",
       " 'pozostawienie': 611,\n",
       " 'obiedzie': 612,\n",
       " 'wzorów': 613,\n",
       " 'szybka': 614,\n",
       " 'szybki': 615,\n",
       " 'szybko': 616,\n",
       " 'dochodzi': 617,\n",
       " 'uzależnił': 618,\n",
       " 'utrzymują': 619,\n",
       " 'przebojowych': 620,\n",
       " 'utrzymuje': 621,\n",
       " 'kark': 622,\n",
       " 'Bogu': 623,\n",
       " 'spokojem': 624,\n",
       " 'kusząco': 625,\n",
       " 'kuszące': 626,\n",
       " 'kuszący': 627,\n",
       " 'Klein': 628,\n",
       " 'samym': 629,\n",
       " 'ulubionych': 630,\n",
       " 'stoi': 631,\n",
       " 'Wyraźnie': 632,\n",
       " 'wiedzą': 633,\n",
       " 'ciepło': 634,\n",
       " 'Buzka': 635,\n",
       " 'absolutnej': 636,\n",
       " 'trwałości': 637,\n",
       " 'ma': 638,\n",
       " 'mi': 639,\n",
       " 'mu': 640,\n",
       " 'zapada': 641,\n",
       " 'seksapil': 642,\n",
       " 'radośnie': 643,\n",
       " 'pięknie': 644,\n",
       " 'utrzyma': 645,\n",
       " 'interesów': 646,\n",
       " 'jakiej': 647,\n",
       " 'brakuje': 648,\n",
       " 'jakieś': 649,\n",
       " 'śliwkę': 650,\n",
       " 'wyczuwalny': 651,\n",
       " 'podkreślone': 652,\n",
       " 'przeznaczony': 653,\n",
       " 'biustonoszach': 654,\n",
       " 'liberalny': 655,\n",
       " 'doniesienia': 656,\n",
       " 'doskonale': 657,\n",
       " 'depresji': 658,\n",
       " 'Niby': 659,\n",
       " 'mnóstwem': 660,\n",
       " 'przechodzi': 661,\n",
       " 'sytuacji': 662,\n",
       " 'wykrochmaloną': 663,\n",
       " 'gust': 664,\n",
       " 'tłumie': 665,\n",
       " 'jednorazówki': 666,\n",
       " 'radość': 667,\n",
       " 'wszytsko': 668,\n",
       " 'Słodkiego': 669,\n",
       " 'uśmiechać': 670,\n",
       " 'wiedział': 671,\n",
       " 'zależy': 672,\n",
       " 'owocujący': 673,\n",
       " 'upiekli': 674,\n",
       " 'odpowiedni': 675,\n",
       " 'Odważna': 676,\n",
       " 'zgięcie': 677,\n",
       " 'radosnym': 678,\n",
       " 'kolorystyce': 679,\n",
       " 'drugiego': 680,\n",
       " 'trzecia': 681,\n",
       " 'nutami': 682,\n",
       " 'rodzinnego': 683,\n",
       " 'Przedsiębiorcę': 684,\n",
       " 'Givenchy': 685,\n",
       " 'mankament': 686,\n",
       " 'kategorii': 687,\n",
       " 'Skierowany': 688,\n",
       " 'upolowania': 689,\n",
       " 'niego': 690,\n",
       " 'Posiada': 691,\n",
       " 'Chociaż': 692,\n",
       " 'liczne': 693,\n",
       " 'liczni': 694,\n",
       " 'ludzie': 695,\n",
       " 'przezroczystą': 696,\n",
       " 'uwielbia': 697,\n",
       " 'podziękowania': 698,\n",
       " 'włoski': 699,\n",
       " 'Ładniejszy': 700,\n",
       " 'Pań': 701,\n",
       " 'Pan': 702,\n",
       " 'zajmuje': 703,\n",
       " 'napadem': 704,\n",
       " 'zaskakujący': 705,\n",
       " 'z': 706,\n",
       " 'niska': 707,\n",
       " 'ściśnięcia': 708,\n",
       " 'zaczęły': 709,\n",
       " 'Mühlhausowi': 710,\n",
       " 'spełnił': 711,\n",
       " 'policja': 712,\n",
       " 'policji': 713,\n",
       " 'Marka': 714,\n",
       " 'cudna': 715,\n",
       " 'doświadczają': 716,\n",
       " 'starym': 717,\n",
       " 'groźne': 718,\n",
       " 'kotom': 719,\n",
       " 'wyglądać': 720,\n",
       " 'Dune': 721,\n",
       " 'wystąpienie': 722,\n",
       " 'fasonów': 723,\n",
       " 'kłodzkiego': 724,\n",
       " 'skromne': 725,\n",
       " 'skromny': 726,\n",
       " 'nietuzinkowym': 727,\n",
       " 'Muszę': 728,\n",
       " 'zakupów': 729,\n",
       " 'rodzinę': 730,\n",
       " 'rodziną': 731,\n",
       " 'rodzina': 732,\n",
       " 'Wizytek': 733,\n",
       " 'mililitrów': 734,\n",
       " 'moja': 735,\n",
       " 'romantyczki': 736,\n",
       " 'szczególnego': 737,\n",
       " 'oddała': 738,\n",
       " 'ekspertów': 739,\n",
       " 'istniała': 740,\n",
       " 'okazyjnej': 741,\n",
       " 'rannych': 742,\n",
       " 'sąsiedzi': 743,\n",
       " 'najdroższe': 744,\n",
       " 'Kujawy': 745,\n",
       " 'perfumach': 746,\n",
       " 'takim': 747,\n",
       " 'stosunku': 748,\n",
       " 'piłkarskiej': 749,\n",
       " 'powojennej': 750,\n",
       " 'bycia': 751,\n",
       " 'zapewnia': 752,\n",
       " 'pikanterii': 753,\n",
       " 'wpisała': 754,\n",
       " 'wydajne': 755,\n",
       " 'wspomnienia': 756,\n",
       " 'toczą': 757,\n",
       " 'ścisnąć': 758,\n",
       " 'Szczególnie': 759,\n",
       " 'dziękuję': 760,\n",
       " 'kogoś': 761,\n",
       " 'koleżankę': 762,\n",
       " 'duże': 763,\n",
       " 'koleżanki': 764,\n",
       " 'zwiększając': 765,\n",
       " 'kreacje': 766,\n",
       " 'poranku': 767,\n",
       " 'odszkodowania': 768,\n",
       " 'poszukuję': 769,\n",
       " 'staniczek': 770,\n",
       " 'godnym': 771,\n",
       " 'tradycyjnym': 772,\n",
       " 'całemu': 773,\n",
       " 'mocna': 774,\n",
       " 'znanej': 775,\n",
       " 'zasłania': 776,\n",
       " 'odnieść': 777,\n",
       " 'Ksiądz': 778,\n",
       " 'powietrzu': 779,\n",
       " 'powietrza': 780,\n",
       " 'powietrze': 781,\n",
       " 'amarantowa': 782,\n",
       " 'Tymczasem': 783,\n",
       " 'całą': 784,\n",
       " 'leży': 785,\n",
       " 'cały': 786,\n",
       " 'Cmentarza': 787,\n",
       " 'gatunkowo': 788,\n",
       " 'spytało': 789,\n",
       " 'buja': 790,\n",
       " 'Śliczny': 791,\n",
       " 'Śliczna': 792,\n",
       " 'Biernacki': 793,\n",
       " 'energicznych': 794,\n",
       " 'własną': 795,\n",
       " 'złożył': 796,\n",
       " 'żony': 797,\n",
       " 'żona': 798,\n",
       " 'partii': 799,\n",
       " 'ani': 800,\n",
       " 'wibrującą': 801,\n",
       " 'reklama': 802,\n",
       " 'macochy': 803,\n",
       " 'flaszka': 804,\n",
       " 'beznadziejny': 805,\n",
       " 'niszcząc': 806,\n",
       " 'modeluje': 807,\n",
       " 'modelują': 808,\n",
       " 'lekką': 809,\n",
       " 'własnych': 810,\n",
       " 'niespodzianek': 811,\n",
       " 'Zachowują': 812,\n",
       " 'lekko': 813,\n",
       " 'lekki': 814,\n",
       " 'Zakupiła': 815,\n",
       " 'tracąc': 816,\n",
       " 'Prokuratury': 817,\n",
       " 'trucizna': 818,\n",
       " 'pełne': 819,\n",
       " 'odpowiada': 820,\n",
       " 'ułożenia': 821,\n",
       " 'osobiście': 822,\n",
       " 'pasku': 823,\n",
       " 'sporo': 824,\n",
       " 'spora': 825,\n",
       " 'spory': 826,\n",
       " 'sporą': 827,\n",
       " 'Beatki': 828,\n",
       " 'nadgarstkowe': 829,\n",
       " 'Oczywiście': 830,\n",
       " 'podążyła': 831,\n",
       " 'Armani': 832,\n",
       " 'sytuacjami': 833,\n",
       " 'niewielki': 834,\n",
       " 'bezpieczeństwa': 835,\n",
       " 'przy': 836,\n",
       " 'codzień': 837,\n",
       " 'codzien': 838,\n",
       " 'ocenili': 839,\n",
       " 'części': 840,\n",
       " 'stołka': 841,\n",
       " 'wspaniałego': 842,\n",
       " 'esencjonalny': 843,\n",
       " 'zginie': 844,\n",
       " 'rozkrzewiona': 845,\n",
       " 'dekolcie': 846,\n",
       " 'zakrętka': 847,\n",
       " 'zdecydowanie': 848,\n",
       " 'For': 849,\n",
       " 'waniliowy': 850,\n",
       " 'śmy': 851,\n",
       " 'nigdy': 852,\n",
       " 'własnego': 853,\n",
       " 'domu': 854,\n",
       " 'uwielbiają': 855,\n",
       " 'pieniądze': 856,\n",
       " 'postkomuch': 857,\n",
       " 'żydowskich': 858,\n",
       " 'wypróbowała': 859,\n",
       " 'Cieszą': 860,\n",
       " 'Stan': 861,\n",
       " 'Kolorystyka': 862,\n",
       " 'nowymi': 863,\n",
       " 'wiązanie': 864,\n",
       " 'wizerunkiem': 865,\n",
       " 'użytkowania': 866,\n",
       " 'Komor': 867,\n",
       " 'berecie': 868,\n",
       " 'zapachową': 869,\n",
       " 'zapachowe': 870,\n",
       " 'zapachowa': 871,\n",
       " 'zaprojektowane': 872,\n",
       " 'sylwetkę': 873,\n",
       " 'sylwetki': 874,\n",
       " 'zawiedzie': 875,\n",
       " 'wicestarosta': 876,\n",
       " 'kształcie': 877,\n",
       " 'urzędzie': 878,\n",
       " 'letnie': 879,\n",
       " 'letnia': 880,\n",
       " 'znaleźć': 881,\n",
       " 'rząd': 882,\n",
       " 'jesienne': 883,\n",
       " 'jesienną': 884,\n",
       " 'róży': 885,\n",
       " 'różu': 886,\n",
       " 'Jesteśmy': 887,\n",
       " 'bergamotki': 888,\n",
       " 'nocną': 889,\n",
       " 'piersiami': 890,\n",
       " 'ludzkiej': 891,\n",
       " 'rozciąga': 892,\n",
       " 'nieciekawy': 893,\n",
       " 'końcu': 894,\n",
       " 'arbitra': 895,\n",
       " 'optymizmu': 896,\n",
       " 'Całokształt': 897,\n",
       " 'udało': 898,\n",
       " 'Potem': 899,\n",
       " 'wakacje': 900,\n",
       " 'chorobami': 901,\n",
       " 'Lwowskich': 902,\n",
       " 'ciężki': 903,\n",
       " 'ustach': 904,\n",
       " 'przed': 905,\n",
       " 'mokrym': 906,\n",
       " 'dziedzinach': 907,\n",
       " 'diametralnie': 908,\n",
       " 'witali': 909,\n",
       " 'przecudne': 910,\n",
       " 'przecudny': 911,\n",
       " 'nadawania': 912,\n",
       " 'Znalezisko': 913,\n",
       " 'długi': 914,\n",
       " 'długo': 915,\n",
       " 'krój': 916,\n",
       " 'zostawiam': 917,\n",
       " 'kokarda': 918,\n",
       " 'Spodziewał': 919,\n",
       " 'Majteczki': 920,\n",
       " 'słodszych': 921,\n",
       " 'jesiennym': 922,\n",
       " 'wyniesione': 923,\n",
       " 'wyszczuplającego': 924,\n",
       " 'używając': 925,\n",
       " 'euforia': 926,\n",
       " 'euforię': 927,\n",
       " 'silniejsze': 928,\n",
       " 'cytrusami': 929,\n",
       " 'wanien': 930,\n",
       " 'silnej': 931,\n",
       " 'Mimo': 932,\n",
       " 'większe': 933,\n",
       " 'większą': 934,\n",
       " 'perfum': 935,\n",
       " 'pralce': 936,\n",
       " 'Założony': 937,\n",
       " 'torebki': 938,\n",
       " 'dotyk': 939,\n",
       " 'czymś': 940,\n",
       " 'dużym': 941,\n",
       " 'związkach': 942,\n",
       " 'prezentacji': 943,\n",
       " 'brutalni': 944,\n",
       " 'ręcznie': 945,\n",
       " 'pełnowymiarowego': 946,\n",
       " 'Obecnie': 947,\n",
       " 'wprawia': 948,\n",
       " 'Kupuję': 949,\n",
       " 'Pi': 950,\n",
       " 'Po': 951,\n",
       " 'ludobójstwo': 952,\n",
       " 'obserwatorzy': 953,\n",
       " 'Stanik': 954,\n",
       " 'rozwija': 955,\n",
       " 'chciała': 956,\n",
       " 'izolacji': 957,\n",
       " 'rywalem': 958,\n",
       " 'pojechać': 959,\n",
       " 'ostatecznego': 960,\n",
       " 'niezbyt': 961,\n",
       " 'zna': 962,\n",
       " 'Przepiękne': 963,\n",
       " 'Przepiękny': 964,\n",
       " 'niezwykle': 965,\n",
       " 'ostrą': 966,\n",
       " 'Kusi': 967,\n",
       " 'ostre': 968,\n",
       " 'ostry': 969,\n",
       " 'ks': 970,\n",
       " 'ku': 971,\n",
       " 'Kiedy': 972,\n",
       " 'przekombinowany': 973,\n",
       " 'dekoracyjny': 974,\n",
       " 'podkreślają': 975,\n",
       " 'D': 976,\n",
       " 'proszą': 977,\n",
       " 'gdzie': 978,\n",
       " 'podobał': 979,\n",
       " 'podobać': 980,\n",
       " 'zakomunikowali': 981,\n",
       " 'niespecjalnie': 982,\n",
       " 'fanów': 983,\n",
       " 'światowa': 984,\n",
       " 'widnieją': 985,\n",
       " 'postanowiła': 986,\n",
       " 'owa': 987,\n",
       " 'kolorów': 988,\n",
       " 'otrzymała': 989,\n",
       " 'nagminnie': 990,\n",
       " 'zalety': 991,\n",
       " 'Młodych': 992,\n",
       " 'wyglądem': 993,\n",
       " 'majtek': 994,\n",
       " 'przesłodzony': 995,\n",
       " 'Wracam': 996,\n",
       " 'aromaty': 997,\n",
       " 'czesto': 998,\n",
       " 'wyprofilowana': 999,\n",
       " 'szczyt': 1000,\n",
       " 'tytoniu': 1001,\n",
       " ...}"
      ]
     },
     "execution_count": 71,
     "metadata": {},
     "output_type": "execute_result"
    }
   ],
   "source": [
    "words2ids"
   ]
  },
  {
   "cell_type": "code",
   "execution_count": 72,
   "metadata": {
    "scrolled": true
   },
   "outputs": [
    {
     "data": {
      "text/plain": [
       "(5000, 300)"
      ]
     },
     "execution_count": 72,
     "metadata": {},
     "output_type": "execute_result"
    }
   ],
   "source": [
    "embeddings.shape"
   ]
  },
  {
   "cell_type": "code",
   "execution_count": 73,
   "metadata": {},
   "outputs": [],
   "source": [
    "?Embedding"
   ]
  },
  {
   "cell_type": "code",
   "execution_count": 74,
   "metadata": {},
   "outputs": [],
   "source": [
    "from keras.preprocessing import sequence as seq"
   ]
  },
  {
   "cell_type": "code",
   "execution_count": 149,
   "metadata": {},
   "outputs": [],
   "source": [
    "def load_and_transform_data_to_phrases(labels, parents, tokens, words2ids):\n",
    "\n",
    "    \"\"\"\n",
    "    Dokumentacja\n",
    "    \"\"\"\n",
    "    \n",
    "\n",
    "    transform_label = {'-1':0, '0':1, '1':2}\n",
    "    \n",
    "    l = open(labels, \"r\")\n",
    "    labels = [[transform_label[y] for y in x.split()] for x in l.readlines()] \n",
    "    l.close()\n",
    "\n",
    "    p = open(parents,\"r\")\n",
    "    parents = [[int(y) for y in x.split()] for x in p.readlines()]\n",
    "    p.close()\n",
    "\n",
    "    t = open(tokens,\"r\")\n",
    "    tokens = [x.split() for x in t.readlines()]\n",
    "    t.close()\n",
    "    \n",
    "    k = 0\n",
    "    result = []\n",
    "    \n",
    "    for labels_i,parents_i,tokens_i in zip(labels,parents,tokens):\n",
    "        \n",
    "        k = k + 1\n",
    "         \n",
    "        s = []\n",
    "        for i in range(len(tokens_i)):\n",
    "            s.append([i,int(parents_i[i]),labels_i[i],tokens_i[i]])\n",
    "\n",
    "\n",
    "        if len(s) == 1: #przypadek gdy fraza sklada sie z jednego tokena\n",
    "\n",
    "            result.append((\\\n",
    "                                  tokens[0],\n",
    "                                  np.array([words2ids.get(tokens[0], 1)]),\\\n",
    "                                  np.array(labels_i[0]) \\\n",
    "                              ))    \n",
    "                           \n",
    "        else: \n",
    "            \n",
    "            for i in range(len(s)): \n",
    "                children = []\n",
    "                for j in range(len(s)):\n",
    "                    if s[j][1] == i+1:\n",
    "                        children.append(s[j][0])\n",
    "                s[i].append(children)\n",
    "\n",
    "                \n",
    "            words = [x[0] for x in s]\n",
    "            children = [x[4] for x in s]\n",
    "            tokens = [x[3] for x in s]\n",
    "            labels_in_batch = [x[2] for x in s]\n",
    "        \n",
    "            phrases = [[k] for k in range(len(children))]\n",
    "            for i in range(len(children)):\n",
    "                for e in phrases[i]:\n",
    "                    phrases[i].extend(children[e])\n",
    "           \n",
    "            phrases = [ np.sort(x) for x in phrases]\n",
    "          \n",
    "            phrases = list(zip([np.array(tokens_i)[x] for x in phrases],\n",
    "                               [np.array([words2ids.get(t,1) for t in tokens_i])[x] for x in phrases],\n",
    "                               labels_i))\n",
    "\n",
    "            result.extend(phrases)\n",
    "           \n",
    "    return result"
   ]
  },
  {
   "cell_type": "code",
   "execution_count": 150,
   "metadata": {},
   "outputs": [],
   "source": [
    "train_data = load_and_transform_data_to_phrases(\"Dane/data_poleval/training-treebank/rev_labels.txt\", \"Dane/data_poleval/training-treebank/rev_parents.txt\",\"Dane/data_poleval/training-treebank/rev_sentence.txt\",words2ids)\n",
    "test_data = load_and_transform_data_to_phrases(\"Dane/data_poleval/poleval_test/gold_labels\", \"Dane/data_poleval/poleval_test/polevaltest_parents.txt\",\"Dane/data_poleval/poleval_test/polevaltest_sentence.txt\",words2ids) "
   ]
  },
  {
   "cell_type": "code",
   "execution_count": 159,
   "metadata": {},
   "outputs": [
    {
     "data": {
      "text/plain": [
       "(array(['Słodkawy'], dtype='<U8'), array([2731]), 1)"
      ]
     },
     "execution_count": 159,
     "metadata": {},
     "output_type": "execute_result"
    }
   ],
   "source": [
    "train_data[0]"
   ]
  },
  {
   "cell_type": "code",
   "execution_count": 201,
   "metadata": {},
   "outputs": [],
   "source": [
    "text_train = np.array([x[0] for x in train_data])\n",
    "text_test = np.array([x[0] for x in test_data])\n",
    "\n",
    "maxlen = max(max([len(text) for text in text_train]), max([len(text) for text in text_test]) )"
   ]
  },
  {
   "cell_type": "code",
   "execution_count": 173,
   "metadata": {},
   "outputs": [
    {
     "data": {
      "text/plain": [
       "array([array([2731]), array([2731, 1746, 1465,  515,    1]),\n",
       "       array([1465]), array([1465,  515]), array([1])], dtype=object)"
      ]
     },
     "execution_count": 173,
     "metadata": {},
     "output_type": "execute_result"
    }
   ],
   "source": [
    "text_train = np.array([x[0] for x in test_data])\n",
    "X_test = np.array([x[1] for x in test_data])\n",
    "X_train = np.array([x[1] for x in train_data])\n",
    "X_train[:5]"
   ]
  },
  {
   "cell_type": "code",
   "execution_count": 170,
   "metadata": {},
   "outputs": [
    {
     "data": {
      "text/plain": [
       "(9510,)"
      ]
     },
     "execution_count": 170,
     "metadata": {},
     "output_type": "execute_result"
    }
   ],
   "source": [
    "X_train.shape"
   ]
  },
  {
   "cell_type": "code",
   "execution_count": 176,
   "metadata": {},
   "outputs": [
    {
     "data": {
      "text/plain": [
       "array([1, 1, 2, 2, 1])"
      ]
     },
     "execution_count": 176,
     "metadata": {},
     "output_type": "execute_result"
    }
   ],
   "source": [
    "pre_y_test = np.array([x[2] for x in test_data])\n",
    "pre_y_train = np.array([x[2] for x in train_data])\n",
    "pre_y_train[:5]"
   ]
  },
  {
   "cell_type": "code",
   "execution_count": 214,
   "metadata": {},
   "outputs": [
    {
     "data": {
      "text/plain": [
       "array([[0., 1., 0.],\n",
       "       [0., 1., 0.],\n",
       "       [0., 0., 1.],\n",
       "       [0., 0., 1.],\n",
       "       [0., 1., 0.]], dtype=float32)"
      ]
     },
     "execution_count": 214,
     "metadata": {},
     "output_type": "execute_result"
    }
   ],
   "source": [
    "from keras.utils import to_categorical\n",
    "y_test = to_categorical(pre_y_test)\n",
    "y_train = to_categorical(pre_y_train)\n",
    "y_train[:5]"
   ]
  },
  {
   "cell_type": "code",
   "execution_count": 194,
   "metadata": {},
   "outputs": [
    {
     "data": {
      "text/plain": [
       "array([array([2731]), 1], dtype=object)"
      ]
     },
     "execution_count": 194,
     "metadata": {},
     "output_type": "execute_result"
    }
   ],
   "source": [
    "data[0]"
   ]
  },
  {
   "cell_type": "code",
   "execution_count": 127,
   "metadata": {},
   "outputs": [
    {
     "data": {
      "text/plain": [
       "2421"
      ]
     },
     "execution_count": 127,
     "metadata": {},
     "output_type": "execute_result"
    }
   ],
   "source": [
    "max_features = int(1 * len(set(np.concatenate([list(x[0]) for x in train_data]))))\n",
    "max_features"
   ]
  },
  {
   "cell_type": "code",
   "execution_count": 205,
   "metadata": {},
   "outputs": [
    {
     "data": {
      "text/plain": [
       "(9510, 40)"
      ]
     },
     "execution_count": 205,
     "metadata": {},
     "output_type": "execute_result"
    }
   ],
   "source": [
    "X_test_pad = sequence.pad_sequences(X_test, maxlen=maxlen)\n",
    "X_train_pad = sequence.pad_sequences(X_train, maxlen=maxlen)\n",
    "X_train_pad.shape"
   ]
  },
  {
   "cell_type": "code",
   "execution_count": 206,
   "metadata": {},
   "outputs": [
    {
     "data": {
      "text/plain": [
       "array([2731])"
      ]
     },
     "execution_count": 206,
     "metadata": {},
     "output_type": "execute_result"
    }
   ],
   "source": [
    "X_train[0]"
   ]
  },
  {
   "cell_type": "markdown",
   "metadata": {},
   "source": [
    "### Wykorzystanie gotowych (*pretrained*) embeddingów: \n",
    "\n",
    "Embedding(..., weights = [embeddings], trainable = True/False)\n",
    "\n",
    "Parametr `trainable` - określa czy chcemy douczać nasze embeddingi czy nie."
   ]
  },
  {
   "cell_type": "code",
   "execution_count": 207,
   "metadata": {},
   "outputs": [],
   "source": [
    "max_features = 5000\n",
    "embedding_dims = 300"
   ]
  },
  {
   "cell_type": "code",
   "execution_count": 211,
   "metadata": {},
   "outputs": [
    {
     "name": "stdout",
     "output_type": "stream",
     "text": [
      "_________________________________________________________________\n",
      "Layer (type)                 Output Shape              Param #   \n",
      "=================================================================\n",
      "embedding_25 (Embedding)     (None, 40, 300)           1500000   \n",
      "_________________________________________________________________\n",
      "lstm_2 (LSTM)                (None, 10)                12440     \n",
      "_________________________________________________________________\n",
      "dense_23 (Dense)             (None, 3)                 33        \n",
      "=================================================================\n",
      "Total params: 1,512,473\n",
      "Trainable params: 12,473\n",
      "Non-trainable params: 1,500,000\n",
      "_________________________________________________________________\n"
     ]
    }
   ],
   "source": [
    "model = Sequential()\n",
    "model.add( Embedding( max_features, embedding_dims, input_length=maxlen, weights=[embeddings], trainable=False ) )\n",
    "model.add( LSTM(10) )\n",
    "model.add( Dense(3 ,activation='softmax') )\n",
    "model.summary()"
   ]
  },
  {
   "cell_type": "code",
   "execution_count": 215,
   "metadata": {},
   "outputs": [
    {
     "data": {
      "text/plain": [
       "(9510, 3)"
      ]
     },
     "execution_count": 215,
     "metadata": {},
     "output_type": "execute_result"
    }
   ],
   "source": [
    "y_train.shape"
   ]
  },
  {
   "cell_type": "code",
   "execution_count": 212,
   "metadata": {},
   "outputs": [
    {
     "data": {
      "text/plain": [
       "(9510, 40)"
      ]
     },
     "execution_count": 212,
     "metadata": {},
     "output_type": "execute_result"
    }
   ],
   "source": [
    "X_train_pad.shape"
   ]
  },
  {
   "cell_type": "code",
   "execution_count": 216,
   "metadata": {},
   "outputs": [
    {
     "name": "stdout",
     "output_type": "stream",
     "text": [
      "Train on 7608 samples, validate on 1902 samples\n",
      "Epoch 1/100\n",
      "7608/7608 [==============================] - 13s 2ms/step - loss: 0.1253 - acc: 0.9606 - val_loss: 0.3864 - val_acc: 0.8828\n",
      "Epoch 2/100\n",
      "7608/7608 [==============================] - 12s 2ms/step - loss: 0.1140 - acc: 0.9648 - val_loss: 0.4162 - val_acc: 0.8791\n",
      "Epoch 3/100\n",
      "7608/7608 [==============================] - 12s 2ms/step - loss: 0.1047 - acc: 0.9695 - val_loss: 0.4122 - val_acc: 0.8801\n",
      "Epoch 4/100\n",
      "7608/7608 [==============================] - 13s 2ms/step - loss: 0.0960 - acc: 0.9724 - val_loss: 0.4260 - val_acc: 0.8770\n",
      "5047/5047 [==============================] - 1s 268us/step\n"
     ]
    },
    {
     "data": {
      "text/plain": [
       "[0.7508421956441745, 0.7925500296379567]"
      ]
     },
     "execution_count": 216,
     "metadata": {},
     "output_type": "execute_result"
    }
   ],
   "source": [
    "model.compile(loss='categorical_crossentropy', optimizer=\"adam\", metrics=['accuracy'])\n",
    "early_stopping = EarlyStopping(patience=3, monitor=\"val_acc\")\n",
    "model.fit(X_train_pad, y_train, epochs=100, validation_split=0.2, callbacks=[early_stopping])\n",
    "\n",
    "model.evaluate(X_test_pad, y_test)"
   ]
  },
  {
   "cell_type": "code",
   "execution_count": 217,
   "metadata": {},
   "outputs": [],
   "source": [
    "from keras.layers.convolutional import Conv1D"
   ]
  },
  {
   "cell_type": "code",
   "execution_count": 218,
   "metadata": {},
   "outputs": [
    {
     "name": "stdout",
     "output_type": "stream",
     "text": [
      "_________________________________________________________________\n",
      "Layer (type)                 Output Shape              Param #   \n",
      "=================================================================\n",
      "embedding_26 (Embedding)     (None, 40, 300)           1500000   \n",
      "_________________________________________________________________\n",
      "conv1d_1 (Conv1D)            (None, 38, 50)            45050     \n",
      "_________________________________________________________________\n",
      "lstm_3 (LSTM)                (None, 10)                2440      \n",
      "_________________________________________________________________\n",
      "dense_24 (Dense)             (None, 3)                 33        \n",
      "=================================================================\n",
      "Total params: 1,547,523\n",
      "Trainable params: 47,523\n",
      "Non-trainable params: 1,500,000\n",
      "_________________________________________________________________\n"
     ]
    }
   ],
   "source": [
    "model = Sequential()\n",
    "model.add( Embedding( max_features, embedding_dims, input_length=maxlen, weights=[embeddings], trainable=False ) )\n",
    "model.add( Conv1D(50,3) )\n",
    "model.add( LSTM(10) )\n",
    "model.add( Dense(3 ,activation='softmax') )\n",
    "model.summary()"
   ]
  },
  {
   "cell_type": "code",
   "execution_count": 219,
   "metadata": {},
   "outputs": [
    {
     "name": "stdout",
     "output_type": "stream",
     "text": [
      "Train on 7608 samples, validate on 1902 samples\n",
      "Epoch 1/100\n",
      "7608/7608 [==============================] - 14s 2ms/step - loss: 0.4566 - acc: 0.8408 - val_loss: 0.3877 - val_acc: 0.8644\n",
      "Epoch 2/100\n",
      "7608/7608 [==============================] - 12s 2ms/step - loss: 0.2505 - acc: 0.9119 - val_loss: 0.3788 - val_acc: 0.8717\n",
      "Epoch 3/100\n",
      "7608/7608 [==============================] - 13s 2ms/step - loss: 0.1915 - acc: 0.9366 - val_loss: 0.3564 - val_acc: 0.8754\n",
      "Epoch 4/100\n",
      "7608/7608 [==============================] - 14s 2ms/step - loss: 0.1515 - acc: 0.9507 - val_loss: 0.3606 - val_acc: 0.8801\n",
      "Epoch 5/100\n",
      "7608/7608 [==============================] - 14s 2ms/step - loss: 0.1237 - acc: 0.9627 - val_loss: 0.3728 - val_acc: 0.8754\n",
      "Epoch 6/100\n",
      "7608/7608 [==============================] - 14s 2ms/step - loss: 0.1031 - acc: 0.9682 - val_loss: 0.3817 - val_acc: 0.8864\n",
      "Epoch 7/100\n",
      "7608/7608 [==============================] - 15s 2ms/step - loss: 0.0893 - acc: 0.9728 - val_loss: 0.4024 - val_acc: 0.8828\n",
      "Epoch 8/100\n",
      "7608/7608 [==============================] - 15s 2ms/step - loss: 0.0790 - acc: 0.9769 - val_loss: 0.4211 - val_acc: 0.8859\n",
      "Epoch 9/100\n",
      "7608/7608 [==============================] - 14s 2ms/step - loss: 0.0691 - acc: 0.9813 - val_loss: 0.4159 - val_acc: 0.8901\n",
      "Epoch 10/100\n",
      "7608/7608 [==============================] - 14s 2ms/step - loss: 0.0618 - acc: 0.9828 - val_loss: 0.4686 - val_acc: 0.8828\n",
      "Epoch 11/100\n",
      "7608/7608 [==============================] - 14s 2ms/step - loss: 0.0551 - acc: 0.9850 - val_loss: 0.4715 - val_acc: 0.8807\n",
      "Epoch 12/100\n",
      "7608/7608 [==============================] - 14s 2ms/step - loss: 0.0492 - acc: 0.9869 - val_loss: 0.4792 - val_acc: 0.8833\n",
      "5047/5047 [==============================] - 2s 305us/step\n"
     ]
    },
    {
     "data": {
      "text/plain": [
       "[0.8483443292433941, 0.7933425796676773]"
      ]
     },
     "execution_count": 219,
     "metadata": {},
     "output_type": "execute_result"
    }
   ],
   "source": [
    "model.compile(loss='categorical_crossentropy', optimizer=\"adam\", metrics=['accuracy'])\n",
    "early_stopping = EarlyStopping(patience=3, monitor=\"val_acc\")\n",
    "model.fit(X_train_pad, y_train, epochs=100, validation_split=0.2, callbacks=[early_stopping])\n",
    "\n",
    "model.evaluate(X_test_pad, y_test)"
   ]
  },
  {
   "cell_type": "code",
   "execution_count": null,
   "metadata": {},
   "outputs": [],
   "source": []
  },
  {
   "cell_type": "code",
   "execution_count": 220,
   "metadata": {},
   "outputs": [],
   "source": [
    "from keras.layers import TimeDistributed"
   ]
  },
  {
   "cell_type": "code",
   "execution_count": null,
   "metadata": {},
   "outputs": [],
   "source": [
    "model = Sequential()\n",
    "model.add( Embedding( max_features, embedding_dims, input_length=maxlen, weights=[embeddings], trainable=False ) )\n",
    "model.add( TimeDistributed(Dense(15)) )\n",
    "model.add( LSTM(10) )\n",
    "model.add( Dense(3 ,activation='softmax') )\n",
    "model.summary()"
   ]
  },
  {
   "cell_type": "markdown",
   "metadata": {
    "collapsed": true
   },
   "source": [
    "### Modelowanie szeregów czasowych\n",
    "\n",
    "https://machinelearningmastery.com/time-series-prediction-lstm-recurrent-neural-networks-python-keras/"
   ]
  },
  {
   "cell_type": "code",
   "execution_count": null,
   "metadata": {},
   "outputs": [],
   "source": []
  },
  {
   "cell_type": "code",
   "execution_count": 221,
   "metadata": {},
   "outputs": [
    {
     "data": {
      "text/plain": [
       "<Figure size 640x480 with 1 Axes>"
      ]
     },
     "metadata": {},
     "output_type": "display_data"
    }
   ],
   "source": [
    "import pandas\n",
    "import matplotlib.pyplot as plt\n",
    "dataframe = pandas.read_csv('Dane/international-airline-passengers.csv', usecols=[1], engine='python', skipfooter=3)\n",
    "plt.plot(dataframe)\n",
    "plt.show()"
   ]
  },
  {
   "cell_type": "code",
   "execution_count": 222,
   "metadata": {},
   "outputs": [],
   "source": [
    "import numpy\n",
    "import matplotlib.pyplot as plt\n",
    "import pandas\n",
    "import math\n",
    "from keras.models import Sequential\n",
    "from keras.layers import Dense\n",
    "from keras.layers import LSTM\n",
    "from sklearn.preprocessing import MinMaxScaler\n",
    "from sklearn.metrics import mean_squared_error"
   ]
  },
  {
   "cell_type": "code",
   "execution_count": 223,
   "metadata": {},
   "outputs": [],
   "source": [
    "numpy.random.seed(7)"
   ]
  },
  {
   "cell_type": "code",
   "execution_count": 224,
   "metadata": {},
   "outputs": [],
   "source": [
    "dataset = dataframe.values\n",
    "dataset = dataset.astype('float32')"
   ]
  },
  {
   "cell_type": "code",
   "execution_count": 225,
   "metadata": {},
   "outputs": [],
   "source": [
    "# normalize the dataset\n",
    "scaler = MinMaxScaler(feature_range=(0, 1))\n",
    "dataset = scaler.fit_transform(dataset)"
   ]
  },
  {
   "cell_type": "code",
   "execution_count": 57,
   "metadata": {
    "collapsed": true
   },
   "outputs": [],
   "source": [
    "?LSTM"
   ]
  },
  {
   "cell_type": "code",
   "execution_count": 226,
   "metadata": {},
   "outputs": [
    {
     "data": {
      "image/png": "[encoded data removed]",
      "text/plain": [
       "<Figure size 432x288 with 1 Axes>"
      ]
     },
     "metadata": {
      "needs_background": "light"
     },
     "output_type": "display_data"
    }
   ],
   "source": [
    "plt.plot(dataset)\n",
    "plt.show()"
   ]
  },
  {
   "cell_type": "code",
   "execution_count": 227,
   "metadata": {},
   "outputs": [
    {
     "name": "stdout",
     "output_type": "stream",
     "text": [
      "96 48\n"
     ]
    }
   ],
   "source": [
    "# split into train and test sets\n",
    "train_size = int(len(dataset) * 0.67)\n",
    "test_size = len(dataset) - train_size\n",
    "train, test = dataset[0:train_size,:], dataset[train_size:len(dataset),:]\n",
    "print(len(train), len(test))"
   ]
  },
  {
   "cell_type": "code",
   "execution_count": 228,
   "metadata": {},
   "outputs": [],
   "source": [
    "# convert an array of values into a dataset matrix\n",
    "def create_dataset(dataset, look_back=1):\n",
    "\tdataX, dataY = [], []\n",
    "\tfor i in range(len(dataset)-look_back-1):\n",
    "\t\ta = dataset[i:(i+look_back), 0]\n",
    "\t\tdataX.append(a)\n",
    "\t\tdataY.append(dataset[i + look_back, 0])\n",
    "\treturn numpy.array(dataX), numpy.array(dataY)"
   ]
  },
  {
   "cell_type": "code",
   "execution_count": 229,
   "metadata": {},
   "outputs": [],
   "source": [
    "look_back = 3\n",
    "trainX, trainY = create_dataset(train, look_back)\n",
    "testX, testY = create_dataset(test, look_back)"
   ]
  },
  {
   "cell_type": "code",
   "execution_count": 230,
   "metadata": {},
   "outputs": [],
   "source": [
    "#reshape input to be [samples, time steps, features]\n",
    "trainX = numpy.reshape(trainX, (trainX.shape[0], 1, trainX.shape[1]))\n",
    "testX = numpy.reshape(testX, (testX.shape[0], 1, testX.shape[1]))"
   ]
  },
  {
   "cell_type": "code",
   "execution_count": 231,
   "metadata": {},
   "outputs": [
    {
     "data": {
      "text/plain": [
       "array([[[0.01544401, 0.02702703, 0.05405405]],\n",
       "\n",
       "       [[0.02702703, 0.05405405, 0.04826255]],\n",
       "\n",
       "       [[0.05405405, 0.04826255, 0.03281853]],\n",
       "\n",
       "       [[0.04826255, 0.03281853, 0.05984557]],\n",
       "\n",
       "       [[0.03281853, 0.05984557, 0.08494207]],\n",
       "\n",
       "       [[0.05984557, 0.08494207, 0.08494207]],\n",
       "\n",
       "       [[0.08494207, 0.08494207, 0.06177607]],\n",
       "\n",
       "       [[0.08494207, 0.06177607, 0.02895753]],\n",
       "\n",
       "       [[0.06177607, 0.02895753, 0.        ]],\n",
       "\n",
       "       [[0.02895753, 0.        , 0.02702703]]], dtype=float32)"
      ]
     },
     "execution_count": 231,
     "metadata": {},
     "output_type": "execute_result"
    }
   ],
   "source": [
    "trainX[:10]"
   ]
  },
  {
   "cell_type": "code",
   "execution_count": 232,
   "metadata": {},
   "outputs": [
    {
     "data": {
      "text/plain": [
       "array([[[0.4073359 , 0.3803089 , 0.48648646]],\n",
       "\n",
       "       [[0.3803089 , 0.48648646, 0.47104248]],\n",
       "\n",
       "       [[0.48648646, 0.47104248, 0.484556  ]],\n",
       "\n",
       "       [[0.47104248, 0.484556  , 0.6138996 ]],\n",
       "\n",
       "       [[0.484556  , 0.6138996 , 0.6969112 ]],\n",
       "\n",
       "       [[0.6138996 , 0.6969112 , 0.70077217]],\n",
       "\n",
       "       [[0.6969112 , 0.70077217, 0.57915056]],\n",
       "\n",
       "       [[0.70077217, 0.57915056, 0.46911195]],\n",
       "\n",
       "       [[0.57915056, 0.46911195, 0.38803086]],\n",
       "\n",
       "       [[0.46911195, 0.38803086, 0.44787642]]], dtype=float32)"
      ]
     },
     "execution_count": 232,
     "metadata": {},
     "output_type": "execute_result"
    }
   ],
   "source": [
    "testX[:10]"
   ]
  },
  {
   "cell_type": "code",
   "execution_count": 233,
   "metadata": {},
   "outputs": [
    {
     "data": {
      "text/plain": [
       "array([0.04826255, 0.03281853, 0.05984557, 0.08494207, 0.08494207,\n",
       "       0.06177607, 0.02895753, 0.        , 0.02702703, 0.02123553],\n",
       "      dtype=float32)"
      ]
     },
     "execution_count": 233,
     "metadata": {},
     "output_type": "execute_result"
    }
   ],
   "source": [
    "trainY[:10]"
   ]
  },
  {
   "cell_type": "code",
   "execution_count": 234,
   "metadata": {
    "scrolled": false
   },
   "outputs": [
    {
     "name": "stdout",
     "output_type": "stream",
     "text": [
      "Train on 82 samples, validate on 10 samples\n",
      "Epoch 1/100\n",
      " - 2s - loss: 0.0377 - val_loss: 0.1438\n",
      "Epoch 2/100\n",
      " - 0s - loss: 0.0171 - val_loss: 0.0868\n",
      "Epoch 3/100\n",
      " - 0s - loss: 0.0118 - val_loss: 0.0619\n",
      "Epoch 4/100\n",
      " - 0s - loss: 0.0104 - val_loss: 0.0544\n",
      "Epoch 5/100\n",
      " - 0s - loss: 0.0096 - val_loss: 0.0471\n",
      "Epoch 6/100\n",
      " - 0s - loss: 0.0088 - val_loss: 0.0404\n",
      "Epoch 7/100\n",
      " - 0s - loss: 0.0080 - val_loss: 0.0388\n",
      "Epoch 8/100\n",
      " - 1s - loss: 0.0074 - val_loss: 0.0299\n",
      "Epoch 9/100\n",
      " - 0s - loss: 0.0067 - val_loss: 0.0268\n",
      "Epoch 10/100\n",
      " - 0s - loss: 0.0061 - val_loss: 0.0241\n",
      "Epoch 11/100\n",
      " - 0s - loss: 0.0055 - val_loss: 0.0211\n",
      "Epoch 12/100\n",
      " - 0s - loss: 0.0051 - val_loss: 0.0203\n",
      "Epoch 13/100\n",
      " - 0s - loss: 0.0047 - val_loss: 0.0180\n",
      "Epoch 14/100\n",
      " - 0s - loss: 0.0044 - val_loss: 0.0165\n",
      "Epoch 15/100\n",
      " - 0s - loss: 0.0042 - val_loss: 0.0152\n",
      "Epoch 16/100\n",
      " - 0s - loss: 0.0040 - val_loss: 0.0133\n",
      "Epoch 17/100\n",
      " - 0s - loss: 0.0038 - val_loss: 0.0134\n",
      "Epoch 18/100\n",
      " - 0s - loss: 0.0037 - val_loss: 0.0131\n",
      "Epoch 19/100\n",
      " - 0s - loss: 0.0036 - val_loss: 0.0137\n",
      "Epoch 20/100\n",
      " - 0s - loss: 0.0036 - val_loss: 0.0126\n",
      "Epoch 21/100\n",
      " - 0s - loss: 0.0035 - val_loss: 0.0119\n",
      "Epoch 22/100\n",
      " - 0s - loss: 0.0036 - val_loss: 0.0115\n",
      "Epoch 23/100\n",
      " - 0s - loss: 0.0034 - val_loss: 0.0119\n",
      "Epoch 24/100\n",
      " - 0s - loss: 0.0033 - val_loss: 0.0116\n",
      "Epoch 25/100\n",
      " - 0s - loss: 0.0032 - val_loss: 0.0119\n",
      "Epoch 26/100\n",
      " - 0s - loss: 0.0032 - val_loss: 0.0112\n",
      "Epoch 27/100\n",
      " - 0s - loss: 0.0031 - val_loss: 0.0115\n",
      "Epoch 28/100\n",
      " - 0s - loss: 0.0031 - val_loss: 0.0110\n",
      "Epoch 29/100\n",
      " - 0s - loss: 0.0031 - val_loss: 0.0110\n",
      "Epoch 30/100\n",
      " - 0s - loss: 0.0031 - val_loss: 0.0110\n",
      "Epoch 31/100\n",
      " - 0s - loss: 0.0030 - val_loss: 0.0107\n",
      "Epoch 32/100\n",
      " - 0s - loss: 0.0030 - val_loss: 0.0106\n",
      "Epoch 33/100\n",
      " - 0s - loss: 0.0030 - val_loss: 0.0106\n",
      "Epoch 34/100\n",
      " - 1s - loss: 0.0028 - val_loss: 0.0109\n",
      "Epoch 35/100\n",
      " - 0s - loss: 0.0030 - val_loss: 0.0102\n",
      "Epoch 36/100\n",
      " - 0s - loss: 0.0029 - val_loss: 0.0101\n",
      "Epoch 37/100\n",
      " - 0s - loss: 0.0029 - val_loss: 0.0100\n",
      "Epoch 38/100\n",
      " - 0s - loss: 0.0029 - val_loss: 0.0100\n",
      "Epoch 39/100\n",
      " - 0s - loss: 0.0029 - val_loss: 0.0098\n",
      "Epoch 40/100\n",
      " - 0s - loss: 0.0028 - val_loss: 0.0097\n",
      "Epoch 41/100\n",
      " - 0s - loss: 0.0029 - val_loss: 0.0095\n",
      "Epoch 42/100\n",
      " - 0s - loss: 0.0028 - val_loss: 0.0094\n",
      "Epoch 43/100\n",
      " - 0s - loss: 0.0027 - val_loss: 0.0093\n",
      "Epoch 44/100\n",
      " - 0s - loss: 0.0027 - val_loss: 0.0092\n",
      "Epoch 45/100\n",
      " - 0s - loss: 0.0027 - val_loss: 0.0091\n",
      "Epoch 46/100\n",
      " - 0s - loss: 0.0028 - val_loss: 0.0090\n",
      "Epoch 47/100\n",
      " - 0s - loss: 0.0026 - val_loss: 0.0088\n",
      "Epoch 48/100\n",
      " - 0s - loss: 0.0027 - val_loss: 0.0088\n",
      "Epoch 49/100\n",
      " - 0s - loss: 0.0027 - val_loss: 0.0090\n",
      "Epoch 50/100\n",
      " - 0s - loss: 0.0025 - val_loss: 0.0085\n",
      "Epoch 51/100\n",
      " - 0s - loss: 0.0025 - val_loss: 0.0084\n",
      "Epoch 52/100\n",
      " - 0s - loss: 0.0026 - val_loss: 0.0083\n",
      "Epoch 53/100\n",
      " - 0s - loss: 0.0024 - val_loss: 0.0081\n",
      "Epoch 54/100\n",
      " - 0s - loss: 0.0025 - val_loss: 0.0080\n",
      "Epoch 55/100\n",
      " - 0s - loss: 0.0024 - val_loss: 0.0079\n",
      "Epoch 56/100\n",
      " - 0s - loss: 0.0024 - val_loss: 0.0078\n",
      "Epoch 57/100\n",
      " - 0s - loss: 0.0024 - val_loss: 0.0078\n",
      "Epoch 58/100\n",
      " - 0s - loss: 0.0023 - val_loss: 0.0077\n",
      "Epoch 59/100\n",
      " - 0s - loss: 0.0023 - val_loss: 0.0077\n",
      "Epoch 60/100\n",
      " - 0s - loss: 0.0024 - val_loss: 0.0075\n",
      "Epoch 61/100\n",
      " - 0s - loss: 0.0023 - val_loss: 0.0073\n",
      "Epoch 62/100\n",
      " - 0s - loss: 0.0023 - val_loss: 0.0072\n",
      "Epoch 63/100\n",
      " - 0s - loss: 0.0023 - val_loss: 0.0071\n",
      "Epoch 64/100\n",
      " - 0s - loss: 0.0023 - val_loss: 0.0073\n",
      "Epoch 65/100\n",
      " - 0s - loss: 0.0022 - val_loss: 0.0069\n",
      "Epoch 66/100\n",
      " - 0s - loss: 0.0022 - val_loss: 0.0069\n",
      "Epoch 67/100\n",
      " - 0s - loss: 0.0022 - val_loss: 0.0067\n",
      "Epoch 68/100\n",
      " - 0s - loss: 0.0022 - val_loss: 0.0071\n",
      "Epoch 69/100\n",
      " - 0s - loss: 0.0022 - val_loss: 0.0066\n",
      "Epoch 70/100\n",
      " - 0s - loss: 0.0022 - val_loss: 0.0064\n",
      "Epoch 71/100\n",
      " - 0s - loss: 0.0021 - val_loss: 0.0064\n",
      "Epoch 72/100\n",
      " - 0s - loss: 0.0022 - val_loss: 0.0065\n",
      "Epoch 73/100\n",
      " - 0s - loss: 0.0021 - val_loss: 0.0062\n",
      "Epoch 74/100\n",
      " - 0s - loss: 0.0021 - val_loss: 0.0062\n",
      "Epoch 75/100\n",
      " - 0s - loss: 0.0021 - val_loss: 0.0062\n",
      "Epoch 76/100\n",
      " - 0s - loss: 0.0020 - val_loss: 0.0059\n",
      "Epoch 77/100\n",
      " - 0s - loss: 0.0021 - val_loss: 0.0059\n",
      "Epoch 78/100\n",
      " - 0s - loss: 0.0021 - val_loss: 0.0060\n",
      "Epoch 79/100\n",
      " - 0s - loss: 0.0020 - val_loss: 0.0058\n",
      "Epoch 80/100\n",
      " - 0s - loss: 0.0020 - val_loss: 0.0057\n",
      "Epoch 81/100\n",
      " - 0s - loss: 0.0020 - val_loss: 0.0065\n",
      "Epoch 82/100\n",
      " - 0s - loss: 0.0020 - val_loss: 0.0055\n",
      "Epoch 83/100\n",
      " - 0s - loss: 0.0021 - val_loss: 0.0055\n",
      "Epoch 84/100\n",
      " - 0s - loss: 0.0020 - val_loss: 0.0055\n",
      "Epoch 85/100\n",
      " - 0s - loss: 0.0020 - val_loss: 0.0054\n",
      "Epoch 86/100\n",
      " - 0s - loss: 0.0020 - val_loss: 0.0054\n",
      "Epoch 87/100\n",
      " - 0s - loss: 0.0020 - val_loss: 0.0053\n",
      "Epoch 88/100\n",
      " - 0s - loss: 0.0019 - val_loss: 0.0052\n",
      "Epoch 89/100\n",
      " - 0s - loss: 0.0020 - val_loss: 0.0052\n",
      "Epoch 90/100\n",
      " - 0s - loss: 0.0020 - val_loss: 0.0051\n",
      "Epoch 91/100\n",
      " - 0s - loss: 0.0019 - val_loss: 0.0053\n",
      "Epoch 92/100\n",
      " - 0s - loss: 0.0019 - val_loss: 0.0050\n",
      "Epoch 93/100\n",
      " - 0s - loss: 0.0019 - val_loss: 0.0050\n",
      "Epoch 94/100\n",
      " - 0s - loss: 0.0019 - val_loss: 0.0052\n",
      "Epoch 95/100\n",
      " - 0s - loss: 0.0019 - val_loss: 0.0050\n",
      "Epoch 96/100\n",
      " - 0s - loss: 0.0019 - val_loss: 0.0048\n",
      "Epoch 97/100\n",
      " - 0s - loss: 0.0020 - val_loss: 0.0048\n",
      "Epoch 98/100\n",
      " - 0s - loss: 0.0019 - val_loss: 0.0048\n",
      "Epoch 99/100\n",
      " - 0s - loss: 0.0020 - val_loss: 0.0048\n",
      "Epoch 100/100\n",
      " - 0s - loss: 0.0018 - val_loss: 0.0046\n"
     ]
    },
    {
     "data": {
      "text/plain": [
       "<keras.callbacks.History at 0x7f6917082c88>"
      ]
     },
     "execution_count": 234,
     "metadata": {},
     "output_type": "execute_result"
    }
   ],
   "source": [
    "# create and fit the LSTM network\n",
    "model = Sequential()\n",
    "model.add(LSTM(4, input_shape=(1, look_back)))\n",
    "model.add(Dense(1))\n",
    "model.compile(loss='mean_squared_error', optimizer='adam')\n",
    "model.fit(trainX, trainY, epochs=100, batch_size=1, verbose=2,validation_split=0.1)"
   ]
  },
  {
   "cell_type": "code",
   "execution_count": 235,
   "metadata": {},
   "outputs": [
    {
     "name": "stdout",
     "output_type": "stream",
     "text": [
      "Train Score: 23.97 RMSE\n",
      "Test Score: 47.78 RMSE\n"
     ]
    }
   ],
   "source": [
    "# make predictions\n",
    "trainPredict = model.predict(trainX)\n",
    "testPredict = model.predict(testX)\n",
    "# invert predictions\n",
    "trainPredict = scaler.inverse_transform(trainPredict)\n",
    "trainY = scaler.inverse_transform([trainY])\n",
    "testPredict = scaler.inverse_transform(testPredict)\n",
    "testY = scaler.inverse_transform([testY])\n",
    "# calculate root mean squared error\n",
    "trainScore = math.sqrt(mean_squared_error(trainY[0], trainPredict[:,0]))\n",
    "print('Train Score: %.2f RMSE' % (trainScore))\n",
    "testScore = math.sqrt(mean_squared_error(testY[0], testPredict[:,0]))\n",
    "print('Test Score: %.2f RMSE' % (testScore))"
   ]
  },
  {
   "cell_type": "code",
   "execution_count": 236,
   "metadata": {},
   "outputs": [
    {
     "data": {
      "image/png": "[encoded data removed]",
      "text/plain": [
       "<Figure size 432x288 with 1 Axes>"
      ]
     },
     "metadata": {
      "needs_background": "light"
     },
     "output_type": "display_data"
    }
   ],
   "source": [
    "# shift train predictions for plotting\n",
    "trainPredictPlot = numpy.empty_like(dataset)\n",
    "trainPredictPlot[:, :] = numpy.nan\n",
    "trainPredictPlot[look_back:len(trainPredict)+look_back, :] = trainPredict\n",
    "# shift test predictions for plotting\n",
    "testPredictPlot = numpy.empty_like(dataset)\n",
    "testPredictPlot[:, :] = numpy.nan\n",
    "testPredictPlot[len(trainPredict)+(look_back*2)+1:len(dataset)-1, :] = testPredict\n",
    "# plot baseline and predictions\n",
    "plt.plot(scaler.inverse_transform(dataset))\n",
    "plt.plot(trainPredictPlot)\n",
    "plt.plot(testPredictPlot)\n",
    "plt.show()"
   ]
  },
  {
   "cell_type": "code",
   "execution_count": null,
   "metadata": {
    "collapsed": true
   },
   "outputs": [],
   "source": []
  }
 ],
 "metadata": {
  "kernelspec": {
   "display_name": "Python 3",
   "language": "python",
   "name": "python3"
  },
  "language_info": {
   "codemirror_mode": {
    "name": "ipython",
    "version": 3
   },
   "file_extension": ".py",
   "mimetype": "text/x-python",
   "name": "python",
   "nbconvert_exporter": "python",
   "pygments_lexer": "ipython3",
   "version": "3.6.6"
  }
 },
 "nbformat": 4,
 "nbformat_minor": 2
}
