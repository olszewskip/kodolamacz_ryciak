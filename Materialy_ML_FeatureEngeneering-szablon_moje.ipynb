{
 "cells": [
  {
   "cell_type": "code",
   "execution_count": 286,
   "metadata": {},
   "outputs": [
    {
     "name": "stdout",
     "output_type": "stream",
     "text": [
      "        age      fare embarked     sex  pclass\n",
      "0   29.0000  211.3375        S  female       1\n",
      "1    0.9167  151.5500        S    male       1\n",
      "2    2.0000  151.5500        S  female       1\n",
      "3   30.0000  151.5500        S    male       1\n",
      "4   25.0000  151.5500        S  female       1\n",
      "5   48.0000   26.5500        S    male       1\n",
      "6   63.0000   77.9583        S  female       1\n",
      "7   39.0000    0.0000        S    male       1\n",
      "8   53.0000   51.4792        S  female       1\n",
      "9   71.0000   49.5042        C    male       1\n",
      "10  47.0000  227.5250        C    male       1\n",
      "11  18.0000  227.5250        C  female       1\n",
      "12  24.0000   69.3000        C  female       1\n",
      "13  26.0000   78.8500        S  female       1\n",
      "14  80.0000   30.0000        S    male       1\n",
      "model score: 0.790\n"
     ]
    }
   ],
   "source": [
    "# Author: Pedro Morales <part.morales@gmail.com>\n",
    "#\n",
    "# License: BSD 3 clause\n",
    "\n",
    "from __future__ import print_function\n",
    "\n",
    "import pandas as pd\n",
    "import numpy as np\n",
    "\n",
    "from sklearn.compose import ColumnTransformer\n",
    "from sklearn.pipeline import Pipeline\n",
    "from sklearn.pipeline import make_pipeline\n",
    "from sklearn.impute import SimpleImputer\n",
    "from sklearn.preprocessing import StandardScaler, OneHotEncoder\n",
    "from sklearn.linear_model import LogisticRegression\n",
    "from sklearn.model_selection import train_test_split, GridSearchCV\n",
    "\n",
    "np.random.seed(0)\n",
    "\n",
    "# Read data from Titanic dataset.\n",
    "titanic_url = ('https://raw.githubusercontent.com/amueller/'\n",
    "               'scipy-2017-sklearn/091d371/notebooks/datasets/titanic3.csv')\n",
    "data = pd.read_csv(titanic_url)\n",
    "\n",
    "# We will train our classifier with the following features:\n",
    "# Numeric Features:\n",
    "# - age: float.\n",
    "# - fare: float.\n",
    "# Categorical Features:\n",
    "# - embarked: categories encoded as strings {'C', 'S', 'Q'}.\n",
    "# - sex: categories encoded as strings {'female', 'male'}.\n",
    "# - pclass: ordinal integers {1, 2, 3}.\n",
    "\n",
    "print(data[['age', 'fare','embarked', 'sex', 'pclass']].head(15))\n",
    "\n",
    "# We create the preprocessing pipelines for both numeric and categorical data.\n",
    "numeric_features = ['age', 'fare']\n",
    "numeric_transformer = Pipeline(steps=[\n",
    "    ('imputer', SimpleImputer(strategy='median')),\n",
    "    ('scaler', StandardScaler())])\n",
    "\n",
    "categorical_features = ['embarked', 'sex', 'pclass']\n",
    "categorical_transformer = Pipeline(steps=[\n",
    "    ('imputer', SimpleImputer(strategy='constant', fill_value='missing')),\n",
    "    ('onehot', OneHotEncoder(handle_unknown='ignore'))])\n",
    "\n",
    "preprocessor = ColumnTransformer(\n",
    "    transformers=[\n",
    "        ('num', numeric_transformer, numeric_features),\n",
    "        ('cat', categorical_transformer, categorical_features)])\n",
    "\n",
    "# Append classifier to preprocessing pipeline.\n",
    "# Now we have a full prediction pipeline.\n",
    "clf = Pipeline(steps=[('preprocessor', preprocessor),\n",
    "                      ('classifier', LogisticRegression(solver='lbfgs'))])\n",
    "\n",
    "X = data.drop('survived', axis=1)\n",
    "y = data['survived']\n",
    "\n",
    "X_train, X_test, y_train, y_test = train_test_split(X, y, test_size=0.2)\n",
    "\n",
    "clf.fit(X_train, y_train)\n",
    "print(\"model score: %.3f\" % clf.score(X_test, y_test))"
   ]
  },
  {
   "cell_type": "code",
   "execution_count": 7,
   "metadata": {},
   "outputs": [],
   "source": [
    "?SimpleImputer"
   ]
  },
  {
   "cell_type": "code",
   "execution_count": 2,
   "metadata": {},
   "outputs": [
    {
     "data": {
      "text/html": [
       "<div>\n",
       "<style scoped>\n",
       "    .dataframe tbody tr th:only-of-type {\n",
       "        vertical-align: middle;\n",
       "    }\n",
       "\n",
       "    .dataframe tbody tr th {\n",
       "        vertical-align: top;\n",
       "    }\n",
       "\n",
       "    .dataframe thead th {\n",
       "        text-align: right;\n",
       "    }\n",
       "</style>\n",
       "<table border=\"1\" class=\"dataframe\">\n",
       "  <thead>\n",
       "    <tr style=\"text-align: right;\">\n",
       "      <th></th>\n",
       "      <th>0</th>\n",
       "      <th>1</th>\n",
       "      <th>2</th>\n",
       "      <th>3</th>\n",
       "      <th>4</th>\n",
       "      <th>5</th>\n",
       "      <th>6</th>\n",
       "      <th>7</th>\n",
       "      <th>8</th>\n",
       "      <th>9</th>\n",
       "    </tr>\n",
       "  </thead>\n",
       "  <tbody>\n",
       "    <tr>\n",
       "      <th>0</th>\n",
       "      <td>-0.606584</td>\n",
       "      <td>-0.665334</td>\n",
       "      <td>0.0</td>\n",
       "      <td>0.0</td>\n",
       "      <td>1.0</td>\n",
       "      <td>0.0</td>\n",
       "      <td>1.0</td>\n",
       "      <td>0.0</td>\n",
       "      <td>0.0</td>\n",
       "      <td>1.0</td>\n",
       "    </tr>\n",
       "    <tr>\n",
       "      <th>1</th>\n",
       "      <td>1.296425</td>\n",
       "      <td>1.962814</td>\n",
       "      <td>1.0</td>\n",
       "      <td>0.0</td>\n",
       "      <td>0.0</td>\n",
       "      <td>1.0</td>\n",
       "      <td>0.0</td>\n",
       "      <td>1.0</td>\n",
       "      <td>0.0</td>\n",
       "      <td>0.0</td>\n",
       "    </tr>\n",
       "    <tr>\n",
       "      <th>2</th>\n",
       "      <td>-0.130832</td>\n",
       "      <td>-0.669314</td>\n",
       "      <td>0.0</td>\n",
       "      <td>1.0</td>\n",
       "      <td>0.0</td>\n",
       "      <td>0.0</td>\n",
       "      <td>1.0</td>\n",
       "      <td>0.0</td>\n",
       "      <td>0.0</td>\n",
       "      <td>1.0</td>\n",
       "    </tr>\n",
       "    <tr>\n",
       "      <th>3</th>\n",
       "      <td>-1.439151</td>\n",
       "      <td>-0.668448</td>\n",
       "      <td>0.0</td>\n",
       "      <td>0.0</td>\n",
       "      <td>1.0</td>\n",
       "      <td>1.0</td>\n",
       "      <td>0.0</td>\n",
       "      <td>0.0</td>\n",
       "      <td>0.0</td>\n",
       "      <td>1.0</td>\n",
       "    </tr>\n",
       "    <tr>\n",
       "      <th>4</th>\n",
       "      <td>-0.130832</td>\n",
       "      <td>-0.393850</td>\n",
       "      <td>0.0</td>\n",
       "      <td>0.0</td>\n",
       "      <td>1.0</td>\n",
       "      <td>0.0</td>\n",
       "      <td>1.0</td>\n",
       "      <td>0.0</td>\n",
       "      <td>1.0</td>\n",
       "      <td>0.0</td>\n",
       "    </tr>\n",
       "    <tr>\n",
       "      <th>5</th>\n",
       "      <td>-1.320213</td>\n",
       "      <td>-0.671044</td>\n",
       "      <td>0.0</td>\n",
       "      <td>0.0</td>\n",
       "      <td>1.0</td>\n",
       "      <td>0.0</td>\n",
       "      <td>1.0</td>\n",
       "      <td>0.0</td>\n",
       "      <td>0.0</td>\n",
       "      <td>1.0</td>\n",
       "    </tr>\n",
       "    <tr>\n",
       "      <th>6</th>\n",
       "      <td>1.891116</td>\n",
       "      <td>-0.290032</td>\n",
       "      <td>0.0</td>\n",
       "      <td>0.0</td>\n",
       "      <td>1.0</td>\n",
       "      <td>0.0</td>\n",
       "      <td>1.0</td>\n",
       "      <td>0.0</td>\n",
       "      <td>1.0</td>\n",
       "      <td>0.0</td>\n",
       "    </tr>\n",
       "    <tr>\n",
       "      <th>7</th>\n",
       "      <td>-0.130832</td>\n",
       "      <td>-0.301105</td>\n",
       "      <td>0.0</td>\n",
       "      <td>0.0</td>\n",
       "      <td>1.0</td>\n",
       "      <td>1.0</td>\n",
       "      <td>0.0</td>\n",
       "      <td>0.0</td>\n",
       "      <td>0.0</td>\n",
       "      <td>1.0</td>\n",
       "    </tr>\n",
       "    <tr>\n",
       "      <th>8</th>\n",
       "      <td>-0.130832</td>\n",
       "      <td>-0.290032</td>\n",
       "      <td>0.0</td>\n",
       "      <td>0.0</td>\n",
       "      <td>1.0</td>\n",
       "      <td>0.0</td>\n",
       "      <td>1.0</td>\n",
       "      <td>1.0</td>\n",
       "      <td>0.0</td>\n",
       "      <td>0.0</td>\n",
       "    </tr>\n",
       "    <tr>\n",
       "      <th>9</th>\n",
       "      <td>0.701735</td>\n",
       "      <td>1.986345</td>\n",
       "      <td>1.0</td>\n",
       "      <td>0.0</td>\n",
       "      <td>0.0</td>\n",
       "      <td>1.0</td>\n",
       "      <td>0.0</td>\n",
       "      <td>1.0</td>\n",
       "      <td>0.0</td>\n",
       "      <td>0.0</td>\n",
       "    </tr>\n",
       "  </tbody>\n",
       "</table>\n",
       "</div>"
      ],
      "text/plain": [
       "          0         1    2    3    4    5    6    7    8    9\n",
       "0 -0.606584 -0.665334  0.0  0.0  1.0  0.0  1.0  0.0  0.0  1.0\n",
       "1  1.296425  1.962814  1.0  0.0  0.0  1.0  0.0  1.0  0.0  0.0\n",
       "2 -0.130832 -0.669314  0.0  1.0  0.0  0.0  1.0  0.0  0.0  1.0\n",
       "3 -1.439151 -0.668448  0.0  0.0  1.0  1.0  0.0  0.0  0.0  1.0\n",
       "4 -0.130832 -0.393850  0.0  0.0  1.0  0.0  1.0  0.0  1.0  0.0\n",
       "5 -1.320213 -0.671044  0.0  0.0  1.0  0.0  1.0  0.0  0.0  1.0\n",
       "6  1.891116 -0.290032  0.0  0.0  1.0  0.0  1.0  0.0  1.0  0.0\n",
       "7 -0.130832 -0.301105  0.0  0.0  1.0  1.0  0.0  0.0  0.0  1.0\n",
       "8 -0.130832 -0.290032  0.0  0.0  1.0  0.0  1.0  1.0  0.0  0.0\n",
       "9  0.701735  1.986345  1.0  0.0  0.0  1.0  0.0  1.0  0.0  0.0"
      ]
     },
     "execution_count": 2,
     "metadata": {},
     "output_type": "execute_result"
    }
   ],
   "source": [
    "pd.DataFrame(preprocessor.fit_transform(X_train[:10]))"
   ]
  },
  {
   "cell_type": "code",
   "execution_count": 5,
   "metadata": {},
   "outputs": [
    {
     "ename": "SyntaxError",
     "evalue": "invalid syntax (<ipython-input-5-0c1862a4e2bb>, line 1)",
     "output_type": "error",
     "traceback": [
      "\u001b[0;36m  File \u001b[0;32m\"<ipython-input-5-0c1862a4e2bb>\"\u001b[0;36m, line \u001b[0;32m1\u001b[0m\n\u001b[0;31m    preprocessor.\u001b[0m\n\u001b[0m                 ^\u001b[0m\n\u001b[0;31mSyntaxError\u001b[0m\u001b[0;31m:\u001b[0m invalid syntax\n"
     ]
    }
   ],
   "source": [
    "preprocessor."
   ]
  },
  {
   "cell_type": "markdown",
   "metadata": {},
   "source": [
    "### Zadanie 0\n",
    "\n",
    "Zaimplementuj standardScaler"
   ]
  },
  {
   "cell_type": "code",
   "execution_count": 3,
   "metadata": {},
   "outputs": [],
   "source": [
    "from sklearn.base import BaseEstimator, TransformerMixin\n",
    "\n",
    "class MyStandardScaler(BaseEstimator, TransformerMixin):\n",
    "    \"\"\"\n",
    "    Subtract mean and divide by std\n",
    "    \"\"\"\n",
    "    \n",
    "    def __init__(self, with_mean=True): \n",
    "        self.with_mean = with_mean\n",
    "            \n",
    "    def fit(self, X, y=None):\n",
    "        \n",
    "        if self.with_mean:\n",
    "            self.means = X.mean(axis=0)\n",
    "        self.stds = X.std(axis=0)\n",
    "        \n",
    "        return self\n",
    "\n",
    "    def transform(self, X):\n",
    "        if self.with_mean:\n",
    "            return (X-self.means) / self.stds \n",
    "        return X / self.stds"
   ]
  },
  {
   "cell_type": "code",
   "execution_count": 4,
   "metadata": {},
   "outputs": [
    {
     "data": {
      "text/html": [
       "<div>\n",
       "<style scoped>\n",
       "    .dataframe tbody tr th:only-of-type {\n",
       "        vertical-align: middle;\n",
       "    }\n",
       "\n",
       "    .dataframe tbody tr th {\n",
       "        vertical-align: top;\n",
       "    }\n",
       "\n",
       "    .dataframe thead th {\n",
       "        text-align: right;\n",
       "    }\n",
       "</style>\n",
       "<table border=\"1\" class=\"dataframe\">\n",
       "  <thead>\n",
       "    <tr style=\"text-align: right;\">\n",
       "      <th></th>\n",
       "      <th>A</th>\n",
       "      <th>B</th>\n",
       "    </tr>\n",
       "  </thead>\n",
       "  <tbody>\n",
       "    <tr>\n",
       "      <th>0</th>\n",
       "      <td>1</td>\n",
       "      <td>5</td>\n",
       "    </tr>\n",
       "    <tr>\n",
       "      <th>1</th>\n",
       "      <td>2</td>\n",
       "      <td>6</td>\n",
       "    </tr>\n",
       "    <tr>\n",
       "      <th>2</th>\n",
       "      <td>3</td>\n",
       "      <td>7</td>\n",
       "    </tr>\n",
       "  </tbody>\n",
       "</table>\n",
       "</div>"
      ],
      "text/plain": [
       "   A  B\n",
       "0  1  5\n",
       "1  2  6\n",
       "2  3  7"
      ]
     },
     "execution_count": 4,
     "metadata": {},
     "output_type": "execute_result"
    }
   ],
   "source": [
    "a = pd.DataFrame(\n",
    "        {\"A\":[1,2,3],\n",
    "         \"B\":[5,6,7]}\n",
    ")\n",
    "a"
   ]
  },
  {
   "cell_type": "code",
   "execution_count": 5,
   "metadata": {},
   "outputs": [
    {
     "data": {
      "text/plain": [
       "MyStandardScaler(with_mean=True)"
      ]
     },
     "execution_count": 5,
     "metadata": {},
     "output_type": "execute_result"
    }
   ],
   "source": [
    "sc = MyStandardScaler(True)\n",
    "sc"
   ]
  },
  {
   "cell_type": "code",
   "execution_count": 6,
   "metadata": {},
   "outputs": [
    {
     "data": {
      "text/plain": [
       "MyStandardScaler(with_mean=True)"
      ]
     },
     "execution_count": 6,
     "metadata": {},
     "output_type": "execute_result"
    }
   ],
   "source": [
    "sc.fit(a)"
   ]
  },
  {
   "cell_type": "code",
   "execution_count": 7,
   "metadata": {},
   "outputs": [
    {
     "data": {
      "text/plain": [
       "A    2.0\n",
       "B    6.0\n",
       "dtype: float64"
      ]
     },
     "execution_count": 7,
     "metadata": {},
     "output_type": "execute_result"
    }
   ],
   "source": [
    "sc.means"
   ]
  },
  {
   "cell_type": "code",
   "execution_count": 8,
   "metadata": {},
   "outputs": [
    {
     "data": {
      "text/html": [
       "<div>\n",
       "<style scoped>\n",
       "    .dataframe tbody tr th:only-of-type {\n",
       "        vertical-align: middle;\n",
       "    }\n",
       "\n",
       "    .dataframe tbody tr th {\n",
       "        vertical-align: top;\n",
       "    }\n",
       "\n",
       "    .dataframe thead th {\n",
       "        text-align: right;\n",
       "    }\n",
       "</style>\n",
       "<table border=\"1\" class=\"dataframe\">\n",
       "  <thead>\n",
       "    <tr style=\"text-align: right;\">\n",
       "      <th></th>\n",
       "      <th>A</th>\n",
       "      <th>B</th>\n",
       "    </tr>\n",
       "  </thead>\n",
       "  <tbody>\n",
       "    <tr>\n",
       "      <th>0</th>\n",
       "      <td>-1.0</td>\n",
       "      <td>-1.0</td>\n",
       "    </tr>\n",
       "    <tr>\n",
       "      <th>1</th>\n",
       "      <td>0.0</td>\n",
       "      <td>0.0</td>\n",
       "    </tr>\n",
       "    <tr>\n",
       "      <th>2</th>\n",
       "      <td>1.0</td>\n",
       "      <td>1.0</td>\n",
       "    </tr>\n",
       "  </tbody>\n",
       "</table>\n",
       "</div>"
      ],
      "text/plain": [
       "     A    B\n",
       "0 -1.0 -1.0\n",
       "1  0.0  0.0\n",
       "2  1.0  1.0"
      ]
     },
     "execution_count": 8,
     "metadata": {},
     "output_type": "execute_result"
    }
   ],
   "source": [
    "sc.transform(a)"
   ]
  },
  {
   "cell_type": "markdown",
   "metadata": {},
   "source": [
    "### Zadanie 1\n",
    "\n",
    "Zaimplementuj transformer, który usuwa wybrane kolumny."
   ]
  },
  {
   "cell_type": "code",
   "execution_count": null,
   "metadata": {},
   "outputs": [],
   "source": []
  },
  {
   "cell_type": "code",
   "execution_count": 279,
   "metadata": {},
   "outputs": [],
   "source": [
    "class DropColumns(BaseEstimator, TransformerMixin):\n",
    "    \"\"\"\n",
    "    Transformer to drop specified columns.\n",
    "    \"\"\"\n",
    "    \n",
    "    def __init__(self, columns): \n",
    "        self.columns = columns\n",
    "            \n",
    "    def fit(self, X, y=None):\n",
    "        return self\n",
    "\n",
    "    def transform(self, X):\n",
    "        return X.drop(columns = self.columns)"
   ]
  },
  {
   "cell_type": "code",
   "execution_count": 187,
   "metadata": {},
   "outputs": [
    {
     "data": {
      "text/plain": [
       "Index(['pclass', 'name', 'sex', 'age', 'sibsp', 'parch', 'ticket', 'fare',\n",
       "       'cabin', 'embarked', 'boat', 'body', 'home.dest'],\n",
       "      dtype='object')"
      ]
     },
     "execution_count": 187,
     "metadata": {},
     "output_type": "execute_result"
    }
   ],
   "source": [
    "X.columns"
   ]
  },
  {
   "cell_type": "code",
   "execution_count": 11,
   "metadata": {},
   "outputs": [
    {
     "data": {
      "text/plain": [
       "Index(['sex', 'age', 'sibsp', 'parch', 'ticket', 'fare', 'cabin', 'embarked',\n",
       "       'boat', 'body', 'home.dest'],\n",
       "      dtype='object')"
      ]
     },
     "execution_count": 11,
     "metadata": {},
     "output_type": "execute_result"
    }
   ],
   "source": [
    "drop = DropColumns([\"pclass\",\"name\"])\n",
    "drop.transform(X).columns"
   ]
  },
  {
   "cell_type": "markdown",
   "metadata": {},
   "source": [
    "### Zadanie 2\n",
    "\n",
    "Zaimplementuj transformator, który wybiera z danych kolumny określonego typu.\n",
    "* argument `column_type` - typ lub lista typów, które chcemy uwzględnić\n",
    "* użyj metody pandasowej ramki danych `select_dtypes`"
   ]
  },
  {
   "cell_type": "code",
   "execution_count": 12,
   "metadata": {},
   "outputs": [
    {
     "data": {
      "text/html": [
       "<div>\n",
       "<style scoped>\n",
       "    .dataframe tbody tr th:only-of-type {\n",
       "        vertical-align: middle;\n",
       "    }\n",
       "\n",
       "    .dataframe tbody tr th {\n",
       "        vertical-align: top;\n",
       "    }\n",
       "\n",
       "    .dataframe thead th {\n",
       "        text-align: right;\n",
       "    }\n",
       "</style>\n",
       "<table border=\"1\" class=\"dataframe\">\n",
       "  <thead>\n",
       "    <tr style=\"text-align: right;\">\n",
       "      <th></th>\n",
       "      <th>pclass</th>\n",
       "      <th>sibsp</th>\n",
       "      <th>parch</th>\n",
       "    </tr>\n",
       "  </thead>\n",
       "  <tbody>\n",
       "    <tr>\n",
       "      <th>0</th>\n",
       "      <td>1</td>\n",
       "      <td>0</td>\n",
       "      <td>0</td>\n",
       "    </tr>\n",
       "    <tr>\n",
       "      <th>1</th>\n",
       "      <td>1</td>\n",
       "      <td>1</td>\n",
       "      <td>2</td>\n",
       "    </tr>\n",
       "    <tr>\n",
       "      <th>2</th>\n",
       "      <td>1</td>\n",
       "      <td>1</td>\n",
       "      <td>2</td>\n",
       "    </tr>\n",
       "    <tr>\n",
       "      <th>3</th>\n",
       "      <td>1</td>\n",
       "      <td>1</td>\n",
       "      <td>2</td>\n",
       "    </tr>\n",
       "    <tr>\n",
       "      <th>4</th>\n",
       "      <td>1</td>\n",
       "      <td>1</td>\n",
       "      <td>2</td>\n",
       "    </tr>\n",
       "  </tbody>\n",
       "</table>\n",
       "</div>"
      ],
      "text/plain": [
       "   pclass  sibsp  parch\n",
       "0       1      0      0\n",
       "1       1      1      2\n",
       "2       1      1      2\n",
       "3       1      1      2\n",
       "4       1      1      2"
      ]
     },
     "execution_count": 12,
     "metadata": {},
     "output_type": "execute_result"
    }
   ],
   "source": [
    "column_types = [np.int]\n",
    "X.select_dtypes(column_types)[:5]"
   ]
  },
  {
   "cell_type": "code",
   "execution_count": 280,
   "metadata": {},
   "outputs": [],
   "source": [
    "from sklearn.base import BaseEstimator, TransformerMixin\n",
    "\n",
    "class ColumnsSelectorByType(BaseEstimator, TransformerMixin):\n",
    "    \"\"\"\n",
    "    Transformer to select columns of specified types.\n",
    "    \"\"\"\n",
    "    \n",
    "    def __init__(self, column_type):    \n",
    "        self.column_type = column_type\n",
    "            \n",
    "    def fit(self, X, y=None):\n",
    "        return self\n",
    "\n",
    "    def transform(self, X):\n",
    "        return X.select_dtypes(self.column_type)"
   ]
  },
  {
   "cell_type": "code",
   "execution_count": 14,
   "metadata": {},
   "outputs": [
    {
     "data": {
      "text/plain": [
       "pclass         int64\n",
       "name          object\n",
       "sex           object\n",
       "age          float64\n",
       "sibsp          int64\n",
       "parch          int64\n",
       "ticket        object\n",
       "fare         float64\n",
       "cabin         object\n",
       "embarked      object\n",
       "boat          object\n",
       "body         float64\n",
       "home.dest     object\n",
       "dtype: object"
      ]
     },
     "execution_count": 14,
     "metadata": {},
     "output_type": "execute_result"
    }
   ],
   "source": [
    "X.dtypes"
   ]
  },
  {
   "cell_type": "code",
   "execution_count": 15,
   "metadata": {},
   "outputs": [
    {
     "data": {
      "text/plain": [
       "pclass        int64\n",
       "name         object\n",
       "sex          object\n",
       "sibsp         int64\n",
       "parch         int64\n",
       "ticket       object\n",
       "cabin        object\n",
       "embarked     object\n",
       "boat         object\n",
       "home.dest    object\n",
       "dtype: object"
      ]
     },
     "execution_count": 15,
     "metadata": {},
     "output_type": "execute_result"
    }
   ],
   "source": [
    "columns_select_types = ColumnsSelectorByType([np.int,np.object])\n",
    "columns_select_types.transform(X).dtypes"
   ]
  },
  {
   "cell_type": "markdown",
   "metadata": {},
   "source": [
    "Rozwiązanie:"
   ]
  },
  {
   "cell_type": "code",
   "execution_count": null,
   "metadata": {},
   "outputs": [],
   "source": []
  },
  {
   "cell_type": "markdown",
   "metadata": {},
   "source": [
    "### Zadanie 3\n",
    "\n",
    "Zaimplementuj transormer, który zamienia zmienne, w których ponad `treshold` procent obserwacji zawiera brak danych, na zmienne binarne z wartościami 1, tam gdzie jest dana wartość oraz 0 tam, gdzie występuje brak.\n",
    "* wykorzystaj `MissingIndicator` z podmodułu `sklearn.impute`"
   ]
  },
  {
   "cell_type": "code",
   "execution_count": 38,
   "metadata": {},
   "outputs": [
    {
     "data": {
      "text/plain": [
       "1309"
      ]
     },
     "execution_count": 38,
     "metadata": {},
     "output_type": "execute_result"
    }
   ],
   "source": [
    "len(X)"
   ]
  },
  {
   "cell_type": "code",
   "execution_count": 64,
   "metadata": {},
   "outputs": [
    {
     "data": {
      "text/plain": [
       "0    1\n",
       "dtype: int64"
      ]
     },
     "execution_count": 64,
     "metadata": {},
     "output_type": "execute_result"
    }
   ],
   "source": [
    "pd.Series([True]).astype(np.int)"
   ]
  },
  {
   "cell_type": "code",
   "execution_count": 65,
   "metadata": {},
   "outputs": [
    {
     "data": {
      "text/html": [
       "<div>\n",
       "<style scoped>\n",
       "    .dataframe tbody tr th:only-of-type {\n",
       "        vertical-align: middle;\n",
       "    }\n",
       "\n",
       "    .dataframe tbody tr th {\n",
       "        vertical-align: top;\n",
       "    }\n",
       "\n",
       "    .dataframe thead th {\n",
       "        text-align: right;\n",
       "    }\n",
       "</style>\n",
       "<table border=\"1\" class=\"dataframe\">\n",
       "  <thead>\n",
       "    <tr style=\"text-align: right;\">\n",
       "      <th></th>\n",
       "      <th>cabin</th>\n",
       "      <th>boat</th>\n",
       "      <th>body</th>\n",
       "      <th>home.dest</th>\n",
       "    </tr>\n",
       "  </thead>\n",
       "  <tbody>\n",
       "    <tr>\n",
       "      <th>0</th>\n",
       "      <td>1</td>\n",
       "      <td>1</td>\n",
       "      <td>0</td>\n",
       "      <td>1</td>\n",
       "    </tr>\n",
       "    <tr>\n",
       "      <th>1</th>\n",
       "      <td>1</td>\n",
       "      <td>1</td>\n",
       "      <td>0</td>\n",
       "      <td>1</td>\n",
       "    </tr>\n",
       "    <tr>\n",
       "      <th>2</th>\n",
       "      <td>1</td>\n",
       "      <td>0</td>\n",
       "      <td>0</td>\n",
       "      <td>1</td>\n",
       "    </tr>\n",
       "    <tr>\n",
       "      <th>3</th>\n",
       "      <td>1</td>\n",
       "      <td>0</td>\n",
       "      <td>1</td>\n",
       "      <td>1</td>\n",
       "    </tr>\n",
       "    <tr>\n",
       "      <th>4</th>\n",
       "      <td>1</td>\n",
       "      <td>0</td>\n",
       "      <td>0</td>\n",
       "      <td>1</td>\n",
       "    </tr>\n",
       "  </tbody>\n",
       "</table>\n",
       "</div>"
      ],
      "text/plain": [
       "   cabin  boat  body  home.dest\n",
       "0      1     1     0          1\n",
       "1      1     1     0          1\n",
       "2      1     0     0          1\n",
       "3      1     0     1          1\n",
       "4      1     0     0          1"
      ]
     },
     "execution_count": 65,
     "metadata": {},
     "output_type": "execute_result"
    }
   ],
   "source": [
    "treshold = 0.3\n",
    "columns_to_transform = X.columns[X.isnull().sum() / len(X) > treshold]\n",
    "X[columns_to_transform].notnull().astype(np.int)[:5]\n",
    "#Y = X.copy()\n",
    "#Y[columns_to_transform] = Y[columns_to_transform].isnull().astype(np.int)\n",
    "#Y[:5]"
   ]
  },
  {
   "cell_type": "code",
   "execution_count": 281,
   "metadata": {},
   "outputs": [],
   "source": [
    "class MissingIndicatorForSparse(BaseEstimator, TransformerMixin):\n",
    "    \"\"\"\n",
    "    Transformer to transform variables with more than treshold (%) missing values to binary - value/missing.\n",
    "    \"\"\"\n",
    "    \n",
    "    def __init__(self, treshold):    \n",
    "        self.treshold = treshold\n",
    "            \n",
    "    def fit(self, X, y=None):\n",
    "        column_indicators = X.isnull().mean() > self.treshold\n",
    "        self.columns_to_transform = X.columns[column_indicators]\n",
    "        return self\n",
    "\n",
    "    def transform(self, X):\n",
    "        Y = X.copy()\n",
    "        Y[self.columns_to_transform] = \\\n",
    "        Y[self.columns_to_transform].notnull().astype(np.int)\n",
    "        return Y"
   ]
  },
  {
   "cell_type": "code",
   "execution_count": 75,
   "metadata": {},
   "outputs": [
    {
     "data": {
      "text/plain": [
       "MissingIndicatorForSparse(treshold=0.15)"
      ]
     },
     "execution_count": 75,
     "metadata": {},
     "output_type": "execute_result"
    }
   ],
   "source": [
    "miss_ind = MissingIndicatorForSparse(0.15)\n",
    "miss_ind.fit(X)"
   ]
  },
  {
   "cell_type": "code",
   "execution_count": 76,
   "metadata": {},
   "outputs": [
    {
     "data": {
      "text/html": [
       "<div>\n",
       "<style scoped>\n",
       "    .dataframe tbody tr th:only-of-type {\n",
       "        vertical-align: middle;\n",
       "    }\n",
       "\n",
       "    .dataframe tbody tr th {\n",
       "        vertical-align: top;\n",
       "    }\n",
       "\n",
       "    .dataframe thead th {\n",
       "        text-align: right;\n",
       "    }\n",
       "</style>\n",
       "<table border=\"1\" class=\"dataframe\">\n",
       "  <thead>\n",
       "    <tr style=\"text-align: right;\">\n",
       "      <th></th>\n",
       "      <th>pclass</th>\n",
       "      <th>name</th>\n",
       "      <th>sex</th>\n",
       "      <th>age</th>\n",
       "      <th>sibsp</th>\n",
       "      <th>parch</th>\n",
       "      <th>ticket</th>\n",
       "      <th>fare</th>\n",
       "      <th>cabin</th>\n",
       "      <th>embarked</th>\n",
       "      <th>boat</th>\n",
       "      <th>body</th>\n",
       "      <th>home.dest</th>\n",
       "    </tr>\n",
       "  </thead>\n",
       "  <tbody>\n",
       "    <tr>\n",
       "      <th>0</th>\n",
       "      <td>1</td>\n",
       "      <td>Allen, Miss. Elisabeth Walton</td>\n",
       "      <td>female</td>\n",
       "      <td>29.0000</td>\n",
       "      <td>0</td>\n",
       "      <td>0</td>\n",
       "      <td>24160</td>\n",
       "      <td>211.3375</td>\n",
       "      <td>1</td>\n",
       "      <td>S</td>\n",
       "      <td>1</td>\n",
       "      <td>0</td>\n",
       "      <td>1</td>\n",
       "    </tr>\n",
       "    <tr>\n",
       "      <th>1</th>\n",
       "      <td>1</td>\n",
       "      <td>Allison, Master. Hudson Trevor</td>\n",
       "      <td>male</td>\n",
       "      <td>0.9167</td>\n",
       "      <td>1</td>\n",
       "      <td>2</td>\n",
       "      <td>113781</td>\n",
       "      <td>151.5500</td>\n",
       "      <td>1</td>\n",
       "      <td>S</td>\n",
       "      <td>1</td>\n",
       "      <td>0</td>\n",
       "      <td>1</td>\n",
       "    </tr>\n",
       "    <tr>\n",
       "      <th>2</th>\n",
       "      <td>1</td>\n",
       "      <td>Allison, Miss. Helen Loraine</td>\n",
       "      <td>female</td>\n",
       "      <td>2.0000</td>\n",
       "      <td>1</td>\n",
       "      <td>2</td>\n",
       "      <td>113781</td>\n",
       "      <td>151.5500</td>\n",
       "      <td>1</td>\n",
       "      <td>S</td>\n",
       "      <td>0</td>\n",
       "      <td>0</td>\n",
       "      <td>1</td>\n",
       "    </tr>\n",
       "    <tr>\n",
       "      <th>3</th>\n",
       "      <td>1</td>\n",
       "      <td>Allison, Mr. Hudson Joshua Creighton</td>\n",
       "      <td>male</td>\n",
       "      <td>30.0000</td>\n",
       "      <td>1</td>\n",
       "      <td>2</td>\n",
       "      <td>113781</td>\n",
       "      <td>151.5500</td>\n",
       "      <td>1</td>\n",
       "      <td>S</td>\n",
       "      <td>0</td>\n",
       "      <td>1</td>\n",
       "      <td>1</td>\n",
       "    </tr>\n",
       "    <tr>\n",
       "      <th>4</th>\n",
       "      <td>1</td>\n",
       "      <td>Allison, Mrs. Hudson J C (Bessie Waldo Daniels)</td>\n",
       "      <td>female</td>\n",
       "      <td>25.0000</td>\n",
       "      <td>1</td>\n",
       "      <td>2</td>\n",
       "      <td>113781</td>\n",
       "      <td>151.5500</td>\n",
       "      <td>1</td>\n",
       "      <td>S</td>\n",
       "      <td>0</td>\n",
       "      <td>0</td>\n",
       "      <td>1</td>\n",
       "    </tr>\n",
       "  </tbody>\n",
       "</table>\n",
       "</div>"
      ],
      "text/plain": [
       "   pclass                                             name     sex      age  \\\n",
       "0       1                    Allen, Miss. Elisabeth Walton  female  29.0000   \n",
       "1       1                   Allison, Master. Hudson Trevor    male   0.9167   \n",
       "2       1                     Allison, Miss. Helen Loraine  female   2.0000   \n",
       "3       1             Allison, Mr. Hudson Joshua Creighton    male  30.0000   \n",
       "4       1  Allison, Mrs. Hudson J C (Bessie Waldo Daniels)  female  25.0000   \n",
       "\n",
       "   sibsp  parch  ticket      fare  cabin embarked  boat  body  home.dest  \n",
       "0      0      0   24160  211.3375      1        S     1     0          1  \n",
       "1      1      2  113781  151.5500      1        S     1     0          1  \n",
       "2      1      2  113781  151.5500      1        S     0     0          1  \n",
       "3      1      2  113781  151.5500      1        S     0     1          1  \n",
       "4      1      2  113781  151.5500      1        S     0     0          1  "
      ]
     },
     "execution_count": 76,
     "metadata": {},
     "output_type": "execute_result"
    }
   ],
   "source": [
    "miss_ind.transform(X)[:5]"
   ]
  },
  {
   "cell_type": "code",
   "execution_count": 69,
   "metadata": {},
   "outputs": [
    {
     "data": {
      "text/html": [
       "<div>\n",
       "<style scoped>\n",
       "    .dataframe tbody tr th:only-of-type {\n",
       "        vertical-align: middle;\n",
       "    }\n",
       "\n",
       "    .dataframe tbody tr th {\n",
       "        vertical-align: top;\n",
       "    }\n",
       "\n",
       "    .dataframe thead th {\n",
       "        text-align: right;\n",
       "    }\n",
       "</style>\n",
       "<table border=\"1\" class=\"dataframe\">\n",
       "  <thead>\n",
       "    <tr style=\"text-align: right;\">\n",
       "      <th></th>\n",
       "      <th>pclass</th>\n",
       "      <th>name</th>\n",
       "      <th>sex</th>\n",
       "      <th>age</th>\n",
       "      <th>sibsp</th>\n",
       "      <th>parch</th>\n",
       "      <th>ticket</th>\n",
       "      <th>fare</th>\n",
       "      <th>cabin</th>\n",
       "      <th>embarked</th>\n",
       "      <th>boat</th>\n",
       "      <th>body</th>\n",
       "      <th>home.dest</th>\n",
       "    </tr>\n",
       "  </thead>\n",
       "  <tbody>\n",
       "    <tr>\n",
       "      <th>0</th>\n",
       "      <td>1</td>\n",
       "      <td>Allen, Miss. Elisabeth Walton</td>\n",
       "      <td>female</td>\n",
       "      <td>29.0000</td>\n",
       "      <td>0</td>\n",
       "      <td>0</td>\n",
       "      <td>24160</td>\n",
       "      <td>211.3375</td>\n",
       "      <td>B5</td>\n",
       "      <td>S</td>\n",
       "      <td>2</td>\n",
       "      <td>NaN</td>\n",
       "      <td>St Louis, MO</td>\n",
       "    </tr>\n",
       "    <tr>\n",
       "      <th>1</th>\n",
       "      <td>1</td>\n",
       "      <td>Allison, Master. Hudson Trevor</td>\n",
       "      <td>male</td>\n",
       "      <td>0.9167</td>\n",
       "      <td>1</td>\n",
       "      <td>2</td>\n",
       "      <td>113781</td>\n",
       "      <td>151.5500</td>\n",
       "      <td>C22 C26</td>\n",
       "      <td>S</td>\n",
       "      <td>11</td>\n",
       "      <td>NaN</td>\n",
       "      <td>Montreal, PQ / Chesterville, ON</td>\n",
       "    </tr>\n",
       "    <tr>\n",
       "      <th>2</th>\n",
       "      <td>1</td>\n",
       "      <td>Allison, Miss. Helen Loraine</td>\n",
       "      <td>female</td>\n",
       "      <td>2.0000</td>\n",
       "      <td>1</td>\n",
       "      <td>2</td>\n",
       "      <td>113781</td>\n",
       "      <td>151.5500</td>\n",
       "      <td>C22 C26</td>\n",
       "      <td>S</td>\n",
       "      <td>NaN</td>\n",
       "      <td>NaN</td>\n",
       "      <td>Montreal, PQ / Chesterville, ON</td>\n",
       "    </tr>\n",
       "    <tr>\n",
       "      <th>3</th>\n",
       "      <td>1</td>\n",
       "      <td>Allison, Mr. Hudson Joshua Creighton</td>\n",
       "      <td>male</td>\n",
       "      <td>30.0000</td>\n",
       "      <td>1</td>\n",
       "      <td>2</td>\n",
       "      <td>113781</td>\n",
       "      <td>151.5500</td>\n",
       "      <td>C22 C26</td>\n",
       "      <td>S</td>\n",
       "      <td>NaN</td>\n",
       "      <td>135.0</td>\n",
       "      <td>Montreal, PQ / Chesterville, ON</td>\n",
       "    </tr>\n",
       "    <tr>\n",
       "      <th>4</th>\n",
       "      <td>1</td>\n",
       "      <td>Allison, Mrs. Hudson J C (Bessie Waldo Daniels)</td>\n",
       "      <td>female</td>\n",
       "      <td>25.0000</td>\n",
       "      <td>1</td>\n",
       "      <td>2</td>\n",
       "      <td>113781</td>\n",
       "      <td>151.5500</td>\n",
       "      <td>C22 C26</td>\n",
       "      <td>S</td>\n",
       "      <td>NaN</td>\n",
       "      <td>NaN</td>\n",
       "      <td>Montreal, PQ / Chesterville, ON</td>\n",
       "    </tr>\n",
       "  </tbody>\n",
       "</table>\n",
       "</div>"
      ],
      "text/plain": [
       "   pclass                                             name     sex      age  \\\n",
       "0       1                    Allen, Miss. Elisabeth Walton  female  29.0000   \n",
       "1       1                   Allison, Master. Hudson Trevor    male   0.9167   \n",
       "2       1                     Allison, Miss. Helen Loraine  female   2.0000   \n",
       "3       1             Allison, Mr. Hudson Joshua Creighton    male  30.0000   \n",
       "4       1  Allison, Mrs. Hudson J C (Bessie Waldo Daniels)  female  25.0000   \n",
       "\n",
       "   sibsp  parch  ticket      fare    cabin embarked boat   body  \\\n",
       "0      0      0   24160  211.3375       B5        S    2    NaN   \n",
       "1      1      2  113781  151.5500  C22 C26        S   11    NaN   \n",
       "2      1      2  113781  151.5500  C22 C26        S  NaN    NaN   \n",
       "3      1      2  113781  151.5500  C22 C26        S  NaN  135.0   \n",
       "4      1      2  113781  151.5500  C22 C26        S  NaN    NaN   \n",
       "\n",
       "                         home.dest  \n",
       "0                     St Louis, MO  \n",
       "1  Montreal, PQ / Chesterville, ON  \n",
       "2  Montreal, PQ / Chesterville, ON  \n",
       "3  Montreal, PQ / Chesterville, ON  \n",
       "4  Montreal, PQ / Chesterville, ON  "
      ]
     },
     "execution_count": 69,
     "metadata": {},
     "output_type": "execute_result"
    }
   ],
   "source": [
    "X[:5]"
   ]
  },
  {
   "cell_type": "markdown",
   "metadata": {},
   "source": [
    "Rozwiązanie"
   ]
  },
  {
   "cell_type": "markdown",
   "metadata": {},
   "source": []
  },
  {
   "cell_type": "markdown",
   "metadata": {},
   "source": [
    "### Zadanie 4\n",
    "\n",
    "Zaimplementuj transformator, który redukuje zbiór wartości zmiennych nominalnych poprzez zastępowanie wartości występujących w mniej niż `treshold` obserwacji wartością `replace_value`, domyślnie równą `\"rare_value\"`."
   ]
  },
  {
   "cell_type": "code",
   "execution_count": 119,
   "metadata": {},
   "outputs": [
    {
     "data": {
      "text/html": [
       "<div>\n",
       "<style scoped>\n",
       "    .dataframe tbody tr th:only-of-type {\n",
       "        vertical-align: middle;\n",
       "    }\n",
       "\n",
       "    .dataframe tbody tr th {\n",
       "        vertical-align: top;\n",
       "    }\n",
       "\n",
       "    .dataframe thead th {\n",
       "        text-align: right;\n",
       "    }\n",
       "</style>\n",
       "<table border=\"1\" class=\"dataframe\">\n",
       "  <thead>\n",
       "    <tr style=\"text-align: right;\">\n",
       "      <th></th>\n",
       "      <th>s</th>\n",
       "      <th>n</th>\n",
       "    </tr>\n",
       "  </thead>\n",
       "  <tbody>\n",
       "    <tr>\n",
       "      <th>0</th>\n",
       "      <td>a</td>\n",
       "      <td>1</td>\n",
       "    </tr>\n",
       "    <tr>\n",
       "      <th>1</th>\n",
       "      <td>b</td>\n",
       "      <td>2</td>\n",
       "    </tr>\n",
       "    <tr>\n",
       "      <th>2</th>\n",
       "      <td>a</td>\n",
       "      <td>3</td>\n",
       "    </tr>\n",
       "    <tr>\n",
       "      <th>3</th>\n",
       "      <td>a</td>\n",
       "      <td>4</td>\n",
       "    </tr>\n",
       "  </tbody>\n",
       "</table>\n",
       "</div>"
      ],
      "text/plain": [
       "   s  n\n",
       "0  a  1\n",
       "1  b  2\n",
       "2  a  3\n",
       "3  a  4"
      ]
     },
     "execution_count": 119,
     "metadata": {},
     "output_type": "execute_result"
    }
   ],
   "source": [
    "s = pd.Series([\"a\",\"b\",\"a\",\"a\"], dtype=\"object\")\n",
    "df = pd.DataFrame({\"s\": s, \"n\": [1,2,3,4]})\n",
    "df"
   ]
  },
  {
   "cell_type": "code",
   "execution_count": 160,
   "metadata": {},
   "outputs": [
    {
     "data": {
      "text/plain": [
       "Index(['s'], dtype='object')"
      ]
     },
     "execution_count": 160,
     "metadata": {},
     "output_type": "execute_result"
    }
   ],
   "source": [
    "cat_columns = df.columns[df.dtypes == 'object']\n",
    "cat_columns"
   ]
  },
  {
   "cell_type": "code",
   "execution_count": 127,
   "metadata": {},
   "outputs": [
    {
     "data": {
      "text/plain": [
       "0    a\n",
       "1    b\n",
       "2    a\n",
       "3    a\n",
       "Name: s, dtype: category\n",
       "Categories (2, object): [a, b]"
      ]
     },
     "execution_count": 127,
     "metadata": {},
     "output_type": "execute_result"
    }
   ],
   "source": [
    "df[cat_columns[0]].astype(\"category\")"
   ]
  },
  {
   "cell_type": "code",
   "execution_count": null,
   "metadata": {},
   "outputs": [],
   "source": []
  },
  {
   "cell_type": "code",
   "execution_count": 161,
   "metadata": {},
   "outputs": [
    {
     "data": {
      "text/plain": [
       "{'s': ['a']}"
      ]
     },
     "execution_count": 161,
     "metadata": {},
     "output_type": "execute_result"
    }
   ],
   "source": [
    "columns = df.columns[df.dtypes == 'object']\n",
    "treshold = 2\n",
    "non_rares = {}\n",
    "for column in columns:\n",
    "    non_rares[column] = []\n",
    "    # df[column].cat.add_categories([\"rare_value\"], inplace=True)\n",
    "    cats = df[column].unique()\n",
    "    for cat in cats:\n",
    "        if (df[column] == cat).sum() >= treshold:\n",
    "            non_rares[column].append(cat)\n",
    "non_rares"
   ]
  },
  {
   "cell_type": "markdown",
   "metadata": {},
   "source": [
    "Rozwiązanie"
   ]
  },
  {
   "cell_type": "code",
   "execution_count": null,
   "metadata": {},
   "outputs": [],
   "source": []
  },
  {
   "cell_type": "code",
   "execution_count": 282,
   "metadata": {},
   "outputs": [],
   "source": [
    "class ReduceRareValues(BaseEstimator, TransformerMixin):\n",
    "    \"\"\"\n",
    "    Transformer to transform variables with more than treshold (%) missing values to binary - value/missing.\n",
    "    \"\"\"\n",
    "    \n",
    "    def __init__(self, treshold, replace_value = 'rare_value'):    \n",
    "        self.treshold = treshold\n",
    "        self.replace_value = replace_value\n",
    "            \n",
    "    def fit(self, X, y=None):\n",
    "        self._obj_columns_ = X.columns[X.dtypes == 'object']\n",
    "        self.non_rares = {}\n",
    "        \n",
    "        for column in self._obj_columns_:\n",
    "            self.non_rares[column] = []\n",
    "            cats = X[column].unique()\n",
    "            for cat in cats:\n",
    "                if (X[column] == cat).sum() >= treshold:\n",
    "                    self.non_rares[column].append(cat)\n",
    "                    \n",
    "        return self\n",
    "\n",
    "    def transform(self, X):\n",
    "        Y = X.copy()\n",
    "        for column, cats in self.non_rares.items():\n",
    "            Y[column] = Y[column].astype(\"category\")\n",
    "            Y[column].cat.add_categories([self.replace_value], inplace=True)\n",
    "            \n",
    "            values_to_replace = np.setdiff1d(Y[column][Y[column].notnull()], \\\n",
    "                                             cats)\n",
    "                    \n",
    "            if len(values_to_replace):\n",
    "                Y[column].replace(values_to_replace, self.replace_value, inplace=True)\n",
    "#             print(values_to_replace)\n",
    "#             Y[column].values not  \n",
    "#             Y[column][inds] = \"rare_value\"\n",
    "\n",
    "        return Y"
   ]
  },
  {
   "cell_type": "code",
   "execution_count": 252,
   "metadata": {},
   "outputs": [
    {
     "data": {
      "text/plain": [
       "0    NaN\n",
       "dtype: category\n",
       "Categories (0, object): []"
      ]
     },
     "execution_count": 252,
     "metadata": {},
     "output_type": "execute_result"
    }
   ],
   "source": [
    "pd.Series([None]).astype('category')"
   ]
  },
  {
   "cell_type": "code",
   "execution_count": 259,
   "metadata": {},
   "outputs": [
    {
     "data": {
      "text/plain": [
       "ReduceRareValues(replace_value='rare_value', treshold=10)"
      ]
     },
     "execution_count": 259,
     "metadata": {},
     "output_type": "execute_result"
    }
   ],
   "source": [
    "red_rares = ReduceRareValues(10)\n",
    "red_rares.fit(X)"
   ]
  },
  {
   "cell_type": "code",
   "execution_count": 254,
   "metadata": {},
   "outputs": [
    {
     "data": {
      "text/plain": [
       "Index(['name', 'sex', 'ticket', 'cabin', 'embarked', 'boat', 'home.dest'], dtype='object')"
      ]
     },
     "execution_count": 254,
     "metadata": {},
     "output_type": "execute_result"
    }
   ],
   "source": [
    "X.columns[X.dtypes == 'object']"
   ]
  },
  {
   "cell_type": "code",
   "execution_count": 255,
   "metadata": {},
   "outputs": [
    {
     "data": {
      "text/plain": [
       "Index(['name', 'sex', 'ticket', 'cabin', 'embarked', 'boat', 'home.dest'], dtype='object')"
      ]
     },
     "execution_count": 255,
     "metadata": {},
     "output_type": "execute_result"
    }
   ],
   "source": [
    "red_rares._obj_columns_"
   ]
  },
  {
   "cell_type": "code",
   "execution_count": 256,
   "metadata": {},
   "outputs": [
    {
     "data": {
      "text/plain": [
       "{'name': ['Connolly, Miss. Kate', 'Kelly, Mr. James'],\n",
       " 'sex': ['female', 'male'],\n",
       " 'ticket': ['24160',\n",
       "  '113781',\n",
       "  '13502',\n",
       "  '11769',\n",
       "  'PC 17757',\n",
       "  'PC 17477',\n",
       "  '19877',\n",
       "  'PC 17558',\n",
       "  '11813',\n",
       "  '13050',\n",
       "  '11751',\n",
       "  'PC 17483',\n",
       "  '11967',\n",
       "  'PC 17760',\n",
       "  '36928',\n",
       "  'PC 17608',\n",
       "  '113505',\n",
       "  '16966',\n",
       "  '113798',\n",
       "  'PC 17755',\n",
       "  '113059',\n",
       "  '113760',\n",
       "  'W.E.P. 5734',\n",
       "  '113806',\n",
       "  '110152',\n",
       "  '13508',\n",
       "  '110465',\n",
       "  'PC 17756',\n",
       "  'WE/P 5735',\n",
       "  'PC 17599',\n",
       "  'F.C. 12750',\n",
       "  '17474',\n",
       "  '33638',\n",
       "  'PC 17761',\n",
       "  'PC 17485',\n",
       "  '11767',\n",
       "  '36947',\n",
       "  '17421',\n",
       "  '19950',\n",
       "  'PC 17611',\n",
       "  '13567',\n",
       "  '112058',\n",
       "  '113803',\n",
       "  '113503',\n",
       "  '112378',\n",
       "  'PC 17593',\n",
       "  '17453',\n",
       "  'PC 17582',\n",
       "  'PC 17759',\n",
       "  '11765',\n",
       "  'PC 17572',\n",
       "  '113796',\n",
       "  '36973',\n",
       "  '12749',\n",
       "  '17463',\n",
       "  '111361',\n",
       "  '113789',\n",
       "  '19943',\n",
       "  '113572',\n",
       "  '17464',\n",
       "  '11753',\n",
       "  'PC 17592',\n",
       "  'PC 17569',\n",
       "  '113773',\n",
       "  'PC 17604',\n",
       "  '19928',\n",
       "  '13236',\n",
       "  '35273',\n",
       "  'PC 17758',\n",
       "  '113509',\n",
       "  '113776',\n",
       "  'PC 17585',\n",
       "  'PC 17603',\n",
       "  '13507',\n",
       "  '13695',\n",
       "  '21228',\n",
       "  '11778',\n",
       "  '110413',\n",
       "  '19996',\n",
       "  '110813',\n",
       "  '35281',\n",
       "  'PC 17597',\n",
       "  'P/PP 3381',\n",
       "  '226875',\n",
       "  '2908',\n",
       "  '244358',\n",
       "  '230136',\n",
       "  '29750',\n",
       "  '236853',\n",
       "  '248738',\n",
       "  'F.C.C. 13528',\n",
       "  '239853',\n",
       "  '244252',\n",
       "  'SC/AH 29037',\n",
       "  '237789',\n",
       "  '2003',\n",
       "  'C.A. 31921',\n",
       "  'F.C.C. 13534',\n",
       "  'C.A. 33112',\n",
       "  'S.O.C. 14879',\n",
       "  'SC/PARIS 2167',\n",
       "  'C.A. 31029',\n",
       "  '231919',\n",
       "  '28403',\n",
       "  '28220',\n",
       "  '2926',\n",
       "  '239865',\n",
       "  '28664',\n",
       "  '250647',\n",
       "  '250649',\n",
       "  '248727',\n",
       "  'F.C.C. 13529',\n",
       "  '220845',\n",
       "  '29105',\n",
       "  '26707',\n",
       "  '24065',\n",
       "  '243847',\n",
       "  '244367',\n",
       "  '250651',\n",
       "  'SC/Paris 2123',\n",
       "  'SC/AH 3085',\n",
       "  'S.O./P.P. 3',\n",
       "  'S.C./PARIS 2079',\n",
       "  '250644',\n",
       "  '250655',\n",
       "  '237736',\n",
       "  '230080',\n",
       "  '230433',\n",
       "  'S.O./P.P. 2',\n",
       "  '26360',\n",
       "  '31027',\n",
       "  '29106',\n",
       "  '11668',\n",
       "  'CA 31352',\n",
       "  'C.A. 33595',\n",
       "  '228414',\n",
       "  '29103',\n",
       "  'C.A. 34651',\n",
       "  'C.A. 2673',\n",
       "  '392091',\n",
       "  '2699',\n",
       "  'C 4001',\n",
       "  '347082',\n",
       "  '349237',\n",
       "  '347077',\n",
       "  '2627',\n",
       "  '3101278',\n",
       "  '2666',\n",
       "  '2691',\n",
       "  '1601',\n",
       "  '2678',\n",
       "  '364849',\n",
       "  '54636',\n",
       "  '2689',\n",
       "  '2680',\n",
       "  'C.A. 37671',\n",
       "  '371362',\n",
       "  '347080',\n",
       "  'A/4 48871',\n",
       "  '386525',\n",
       "  '345572',\n",
       "  'C.A. 2315',\n",
       "  '364516',\n",
       "  '347072',\n",
       "  'C.A. 6212',\n",
       "  'W./C. 6608',\n",
       "  '358585',\n",
       "  '363291',\n",
       "  'CA 2144',\n",
       "  '7534',\n",
       "  'STON/O2. 3101279',\n",
       "  '350026',\n",
       "  '3101298',\n",
       "  '347742',\n",
       "  'LINE',\n",
       "  'W./C. 6607',\n",
       "  '349256',\n",
       "  '2660',\n",
       "  '315153',\n",
       "  '350405',\n",
       "  '4133',\n",
       "  '370371',\n",
       "  '349910',\n",
       "  'A/5. 3336',\n",
       "  '367226',\n",
       "  '36568',\n",
       "  '376566',\n",
       "  '392096',\n",
       "  '371110',\n",
       "  '2661',\n",
       "  '367230',\n",
       "  '2653',\n",
       "  '2651',\n",
       "  '370365',\n",
       "  '349909',\n",
       "  '3101295',\n",
       "  'SOTON/O.Q. 3101315',\n",
       "  '2668',\n",
       "  '382652',\n",
       "  '364498',\n",
       "  'A/5. 3337',\n",
       "  '370129',\n",
       "  'CA. 2343',\n",
       "  '2662',\n",
       "  'PP 9549',\n",
       "  '347088',\n",
       "  '347054',\n",
       "  '2625',\n",
       "  '376564',\n",
       "  '2650',\n",
       "  'A/5. 851',\n",
       "  '345773',\n",
       "  '345764',\n",
       "  '345763',\n",
       "  '2659',\n",
       "  '2665'],\n",
       " 'cabin': ['B5',\n",
       "  'C22 C26',\n",
       "  'C101',\n",
       "  'C62 C64',\n",
       "  'B35',\n",
       "  'B58 B60',\n",
       "  'D15',\n",
       "  'C6',\n",
       "  'D35',\n",
       "  'B49',\n",
       "  'C52',\n",
       "  'C7',\n",
       "  'E33',\n",
       "  'E24',\n",
       "  'B51 B53 B55',\n",
       "  'B96 B98',\n",
       "  'C46',\n",
       "  'E31',\n",
       "  'E8',\n",
       "  'B77',\n",
       "  'C89',\n",
       "  'B22',\n",
       "  'C85',\n",
       "  'B71',\n",
       "  'B20',\n",
       "  'A34',\n",
       "  'C86',\n",
       "  'C54',\n",
       "  'D20',\n",
       "  'E25',\n",
       "  'C23 C25 C27',\n",
       "  'B41',\n",
       "  'C123',\n",
       "  'C92',\n",
       "  'C125',\n",
       "  'D10 D12',\n",
       "  'E50',\n",
       "  'D33',\n",
       "  'C83',\n",
       "  'B69',\n",
       "  'E46',\n",
       "  'B18',\n",
       "  'C93',\n",
       "  'B28',\n",
       "  'D21',\n",
       "  'D19',\n",
       "  'C124',\n",
       "  'D17',\n",
       "  'D28',\n",
       "  'C106',\n",
       "  'D30',\n",
       "  'C78',\n",
       "  'D36',\n",
       "  'C2',\n",
       "  'C65',\n",
       "  'B57 B59 B63 B66',\n",
       "  'E44',\n",
       "  'C31',\n",
       "  'B45',\n",
       "  'E34',\n",
       "  'B78',\n",
       "  'C116',\n",
       "  'C55 C57',\n",
       "  'E67',\n",
       "  'C126',\n",
       "  'C68',\n",
       "  'D37',\n",
       "  'D26',\n",
       "  'C32',\n",
       "  'C80',\n",
       "  'D',\n",
       "  'F4',\n",
       "  'F33',\n",
       "  'E101',\n",
       "  'F2',\n",
       "  'F G63',\n",
       "  'F G73',\n",
       "  'E121',\n",
       "  'G6'],\n",
       " 'embarked': ['S', 'C', 'Q'],\n",
       " 'boat': ['2',\n",
       "  '11',\n",
       "  '3',\n",
       "  '10',\n",
       "  'D',\n",
       "  '4',\n",
       "  '9',\n",
       "  '6',\n",
       "  'B',\n",
       "  '8',\n",
       "  'A',\n",
       "  '5',\n",
       "  '7',\n",
       "  'C',\n",
       "  '14',\n",
       "  '13',\n",
       "  '1',\n",
       "  '15',\n",
       "  '5 7',\n",
       "  '12',\n",
       "  '16',\n",
       "  'C D',\n",
       "  '13 15'],\n",
       " 'home.dest': ['St Louis, MO',\n",
       "  'Montreal, PQ / Chesterville, ON',\n",
       "  'New York, NY',\n",
       "  'Hudson, NY',\n",
       "  'Montevideo, Uruguay',\n",
       "  'Paris, France',\n",
       "  'Montreal, PQ',\n",
       "  'San Francisco, CA',\n",
       "  'Dowagiac, MI',\n",
       "  'Trenton, NJ',\n",
       "  'Youngstown, OH',\n",
       "  'St Leonards-on-Sea, England Ohio',\n",
       "  'Los Angeles, CA',\n",
       "  'Philadelphia, PA',\n",
       "  'Washington, DC',\n",
       "  'Bryn Mawr, PA',\n",
       "  'Little Onn Hall, Staffs',\n",
       "  'Amenia, ND',\n",
       "  'New York, NY / Ithaca, NY',\n",
       "  'London, England',\n",
       "  'Lakewood, NJ',\n",
       "  'Milwaukee, WI',\n",
       "  'Calgary, AB',\n",
       "  'Deephaven, MN / Cedar Rapids, IA',\n",
       "  'London / Paris',\n",
       "  'Mt Airy, Philadelphia, PA',\n",
       "  'Brooklyn, NY',\n",
       "  'Winnipeg, MB',\n",
       "  'Zurich, Switzerland',\n",
       "  'Scituate, MA',\n",
       "  'Paris, France / New York, NY',\n",
       "  'Greenwich, CT',\n",
       "  'Chicago, IL',\n",
       "  'Indianapolis, IN',\n",
       "  'New York, NY /  Stamford CT',\n",
       "  'Liverpool',\n",
       "  'London',\n",
       "  'Southington / Noank, CT',\n",
       "  'Boston, MA',\n",
       "  'Portland, OR',\n",
       "  'Stockholm, Sweden',\n",
       "  'London / New York, NY',\n",
       "  'Vancouver, BC',\n",
       "  'Fond du Lac, WI',\n",
       "  'Lexington, MA',\n",
       "  'Providence, RI',\n",
       "  'Belfast',\n",
       "  'Isleworth, England',\n",
       "  'Madrid, Spain',\n",
       "  'Worcester, MA',\n",
       "  'Haverford, PA / Cooperstown, NY',\n",
       "  'Duluth, MN',\n",
       "  'Basel, Switzerland',\n",
       "  'Huntington, WV',\n",
       "  'Minneapolis, MN',\n",
       "  'Tuxedo Park, NY',\n",
       "  'Newark, NJ',\n",
       "  'Haverford, PA',\n",
       "  'London /  East Orange, NJ',\n",
       "  'Brunswick, ME',\n",
       "  'Elkins Park, PA',\n",
       "  'Geneva, Switzerland / Radnor, PA',\n",
       "  'Halifax, NS',\n",
       "  'Russia New York, NY',\n",
       "  'Warwick, England',\n",
       "  'Penzance, Cornwall / Akron, OH',\n",
       "  'Guernsey',\n",
       "  'Norwich / New York, NY',\n",
       "  'England',\n",
       "  'Guntur, India / Benton Harbour, MI',\n",
       "  'Rochester, NY',\n",
       "  'St Ives, Cornwall / Calumet, MI',\n",
       "  'Cape Town, South Africa / Seattle, WA',\n",
       "  'Skara, Sweden / Rockford, IL',\n",
       "  'Bangkok, Thailand / Roseville, IL',\n",
       "  'Mamaroneck, NY',\n",
       "  'Bronx, NY',\n",
       "  'Cornwall / Spokane, WA',\n",
       "  'England / San Francisco, CA',\n",
       "  'Bishopstoke, Hants / Fayette Valley, ID',\n",
       "  'St Ives, Cornwall / Hancock, MI',\n",
       "  'Lucca, Italy / California',\n",
       "  'Guernsey / Elizabeth, NJ',\n",
       "  'New Forest, England',\n",
       "  'Southampton',\n",
       "  'Greenport, NY',\n",
       "  'Barcelona, Spain / Havana, Cuba',\n",
       "  'Cornwall / Houghton, MI',\n",
       "  'Liverpool / Montreal, PQ',\n",
       "  'Cornwall / Clear Creek, CO',\n",
       "  'Cornwall',\n",
       "  'Cornwall / Camden, NJ',\n",
       "  'Detroit, MI',\n",
       "  'Denmark Hill, Surrey / Chicago',\n",
       "  'Ilford, Essex / Winnipeg, MB',\n",
       "  'Somerset / Bernardsville, NJ',\n",
       "  'West Hampstead, London / Neepawa, MB',\n",
       "  'Cornwall / Akron, OH',\n",
       "  'England / Sacramento, CA',\n",
       "  'Swindon, England',\n",
       "  'Moscow / Bronx, NY',\n",
       "  'Paris / Haiti',\n",
       "  'Weston-Super-Mare, Somerset',\n",
       "  'Paris',\n",
       "  'Paris / Montreal, PQ',\n",
       "  'England / Bennington, VT',\n",
       "  'Nice, France',\n",
       "  'Cornwall / Hancock, MI',\n",
       "  'Spain / Havana, Cuba',\n",
       "  'Ilfracombe, Devon',\n",
       "  'Plymouth, Devon / Detroit, MI',\n",
       "  'Elizabeth, NJ',\n",
       "  'Plymouth, England',\n",
       "  'Bristol, England / New Britain, CT',\n",
       "  'Aberdeen / Portland, OR',\n",
       "  'Bromsgrove, England / Montreal, PQ',\n",
       "  'Bournmouth, England',\n",
       "  'East Providence, RI',\n",
       "  'London, England Norfolk, VA',\n",
       "  'England Albion, NY',\n",
       "  'Sweden Winnipeg, MN',\n",
       "  'Bulgaria Chicago, IL',\n",
       "  'Altdorf, Switzerland',\n",
       "  'Sweden  Worcester, MA',\n",
       "  'Sweden Worcester, MA',\n",
       "  'Ottawa, ON',\n",
       "  'Ruotsinphytaa, Finland New York, NY',\n",
       "  'Syria New York, NY',\n",
       "  'Syria Ottawa, ON',\n",
       "  'Syria',\n",
       "  'Hong Kong New York, NY',\n",
       "  'Syria Kent, ON',\n",
       "  'Ireland Chicago, IL',\n",
       "  'Bridgerule, Devon',\n",
       "  'Co Longford, Ireland New York, NY',\n",
       "  'Ireland New York, NY',\n",
       "  'Greece',\n",
       "  'Portugal',\n",
       "  'Ireland',\n",
       "  'Austria',\n",
       "  'England Brooklyn, NY',\n",
       "  'Bournemouth, England Newark, NJ',\n",
       "  'Co Athlone, Ireland New York, NY',\n",
       "  'Stanton, IA',\n",
       "  'West Bromwich, England Pontiac, MI',\n",
       "  'Liverpool, England Bedford, OH',\n",
       "  'Tampico, MT',\n",
       "  'Devon, England Wichita, KS',\n",
       "  'West Haven, CT',\n",
       "  'Rotherfield, Sussex, England Essex Co, MA',\n",
       "  'Strood, Kent, England Detroit, MI',\n",
       "  'Wiltshire, England Niagara Falls, NY']}"
      ]
     },
     "execution_count": 256,
     "metadata": {},
     "output_type": "execute_result"
    }
   ],
   "source": [
    "red_rares.non_rares"
   ]
  },
  {
   "cell_type": "code",
   "execution_count": 260,
   "metadata": {},
   "outputs": [
    {
     "data": {
      "text/html": [
       "<div>\n",
       "<style scoped>\n",
       "    .dataframe tbody tr th:only-of-type {\n",
       "        vertical-align: middle;\n",
       "    }\n",
       "\n",
       "    .dataframe tbody tr th {\n",
       "        vertical-align: top;\n",
       "    }\n",
       "\n",
       "    .dataframe thead th {\n",
       "        text-align: right;\n",
       "    }\n",
       "</style>\n",
       "<table border=\"1\" class=\"dataframe\">\n",
       "  <thead>\n",
       "    <tr style=\"text-align: right;\">\n",
       "      <th></th>\n",
       "      <th>pclass</th>\n",
       "      <th>name</th>\n",
       "      <th>sex</th>\n",
       "      <th>age</th>\n",
       "      <th>sibsp</th>\n",
       "      <th>parch</th>\n",
       "      <th>ticket</th>\n",
       "      <th>fare</th>\n",
       "      <th>cabin</th>\n",
       "      <th>embarked</th>\n",
       "      <th>boat</th>\n",
       "      <th>body</th>\n",
       "      <th>home.dest</th>\n",
       "    </tr>\n",
       "  </thead>\n",
       "  <tbody>\n",
       "    <tr>\n",
       "      <th>0</th>\n",
       "      <td>1</td>\n",
       "      <td>rare_value</td>\n",
       "      <td>female</td>\n",
       "      <td>29.0000</td>\n",
       "      <td>0</td>\n",
       "      <td>0</td>\n",
       "      <td>24160</td>\n",
       "      <td>211.3375</td>\n",
       "      <td>B5</td>\n",
       "      <td>S</td>\n",
       "      <td>2</td>\n",
       "      <td>NaN</td>\n",
       "      <td>St Louis, MO</td>\n",
       "    </tr>\n",
       "    <tr>\n",
       "      <th>1</th>\n",
       "      <td>1</td>\n",
       "      <td>rare_value</td>\n",
       "      <td>male</td>\n",
       "      <td>0.9167</td>\n",
       "      <td>1</td>\n",
       "      <td>2</td>\n",
       "      <td>113781</td>\n",
       "      <td>151.5500</td>\n",
       "      <td>C22 C26</td>\n",
       "      <td>S</td>\n",
       "      <td>11</td>\n",
       "      <td>NaN</td>\n",
       "      <td>Montreal, PQ / Chesterville, ON</td>\n",
       "    </tr>\n",
       "    <tr>\n",
       "      <th>2</th>\n",
       "      <td>1</td>\n",
       "      <td>rare_value</td>\n",
       "      <td>female</td>\n",
       "      <td>2.0000</td>\n",
       "      <td>1</td>\n",
       "      <td>2</td>\n",
       "      <td>113781</td>\n",
       "      <td>151.5500</td>\n",
       "      <td>C22 C26</td>\n",
       "      <td>S</td>\n",
       "      <td>NaN</td>\n",
       "      <td>NaN</td>\n",
       "      <td>Montreal, PQ / Chesterville, ON</td>\n",
       "    </tr>\n",
       "    <tr>\n",
       "      <th>3</th>\n",
       "      <td>1</td>\n",
       "      <td>rare_value</td>\n",
       "      <td>male</td>\n",
       "      <td>30.0000</td>\n",
       "      <td>1</td>\n",
       "      <td>2</td>\n",
       "      <td>113781</td>\n",
       "      <td>151.5500</td>\n",
       "      <td>C22 C26</td>\n",
       "      <td>S</td>\n",
       "      <td>NaN</td>\n",
       "      <td>135.0</td>\n",
       "      <td>Montreal, PQ / Chesterville, ON</td>\n",
       "    </tr>\n",
       "    <tr>\n",
       "      <th>4</th>\n",
       "      <td>1</td>\n",
       "      <td>rare_value</td>\n",
       "      <td>female</td>\n",
       "      <td>25.0000</td>\n",
       "      <td>1</td>\n",
       "      <td>2</td>\n",
       "      <td>113781</td>\n",
       "      <td>151.5500</td>\n",
       "      <td>C22 C26</td>\n",
       "      <td>S</td>\n",
       "      <td>NaN</td>\n",
       "      <td>NaN</td>\n",
       "      <td>Montreal, PQ / Chesterville, ON</td>\n",
       "    </tr>\n",
       "  </tbody>\n",
       "</table>\n",
       "</div>"
      ],
      "text/plain": [
       "   pclass        name     sex      age  sibsp  parch  ticket      fare  \\\n",
       "0       1  rare_value  female  29.0000      0      0   24160  211.3375   \n",
       "1       1  rare_value    male   0.9167      1      2  113781  151.5500   \n",
       "2       1  rare_value  female   2.0000      1      2  113781  151.5500   \n",
       "3       1  rare_value    male  30.0000      1      2  113781  151.5500   \n",
       "4       1  rare_value  female  25.0000      1      2  113781  151.5500   \n",
       "\n",
       "     cabin embarked boat   body                        home.dest  \n",
       "0       B5        S    2    NaN                     St Louis, MO  \n",
       "1  C22 C26        S   11    NaN  Montreal, PQ / Chesterville, ON  \n",
       "2  C22 C26        S  NaN    NaN  Montreal, PQ / Chesterville, ON  \n",
       "3  C22 C26        S  NaN  135.0  Montreal, PQ / Chesterville, ON  \n",
       "4  C22 C26        S  NaN    NaN  Montreal, PQ / Chesterville, ON  "
      ]
     },
     "execution_count": 260,
     "metadata": {},
     "output_type": "execute_result"
    }
   ],
   "source": [
    "red_rares.transform(X)[:5]"
   ]
  },
  {
   "cell_type": "code",
   "execution_count": 248,
   "metadata": {},
   "outputs": [
    {
     "data": {
      "text/html": [
       "<div>\n",
       "<style scoped>\n",
       "    .dataframe tbody tr th:only-of-type {\n",
       "        vertical-align: middle;\n",
       "    }\n",
       "\n",
       "    .dataframe tbody tr th {\n",
       "        vertical-align: top;\n",
       "    }\n",
       "\n",
       "    .dataframe thead th {\n",
       "        text-align: right;\n",
       "    }\n",
       "</style>\n",
       "<table border=\"1\" class=\"dataframe\">\n",
       "  <thead>\n",
       "    <tr style=\"text-align: right;\">\n",
       "      <th></th>\n",
       "      <th>pclass</th>\n",
       "      <th>name</th>\n",
       "      <th>sex</th>\n",
       "      <th>age</th>\n",
       "      <th>sibsp</th>\n",
       "      <th>parch</th>\n",
       "      <th>ticket</th>\n",
       "      <th>fare</th>\n",
       "      <th>cabin</th>\n",
       "      <th>embarked</th>\n",
       "      <th>boat</th>\n",
       "      <th>body</th>\n",
       "      <th>home.dest</th>\n",
       "    </tr>\n",
       "  </thead>\n",
       "  <tbody>\n",
       "    <tr>\n",
       "      <th>0</th>\n",
       "      <td>1</td>\n",
       "      <td>Allen, Miss. Elisabeth Walton</td>\n",
       "      <td>female</td>\n",
       "      <td>29.0000</td>\n",
       "      <td>0</td>\n",
       "      <td>0</td>\n",
       "      <td>24160</td>\n",
       "      <td>211.3375</td>\n",
       "      <td>B5</td>\n",
       "      <td>S</td>\n",
       "      <td>2</td>\n",
       "      <td>NaN</td>\n",
       "      <td>St Louis, MO</td>\n",
       "    </tr>\n",
       "    <tr>\n",
       "      <th>1</th>\n",
       "      <td>1</td>\n",
       "      <td>Allison, Master. Hudson Trevor</td>\n",
       "      <td>male</td>\n",
       "      <td>0.9167</td>\n",
       "      <td>1</td>\n",
       "      <td>2</td>\n",
       "      <td>113781</td>\n",
       "      <td>151.5500</td>\n",
       "      <td>C22 C26</td>\n",
       "      <td>S</td>\n",
       "      <td>11</td>\n",
       "      <td>NaN</td>\n",
       "      <td>Montreal, PQ / Chesterville, ON</td>\n",
       "    </tr>\n",
       "    <tr>\n",
       "      <th>2</th>\n",
       "      <td>1</td>\n",
       "      <td>Allison, Miss. Helen Loraine</td>\n",
       "      <td>female</td>\n",
       "      <td>2.0000</td>\n",
       "      <td>1</td>\n",
       "      <td>2</td>\n",
       "      <td>113781</td>\n",
       "      <td>151.5500</td>\n",
       "      <td>C22 C26</td>\n",
       "      <td>S</td>\n",
       "      <td>NaN</td>\n",
       "      <td>NaN</td>\n",
       "      <td>Montreal, PQ / Chesterville, ON</td>\n",
       "    </tr>\n",
       "    <tr>\n",
       "      <th>3</th>\n",
       "      <td>1</td>\n",
       "      <td>Allison, Mr. Hudson Joshua Creighton</td>\n",
       "      <td>male</td>\n",
       "      <td>30.0000</td>\n",
       "      <td>1</td>\n",
       "      <td>2</td>\n",
       "      <td>113781</td>\n",
       "      <td>151.5500</td>\n",
       "      <td>C22 C26</td>\n",
       "      <td>S</td>\n",
       "      <td>NaN</td>\n",
       "      <td>135.0</td>\n",
       "      <td>Montreal, PQ / Chesterville, ON</td>\n",
       "    </tr>\n",
       "    <tr>\n",
       "      <th>4</th>\n",
       "      <td>1</td>\n",
       "      <td>Allison, Mrs. Hudson J C (Bessie Waldo Daniels)</td>\n",
       "      <td>female</td>\n",
       "      <td>25.0000</td>\n",
       "      <td>1</td>\n",
       "      <td>2</td>\n",
       "      <td>113781</td>\n",
       "      <td>151.5500</td>\n",
       "      <td>C22 C26</td>\n",
       "      <td>S</td>\n",
       "      <td>NaN</td>\n",
       "      <td>NaN</td>\n",
       "      <td>Montreal, PQ / Chesterville, ON</td>\n",
       "    </tr>\n",
       "  </tbody>\n",
       "</table>\n",
       "</div>"
      ],
      "text/plain": [
       "   pclass                                             name     sex      age  \\\n",
       "0       1                    Allen, Miss. Elisabeth Walton  female  29.0000   \n",
       "1       1                   Allison, Master. Hudson Trevor    male   0.9167   \n",
       "2       1                     Allison, Miss. Helen Loraine  female   2.0000   \n",
       "3       1             Allison, Mr. Hudson Joshua Creighton    male  30.0000   \n",
       "4       1  Allison, Mrs. Hudson J C (Bessie Waldo Daniels)  female  25.0000   \n",
       "\n",
       "   sibsp  parch  ticket      fare    cabin embarked boat   body  \\\n",
       "0      0      0   24160  211.3375       B5        S    2    NaN   \n",
       "1      1      2  113781  151.5500  C22 C26        S   11    NaN   \n",
       "2      1      2  113781  151.5500  C22 C26        S  NaN    NaN   \n",
       "3      1      2  113781  151.5500  C22 C26        S  NaN  135.0   \n",
       "4      1      2  113781  151.5500  C22 C26        S  NaN    NaN   \n",
       "\n",
       "                         home.dest  \n",
       "0                     St Louis, MO  \n",
       "1  Montreal, PQ / Chesterville, ON  \n",
       "2  Montreal, PQ / Chesterville, ON  \n",
       "3  Montreal, PQ / Chesterville, ON  \n",
       "4  Montreal, PQ / Chesterville, ON  "
      ]
     },
     "execution_count": 248,
     "metadata": {},
     "output_type": "execute_result"
    }
   ],
   "source": [
    "X[:5]"
   ]
  },
  {
   "cell_type": "markdown",
   "metadata": {},
   "source": [
    "### Zadanie 5 \n",
    "\n",
    "Z zaimplementowanych transformatorów, skonstruuj pipeline do przetworzenia danych titanic od surowego zbioru do zbioru gotowego do modelowania i przetestuje model regresji logistycznej z domyślnymi parametrami. Pipeline ma przebiegać następująco:\n",
    "1. Usuń kolumny: `body, boat, name, ticket, cabin, embarked, home.dest`\n",
    "2. odziel zbiór na zmienne numeryczne i kategoryczne - połącz oba po osobnym przetworzeniu. Uzyć FeatureUnion\n",
    "\n",
    "3a. Zmienne numeryczne - uzupełnij braki danych średnią\n",
    "\n",
    "3b. Zmienne kategoryczne:\n",
    "    - zmienne z brakami w ponad 50% obserwacji zamiań na zmienne binarne\n",
    "    - uzupełnij braki danych wartością `missing_value`\n",
    "    - zredukuj wartosci wystepujące w co najwyżej 20 obserwacjach\n",
    "    - zakoduj te zmienne kodowaniem one-hot, zwracając macierz gęstą"
   ]
  },
  {
   "cell_type": "code",
   "execution_count": null,
   "metadata": {},
   "outputs": [],
   "source": []
  },
  {
   "cell_type": "code",
   "execution_count": 300,
   "metadata": {},
   "outputs": [],
   "source": [
    "class SimpleImputerWrapper(BaseEstimator, TransformerMixin):\n",
    "    '''\n",
    "    '''\n",
    "    def __init__(self, strategy, fill_value = None):\n",
    "        self.imputer = SimpleImputer(strategy=strategy, fill_value=fill_value)\n",
    "    \n",
    "    def fit(self, X, y=None):\n",
    "        self.columns = X.columns\n",
    "        self.imputer.fit(X,y)\n",
    "        return self\n",
    "    \n",
    "    def transform(self, X, y=None):\n",
    "        Y = self.imputer.transform(X)\n",
    "        Y = pd.DataFrame(Y, columns = self.columns)\n",
    "        return Y"
   ]
  },
  {
   "cell_type": "code",
   "execution_count": 305,
   "metadata": {},
   "outputs": [
    {
     "data": {
      "text/html": [
       "<div>\n",
       "<style scoped>\n",
       "    .dataframe tbody tr th:only-of-type {\n",
       "        vertical-align: middle;\n",
       "    }\n",
       "\n",
       "    .dataframe tbody tr th {\n",
       "        vertical-align: top;\n",
       "    }\n",
       "\n",
       "    .dataframe thead th {\n",
       "        text-align: right;\n",
       "    }\n",
       "</style>\n",
       "<table border=\"1\" class=\"dataframe\">\n",
       "  <thead>\n",
       "    <tr style=\"text-align: right;\">\n",
       "      <th></th>\n",
       "      <th>a</th>\n",
       "    </tr>\n",
       "  </thead>\n",
       "  <tbody>\n",
       "    <tr>\n",
       "      <th>0</th>\n",
       "      <td>b</td>\n",
       "    </tr>\n",
       "    <tr>\n",
       "      <th>1</th>\n",
       "      <td>c</td>\n",
       "    </tr>\n",
       "    <tr>\n",
       "      <th>2</th>\n",
       "      <td>dupa</td>\n",
       "    </tr>\n",
       "  </tbody>\n",
       "</table>\n",
       "</div>"
      ],
      "text/plain": [
       "      a\n",
       "0     b\n",
       "1     c\n",
       "2  dupa"
      ]
     },
     "execution_count": 305,
     "metadata": {},
     "output_type": "execute_result"
    }
   ],
   "source": [
    "SimpleImputerWrapper(\"constant\", fill_value = 'dupa').fit_transform(pd.DataFrame({'a':['b','c', np.nan]}))"
   ]
  },
  {
   "cell_type": "code",
   "execution_count": null,
   "metadata": {},
   "outputs": [],
   "source": [
    "data.head(10)"
   ]
  },
  {
   "cell_type": "code",
   "execution_count": 283,
   "metadata": {},
   "outputs": [],
   "source": [
    "from sklearn.pipeline import make_pipeline, FeatureUnion\n",
    "from sklearn.model_selection import train_test_split\n",
    "from sklearn.impute import SimpleImputer\n",
    "from sklearn.preprocessing import OneHotEncoder\n",
    "\n",
    "X = data.drop([\"survived\"],axis=1,inplace=False)\n",
    "y = data.survived\n",
    "\n",
    "X_train, X_test, y_train, y_test = train_test_split(X,y,test_size=0.33)"
   ]
  },
  {
   "cell_type": "code",
   "execution_count": null,
   "metadata": {
    "collapsed": true
   },
   "outputs": [],
   "source": [
    "\n",
    "\n",
    "flexibiuro0pc\n",
    "\n",
    "20flexibiuro0pc15"
   ]
  },
  {
   "cell_type": "code",
   "execution_count": 314,
   "metadata": {},
   "outputs": [],
   "source": [
    "from sklearn.linear_model import LinearRegression"
   ]
  },
  {
   "cell_type": "code",
   "execution_count": 330,
   "metadata": {},
   "outputs": [],
   "source": [
    "num_pipeline = Pipeline([ ('', ColumnsSelectorByType([np.number]),\n",
    "                          ('',  SimpleImputerWrapper(strategy='mean')\n",
    "                        ])\n",
    "objs_pipeline = Pipeline([('', ColumnsSelectorByType(['object'])),\\\n",
    "                          ('', MissingIndicatorForSparse(0.5)),\\\n",
    "                          ('', SimpleImputerWrapper(strategy='constant', fill_value='missing_value'),\n",
    "                                                    ReduceRareValues(20)),\\\n",
    "                          ('', OneHotEncoder(handle_unknown='ignore',\n",
    "                                             sparse = False))\n",
    "                         ])\n",
    "\n",
    "preprocess_pipeline = Pipeline([\n",
    "    ('drop_cols', DropColumns(['body', 'boat', 'name', 'ticket', 'cabin', 'embarked', 'home.dest']) )\n",
    "     ,\n",
    "    ('do_nums_objs', FeatureUnion([('do_nums', num_pipeline),\n",
    "                                   ('do_objs', objs_pipeline)\n",
    "                                 ])\n",
    "    )\n",
    "    ])\n",
    "\n",
    "pipeline = Pipeline([\n",
    "    ('preprocess', preprocess_pipeline),\n",
    "    ('model', LogisticRegression())    \n",
    "])"
   ]
  },
  {
   "cell_type": "code",
   "execution_count": 340,
   "metadata": {},
   "outputs": [
    {
     "data": {
      "text/plain": [
       "Pipeline(memory=None,\n",
       "     steps=[('drop_cols', DropColumns(columns=['body', 'boat', 'name', 'ticket', 'cabin', 'embarked', 'home.dest'])), ('do_nums_objs', FeatureUnion(n_jobs=None,\n",
       "       transformer_list=[('do_nums', Pipeline(memory=None,\n",
       "     steps=[('columnsselectorbytype', ColumnsSelectorByType(column_type=[<class 'nump...andle_unknown='ignore',\n",
       "       n_values=None, sparse=False))]))],\n",
       "       transformer_weights=None))])"
      ]
     },
     "execution_count": 340,
     "metadata": {},
     "output_type": "execute_result"
    }
   ],
   "source": [
    "preprocess_pipeline.fit(X_train)"
   ]
  },
  {
   "cell_type": "code",
   "execution_count": 341,
   "metadata": {},
   "outputs": [
    {
     "data": {
      "text/plain": [
       "array([[  3.        ,  25.        ,   0.        , ...,   7.925     ,\n",
       "          0.        ,   1.        ],\n",
       "       [  1.        ,  41.        ,   0.        , ..., 134.5       ,\n",
       "          1.        ,   0.        ],\n",
       "       [  3.        ,  30.05182319,   0.        , ...,   7.7333    ,\n",
       "          0.        ,   1.        ],\n",
       "       ...,\n",
       "       [  3.        ,  30.05182319,   0.        , ...,   7.7333    ,\n",
       "          1.        ,   0.        ],\n",
       "       [  2.        ,  20.        ,   0.        , ...,  36.75      ,\n",
       "          1.        ,   0.        ],\n",
       "       [  3.        ,  32.        ,   1.        , ...,  15.5       ,\n",
       "          1.        ,   0.        ]])"
      ]
     },
     "execution_count": 341,
     "metadata": {},
     "output_type": "execute_result"
    }
   ],
   "source": [
    "preprocess_pipeline.transform(X_train)"
   ]
  },
  {
   "cell_type": "code",
   "execution_count": 345,
   "metadata": {},
   "outputs": [
    {
     "name": "stderr",
     "output_type": "stream",
     "text": [
      "/home/olszewskip/anaconda3/lib/python3.6/site-packages/sklearn/linear_model/logistic.py:432: FutureWarning: Default solver will be changed to 'lbfgs' in 0.22. Specify a solver to silence this warning.\n",
      "  FutureWarning)\n"
     ]
    }
   ],
   "source": [
    "pipe = pipeline.fit(X_train, y_train)"
   ]
  },
  {
   "cell_type": "code",
   "execution_count": 351,
   "metadata": {},
   "outputs": [
    {
     "data": {
      "text/plain": [
       "0.7900763358778626"
      ]
     },
     "execution_count": 351,
     "metadata": {},
     "output_type": "execute_result"
    }
   ],
   "source": [
    "pipe.score(X_test, y_test)"
   ]
  },
  {
   "cell_type": "code",
   "execution_count": 353,
   "metadata": {},
   "outputs": [
    {
     "ename": "NameError",
     "evalue": "name 'accuracy_score' is not defined",
     "output_type": "error",
     "traceback": [
      "\u001b[0;31m---------------------------------------------------------------------------\u001b[0m",
      "\u001b[0;31mNameError\u001b[0m                                 Traceback (most recent call last)",
      "\u001b[0;32m<ipython-input-353-7708f2503df6>\u001b[0m in \u001b[0;36m<module>\u001b[0;34m\u001b[0m\n\u001b[0;32m----> 1\u001b[0;31m \u001b[0maccuracy_score\u001b[0m\u001b[0;34m(\u001b[0m\u001b[0mpipe\u001b[0m\u001b[0;34m.\u001b[0m\u001b[0mpredict\u001b[0m\u001b[0;34m(\u001b[0m\u001b[0mX_test\u001b[0m\u001b[0;34m,\u001b[0m \u001b[0my_test\u001b[0m\u001b[0;34m)\u001b[0m\u001b[0;34m)\u001b[0m\u001b[0;34m\u001b[0m\u001b[0m\n\u001b[0m",
      "\u001b[0;31mNameError\u001b[0m: name 'accuracy_score' is not defined"
     ]
    }
   ],
   "source": [
    "accuracy_score(pipe.predict(X_test, y_test))"
   ]
  },
  {
   "cell_type": "code",
   "execution_count": 346,
   "metadata": {},
   "outputs": [
    {
     "data": {
      "text/plain": [
       "array([0, 1, 0, ..., 1, 1, 1])"
      ]
     },
     "execution_count": 346,
     "metadata": {},
     "output_type": "execute_result"
    }
   ],
   "source": [
    "pipe.predict(X_train)"
   ]
  },
  {
   "cell_type": "code",
   "execution_count": 347,
   "metadata": {},
   "outputs": [
    {
     "data": {
      "text/plain": [
       "0.21203438395415472"
      ]
     },
     "execution_count": 347,
     "metadata": {},
     "output_type": "execute_result"
    }
   ],
   "source": [
    "(~(pipe.predict(X_train) == y_train)).mean()"
   ]
  },
  {
   "cell_type": "code",
   "execution_count": null,
   "metadata": {},
   "outputs": [],
   "source": [
    "from sklearn.model_selection"
   ]
  }
 ],
 "metadata": {
  "kernelspec": {
   "display_name": "Python 3",
   "language": "python",
   "name": "python3"
  },
  "language_info": {
   "codemirror_mode": {
    "name": "ipython",
    "version": 3
   },
   "file_extension": ".py",
   "mimetype": "text/x-python",
   "name": "python",
   "nbconvert_exporter": "python",
   "pygments_lexer": "ipython3",
   "version": "3.6.6"
  }
 },
 "nbformat": 4,
 "nbformat_minor": 2
}
