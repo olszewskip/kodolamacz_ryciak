{
 "cells": [
  {
   "cell_type": "code",
   "execution_count": 1,
   "metadata": {
    "collapsed": true
   },
   "outputs": [],
   "source": [
    "import pandas as pd\n",
    "import matplotlib.pyplot as plt\n",
    "import numpy as np\n",
    "import numpy.random as rnd\n",
    "\n",
    "%matplotlib inline\n",
    "\n",
    "points = np.concatenate([rnd.multivariate_normal((0,0),np.array([[1,0],[0,1]]),20),\n",
    "                    rnd.multivariate_normal((5,2),np.array([[1,0],[0,1]]),20),\n",
    "                    rnd.multivariate_normal((2,7),np.array([[1,0],[0,1]]),20)],axis=0)"
   ]
  },
  {
   "cell_type": "code",
   "execution_count": 2,
   "metadata": {
    "collapsed": false
   },
   "outputs": [
    {
     "data": {
      "image/png": "[encoded data removed]",
      "text/plain": [
       "<matplotlib.figure.Figure at 0x7f202437f828>"
      ]
     },
     "metadata": {},
     "output_type": "display_data"
    }
   ],
   "source": [
    "plt.scatter(points[:,0],points[:,1])\n",
    "plt.show()"
   ]
  },
  {
   "cell_type": "code",
   "execution_count": 3,
   "metadata": {
    "collapsed": true
   },
   "outputs": [],
   "source": [
    "from sklearn.cluster import KMeans"
   ]
  },
  {
   "cell_type": "code",
   "execution_count": 4,
   "metadata": {
    "collapsed": false
   },
   "outputs": [
    {
     "data": {
      "text/plain": [
       "KMeans(algorithm='auto', copy_x=True, init='k-means++', max_iter=300,\n",
       "    n_clusters=3, n_init=10, n_jobs=None, precompute_distances='auto',\n",
       "    random_state=None, tol=0.0001, verbose=0)"
      ]
     },
     "execution_count": 4,
     "metadata": {},
     "output_type": "execute_result"
    }
   ],
   "source": [
    "model = KMeans(3)\n",
    "model.fit(points)"
   ]
  },
  {
   "cell_type": "code",
   "execution_count": 6,
   "metadata": {
    "collapsed": false
   },
   "outputs": [
    {
     "data": {
      "text/plain": [
       "array([1, 1, 1, 1, 1, 1, 1, 1, 1, 1, 1, 1, 1, 1, 1, 1, 1, 1, 1, 1, 2, 2,\n",
       "       2, 2, 2, 2, 2, 2, 2, 2, 2, 2, 2, 2, 2, 2, 2, 2, 2, 2, 0, 0, 0, 0,\n",
       "       0, 0, 0, 0, 0, 0, 0, 0, 0, 0, 0, 0, 0, 0, 0, 0], dtype=int32)"
      ]
     },
     "execution_count": 6,
     "metadata": {},
     "output_type": "execute_result"
    }
   ],
   "source": [
    "labels = model.predict(points)\n",
    "labels"
   ]
  },
  {
   "cell_type": "code",
   "execution_count": 7,
   "metadata": {
    "collapsed": true
   },
   "outputs": [],
   "source": [
    "?KMeans"
   ]
  },
  {
   "cell_type": "code",
   "execution_count": 8,
   "metadata": {
    "collapsed": false
   },
   "outputs": [
    {
     "data": {
      "text/plain": [
       "array([[1.46040561, 6.74097515],\n",
       "       [0.11475221, 0.18027884],\n",
       "       [5.04478927, 1.98328149]])"
      ]
     },
     "execution_count": 8,
     "metadata": {},
     "output_type": "execute_result"
    }
   ],
   "source": [
    "model.cluster_centers_"
   ]
  },
  {
   "cell_type": "code",
   "execution_count": 11,
   "metadata": {
    "collapsed": false
   },
   "outputs": [
    {
     "data": {
      "image/png": "[encoded data removed]",
      "text/plain": [
       "<matplotlib.figure.Figure at 0x7f1fe7e480b8>"
      ]
     },
     "metadata": {},
     "output_type": "display_data"
    }
   ],
   "source": [
    "plt.scatter(points[:,0],points[:,1])\n",
    "plt.scatter(model.cluster_centers_[:,0],\n",
    "            model.cluster_centers_[:,1],marker=\"D\")\n",
    "plt.show()"
   ]
  },
  {
   "cell_type": "code",
   "execution_count": 12,
   "metadata": {
    "collapsed": false
   },
   "outputs": [
    {
     "data": {
      "text/plain": [
       "123.81540244027073"
      ]
     },
     "execution_count": 12,
     "metadata": {},
     "output_type": "execute_result"
    }
   ],
   "source": [
    "model.inertia_"
   ]
  },
  {
   "cell_type": "code",
   "execution_count": 14,
   "metadata": {
    "collapsed": true
   },
   "outputs": [
    {
     "name": "stdout",
     "output_type": "stream",
     "text": [
      "Initialization complete\n",
      "start iteration\n",
      "done sorting\n",
      "end inner loop\n",
      "Iteration 0, inertia 129.57741826416296\n",
      "start iteration\n",
      "done sorting\n",
      "end inner loop\n",
      "Iteration 1, inertia 123.81540244027073\n",
      "start iteration\n",
      "done sorting\n",
      "end inner loop\n",
      "Iteration 2, inertia 123.81540244027073\n",
      "center shift 0.000000e+00 within tolerance 7.025854e-04\n",
      "Initialization complete\n",
      "start iteration\n",
      "done sorting\n",
      "end inner loop\n",
      "Iteration 0, inertia 123.81540244027073\n",
      "start iteration\n",
      "done sorting\n",
      "end inner loop\n",
      "Iteration 1, inertia 123.81540244027073\n",
      "center shift 0.000000e+00 within tolerance 7.025854e-04\n",
      "Initialization complete\n",
      "start iteration\n",
      "done sorting\n",
      "end inner loop\n",
      "Iteration 0, inertia 129.57741826416296\n",
      "start iteration\n",
      "done sorting\n",
      "end inner loop\n",
      "Iteration 1, inertia 123.81540244027073\n",
      "start iteration\n",
      "done sorting\n",
      "end inner loop\n",
      "Iteration 2, inertia 123.81540244027073\n",
      "center shift 0.000000e+00 within tolerance 7.025854e-04\n",
      "Initialization complete\n",
      "start iteration\n",
      "done sorting\n",
      "end inner loop\n",
      "Iteration 0, inertia 123.81540244027073\n",
      "start iteration\n",
      "done sorting\n",
      "end inner loop\n",
      "Iteration 1, inertia 123.81540244027073\n",
      "center shift 0.000000e+00 within tolerance 7.025854e-04\n",
      "Initialization complete\n",
      "start iteration\n",
      "done sorting\n",
      "end inner loop\n",
      "Iteration 0, inertia 146.2658593706997\n",
      "start iteration\n",
      "done sorting\n",
      "end inner loop\n",
      "Iteration 1, inertia 123.81540244027073\n",
      "start iteration\n",
      "done sorting\n",
      "end inner loop\n",
      "Iteration 2, inertia 123.81540244027073\n",
      "center shift 0.000000e+00 within tolerance 7.025854e-04\n",
      "Initialization complete\n",
      "start iteration\n",
      "done sorting\n",
      "end inner loop\n",
      "Iteration 0, inertia 123.81540244027073\n",
      "start iteration\n",
      "done sorting\n",
      "end inner loop\n",
      "Iteration 1, inertia 123.81540244027073\n",
      "center shift 0.000000e+00 within tolerance 7.025854e-04\n",
      "Initialization complete\n",
      "start iteration\n",
      "done sorting\n",
      "end inner loop\n",
      "Iteration 0, inertia 123.81540244027073\n",
      "start iteration\n",
      "done sorting\n",
      "end inner loop\n",
      "Iteration 1, inertia 123.81540244027073\n",
      "center shift 0.000000e+00 within tolerance 7.025854e-04\n",
      "Initialization complete\n",
      "start iteration\n",
      "done sorting\n",
      "end inner loop\n",
      "Iteration 0, inertia 129.57741826416296\n",
      "start iteration\n",
      "done sorting\n",
      "end inner loop\n",
      "Iteration 1, inertia 123.81540244027073\n",
      "start iteration\n",
      "done sorting\n",
      "end inner loop\n",
      "Iteration 2, inertia 123.81540244027073\n",
      "center shift 0.000000e+00 within tolerance 7.025854e-04\n",
      "Initialization complete\n",
      "start iteration\n",
      "done sorting\n",
      "end inner loop\n",
      "Iteration 0, inertia 123.81540244027073\n",
      "start iteration\n",
      "done sorting\n",
      "end inner loop\n",
      "Iteration 1, inertia 123.81540244027073\n",
      "center shift 0.000000e+00 within tolerance 7.025854e-04\n",
      "Initialization complete\n",
      "start iteration\n",
      "done sorting\n",
      "end inner loop\n",
      "Iteration 0, inertia 123.81540244027073\n",
      "start iteration\n",
      "done sorting\n",
      "end inner loop\n",
      "Iteration 1, inertia 123.81540244027073\n",
      "center shift 0.000000e+00 within tolerance 7.025854e-04\n"
     ]
    },
    {
     "data": {
      "text/plain": [
       "KMeans(algorithm='auto', copy_x=True, init='k-means++', max_iter=300,\n",
       "    n_clusters=3, n_init=10, n_jobs=None, precompute_distances='auto',\n",
       "    random_state=None, tol=0.0001, verbose=1)"
      ]
     },
     "execution_count": 14,
     "metadata": {},
     "output_type": "execute_result"
    }
   ],
   "source": [
    "model = KMeans(3, verbose=1)\n",
    "model.fit(points)"
   ]
  },
  {
   "cell_type": "code",
   "execution_count": 16,
   "metadata": {
    "collapsed": false
   },
   "outputs": [
    {
     "data": {
      "text/plain": [
       "array([1, 1, 1, 1, 1, 1, 1, 1, 1, 1, 1, 1, 1, 1, 1, 1, 1, 1, 1, 1, 2, 2,\n",
       "       2, 2, 2, 2, 2, 2, 2, 2, 2, 2, 2, 2, 2, 2, 2, 2, 2, 2, 0, 0, 0, 0,\n",
       "       0, 0, 0, 0, 0, 0, 0, 0, 0, 0, 0, 0, 0, 0, 0, 0], dtype=int32)"
      ]
     },
     "execution_count": 16,
     "metadata": {},
     "output_type": "execute_result"
    }
   ],
   "source": [
    "model.labels_"
   ]
  },
  {
   "cell_type": "code",
   "execution_count": 15,
   "metadata": {
    "collapsed": false
   },
   "outputs": [
    {
     "data": {
      "image/png": "[encoded data removed]",
      "text/plain": [
       "<matplotlib.figure.Figure at 0x7f1fe7cc2400>"
      ]
     },
     "metadata": {},
     "output_type": "display_data"
    }
   ],
   "source": [
    "rnd.seed(1)\n",
    "n = 30\n",
    "points = np.concatenate([rnd.multivariate_normal((4,15),np.array([[1,0],[0,30]]),n),\n",
    "                    rnd.multivariate_normal((10,20),np.array([[1,0],[0,30]]),n)],axis=0)\n",
    "labels = np.repeat([0,1],n)\n",
    "\n",
    "plt.scatter(points[:,0],points[:,1],c = np.array([\"red\",\"green\"])[labels])\n",
    "plt.xlim(0,30)\n",
    "plt.ylim(0,30)\n",
    "plt.show()"
   ]
  },
  {
   "cell_type": "code",
   "execution_count": 18,
   "metadata": {
    "collapsed": false
   },
   "outputs": [
    {
     "data": {
      "image/png": "[encoded data removed]",
      "text/plain": [
       "<matplotlib.figure.Figure at 0x7f1fe7c50588>"
      ]
     },
     "metadata": {},
     "output_type": "display_data"
    }
   ],
   "source": [
    "model = KMeans(n_clusters=2)\n",
    "groups = model.fit_predict(points)\n",
    "\n",
    "plt.scatter(points[:,0],points[:,1],\n",
    "            c = np.array([\"red\",\"green\"])[groups])\n",
    "\n",
    "plt.scatter(model.cluster_centers_[:,0],\n",
    "            model.cluster_centers_[:,1],\n",
    "            marker=\"D\",s=60,c=\"yellow\")\n",
    "\n",
    "#plt.xlim(0,30)\n",
    "#plt.ylim(0,30)\n",
    "plt.show()"
   ]
  },
  {
   "cell_type": "code",
   "execution_count": 7,
   "metadata": {
    "collapsed": true
   },
   "outputs": [],
   "source": [
    "from sklearn.pipeline import make_pipeline\n",
    "from sklearn.preprocessing import StandardScaler"
   ]
  },
  {
   "cell_type": "code",
   "execution_count": 29,
   "metadata": {
    "collapsed": false
   },
   "outputs": [
    {
     "data": {
      "image/png": "[encoded data removed]",
      "text/plain": [
       "<matplotlib.figure.Figure at 0x7f1fe7c6f358>"
      ]
     },
     "metadata": {},
     "output_type": "display_data"
    }
   ],
   "source": [
    "pipe = make_pipeline(StandardScaler(),KMeans(2))\n",
    "\n",
    "groups = pipe.fit_predict(points)\n",
    "\n",
    "poits2 = StandardScaler().fit_transform(points)\n",
    "\n",
    "plt.scatter(poits2[:,0],poits2[:,1],\n",
    "            c = np.array([\"red\",\"green\"])[groups])\n",
    "\n",
    "plt.scatter(pipe.steps[1][1].cluster_centers_[:,0],\n",
    "            pipe.steps[1][1].cluster_centers_[:,1],\n",
    "            marker=\"D\",s=60,c=\"yellow\")\n",
    "plt.show()"
   ]
  },
  {
   "cell_type": "code",
   "execution_count": 28,
   "metadata": {
    "collapsed": false
   },
   "outputs": [
    {
     "data": {
      "text/plain": [
       "array([[-0.95708052, -0.46662977],\n",
       "       [ 0.95708052,  0.46662977]])"
      ]
     },
     "execution_count": 28,
     "metadata": {},
     "output_type": "execute_result"
    }
   ],
   "source": [
    "pipe.steps[1][1].cluster_centers_"
   ]
  },
  {
   "cell_type": "code",
   "execution_count": 65,
   "metadata": {
    "collapsed": false
   },
   "outputs": [
    {
     "data": {
      "image/png": "[encoded data removed]",
      "text/plain": [
       "<matplotlib.figure.Figure at 0x7f1fe798b668>"
      ]
     },
     "metadata": {},
     "output_type": "display_data"
    }
   ],
   "source": [
    "rnd.seed(123)\n",
    "points = np.concatenate([rnd.multivariate_normal((2,3),np.array([[1,0],[0,1]]),50),\n",
    "                        rnd.multivariate_normal((10,0),np.array([[30,0],[0,0.5]]),50),\n",
    "                        rnd.multivariate_normal((0,-8),np.array([[0.3,0],[0,30]]),50)], axis = 0)\n",
    "\n",
    "plt.scatter(points[:,0],points[:,1])\n",
    "\n",
    "plt.hlines(0,-15,15)\n",
    "plt.vlines(0,-15,15)\n",
    "plt.show()"
   ]
  },
  {
   "cell_type": "code",
   "execution_count": 53,
   "metadata": {
    "collapsed": true
   },
   "outputs": [
    {
     "data": {
      "image/png": "[encoded data removed]",
      "text/plain": [
       "<matplotlib.figure.Figure at 0x7f1fe77c0c18>"
      ]
     },
     "metadata": {},
     "output_type": "display_data"
    }
   ],
   "source": [
    "scale = False\n",
    "scaler = StandardScaler(with_mean=scale,\n",
    "                        with_std=scale)\n",
    "\n",
    "pipe = make_pipeline(scaler,\n",
    "                     KMeans(3))\n",
    "\n",
    "groups = pipe.fit_predict(points)\n",
    "\n",
    "poits2 = scaler.fit_transform(points)\n",
    "\n",
    "plt.scatter(poits2[:,0],poits2[:,1],\n",
    "            c = np.array([\"red\",\"green\",\"blue\"])[groups])\n",
    "\n",
    "plt.scatter(pipe.steps[1][1].cluster_centers_[:,0],\n",
    "            pipe.steps[1][1].cluster_centers_[:,1],\n",
    "            marker=\"D\",s=60,c=\"yellow\")\n",
    "\n",
    "p = 15\n",
    "plt.hlines(0,-p,p)\n",
    "plt.vlines(0,-p,p)\n",
    "plt.show()"
   ]
  },
  {
   "cell_type": "code",
   "execution_count": 59,
   "metadata": {
    "collapsed": true
   },
   "outputs": [],
   "source": [
    "from sklearn.preprocessing import PowerTransformer"
   ]
  },
  {
   "cell_type": "code",
   "execution_count": null,
   "metadata": {
    "collapsed": true
   },
   "outputs": [],
   "source": []
  },
  {
   "cell_type": "code",
   "execution_count": 60,
   "metadata": {
    "collapsed": true
   },
   "outputs": [
    {
     "data": {
      "image/png": "[encoded data removed]",
      "text/plain": [
       "<matplotlib.figure.Figure at 0x7f1fe7708a20>"
      ]
     },
     "metadata": {},
     "output_type": "display_data"
    }
   ],
   "source": [
    "pipe = make_pipeline(PowerTransformer(standardize=True),\n",
    "                     KMeans(3))\n",
    "\n",
    "groups = pipe.fit_predict(points)\n",
    "\n",
    "points3 = PowerTransformer(standardize=True).fit_transform(points)\n",
    "\n",
    "plt.scatter(points3[:,0],points3[:,1],\n",
    "            c = np.array([\"red\",\"green\",\"blue\"])[groups])\n",
    "\n",
    "plt.scatter(pipe.steps[1][1].cluster_centers_[:,0],\n",
    "            pipe.steps[1][1].cluster_centers_[:,1],\n",
    "            marker=\"D\",s=60,c=\"yellow\")\n",
    "\n",
    "p = 5\n",
    "plt.hlines(0,-p,p)\n",
    "plt.vlines(0,-p,p)\n",
    "plt.show()"
   ]
  },
  {
   "cell_type": "code",
   "execution_count": 64,
   "metadata": {
    "collapsed": false
   },
   "outputs": [
    {
     "data": {
      "text/plain": [
       "array([0.0790369 , 1.43570526])"
      ]
     },
     "execution_count": 64,
     "metadata": {},
     "output_type": "execute_result"
    }
   ],
   "source": [
    "pipe.steps[0][1].lambdas_"
   ]
  },
  {
   "cell_type": "code",
   "execution_count": 6,
   "metadata": {
    "collapsed": true
   },
   "outputs": [],
   "source": [
    "from sklearn.preprocessing import Normalizer"
   ]
  },
  {
   "cell_type": "code",
   "execution_count": 75,
   "metadata": {
    "collapsed": false
   },
   "outputs": [
    {
     "data": {
      "image/png": "[encoded data removed]",
      "text/plain": [
       "<matplotlib.figure.Figure at 0x7f1fe787c0f0>"
      ]
     },
     "metadata": {},
     "output_type": "display_data"
    }
   ],
   "source": [
    "pipe = make_pipeline(Normalizer(),\n",
    "                     KMeans(3))\n",
    "\n",
    "groups = pipe.fit_predict(points)\n",
    "\n",
    "points3 = Normalizer().fit_transform(points)\n",
    "\n",
    "plt.scatter(points3[:,0],points3[:,1],\n",
    "            c = np.array([\"red\",\"green\",\"blue\"])[groups])\n",
    "\n",
    "plt.scatter(pipe.steps[1][1].cluster_centers_[:,0],\n",
    "            pipe.steps[1][1].cluster_centers_[:,1],\n",
    "            marker=\"D\",s=60,c=\"yellow\")\n",
    "\n",
    "p = 1\n",
    "plt.hlines(0,-p,p)\n",
    "plt.vlines(0,-p,p)\n",
    "plt.show()"
   ]
  },
  {
   "cell_type": "code",
   "execution_count": 76,
   "metadata": {
    "collapsed": true
   },
   "outputs": [],
   "source": [
    "import seaborn as sns\n",
    "colors = np.array(sns.color_palette(\"Set2\", 20))\n",
    "\n",
    "points = np.concatenate([rnd.multivariate_normal((0,0),np.array([[1,0],[0,1]]),20),\n",
    "                    rnd.multivariate_normal((5,2),np.array([[1,0],[0,1]]),20),\n",
    "                    rnd.multivariate_normal((2,7),np.array([[1,0],[0,1]]),20)],axis=0)"
   ]
  },
  {
   "cell_type": "code",
   "execution_count": 77,
   "metadata": {
    "collapsed": false
   },
   "outputs": [
    {
     "data": {
      "image/png": "[encoded data removed]",
      "text/plain": [
       "<matplotlib.figure.Figure at 0x7f1fe7b4d6d8>"
      ]
     },
     "metadata": {},
     "output_type": "display_data"
    }
   ],
   "source": [
    "ks = range(1, 7)\n",
    "inertias = []\n",
    "\n",
    "plt.figure(figsize=(20,10))\n",
    "\n",
    "for k in ks:\n",
    "    \n",
    "    model = KMeans(n_clusters=k)\n",
    "\n",
    "    model.fit(points)\n",
    "    labels = model.labels_\n",
    "    \n",
    "    inertias.append(model.inertia_)\n",
    "    \n",
    "    plt.subplot(2,3,k)\n",
    "    plt.scatter(points[:,0],points[:,1],c=colors[labels],alpha=0.3)\n",
    "    plt.scatter(model.cluster_centers_[:,0],model.cluster_centers_[:,1],marker=\"D\",c=colors,s=50)\n",
    "\n",
    "plt.show()"
   ]
  },
  {
   "cell_type": "code",
   "execution_count": 78,
   "metadata": {
    "collapsed": false
   },
   "outputs": [
    {
     "data": {
      "image/png": "[encoded data removed]",
      "text/plain": [
       "<matplotlib.figure.Figure at 0x7f1fe7772128>"
      ]
     },
     "metadata": {},
     "output_type": "display_data"
    }
   ],
   "source": [
    "# Plot ks vs inertias\n",
    "\n",
    "plt.plot(ks, inertias, '-o')\n",
    "plt.xlabel('number of clusters, k')\n",
    "plt.ylabel('inertia')\n",
    "plt.xticks(ks)\n",
    "plt.xlim(0.8,6.2)\n",
    "plt.show()"
   ]
  },
  {
   "cell_type": "code",
   "execution_count": 79,
   "metadata": {
    "collapsed": true
   },
   "outputs": [],
   "source": [
    "from sklearn.metrics import silhouette_score\n",
    "\n",
    "ks = range(2, 7)\n",
    "silhouette = []\n",
    "\n",
    "for k in ks:\n",
    "    model = KMeans(n_clusters=k)\n",
    "    model.fit(points)\n",
    "    silhouette.append(silhouette_score(points,model.predict(points)))"
   ]
  },
  {
   "cell_type": "code",
   "execution_count": 80,
   "metadata": {
    "collapsed": false
   },
   "outputs": [
    {
     "data": {
      "image/png": "[encoded data removed]",
      "text/plain": [
       "<matplotlib.figure.Figure at 0x7f1fe779b0b8>"
      ]
     },
     "metadata": {},
     "output_type": "display_data"
    }
   ],
   "source": [
    "# Plot ks vs inertias\n",
    "\n",
    "plt.plot(ks, silhouette, '-o')\n",
    "plt.xlabel('number of clusters, k')\n",
    "plt.ylabel('inertia')\n",
    "plt.xticks(ks)\n",
    "plt.xlim(0.8,6.2)\n",
    "plt.show()"
   ]
  },
  {
   "cell_type": "code",
   "execution_count": null,
   "metadata": {
    "collapsed": true
   },
   "outputs": [],
   "source": []
  },
  {
   "cell_type": "code",
   "execution_count": 4,
   "metadata": {
    "collapsed": false
   },
   "outputs": [],
   "source": [
    "data =pd.read_csv(\"Dane/fish.csv\", sep=\";\",decimal=\",\").iloc[:,:-1]"
   ]
  },
  {
   "cell_type": "code",
   "execution_count": 83,
   "metadata": {
    "collapsed": false
   },
   "outputs": [
    {
     "data": {
      "text/html": [
       "<div>\n",
       "<table border=\"1\" class=\"dataframe\">\n",
       "  <thead>\n",
       "    <tr style=\"text-align: right;\">\n",
       "      <th></th>\n",
       "      <th>Weight</th>\n",
       "      <th>Length1</th>\n",
       "      <th>Length2</th>\n",
       "      <th>Length3</th>\n",
       "      <th>Height</th>\n",
       "      <th>Width</th>\n",
       "    </tr>\n",
       "  </thead>\n",
       "  <tbody>\n",
       "    <tr>\n",
       "      <th>0</th>\n",
       "      <td>242.0</td>\n",
       "      <td>23.2</td>\n",
       "      <td>25.4</td>\n",
       "      <td>30.0</td>\n",
       "      <td>38.4</td>\n",
       "      <td>13.4</td>\n",
       "    </tr>\n",
       "    <tr>\n",
       "      <th>1</th>\n",
       "      <td>290.0</td>\n",
       "      <td>24.0</td>\n",
       "      <td>26.3</td>\n",
       "      <td>31.2</td>\n",
       "      <td>40.0</td>\n",
       "      <td>13.8</td>\n",
       "    </tr>\n",
       "    <tr>\n",
       "      <th>2</th>\n",
       "      <td>340.0</td>\n",
       "      <td>23.9</td>\n",
       "      <td>26.5</td>\n",
       "      <td>31.1</td>\n",
       "      <td>39.8</td>\n",
       "      <td>15.1</td>\n",
       "    </tr>\n",
       "    <tr>\n",
       "      <th>3</th>\n",
       "      <td>363.0</td>\n",
       "      <td>26.3</td>\n",
       "      <td>29.0</td>\n",
       "      <td>33.5</td>\n",
       "      <td>38.0</td>\n",
       "      <td>13.3</td>\n",
       "    </tr>\n",
       "    <tr>\n",
       "      <th>4</th>\n",
       "      <td>430.0</td>\n",
       "      <td>26.5</td>\n",
       "      <td>29.0</td>\n",
       "      <td>34.0</td>\n",
       "      <td>36.6</td>\n",
       "      <td>15.1</td>\n",
       "    </tr>\n",
       "  </tbody>\n",
       "</table>\n",
       "</div>"
      ],
      "text/plain": [
       "   Weight  Length1  Length2  Length3  Height  Width\n",
       "0   242.0     23.2     25.4     30.0    38.4   13.4\n",
       "1   290.0     24.0     26.3     31.2    40.0   13.8\n",
       "2   340.0     23.9     26.5     31.1    39.8   15.1\n",
       "3   363.0     26.3     29.0     33.5    38.0   13.3\n",
       "4   430.0     26.5     29.0     34.0    36.6   15.1"
      ]
     },
     "execution_count": 83,
     "metadata": {},
     "output_type": "execute_result"
    }
   ],
   "source": [
    "data.head()"
   ]
  },
  {
   "cell_type": "markdown",
   "metadata": {},
   "source": [
    "Pogrupować obserwacje, wyznaczyć optymalną liczbę skupień."
   ]
  },
  {
   "cell_type": "code",
   "execution_count": 8,
   "metadata": {
    "collapsed": false
   },
   "outputs": [],
   "source": [
    "scaler = StandardScaler()\n",
    "data = scaler.fit_transform(data)"
   ]
  },
  {
   "cell_type": "code",
   "execution_count": 100,
   "metadata": {
    "collapsed": true
   },
   "outputs": [],
   "source": [
    "?pipe.fit_transform"
   ]
  },
  {
   "cell_type": "code",
   "execution_count": 98,
   "metadata": {
    "collapsed": false
   },
   "outputs": [],
   "source": [
    "ks = range(2, 20)\n",
    "inertias = []\n",
    "silhouette = []\n",
    "\n",
    "for k in ks:\n",
    "    \n",
    "    model = KMeans(n_clusters=k, n_init=3)\n",
    "    model.fit(data)\n",
    "    labels = model.labels_\n",
    "    \n",
    "    inertias.append(model.inertia_)\n",
    "    silhouette.append(silhouette_score(data,labels))"
   ]
  },
  {
   "cell_type": "code",
   "execution_count": 105,
   "metadata": {
    "collapsed": true
   },
   "outputs": [
    {
     "data": {
      "image/png": "[encoded data removed]",
      "text/plain": [
       "<matplotlib.figure.Figure at 0x7f1fdf97d828>"
      ]
     },
     "metadata": {},
     "output_type": "display_data"
    },
    {
     "data": {
      "image/png": "[encoded data removed]",
      "text/plain": [
       "<matplotlib.figure.Figure at 0x7f1fdf8c2940>"
      ]
     },
     "metadata": {},
     "output_type": "display_data"
    }
   ],
   "source": [
    "plt.plot(ks, inertias, '-o')\n",
    "plt.xlabel('number of clusters, k')\n",
    "plt.ylabel('inertia')\n",
    "plt.xticks(ks)\n",
    "plt.show()\n",
    "\n",
    "plt.plot(ks, silhouette, '-o')\n",
    "plt.xlabel('number of clusters, k')\n",
    "plt.ylabel('inertia')\n",
    "plt.xticks(ks)\n",
    "\n",
    "plt.show()"
   ]
  },
  {
   "cell_type": "code",
   "execution_count": 9,
   "metadata": {
    "collapsed": true
   },
   "outputs": [],
   "source": [
    "from sklearn.decomposition import PCA"
   ]
  },
  {
   "cell_type": "code",
   "execution_count": 25,
   "metadata": {
    "collapsed": true
   },
   "outputs": [
    {
     "data": {
      "image/png": "[encoded data removed]",
      "text/plain": [
       "<matplotlib.figure.Figure at 0x7fb590254f60>"
      ]
     },
     "metadata": {},
     "output_type": "display_data"
    }
   ],
   "source": [
    "model = KMeans(7)\n",
    "model.fit(data)\n",
    "labels = model.labels_\n",
    "\n",
    "pca = PCA(2)\n",
    "data_pca = pca.fit_transform(data)\n",
    "\n",
    "plt.figure(figsize=(12,8))\n",
    "plt.scatter(data_pca[:,0],data_pca[:,1])\n",
    "\n",
    "for i in range(data.shape[0]):\n",
    "    plt.annotate(labels[i],data_pca[i],0.05+data_pca[i],size=15)\n",
    "\n",
    "plt.show()"
   ]
  },
  {
   "cell_type": "code",
   "execution_count": 27,
   "metadata": {
    "collapsed": false
   },
   "outputs": [],
   "source": [
    "y = pd.read_csv(\"Dane/fish.csv\", sep=\";\",decimal=\",\").Species"
   ]
  },
  {
   "cell_type": "code",
   "execution_count": 29,
   "metadata": {
    "collapsed": false
   },
   "outputs": [],
   "source": [
    "import pandas as pd"
   ]
  },
  {
   "cell_type": "code",
   "execution_count": 30,
   "metadata": {
    "collapsed": false
   },
   "outputs": [
    {
     "data": {
      "text/html": [
       "<div>\n",
       "<table border=\"1\" class=\"dataframe\">\n",
       "  <thead>\n",
       "    <tr style=\"text-align: right;\">\n",
       "      <th>col_0</th>\n",
       "      <th>0</th>\n",
       "      <th>1</th>\n",
       "      <th>2</th>\n",
       "      <th>3</th>\n",
       "      <th>4</th>\n",
       "      <th>5</th>\n",
       "      <th>6</th>\n",
       "    </tr>\n",
       "    <tr>\n",
       "      <th>Species</th>\n",
       "      <th></th>\n",
       "      <th></th>\n",
       "      <th></th>\n",
       "      <th></th>\n",
       "      <th></th>\n",
       "      <th></th>\n",
       "      <th></th>\n",
       "    </tr>\n",
       "  </thead>\n",
       "  <tbody>\n",
       "    <tr>\n",
       "      <th>1</th>\n",
       "      <td>0</td>\n",
       "      <td>31</td>\n",
       "      <td>0</td>\n",
       "      <td>3</td>\n",
       "      <td>0</td>\n",
       "      <td>0</td>\n",
       "      <td>0</td>\n",
       "    </tr>\n",
       "    <tr>\n",
       "      <th>2</th>\n",
       "      <td>3</td>\n",
       "      <td>0</td>\n",
       "      <td>0</td>\n",
       "      <td>0</td>\n",
       "      <td>0</td>\n",
       "      <td>3</td>\n",
       "      <td>0</td>\n",
       "    </tr>\n",
       "    <tr>\n",
       "      <th>3</th>\n",
       "      <td>20</td>\n",
       "      <td>0</td>\n",
       "      <td>0</td>\n",
       "      <td>0</td>\n",
       "      <td>0</td>\n",
       "      <td>0</td>\n",
       "      <td>0</td>\n",
       "    </tr>\n",
       "    <tr>\n",
       "      <th>4</th>\n",
       "      <td>0</td>\n",
       "      <td>0</td>\n",
       "      <td>0</td>\n",
       "      <td>11</td>\n",
       "      <td>0</td>\n",
       "      <td>0</td>\n",
       "      <td>0</td>\n",
       "    </tr>\n",
       "    <tr>\n",
       "      <th>5</th>\n",
       "      <td>0</td>\n",
       "      <td>0</td>\n",
       "      <td>14</td>\n",
       "      <td>0</td>\n",
       "      <td>0</td>\n",
       "      <td>0</td>\n",
       "      <td>0</td>\n",
       "    </tr>\n",
       "    <tr>\n",
       "      <th>6</th>\n",
       "      <td>0</td>\n",
       "      <td>0</td>\n",
       "      <td>0</td>\n",
       "      <td>0</td>\n",
       "      <td>12</td>\n",
       "      <td>0</td>\n",
       "      <td>5</td>\n",
       "    </tr>\n",
       "    <tr>\n",
       "      <th>7</th>\n",
       "      <td>37</td>\n",
       "      <td>0</td>\n",
       "      <td>0</td>\n",
       "      <td>0</td>\n",
       "      <td>0</td>\n",
       "      <td>19</td>\n",
       "      <td>0</td>\n",
       "    </tr>\n",
       "  </tbody>\n",
       "</table>\n",
       "</div>"
      ],
      "text/plain": [
       "col_0     0   1   2   3   4   5  6\n",
       "Species                           \n",
       "1         0  31   0   3   0   0  0\n",
       "2         3   0   0   0   0   3  0\n",
       "3        20   0   0   0   0   0  0\n",
       "4         0   0   0  11   0   0  0\n",
       "5         0   0  14   0   0   0  0\n",
       "6         0   0   0   0  12   0  5\n",
       "7        37   0   0   0   0  19  0"
      ]
     },
     "execution_count": 30,
     "metadata": {},
     "output_type": "execute_result"
    }
   ],
   "source": [
    "pd.crosstab(y, labels)"
   ]
  },
  {
   "cell_type": "code",
   "execution_count": 31,
   "metadata": {
    "collapsed": true
   },
   "outputs": [],
   "source": [
    "from scipy.cluster.hierarchy import linkage, dendrogram"
   ]
  },
  {
   "cell_type": "code",
   "execution_count": 32,
   "metadata": {
    "collapsed": false
   },
   "outputs": [
    {
     "data": {
      "image/png": "[encoded data removed]",
      "text/plain": [
       "<matplotlib.figure.Figure at 0x7fb58f6cabe0>"
      ]
     },
     "metadata": {},
     "output_type": "display_data"
    }
   ],
   "source": [
    "dane = np.array([[1,1],[2,1],[4.1,1],[7,1],[2,3],[3,4]])\n",
    "plt.scatter(dane[:,0],dane[:,1])\n",
    "plt.xlim(0.5,8)\n",
    "plt.ylim(0.5,8)\n",
    "plt.show()"
   ]
  },
  {
   "cell_type": "code",
   "execution_count": 33,
   "metadata": {
    "collapsed": false
   },
   "outputs": [
    {
     "data": {
      "image/png": "[encoded data removed]",
      "text/plain": [
       "<matplotlib.figure.Figure at 0x7fb590093c50>"
      ]
     },
     "metadata": {},
     "output_type": "display_data"
    }
   ],
   "source": [
    "d = linkage(dane)\n",
    "dendrogram(d)\n",
    "plt.show()"
   ]
  },
  {
   "cell_type": "code",
   "execution_count": 34,
   "metadata": {
    "collapsed": false
   },
   "outputs": [
    {
     "data": {
      "text/plain": [
       "array([[0.        , 1.        , 1.        , 2.        ],\n",
       "       [4.        , 5.        , 1.41421356, 2.        ],\n",
       "       [6.        , 7.        , 2.        , 4.        ],\n",
       "       [2.        , 8.        , 2.1       , 5.        ],\n",
       "       [3.        , 9.        , 2.9       , 6.        ]])"
      ]
     },
     "execution_count": 34,
     "metadata": {},
     "output_type": "execute_result"
    }
   ],
   "source": [
    "d"
   ]
  },
  {
   "cell_type": "code",
   "execution_count": 37,
   "metadata": {
    "collapsed": false
   },
   "outputs": [
    {
     "data": {
      "image/png": "[encoded data removed]",
      "text/plain": [
       "<matplotlib.figure.Figure at 0x7fb59024aa90>"
      ]
     },
     "metadata": {},
     "output_type": "display_data"
    }
   ],
   "source": [
    "d = linkage(dane,\"centroid\")\n",
    "dendrogram(d)\n",
    "plt.show()"
   ]
  },
  {
   "cell_type": "code",
   "execution_count": 38,
   "metadata": {
    "collapsed": false
   },
   "outputs": [
    {
     "data": {
      "text/plain": [
       "array([[0.        , 1.        , 1.        , 2.        ],\n",
       "       [4.        , 5.        , 1.41421356, 2.        ],\n",
       "       [2.        , 6.        , 2.6       , 3.        ],\n",
       "       [7.        , 8.        , 2.50355303, 5.        ],\n",
       "       [3.        , 9.        , 4.68789932, 6.        ]])"
      ]
     },
     "execution_count": 38,
     "metadata": {},
     "output_type": "execute_result"
    }
   ],
   "source": [
    "d"
   ]
  },
  {
   "cell_type": "code",
   "execution_count": 41,
   "metadata": {
    "collapsed": false
   },
   "outputs": [
    {
     "data": {
      "image/png": "[encoded data removed]",
      "text/plain": [
       "<matplotlib.figure.Figure at 0x7fb5902ab4a8>"
      ]
     },
     "metadata": {},
     "output_type": "display_data"
    }
   ],
   "source": [
    "x = np.vstack([np.tile(range(20),2),np.repeat(np.array([1,4]),20)]).T\n",
    "\n",
    "plt.scatter(x[:,0],x[:,1])\n",
    "plt.ylim(-1,20)\n",
    "plt.show()"
   ]
  },
  {
   "cell_type": "code",
   "execution_count": 42,
   "metadata": {
    "collapsed": false
   },
   "outputs": [
    {
     "data": {
      "image/png": "[encoded data removed]",
      "text/plain": [
       "<matplotlib.figure.Figure at 0x7fb58f68d5f8>"
      ]
     },
     "metadata": {},
     "output_type": "display_data"
    }
   ],
   "source": [
    "d = linkage(x,\"single\")\n",
    "dendrogram(d)\n",
    "plt.show()"
   ]
  },
  {
   "cell_type": "code",
   "execution_count": 44,
   "metadata": {
    "collapsed": false
   },
   "outputs": [
    {
     "data": {
      "image/png": "[encoded data removed]",
      "text/plain": [
       "<matplotlib.figure.Figure at 0x7fb5c1b0a8d0>"
      ]
     },
     "metadata": {},
     "output_type": "display_data"
    }
   ],
   "source": [
    "d = linkage(x,\"ward\")\n",
    "dendrogram(d)\n",
    "plt.show()"
   ]
  },
  {
   "cell_type": "code",
   "execution_count": 45,
   "metadata": {
    "collapsed": true
   },
   "outputs": [],
   "source": [
    "from scipy.cluster.hierarchy import fcluster"
   ]
  },
  {
   "cell_type": "code",
   "execution_count": 47,
   "metadata": {
    "collapsed": false
   },
   "outputs": [
    {
     "data": {
      "text/plain": [
       "array([1, 1, 1, 1, 1, 1, 1, 1, 3, 3, 3, 3, 3, 3, 3, 3, 2, 2, 2, 2, 1, 1,\n",
       "       1, 1, 1, 1, 1, 1, 3, 3, 3, 3, 3, 3, 3, 3, 2, 2, 2, 2], dtype=int32)"
      ]
     },
     "execution_count": 47,
     "metadata": {},
     "output_type": "execute_result"
    }
   ],
   "source": [
    "fcluster(d,15,criterion=\"distance\")"
   ]
  },
  {
   "cell_type": "code",
   "execution_count": 48,
   "metadata": {
    "collapsed": true
   },
   "outputs": [],
   "source": [
    "?fcluster"
   ]
  },
  {
   "cell_type": "code",
   "execution_count": 49,
   "metadata": {
    "collapsed": false
   },
   "outputs": [
    {
     "data": {
      "text/plain": [
       "array([1, 1, 1, 1, 1, 1, 1, 1, 3, 3, 3, 3, 4, 4, 4, 4, 2, 2, 2, 2, 1, 1,\n",
       "       1, 1, 1, 1, 1, 1, 3, 3, 3, 3, 4, 4, 4, 4, 2, 2, 2, 2], dtype=int32)"
      ]
     },
     "execution_count": 49,
     "metadata": {},
     "output_type": "execute_result"
    }
   ],
   "source": [
    "fcluster(d,4,criterion=\"maxclust\")"
   ]
  },
  {
   "cell_type": "code",
   "execution_count": 50,
   "metadata": {
    "collapsed": true
   },
   "outputs": [],
   "source": [
    "?fcluster"
   ]
  },
  {
   "cell_type": "code",
   "execution_count": 51,
   "metadata": {
    "collapsed": true
   },
   "outputs": [],
   "source": [
    "from sklearn.cluster import AgglomerativeClustering"
   ]
  },
  {
   "cell_type": "code",
   "execution_count": 52,
   "metadata": {
    "collapsed": true
   },
   "outputs": [],
   "source": [
    "?AgglomerativeClustering"
   ]
  },
  {
   "cell_type": "code",
   "execution_count": 60,
   "metadata": {
    "collapsed": true
   },
   "outputs": [
    {
     "data": {
      "text/html": [
       "<div>\n",
       "<table border=\"1\" class=\"dataframe\">\n",
       "  <thead>\n",
       "    <tr style=\"text-align: right;\">\n",
       "      <th></th>\n",
       "      <th>Ukraine</th>\n",
       "      <th>Belarus</th>\n",
       "      <th>Azerbaijan</th>\n",
       "      <th>Iceland</th>\n",
       "      <th>Norway</th>\n",
       "      <th>Romania</th>\n",
       "      <th>Armenia</th>\n",
       "      <th>Montenegro</th>\n",
       "      <th>Greece</th>\n",
       "      <th>Poland</th>\n",
       "      <th>...</th>\n",
       "      <th>Slovenia</th>\n",
       "      <th>Finland</th>\n",
       "      <th>Spain</th>\n",
       "      <th>Switzerland</th>\n",
       "      <th>Hungary</th>\n",
       "      <th>Malta</th>\n",
       "      <th>Denmark</th>\n",
       "      <th>Netherlands</th>\n",
       "      <th>San Marino</th>\n",
       "      <th>United Kingdom</th>\n",
       "    </tr>\n",
       "  </thead>\n",
       "  <tbody>\n",
       "    <tr>\n",
       "      <th>Albania</th>\n",
       "      <td>0</td>\n",
       "      <td>0</td>\n",
       "      <td>0</td>\n",
       "      <td>0</td>\n",
       "      <td>0</td>\n",
       "      <td>0</td>\n",
       "      <td>0</td>\n",
       "      <td>6</td>\n",
       "      <td>0</td>\n",
       "      <td>2</td>\n",
       "      <td>...</td>\n",
       "      <td>0</td>\n",
       "      <td>0</td>\n",
       "      <td>12</td>\n",
       "      <td>0</td>\n",
       "      <td>8</td>\n",
       "      <td>1</td>\n",
       "      <td>0</td>\n",
       "      <td>0</td>\n",
       "      <td>3</td>\n",
       "      <td>0</td>\n",
       "    </tr>\n",
       "    <tr>\n",
       "      <th>Armenia</th>\n",
       "      <td>0</td>\n",
       "      <td>8</td>\n",
       "      <td>0</td>\n",
       "      <td>0</td>\n",
       "      <td>0</td>\n",
       "      <td>0</td>\n",
       "      <td>0</td>\n",
       "      <td>12</td>\n",
       "      <td>0</td>\n",
       "      <td>7</td>\n",
       "      <td>...</td>\n",
       "      <td>0</td>\n",
       "      <td>0</td>\n",
       "      <td>2</td>\n",
       "      <td>5</td>\n",
       "      <td>0</td>\n",
       "      <td>0</td>\n",
       "      <td>1</td>\n",
       "      <td>4</td>\n",
       "      <td>3</td>\n",
       "      <td>0</td>\n",
       "    </tr>\n",
       "    <tr>\n",
       "      <th>Austria</th>\n",
       "      <td>5</td>\n",
       "      <td>0</td>\n",
       "      <td>0</td>\n",
       "      <td>2</td>\n",
       "      <td>1</td>\n",
       "      <td>8</td>\n",
       "      <td>12</td>\n",
       "      <td>0</td>\n",
       "      <td>0</td>\n",
       "      <td>0</td>\n",
       "      <td>...</td>\n",
       "      <td>0</td>\n",
       "      <td>4</td>\n",
       "      <td>0</td>\n",
       "      <td>3</td>\n",
       "      <td>7</td>\n",
       "      <td>0</td>\n",
       "      <td>0</td>\n",
       "      <td>10</td>\n",
       "      <td>0</td>\n",
       "      <td>0</td>\n",
       "    </tr>\n",
       "    <tr>\n",
       "      <th>Azerbaijan</th>\n",
       "      <td>10</td>\n",
       "      <td>7</td>\n",
       "      <td>0</td>\n",
       "      <td>0</td>\n",
       "      <td>0</td>\n",
       "      <td>6</td>\n",
       "      <td>0</td>\n",
       "      <td>0</td>\n",
       "      <td>2</td>\n",
       "      <td>4</td>\n",
       "      <td>...</td>\n",
       "      <td>0</td>\n",
       "      <td>0</td>\n",
       "      <td>0</td>\n",
       "      <td>0</td>\n",
       "      <td>8</td>\n",
       "      <td>5</td>\n",
       "      <td>0</td>\n",
       "      <td>0</td>\n",
       "      <td>3</td>\n",
       "      <td>0</td>\n",
       "    </tr>\n",
       "    <tr>\n",
       "      <th>Belarus</th>\n",
       "      <td>8</td>\n",
       "      <td>0</td>\n",
       "      <td>3</td>\n",
       "      <td>0</td>\n",
       "      <td>4</td>\n",
       "      <td>1</td>\n",
       "      <td>10</td>\n",
       "      <td>0</td>\n",
       "      <td>7</td>\n",
       "      <td>6</td>\n",
       "      <td>...</td>\n",
       "      <td>0</td>\n",
       "      <td>0</td>\n",
       "      <td>0</td>\n",
       "      <td>0</td>\n",
       "      <td>5</td>\n",
       "      <td>0</td>\n",
       "      <td>0</td>\n",
       "      <td>2</td>\n",
       "      <td>0</td>\n",
       "      <td>0</td>\n",
       "    </tr>\n",
       "    <tr>\n",
       "      <th>Belgium</th>\n",
       "      <td>4</td>\n",
       "      <td>0</td>\n",
       "      <td>0</td>\n",
       "      <td>0</td>\n",
       "      <td>0</td>\n",
       "      <td>5</td>\n",
       "      <td>0</td>\n",
       "      <td>0</td>\n",
       "      <td>0</td>\n",
       "      <td>0</td>\n",
       "      <td>...</td>\n",
       "      <td>0</td>\n",
       "      <td>3</td>\n",
       "      <td>2</td>\n",
       "      <td>0</td>\n",
       "      <td>7</td>\n",
       "      <td>0</td>\n",
       "      <td>6</td>\n",
       "      <td>8</td>\n",
       "      <td>0</td>\n",
       "      <td>1</td>\n",
       "    </tr>\n",
       "    <tr>\n",
       "      <th>Denmark</th>\n",
       "      <td>1</td>\n",
       "      <td>0</td>\n",
       "      <td>0</td>\n",
       "      <td>5</td>\n",
       "      <td>6</td>\n",
       "      <td>0</td>\n",
       "      <td>2</td>\n",
       "      <td>0</td>\n",
       "      <td>0</td>\n",
       "      <td>0</td>\n",
       "      <td>...</td>\n",
       "      <td>0</td>\n",
       "      <td>4</td>\n",
       "      <td>0</td>\n",
       "      <td>0</td>\n",
       "      <td>3</td>\n",
       "      <td>0</td>\n",
       "      <td>0</td>\n",
       "      <td>10</td>\n",
       "      <td>0</td>\n",
       "      <td>7</td>\n",
       "    </tr>\n",
       "    <tr>\n",
       "      <th>Estonia</th>\n",
       "      <td>8</td>\n",
       "      <td>0</td>\n",
       "      <td>0</td>\n",
       "      <td>0</td>\n",
       "      <td>3</td>\n",
       "      <td>0</td>\n",
       "      <td>5</td>\n",
       "      <td>0</td>\n",
       "      <td>0</td>\n",
       "      <td>0</td>\n",
       "      <td>...</td>\n",
       "      <td>0</td>\n",
       "      <td>6</td>\n",
       "      <td>2</td>\n",
       "      <td>0</td>\n",
       "      <td>7</td>\n",
       "      <td>0</td>\n",
       "      <td>0</td>\n",
       "      <td>12</td>\n",
       "      <td>0</td>\n",
       "      <td>0</td>\n",
       "    </tr>\n",
       "    <tr>\n",
       "      <th>Finland</th>\n",
       "      <td>0</td>\n",
       "      <td>0</td>\n",
       "      <td>0</td>\n",
       "      <td>0</td>\n",
       "      <td>0</td>\n",
       "      <td>4</td>\n",
       "      <td>8</td>\n",
       "      <td>12</td>\n",
       "      <td>5</td>\n",
       "      <td>0</td>\n",
       "      <td>...</td>\n",
       "      <td>1</td>\n",
       "      <td>0</td>\n",
       "      <td>0</td>\n",
       "      <td>0</td>\n",
       "      <td>10</td>\n",
       "      <td>0</td>\n",
       "      <td>0</td>\n",
       "      <td>7</td>\n",
       "      <td>0</td>\n",
       "      <td>0</td>\n",
       "    </tr>\n",
       "    <tr>\n",
       "      <th>France</th>\n",
       "      <td>2</td>\n",
       "      <td>0</td>\n",
       "      <td>0</td>\n",
       "      <td>0</td>\n",
       "      <td>7</td>\n",
       "      <td>0</td>\n",
       "      <td>4</td>\n",
       "      <td>0</td>\n",
       "      <td>0</td>\n",
       "      <td>0</td>\n",
       "      <td>...</td>\n",
       "      <td>0</td>\n",
       "      <td>0</td>\n",
       "      <td>0</td>\n",
       "      <td>0</td>\n",
       "      <td>5</td>\n",
       "      <td>3</td>\n",
       "      <td>6</td>\n",
       "      <td>8</td>\n",
       "      <td>0</td>\n",
       "      <td>0</td>\n",
       "    </tr>\n",
       "    <tr>\n",
       "      <th>Georgia</th>\n",
       "      <td>0</td>\n",
       "      <td>0</td>\n",
       "      <td>0</td>\n",
       "      <td>7</td>\n",
       "      <td>2</td>\n",
       "      <td>0</td>\n",
       "      <td>12</td>\n",
       "      <td>0</td>\n",
       "      <td>5</td>\n",
       "      <td>0</td>\n",
       "      <td>...</td>\n",
       "      <td>0</td>\n",
       "      <td>0</td>\n",
       "      <td>6</td>\n",
       "      <td>0</td>\n",
       "      <td>0</td>\n",
       "      <td>0</td>\n",
       "      <td>3</td>\n",
       "      <td>8</td>\n",
       "      <td>0</td>\n",
       "      <td>0</td>\n",
       "    </tr>\n",
       "    <tr>\n",
       "      <th>Germany</th>\n",
       "      <td>6</td>\n",
       "      <td>0</td>\n",
       "      <td>7</td>\n",
       "      <td>0</td>\n",
       "      <td>0</td>\n",
       "      <td>0</td>\n",
       "      <td>12</td>\n",
       "      <td>0</td>\n",
       "      <td>0</td>\n",
       "      <td>4</td>\n",
       "      <td>...</td>\n",
       "      <td>0</td>\n",
       "      <td>0</td>\n",
       "      <td>0</td>\n",
       "      <td>1</td>\n",
       "      <td>0</td>\n",
       "      <td>0</td>\n",
       "      <td>0</td>\n",
       "      <td>0</td>\n",
       "      <td>0</td>\n",
       "      <td>3</td>\n",
       "    </tr>\n",
       "    <tr>\n",
       "      <th>Greece</th>\n",
       "      <td>0</td>\n",
       "      <td>0</td>\n",
       "      <td>0</td>\n",
       "      <td>2</td>\n",
       "      <td>5</td>\n",
       "      <td>0</td>\n",
       "      <td>6</td>\n",
       "      <td>0</td>\n",
       "      <td>10</td>\n",
       "      <td>0</td>\n",
       "      <td>...</td>\n",
       "      <td>0</td>\n",
       "      <td>4</td>\n",
       "      <td>1</td>\n",
       "      <td>3</td>\n",
       "      <td>0</td>\n",
       "      <td>0</td>\n",
       "      <td>8</td>\n",
       "      <td>12</td>\n",
       "      <td>0</td>\n",
       "      <td>0</td>\n",
       "    </tr>\n",
       "    <tr>\n",
       "      <th>Hungary</th>\n",
       "      <td>5</td>\n",
       "      <td>0</td>\n",
       "      <td>0</td>\n",
       "      <td>0</td>\n",
       "      <td>3</td>\n",
       "      <td>0</td>\n",
       "      <td>7</td>\n",
       "      <td>0</td>\n",
       "      <td>1</td>\n",
       "      <td>0</td>\n",
       "      <td>...</td>\n",
       "      <td>0</td>\n",
       "      <td>0</td>\n",
       "      <td>0</td>\n",
       "      <td>4</td>\n",
       "      <td>6</td>\n",
       "      <td>0</td>\n",
       "      <td>0</td>\n",
       "      <td>8</td>\n",
       "      <td>0</td>\n",
       "      <td>0</td>\n",
       "    </tr>\n",
       "    <tr>\n",
       "      <th>Iceland</th>\n",
       "      <td>2</td>\n",
       "      <td>0</td>\n",
       "      <td>0</td>\n",
       "      <td>5</td>\n",
       "      <td>0</td>\n",
       "      <td>0</td>\n",
       "      <td>7</td>\n",
       "      <td>0</td>\n",
       "      <td>3</td>\n",
       "      <td>0</td>\n",
       "      <td>...</td>\n",
       "      <td>0</td>\n",
       "      <td>6</td>\n",
       "      <td>0</td>\n",
       "      <td>1</td>\n",
       "      <td>0</td>\n",
       "      <td>0</td>\n",
       "      <td>0</td>\n",
       "      <td>12</td>\n",
       "      <td>4</td>\n",
       "      <td>0</td>\n",
       "    </tr>\n",
       "    <tr>\n",
       "      <th>Ireland</th>\n",
       "      <td>0</td>\n",
       "      <td>0</td>\n",
       "      <td>0</td>\n",
       "      <td>0</td>\n",
       "      <td>1</td>\n",
       "      <td>0</td>\n",
       "      <td>2</td>\n",
       "      <td>0</td>\n",
       "      <td>3</td>\n",
       "      <td>0</td>\n",
       "      <td>...</td>\n",
       "      <td>0</td>\n",
       "      <td>5</td>\n",
       "      <td>0</td>\n",
       "      <td>0</td>\n",
       "      <td>6</td>\n",
       "      <td>0</td>\n",
       "      <td>8</td>\n",
       "      <td>12</td>\n",
       "      <td>0</td>\n",
       "      <td>4</td>\n",
       "    </tr>\n",
       "    <tr>\n",
       "      <th>Israel</th>\n",
       "      <td>0</td>\n",
       "      <td>0</td>\n",
       "      <td>0</td>\n",
       "      <td>0</td>\n",
       "      <td>7</td>\n",
       "      <td>2</td>\n",
       "      <td>0</td>\n",
       "      <td>0</td>\n",
       "      <td>0</td>\n",
       "      <td>0</td>\n",
       "      <td>...</td>\n",
       "      <td>0</td>\n",
       "      <td>0</td>\n",
       "      <td>6</td>\n",
       "      <td>5</td>\n",
       "      <td>1</td>\n",
       "      <td>3</td>\n",
       "      <td>0</td>\n",
       "      <td>10</td>\n",
       "      <td>0</td>\n",
       "      <td>8</td>\n",
       "    </tr>\n",
       "    <tr>\n",
       "      <th>Italy</th>\n",
       "      <td>5</td>\n",
       "      <td>1</td>\n",
       "      <td>0</td>\n",
       "      <td>0</td>\n",
       "      <td>0</td>\n",
       "      <td>8</td>\n",
       "      <td>6</td>\n",
       "      <td>0</td>\n",
       "      <td>0</td>\n",
       "      <td>2</td>\n",
       "      <td>...</td>\n",
       "      <td>0</td>\n",
       "      <td>0</td>\n",
       "      <td>4</td>\n",
       "      <td>0</td>\n",
       "      <td>7</td>\n",
       "      <td>0</td>\n",
       "      <td>0</td>\n",
       "      <td>0</td>\n",
       "      <td>0</td>\n",
       "      <td>0</td>\n",
       "    </tr>\n",
       "    <tr>\n",
       "      <th>Latvia</th>\n",
       "      <td>10</td>\n",
       "      <td>0</td>\n",
       "      <td>0</td>\n",
       "      <td>7</td>\n",
       "      <td>0</td>\n",
       "      <td>5</td>\n",
       "      <td>0</td>\n",
       "      <td>0</td>\n",
       "      <td>8</td>\n",
       "      <td>3</td>\n",
       "      <td>...</td>\n",
       "      <td>0</td>\n",
       "      <td>6</td>\n",
       "      <td>0</td>\n",
       "      <td>2</td>\n",
       "      <td>0</td>\n",
       "      <td>1</td>\n",
       "      <td>0</td>\n",
       "      <td>4</td>\n",
       "      <td>0</td>\n",
       "      <td>0</td>\n",
       "    </tr>\n",
       "    <tr>\n",
       "      <th>Lithuania</th>\n",
       "      <td>7</td>\n",
       "      <td>0</td>\n",
       "      <td>0</td>\n",
       "      <td>0</td>\n",
       "      <td>5</td>\n",
       "      <td>0</td>\n",
       "      <td>10</td>\n",
       "      <td>0</td>\n",
       "      <td>0</td>\n",
       "      <td>0</td>\n",
       "      <td>...</td>\n",
       "      <td>0</td>\n",
       "      <td>3</td>\n",
       "      <td>4</td>\n",
       "      <td>0</td>\n",
       "      <td>1</td>\n",
       "      <td>0</td>\n",
       "      <td>0</td>\n",
       "      <td>12</td>\n",
       "      <td>0</td>\n",
       "      <td>0</td>\n",
       "    </tr>\n",
       "    <tr>\n",
       "      <th>Macedonia</th>\n",
       "      <td>5</td>\n",
       "      <td>3</td>\n",
       "      <td>0</td>\n",
       "      <td>0</td>\n",
       "      <td>8</td>\n",
       "      <td>0</td>\n",
       "      <td>0</td>\n",
       "      <td>0</td>\n",
       "      <td>0</td>\n",
       "      <td>0</td>\n",
       "      <td>...</td>\n",
       "      <td>0</td>\n",
       "      <td>0</td>\n",
       "      <td>4</td>\n",
       "      <td>2</td>\n",
       "      <td>0</td>\n",
       "      <td>0</td>\n",
       "      <td>1</td>\n",
       "      <td>12</td>\n",
       "      <td>0</td>\n",
       "      <td>0</td>\n",
       "    </tr>\n",
       "    <tr>\n",
       "      <th>Malta</th>\n",
       "      <td>0</td>\n",
       "      <td>0</td>\n",
       "      <td>0</td>\n",
       "      <td>0</td>\n",
       "      <td>2</td>\n",
       "      <td>8</td>\n",
       "      <td>6</td>\n",
       "      <td>0</td>\n",
       "      <td>0</td>\n",
       "      <td>1</td>\n",
       "      <td>...</td>\n",
       "      <td>0</td>\n",
       "      <td>0</td>\n",
       "      <td>0</td>\n",
       "      <td>3</td>\n",
       "      <td>0</td>\n",
       "      <td>0</td>\n",
       "      <td>0</td>\n",
       "      <td>0</td>\n",
       "      <td>0</td>\n",
       "      <td>4</td>\n",
       "    </tr>\n",
       "    <tr>\n",
       "      <th>Moldova</th>\n",
       "      <td>10</td>\n",
       "      <td>5</td>\n",
       "      <td>0</td>\n",
       "      <td>0</td>\n",
       "      <td>0</td>\n",
       "      <td>12</td>\n",
       "      <td>3</td>\n",
       "      <td>0</td>\n",
       "      <td>2</td>\n",
       "      <td>0</td>\n",
       "      <td>...</td>\n",
       "      <td>0</td>\n",
       "      <td>0</td>\n",
       "      <td>0</td>\n",
       "      <td>0</td>\n",
       "      <td>4</td>\n",
       "      <td>0</td>\n",
       "      <td>0</td>\n",
       "      <td>0</td>\n",
       "      <td>1</td>\n",
       "      <td>0</td>\n",
       "    </tr>\n",
       "    <tr>\n",
       "      <th>Montenegro</th>\n",
       "      <td>7</td>\n",
       "      <td>1</td>\n",
       "      <td>0</td>\n",
       "      <td>0</td>\n",
       "      <td>0</td>\n",
       "      <td>0</td>\n",
       "      <td>10</td>\n",
       "      <td>0</td>\n",
       "      <td>4</td>\n",
       "      <td>0</td>\n",
       "      <td>...</td>\n",
       "      <td>8</td>\n",
       "      <td>0</td>\n",
       "      <td>0</td>\n",
       "      <td>5</td>\n",
       "      <td>12</td>\n",
       "      <td>0</td>\n",
       "      <td>0</td>\n",
       "      <td>0</td>\n",
       "      <td>0</td>\n",
       "      <td>0</td>\n",
       "    </tr>\n",
       "    <tr>\n",
       "      <th>Netherlands</th>\n",
       "      <td>0</td>\n",
       "      <td>0</td>\n",
       "      <td>0</td>\n",
       "      <td>6</td>\n",
       "      <td>0</td>\n",
       "      <td>4</td>\n",
       "      <td>0</td>\n",
       "      <td>0</td>\n",
       "      <td>2</td>\n",
       "      <td>0</td>\n",
       "      <td>...</td>\n",
       "      <td>0</td>\n",
       "      <td>7</td>\n",
       "      <td>5</td>\n",
       "      <td>0</td>\n",
       "      <td>0</td>\n",
       "      <td>0</td>\n",
       "      <td>1</td>\n",
       "      <td>12</td>\n",
       "      <td>0</td>\n",
       "      <td>3</td>\n",
       "    </tr>\n",
       "    <tr>\n",
       "      <th>Norway</th>\n",
       "      <td>5</td>\n",
       "      <td>0</td>\n",
       "      <td>0</td>\n",
       "      <td>0</td>\n",
       "      <td>7</td>\n",
       "      <td>0</td>\n",
       "      <td>1</td>\n",
       "      <td>0</td>\n",
       "      <td>0</td>\n",
       "      <td>0</td>\n",
       "      <td>...</td>\n",
       "      <td>0</td>\n",
       "      <td>3</td>\n",
       "      <td>2</td>\n",
       "      <td>10</td>\n",
       "      <td>0</td>\n",
       "      <td>0</td>\n",
       "      <td>6</td>\n",
       "      <td>12</td>\n",
       "      <td>0</td>\n",
       "      <td>0</td>\n",
       "    </tr>\n",
       "    <tr>\n",
       "      <th>Poland</th>\n",
       "      <td>0</td>\n",
       "      <td>0</td>\n",
       "      <td>0</td>\n",
       "      <td>0</td>\n",
       "      <td>3</td>\n",
       "      <td>1</td>\n",
       "      <td>4</td>\n",
       "      <td>0</td>\n",
       "      <td>0</td>\n",
       "      <td>0</td>\n",
       "      <td>...</td>\n",
       "      <td>0</td>\n",
       "      <td>0</td>\n",
       "      <td>0</td>\n",
       "      <td>7</td>\n",
       "      <td>6</td>\n",
       "      <td>0</td>\n",
       "      <td>5</td>\n",
       "      <td>10</td>\n",
       "      <td>0</td>\n",
       "      <td>0</td>\n",
       "    </tr>\n",
       "    <tr>\n",
       "      <th>Portugal</th>\n",
       "      <td>0</td>\n",
       "      <td>0</td>\n",
       "      <td>0</td>\n",
       "      <td>0</td>\n",
       "      <td>1</td>\n",
       "      <td>0</td>\n",
       "      <td>7</td>\n",
       "      <td>0</td>\n",
       "      <td>0</td>\n",
       "      <td>0</td>\n",
       "      <td>...</td>\n",
       "      <td>0</td>\n",
       "      <td>0</td>\n",
       "      <td>5</td>\n",
       "      <td>6</td>\n",
       "      <td>10</td>\n",
       "      <td>0</td>\n",
       "      <td>4</td>\n",
       "      <td>3</td>\n",
       "      <td>0</td>\n",
       "      <td>0</td>\n",
       "    </tr>\n",
       "    <tr>\n",
       "      <th>Romania</th>\n",
       "      <td>7</td>\n",
       "      <td>12</td>\n",
       "      <td>10</td>\n",
       "      <td>1</td>\n",
       "      <td>0</td>\n",
       "      <td>0</td>\n",
       "      <td>8</td>\n",
       "      <td>0</td>\n",
       "      <td>0</td>\n",
       "      <td>4</td>\n",
       "      <td>...</td>\n",
       "      <td>0</td>\n",
       "      <td>0</td>\n",
       "      <td>0</td>\n",
       "      <td>0</td>\n",
       "      <td>6</td>\n",
       "      <td>0</td>\n",
       "      <td>0</td>\n",
       "      <td>3</td>\n",
       "      <td>0</td>\n",
       "      <td>0</td>\n",
       "    </tr>\n",
       "    <tr>\n",
       "      <th>Russia</th>\n",
       "      <td>0</td>\n",
       "      <td>0</td>\n",
       "      <td>12</td>\n",
       "      <td>8</td>\n",
       "      <td>0</td>\n",
       "      <td>0</td>\n",
       "      <td>6</td>\n",
       "      <td>0</td>\n",
       "      <td>0</td>\n",
       "      <td>0</td>\n",
       "      <td>...</td>\n",
       "      <td>0</td>\n",
       "      <td>3</td>\n",
       "      <td>0</td>\n",
       "      <td>0</td>\n",
       "      <td>7</td>\n",
       "      <td>4</td>\n",
       "      <td>1</td>\n",
       "      <td>2</td>\n",
       "      <td>0</td>\n",
       "      <td>5</td>\n",
       "    </tr>\n",
       "    <tr>\n",
       "      <th>San_Marino</th>\n",
       "      <td>0</td>\n",
       "      <td>0</td>\n",
       "      <td>0</td>\n",
       "      <td>0</td>\n",
       "      <td>5</td>\n",
       "      <td>0</td>\n",
       "      <td>0</td>\n",
       "      <td>7</td>\n",
       "      <td>1</td>\n",
       "      <td>0</td>\n",
       "      <td>...</td>\n",
       "      <td>0</td>\n",
       "      <td>0</td>\n",
       "      <td>4</td>\n",
       "      <td>3</td>\n",
       "      <td>0</td>\n",
       "      <td>0</td>\n",
       "      <td>6</td>\n",
       "      <td>10</td>\n",
       "      <td>0</td>\n",
       "      <td>0</td>\n",
       "    </tr>\n",
       "    <tr>\n",
       "      <th>Slovenia</th>\n",
       "      <td>6</td>\n",
       "      <td>0</td>\n",
       "      <td>0</td>\n",
       "      <td>1</td>\n",
       "      <td>0</td>\n",
       "      <td>8</td>\n",
       "      <td>4</td>\n",
       "      <td>0</td>\n",
       "      <td>0</td>\n",
       "      <td>0</td>\n",
       "      <td>...</td>\n",
       "      <td>0</td>\n",
       "      <td>0</td>\n",
       "      <td>0</td>\n",
       "      <td>0</td>\n",
       "      <td>2</td>\n",
       "      <td>0</td>\n",
       "      <td>3</td>\n",
       "      <td>7</td>\n",
       "      <td>0</td>\n",
       "      <td>5</td>\n",
       "    </tr>\n",
       "    <tr>\n",
       "      <th>Spain</th>\n",
       "      <td>0</td>\n",
       "      <td>0</td>\n",
       "      <td>0</td>\n",
       "      <td>4</td>\n",
       "      <td>3</td>\n",
       "      <td>0</td>\n",
       "      <td>5</td>\n",
       "      <td>0</td>\n",
       "      <td>2</td>\n",
       "      <td>0</td>\n",
       "      <td>...</td>\n",
       "      <td>0</td>\n",
       "      <td>6</td>\n",
       "      <td>0</td>\n",
       "      <td>0</td>\n",
       "      <td>7</td>\n",
       "      <td>0</td>\n",
       "      <td>8</td>\n",
       "      <td>10</td>\n",
       "      <td>0</td>\n",
       "      <td>0</td>\n",
       "    </tr>\n",
       "    <tr>\n",
       "      <th>Sweden</th>\n",
       "      <td>0</td>\n",
       "      <td>0</td>\n",
       "      <td>0</td>\n",
       "      <td>0</td>\n",
       "      <td>5</td>\n",
       "      <td>0</td>\n",
       "      <td>0</td>\n",
       "      <td>0</td>\n",
       "      <td>0</td>\n",
       "      <td>0</td>\n",
       "      <td>...</td>\n",
       "      <td>0</td>\n",
       "      <td>4</td>\n",
       "      <td>8</td>\n",
       "      <td>0</td>\n",
       "      <td>1</td>\n",
       "      <td>0</td>\n",
       "      <td>3</td>\n",
       "      <td>10</td>\n",
       "      <td>0</td>\n",
       "      <td>0</td>\n",
       "    </tr>\n",
       "    <tr>\n",
       "      <th>Switzerland</th>\n",
       "      <td>0</td>\n",
       "      <td>0</td>\n",
       "      <td>0</td>\n",
       "      <td>6</td>\n",
       "      <td>10</td>\n",
       "      <td>0</td>\n",
       "      <td>7</td>\n",
       "      <td>0</td>\n",
       "      <td>0</td>\n",
       "      <td>0</td>\n",
       "      <td>...</td>\n",
       "      <td>0</td>\n",
       "      <td>2</td>\n",
       "      <td>0</td>\n",
       "      <td>3</td>\n",
       "      <td>4</td>\n",
       "      <td>5</td>\n",
       "      <td>1</td>\n",
       "      <td>0</td>\n",
       "      <td>0</td>\n",
       "      <td>0</td>\n",
       "    </tr>\n",
       "    <tr>\n",
       "      <th>Ukraine</th>\n",
       "      <td>0</td>\n",
       "      <td>6</td>\n",
       "      <td>1</td>\n",
       "      <td>0</td>\n",
       "      <td>0</td>\n",
       "      <td>0</td>\n",
       "      <td>10</td>\n",
       "      <td>0</td>\n",
       "      <td>7</td>\n",
       "      <td>0</td>\n",
       "      <td>...</td>\n",
       "      <td>0</td>\n",
       "      <td>0</td>\n",
       "      <td>2</td>\n",
       "      <td>0</td>\n",
       "      <td>3</td>\n",
       "      <td>0</td>\n",
       "      <td>0</td>\n",
       "      <td>0</td>\n",
       "      <td>0</td>\n",
       "      <td>0</td>\n",
       "    </tr>\n",
       "    <tr>\n",
       "      <th>United_Kingdom</th>\n",
       "      <td>0</td>\n",
       "      <td>0</td>\n",
       "      <td>0</td>\n",
       "      <td>4</td>\n",
       "      <td>0</td>\n",
       "      <td>0</td>\n",
       "      <td>0</td>\n",
       "      <td>0</td>\n",
       "      <td>0</td>\n",
       "      <td>2</td>\n",
       "      <td>...</td>\n",
       "      <td>0</td>\n",
       "      <td>6</td>\n",
       "      <td>5</td>\n",
       "      <td>1</td>\n",
       "      <td>0</td>\n",
       "      <td>10</td>\n",
       "      <td>3</td>\n",
       "      <td>8</td>\n",
       "      <td>0</td>\n",
       "      <td>0</td>\n",
       "    </tr>\n",
       "  </tbody>\n",
       "</table>\n",
       "<p>37 rows × 26 columns</p>\n",
       "</div>"
      ],
      "text/plain": [
       "                Ukraine         Belarus         Azerbaijan      \\\n",
       "Albania                      0               0               0   \n",
       "Armenia                      0               8               0   \n",
       "Austria                      5               0               0   \n",
       "Azerbaijan                  10               7               0   \n",
       "Belarus                      8               0               3   \n",
       "Belgium                      4               0               0   \n",
       "Denmark                      1               0               0   \n",
       "Estonia                      8               0               0   \n",
       "Finland                      0               0               0   \n",
       "France                       2               0               0   \n",
       "Georgia                      0               0               0   \n",
       "Germany                      6               0               7   \n",
       "Greece                       0               0               0   \n",
       "Hungary                      5               0               0   \n",
       "Iceland                      2               0               0   \n",
       "Ireland                      0               0               0   \n",
       "Israel                       0               0               0   \n",
       "Italy                        5               1               0   \n",
       "Latvia                      10               0               0   \n",
       "Lithuania                    7               0               0   \n",
       "Macedonia                    5               3               0   \n",
       "Malta                        0               0               0   \n",
       "Moldova                     10               5               0   \n",
       "Montenegro                   7               1               0   \n",
       "Netherlands                  0               0               0   \n",
       "Norway                       5               0               0   \n",
       "Poland                       0               0               0   \n",
       "Portugal                     0               0               0   \n",
       "Romania                      7              12              10   \n",
       "Russia                       0               0              12   \n",
       "San_Marino                   0               0               0   \n",
       "Slovenia                     6               0               0   \n",
       "Spain                        0               0               0   \n",
       "Sweden                       0               0               0   \n",
       "Switzerland                  0               0               0   \n",
       "Ukraine                      0               6               1   \n",
       "United_Kingdom               0               0               0   \n",
       "\n",
       "                Iceland         Norway          Romania         \\\n",
       "Albania                      0               0               0   \n",
       "Armenia                      0               0               0   \n",
       "Austria                      2               1               8   \n",
       "Azerbaijan                   0               0               6   \n",
       "Belarus                      0               4               1   \n",
       "Belgium                      0               0               5   \n",
       "Denmark                      5               6               0   \n",
       "Estonia                      0               3               0   \n",
       "Finland                      0               0               4   \n",
       "France                       0               7               0   \n",
       "Georgia                      7               2               0   \n",
       "Germany                      0               0               0   \n",
       "Greece                       2               5               0   \n",
       "Hungary                      0               3               0   \n",
       "Iceland                      5               0               0   \n",
       "Ireland                      0               1               0   \n",
       "Israel                       0               7               2   \n",
       "Italy                        0               0               8   \n",
       "Latvia                       7               0               5   \n",
       "Lithuania                    0               5               0   \n",
       "Macedonia                    0               8               0   \n",
       "Malta                        0               2               8   \n",
       "Moldova                      0               0              12   \n",
       "Montenegro                   0               0               0   \n",
       "Netherlands                  6               0               4   \n",
       "Norway                       0               7               0   \n",
       "Poland                       0               3               1   \n",
       "Portugal                     0               1               0   \n",
       "Romania                      1               0               0   \n",
       "Russia                       8               0               0   \n",
       "San_Marino                   0               5               0   \n",
       "Slovenia                     1               0               8   \n",
       "Spain                        4               3               0   \n",
       "Sweden                       0               5               0   \n",
       "Switzerland                  6              10               0   \n",
       "Ukraine                      0               0               0   \n",
       "United_Kingdom               4               0               0   \n",
       "\n",
       "                Armenia         Montenegro      Greece          \\\n",
       "Albania                      0               6               0   \n",
       "Armenia                      0              12               0   \n",
       "Austria                     12               0               0   \n",
       "Azerbaijan                   0               0               2   \n",
       "Belarus                     10               0               7   \n",
       "Belgium                      0               0               0   \n",
       "Denmark                      2               0               0   \n",
       "Estonia                      5               0               0   \n",
       "Finland                      8              12               5   \n",
       "France                       4               0               0   \n",
       "Georgia                     12               0               5   \n",
       "Germany                     12               0               0   \n",
       "Greece                       6               0              10   \n",
       "Hungary                      7               0               1   \n",
       "Iceland                      7               0               3   \n",
       "Ireland                      2               0               3   \n",
       "Israel                       0               0               0   \n",
       "Italy                        6               0               0   \n",
       "Latvia                       0               0               8   \n",
       "Lithuania                   10               0               0   \n",
       "Macedonia                    0               0               0   \n",
       "Malta                        6               0               0   \n",
       "Moldova                      3               0               2   \n",
       "Montenegro                  10               0               4   \n",
       "Netherlands                  0               0               2   \n",
       "Norway                       1               0               0   \n",
       "Poland                       4               0               0   \n",
       "Portugal                     7               0               0   \n",
       "Romania                      8               0               0   \n",
       "Russia                       6               0               0   \n",
       "San_Marino                   0               7               1   \n",
       "Slovenia                     4               0               0   \n",
       "Spain                        5               0               2   \n",
       "Sweden                       0               0               0   \n",
       "Switzerland                  7               0               0   \n",
       "Ukraine                     10               0               7   \n",
       "United_Kingdom               0               0               0   \n",
       "\n",
       "                Poland               ...        Slovenia        \\\n",
       "Albania                      2       ...                     0   \n",
       "Armenia                      7       ...                     0   \n",
       "Austria                      0       ...                     0   \n",
       "Azerbaijan                   4       ...                     0   \n",
       "Belarus                      6       ...                     0   \n",
       "Belgium                      0       ...                     0   \n",
       "Denmark                      0       ...                     0   \n",
       "Estonia                      0       ...                     0   \n",
       "Finland                      0       ...                     1   \n",
       "France                       0       ...                     0   \n",
       "Georgia                      0       ...                     0   \n",
       "Germany                      4       ...                     0   \n",
       "Greece                       0       ...                     0   \n",
       "Hungary                      0       ...                     0   \n",
       "Iceland                      0       ...                     0   \n",
       "Ireland                      0       ...                     0   \n",
       "Israel                       0       ...                     0   \n",
       "Italy                        2       ...                     0   \n",
       "Latvia                       3       ...                     0   \n",
       "Lithuania                    0       ...                     0   \n",
       "Macedonia                    0       ...                     0   \n",
       "Malta                        1       ...                     0   \n",
       "Moldova                      0       ...                     0   \n",
       "Montenegro                   0       ...                     8   \n",
       "Netherlands                  0       ...                     0   \n",
       "Norway                       0       ...                     0   \n",
       "Poland                       0       ...                     0   \n",
       "Portugal                     0       ...                     0   \n",
       "Romania                      4       ...                     0   \n",
       "Russia                       0       ...                     0   \n",
       "San_Marino                   0       ...                     0   \n",
       "Slovenia                     0       ...                     0   \n",
       "Spain                        0       ...                     0   \n",
       "Sweden                       0       ...                     0   \n",
       "Switzerland                  0       ...                     0   \n",
       "Ukraine                      0       ...                     0   \n",
       "United_Kingdom               2       ...                     0   \n",
       "\n",
       "                Finland         Spain           Switzerland     \\\n",
       "Albania                      0              12               0   \n",
       "Armenia                      0               2               5   \n",
       "Austria                      4               0               3   \n",
       "Azerbaijan                   0               0               0   \n",
       "Belarus                      0               0               0   \n",
       "Belgium                      3               2               0   \n",
       "Denmark                      4               0               0   \n",
       "Estonia                      6               2               0   \n",
       "Finland                      0               0               0   \n",
       "France                       0               0               0   \n",
       "Georgia                      0               6               0   \n",
       "Germany                      0               0               1   \n",
       "Greece                       4               1               3   \n",
       "Hungary                      0               0               4   \n",
       "Iceland                      6               0               1   \n",
       "Ireland                      5               0               0   \n",
       "Israel                       0               6               5   \n",
       "Italy                        0               4               0   \n",
       "Latvia                       6               0               2   \n",
       "Lithuania                    3               4               0   \n",
       "Macedonia                    0               4               2   \n",
       "Malta                        0               0               3   \n",
       "Moldova                      0               0               0   \n",
       "Montenegro                   0               0               5   \n",
       "Netherlands                  7               5               0   \n",
       "Norway                       3               2              10   \n",
       "Poland                       0               0               7   \n",
       "Portugal                     0               5               6   \n",
       "Romania                      0               0               0   \n",
       "Russia                       3               0               0   \n",
       "San_Marino                   0               4               3   \n",
       "Slovenia                     0               0               0   \n",
       "Spain                        6               0               0   \n",
       "Sweden                       4               8               0   \n",
       "Switzerland                  2               0               3   \n",
       "Ukraine                      0               2               0   \n",
       "United_Kingdom               6               5               1   \n",
       "\n",
       "                Hungary         Malta           Denmark         \\\n",
       "Albania                      8               1               0   \n",
       "Armenia                      0               0               1   \n",
       "Austria                      7               0               0   \n",
       "Azerbaijan                   8               5               0   \n",
       "Belarus                      5               0               0   \n",
       "Belgium                      7               0               6   \n",
       "Denmark                      3               0               0   \n",
       "Estonia                      7               0               0   \n",
       "Finland                     10               0               0   \n",
       "France                       5               3               6   \n",
       "Georgia                      0               0               3   \n",
       "Germany                      0               0               0   \n",
       "Greece                       0               0               8   \n",
       "Hungary                      6               0               0   \n",
       "Iceland                      0               0               0   \n",
       "Ireland                      6               0               8   \n",
       "Israel                       1               3               0   \n",
       "Italy                        7               0               0   \n",
       "Latvia                       0               1               0   \n",
       "Lithuania                    1               0               0   \n",
       "Macedonia                    0               0               1   \n",
       "Malta                        0               0               0   \n",
       "Moldova                      4               0               0   \n",
       "Montenegro                  12               0               0   \n",
       "Netherlands                  0               0               1   \n",
       "Norway                       0               0               6   \n",
       "Poland                       6               0               5   \n",
       "Portugal                    10               0               4   \n",
       "Romania                      6               0               0   \n",
       "Russia                       7               4               1   \n",
       "San_Marino                   0               0               6   \n",
       "Slovenia                     2               0               3   \n",
       "Spain                        7               0               8   \n",
       "Sweden                       1               0               3   \n",
       "Switzerland                  4               5               1   \n",
       "Ukraine                      3               0               0   \n",
       "United_Kingdom               0              10               3   \n",
       "\n",
       "                Netherlands     San Marino      United Kingdom  \n",
       "Albania                      0               3               0  \n",
       "Armenia                      4               3               0  \n",
       "Austria                     10               0               0  \n",
       "Azerbaijan                   0               3               0  \n",
       "Belarus                      2               0               0  \n",
       "Belgium                      8               0               1  \n",
       "Denmark                     10               0               7  \n",
       "Estonia                     12               0               0  \n",
       "Finland                      7               0               0  \n",
       "France                       8               0               0  \n",
       "Georgia                      8               0               0  \n",
       "Germany                      0               0               3  \n",
       "Greece                      12               0               0  \n",
       "Hungary                      8               0               0  \n",
       "Iceland                     12               4               0  \n",
       "Ireland                     12               0               4  \n",
       "Israel                      10               0               8  \n",
       "Italy                        0               0               0  \n",
       "Latvia                       4               0               0  \n",
       "Lithuania                   12               0               0  \n",
       "Macedonia                   12               0               0  \n",
       "Malta                        0               0               4  \n",
       "Moldova                      0               1               0  \n",
       "Montenegro                   0               0               0  \n",
       "Netherlands                 12               0               3  \n",
       "Norway                      12               0               0  \n",
       "Poland                      10               0               0  \n",
       "Portugal                     3               0               0  \n",
       "Romania                      3               0               0  \n",
       "Russia                       2               0               5  \n",
       "San_Marino                  10               0               0  \n",
       "Slovenia                     7               0               5  \n",
       "Spain                       10               0               0  \n",
       "Sweden                      10               0               0  \n",
       "Switzerland                  0               0               0  \n",
       "Ukraine                      0               0               0  \n",
       "United_Kingdom               8               0               0  \n",
       "\n",
       "[37 rows x 26 columns]"
      ]
     },
     "execution_count": 60,
     "metadata": {},
     "output_type": "execute_result"
    }
   ],
   "source": [
    "from scipy.io import loadmat\n",
    "dane = loadmat(\"Dane/eu_song_2014.mat\")[\"x\"][0][0][0]\n",
    "k1 = loadmat(\"Dane/eu_song_2014.mat\")[\"x\"][0][0][1][0][0]\n",
    "k2 = loadmat(\"Dane/eu_song_2014.mat\")[\"x\"][0][0][5]\n",
    "dane = pd.DataFrame(dane,columns=k2)\n",
    "dane.set_index(k1,inplace=True)\n",
    "dane#.head()"
   ]
  },
  {
   "cell_type": "code",
   "execution_count": 58,
   "metadata": {
    "collapsed": false
   },
   "outputs": [
    {
     "data": {
      "image/png": "[encoded data removed]",
      "text/plain": [
       "<matplotlib.figure.Figure at 0x7fb590254320>"
      ]
     },
     "metadata": {},
     "output_type": "display_data"
    }
   ],
   "source": [
    "\n",
    "d = linkage(dane,\"ward\")\n",
    "plt.figure(figsize=(15,10))\n",
    "dendrogram(d, \n",
    "           labels = dane.index, \n",
    "           leaf_rotation=45,\n",
    "           leaf_font_size=15)\n",
    "plt.show()"
   ]
  },
  {
   "cell_type": "code",
   "execution_count": 34,
   "metadata": {
    "collapsed": false
   },
   "outputs": [
    {
     "data": {
      "text/html": [
       "<div>\n",
       "<table border=\"1\" class=\"dataframe\">\n",
       "  <thead>\n",
       "    <tr style=\"text-align: right;\">\n",
       "      <th></th>\n",
       "      <th>lat</th>\n",
       "      <th>lon</th>\n",
       "      <th>date</th>\n",
       "      <th>city</th>\n",
       "      <th>country</th>\n",
       "    </tr>\n",
       "  </thead>\n",
       "  <tbody>\n",
       "    <tr>\n",
       "      <th>0</th>\n",
       "      <td>51.481292</td>\n",
       "      <td>-0.451011</td>\n",
       "      <td>05/14/2014 09:07</td>\n",
       "      <td>West Drayton</td>\n",
       "      <td>United Kingdom</td>\n",
       "    </tr>\n",
       "    <tr>\n",
       "      <th>1</th>\n",
       "      <td>51.474005</td>\n",
       "      <td>-0.450999</td>\n",
       "      <td>05/14/2014 09:22</td>\n",
       "      <td>Hounslow</td>\n",
       "      <td>United Kingdom</td>\n",
       "    </tr>\n",
       "    <tr>\n",
       "      <th>2</th>\n",
       "      <td>51.478199</td>\n",
       "      <td>-0.446081</td>\n",
       "      <td>05/14/2014 10:51</td>\n",
       "      <td>Hounslow</td>\n",
       "      <td>United Kingdom</td>\n",
       "    </tr>\n",
       "    <tr>\n",
       "      <th>3</th>\n",
       "      <td>51.478199</td>\n",
       "      <td>-0.446081</td>\n",
       "      <td>05/14/2014 11:24</td>\n",
       "      <td>Hounslow</td>\n",
       "      <td>United Kingdom</td>\n",
       "    </tr>\n",
       "    <tr>\n",
       "      <th>4</th>\n",
       "      <td>51.474146</td>\n",
       "      <td>-0.451562</td>\n",
       "      <td>05/14/2014 11:38</td>\n",
       "      <td>Hounslow</td>\n",
       "      <td>United Kingdom</td>\n",
       "    </tr>\n",
       "    <tr>\n",
       "      <th>5</th>\n",
       "      <td>51.480146</td>\n",
       "      <td>-0.441103</td>\n",
       "      <td>05/14/2014 12:23</td>\n",
       "      <td>Hounslow</td>\n",
       "      <td>United Kingdom</td>\n",
       "    </tr>\n",
       "    <tr>\n",
       "      <th>6</th>\n",
       "      <td>51.479669</td>\n",
       "      <td>-0.441024</td>\n",
       "      <td>05/14/2014 12:38</td>\n",
       "      <td>Hounslow</td>\n",
       "      <td>United Kingdom</td>\n",
       "    </tr>\n",
       "    <tr>\n",
       "      <th>7</th>\n",
       "      <td>38.781775</td>\n",
       "      <td>-9.137544</td>\n",
       "      <td>05/14/2014 15:11</td>\n",
       "      <td>Lisbon</td>\n",
       "      <td>Portugal</td>\n",
       "    </tr>\n",
       "    <tr>\n",
       "      <th>8</th>\n",
       "      <td>38.774422</td>\n",
       "      <td>-9.129195</td>\n",
       "      <td>05/14/2014 15:25</td>\n",
       "      <td>Lisbon</td>\n",
       "      <td>Portugal</td>\n",
       "    </tr>\n",
       "    <tr>\n",
       "      <th>9</th>\n",
       "      <td>38.771939</td>\n",
       "      <td>-9.128911</td>\n",
       "      <td>05/14/2014 15:41</td>\n",
       "      <td>Lisbon</td>\n",
       "      <td>Portugal</td>\n",
       "    </tr>\n",
       "    <tr>\n",
       "      <th>10</th>\n",
       "      <td>38.769433</td>\n",
       "      <td>-9.124403</td>\n",
       "      <td>05/14/2014 15:55</td>\n",
       "      <td>Lisbon</td>\n",
       "      <td>Portugal</td>\n",
       "    </tr>\n",
       "    <tr>\n",
       "      <th>11</th>\n",
       "      <td>38.742987</td>\n",
       "      <td>-9.147780</td>\n",
       "      <td>05/14/2014 16:11</td>\n",
       "      <td>Lisbon</td>\n",
       "      <td>Portugal</td>\n",
       "    </tr>\n",
       "    <tr>\n",
       "      <th>12</th>\n",
       "      <td>38.712816</td>\n",
       "      <td>-9.139833</td>\n",
       "      <td>05/14/2014 16:25</td>\n",
       "      <td>Lisbon</td>\n",
       "      <td>Portugal</td>\n",
       "    </tr>\n",
       "    <tr>\n",
       "      <th>13</th>\n",
       "      <td>38.711050</td>\n",
       "      <td>-9.139739</td>\n",
       "      <td>05/14/2014 16:40</td>\n",
       "      <td>Lisbon</td>\n",
       "      <td>Portugal</td>\n",
       "    </tr>\n",
       "    <tr>\n",
       "      <th>14</th>\n",
       "      <td>38.711924</td>\n",
       "      <td>-9.137434</td>\n",
       "      <td>05/14/2014 16:55</td>\n",
       "      <td>Lisbon</td>\n",
       "      <td>Portugal</td>\n",
       "    </tr>\n",
       "    <tr>\n",
       "      <th>15</th>\n",
       "      <td>38.711283</td>\n",
       "      <td>-9.138797</td>\n",
       "      <td>05/14/2014 17:25</td>\n",
       "      <td>Lisbon</td>\n",
       "      <td>Portugal</td>\n",
       "    </tr>\n",
       "    <tr>\n",
       "      <th>16</th>\n",
       "      <td>38.707192</td>\n",
       "      <td>-9.136824</td>\n",
       "      <td>05/14/2014 17:40</td>\n",
       "      <td>Lisbon</td>\n",
       "      <td>Portugal</td>\n",
       "    </tr>\n",
       "    <tr>\n",
       "      <th>17</th>\n",
       "      <td>38.709623</td>\n",
       "      <td>-9.130610</td>\n",
       "      <td>05/14/2014 18:10</td>\n",
       "      <td>Lisbon</td>\n",
       "      <td>Portugal</td>\n",
       "    </tr>\n",
       "    <tr>\n",
       "      <th>18</th>\n",
       "      <td>38.715637</td>\n",
       "      <td>-9.120558</td>\n",
       "      <td>05/14/2014 18:25</td>\n",
       "      <td>Lisbon</td>\n",
       "      <td>Portugal</td>\n",
       "    </tr>\n",
       "    <tr>\n",
       "      <th>19</th>\n",
       "      <td>38.714363</td>\n",
       "      <td>-9.130658</td>\n",
       "      <td>05/14/2014 18:40</td>\n",
       "      <td>Lisbon</td>\n",
       "      <td>Portugal</td>\n",
       "    </tr>\n",
       "    <tr>\n",
       "      <th>20</th>\n",
       "      <td>38.714373</td>\n",
       "      <td>-9.134549</td>\n",
       "      <td>05/14/2014 18:55</td>\n",
       "      <td>Lisbon</td>\n",
       "      <td>Portugal</td>\n",
       "    </tr>\n",
       "    <tr>\n",
       "      <th>21</th>\n",
       "      <td>38.712536</td>\n",
       "      <td>-9.133150</td>\n",
       "      <td>05/14/2014 19:10</td>\n",
       "      <td>Lisbon</td>\n",
       "      <td>Portugal</td>\n",
       "    </tr>\n",
       "    <tr>\n",
       "      <th>22</th>\n",
       "      <td>38.711977</td>\n",
       "      <td>-9.141788</td>\n",
       "      <td>05/14/2014 19:26</td>\n",
       "      <td>Lisbon</td>\n",
       "      <td>Portugal</td>\n",
       "    </tr>\n",
       "    <tr>\n",
       "      <th>23</th>\n",
       "      <td>38.713834</td>\n",
       "      <td>-9.134406</td>\n",
       "      <td>05/14/2014 19:40</td>\n",
       "      <td>Lisbon</td>\n",
       "      <td>Portugal</td>\n",
       "    </tr>\n",
       "    <tr>\n",
       "      <th>24</th>\n",
       "      <td>38.712462</td>\n",
       "      <td>-9.133156</td>\n",
       "      <td>05/14/2014 19:55</td>\n",
       "      <td>Lisbon</td>\n",
       "      <td>Portugal</td>\n",
       "    </tr>\n",
       "    <tr>\n",
       "      <th>25</th>\n",
       "      <td>38.713181</td>\n",
       "      <td>-9.135343</td>\n",
       "      <td>05/14/2014 20:40</td>\n",
       "      <td>Lisbon</td>\n",
       "      <td>Portugal</td>\n",
       "    </tr>\n",
       "    <tr>\n",
       "      <th>26</th>\n",
       "      <td>38.712796</td>\n",
       "      <td>-9.136014</td>\n",
       "      <td>05/14/2014 21:10</td>\n",
       "      <td>Lisbon</td>\n",
       "      <td>Portugal</td>\n",
       "    </tr>\n",
       "    <tr>\n",
       "      <th>27</th>\n",
       "      <td>38.711812</td>\n",
       "      <td>-9.137284</td>\n",
       "      <td>05/14/2014 21:25</td>\n",
       "      <td>Lisbon</td>\n",
       "      <td>Portugal</td>\n",
       "    </tr>\n",
       "    <tr>\n",
       "      <th>28</th>\n",
       "      <td>38.711797</td>\n",
       "      <td>-9.137318</td>\n",
       "      <td>05/14/2014 21:51</td>\n",
       "      <td>Lisbon</td>\n",
       "      <td>Portugal</td>\n",
       "    </tr>\n",
       "    <tr>\n",
       "      <th>29</th>\n",
       "      <td>38.711875</td>\n",
       "      <td>-9.137331</td>\n",
       "      <td>05/14/2014 22:05</td>\n",
       "      <td>Lisbon</td>\n",
       "      <td>Portugal</td>\n",
       "    </tr>\n",
       "    <tr>\n",
       "      <th>...</th>\n",
       "      <td>...</td>\n",
       "      <td>...</td>\n",
       "      <td>...</td>\n",
       "      <td>...</td>\n",
       "      <td>...</td>\n",
       "    </tr>\n",
       "    <tr>\n",
       "      <th>70</th>\n",
       "      <td>38.693780</td>\n",
       "      <td>-9.206363</td>\n",
       "      <td>05/15/2014 14:19</td>\n",
       "      <td>Lisbon</td>\n",
       "      <td>Portugal</td>\n",
       "    </tr>\n",
       "    <tr>\n",
       "      <th>71</th>\n",
       "      <td>38.693424</td>\n",
       "      <td>-9.211899</td>\n",
       "      <td>05/15/2014 14:36</td>\n",
       "      <td>Lisbon</td>\n",
       "      <td>Portugal</td>\n",
       "    </tr>\n",
       "    <tr>\n",
       "      <th>72</th>\n",
       "      <td>38.691944</td>\n",
       "      <td>-9.215560</td>\n",
       "      <td>05/15/2014 14:50</td>\n",
       "      <td>Lisbon</td>\n",
       "      <td>Portugal</td>\n",
       "    </tr>\n",
       "    <tr>\n",
       "      <th>73</th>\n",
       "      <td>38.693309</td>\n",
       "      <td>-9.215355</td>\n",
       "      <td>05/15/2014 15:05</td>\n",
       "      <td>Lisbon</td>\n",
       "      <td>Portugal</td>\n",
       "    </tr>\n",
       "    <tr>\n",
       "      <th>74</th>\n",
       "      <td>38.692088</td>\n",
       "      <td>-9.215276</td>\n",
       "      <td>05/15/2014 15:19</td>\n",
       "      <td>Lisbon</td>\n",
       "      <td>Portugal</td>\n",
       "    </tr>\n",
       "    <tr>\n",
       "      <th>75</th>\n",
       "      <td>38.694591</td>\n",
       "      <td>-9.204477</td>\n",
       "      <td>05/15/2014 15:35</td>\n",
       "      <td>Lisbon</td>\n",
       "      <td>Portugal</td>\n",
       "    </tr>\n",
       "    <tr>\n",
       "      <th>76</th>\n",
       "      <td>38.702512</td>\n",
       "      <td>-9.180504</td>\n",
       "      <td>05/15/2014 15:50</td>\n",
       "      <td>Lisbon</td>\n",
       "      <td>Portugal</td>\n",
       "    </tr>\n",
       "    <tr>\n",
       "      <th>77</th>\n",
       "      <td>38.706345</td>\n",
       "      <td>-9.148578</td>\n",
       "      <td>05/15/2014 16:05</td>\n",
       "      <td>Lisbon</td>\n",
       "      <td>Portugal</td>\n",
       "    </tr>\n",
       "    <tr>\n",
       "      <th>78</th>\n",
       "      <td>38.709973</td>\n",
       "      <td>-9.136570</td>\n",
       "      <td>05/15/2014 16:19</td>\n",
       "      <td>Lisbon</td>\n",
       "      <td>Portugal</td>\n",
       "    </tr>\n",
       "    <tr>\n",
       "      <th>79</th>\n",
       "      <td>38.708419</td>\n",
       "      <td>-9.136322</td>\n",
       "      <td>05/15/2014 16:36</td>\n",
       "      <td>Lisbon</td>\n",
       "      <td>Portugal</td>\n",
       "    </tr>\n",
       "    <tr>\n",
       "      <th>80</th>\n",
       "      <td>38.708487</td>\n",
       "      <td>-9.136022</td>\n",
       "      <td>05/15/2014 16:49</td>\n",
       "      <td>Lisbon</td>\n",
       "      <td>Portugal</td>\n",
       "    </tr>\n",
       "    <tr>\n",
       "      <th>81</th>\n",
       "      <td>38.708468</td>\n",
       "      <td>-9.136230</td>\n",
       "      <td>05/15/2014 18:20</td>\n",
       "      <td>Lisbon</td>\n",
       "      <td>Portugal</td>\n",
       "    </tr>\n",
       "    <tr>\n",
       "      <th>82</th>\n",
       "      <td>38.712145</td>\n",
       "      <td>-9.137510</td>\n",
       "      <td>05/15/2014 18:50</td>\n",
       "      <td>Lisbon</td>\n",
       "      <td>Portugal</td>\n",
       "    </tr>\n",
       "    <tr>\n",
       "      <th>83</th>\n",
       "      <td>38.713462</td>\n",
       "      <td>-9.139126</td>\n",
       "      <td>05/15/2014 19:05</td>\n",
       "      <td>Lisbon</td>\n",
       "      <td>Portugal</td>\n",
       "    </tr>\n",
       "    <tr>\n",
       "      <th>84</th>\n",
       "      <td>38.711902</td>\n",
       "      <td>-9.137323</td>\n",
       "      <td>05/15/2014 19:34</td>\n",
       "      <td>Lisbon</td>\n",
       "      <td>Portugal</td>\n",
       "    </tr>\n",
       "    <tr>\n",
       "      <th>85</th>\n",
       "      <td>38.711875</td>\n",
       "      <td>-9.137332</td>\n",
       "      <td>05/15/2014 19:48</td>\n",
       "      <td>Lisbon</td>\n",
       "      <td>Portugal</td>\n",
       "    </tr>\n",
       "    <tr>\n",
       "      <th>86</th>\n",
       "      <td>38.711871</td>\n",
       "      <td>-9.137337</td>\n",
       "      <td>05/15/2014 20:03</td>\n",
       "      <td>Lisbon</td>\n",
       "      <td>Portugal</td>\n",
       "    </tr>\n",
       "    <tr>\n",
       "      <th>87</th>\n",
       "      <td>38.711882</td>\n",
       "      <td>-9.137298</td>\n",
       "      <td>05/15/2014 20:32</td>\n",
       "      <td>Lisbon</td>\n",
       "      <td>Portugal</td>\n",
       "    </tr>\n",
       "    <tr>\n",
       "      <th>88</th>\n",
       "      <td>38.711856</td>\n",
       "      <td>-9.137314</td>\n",
       "      <td>05/15/2014 20:48</td>\n",
       "      <td>Lisbon</td>\n",
       "      <td>Portugal</td>\n",
       "    </tr>\n",
       "    <tr>\n",
       "      <th>89</th>\n",
       "      <td>38.712631</td>\n",
       "      <td>-9.137656</td>\n",
       "      <td>05/15/2014 21:03</td>\n",
       "      <td>Lisbon</td>\n",
       "      <td>Portugal</td>\n",
       "    </tr>\n",
       "    <tr>\n",
       "      <th>90</th>\n",
       "      <td>38.711851</td>\n",
       "      <td>-9.137330</td>\n",
       "      <td>05/15/2014 21:18</td>\n",
       "      <td>Lisbon</td>\n",
       "      <td>Portugal</td>\n",
       "    </tr>\n",
       "    <tr>\n",
       "      <th>91</th>\n",
       "      <td>38.711426</td>\n",
       "      <td>-9.137560</td>\n",
       "      <td>05/15/2014 21:33</td>\n",
       "      <td>Lisbon</td>\n",
       "      <td>Portugal</td>\n",
       "    </tr>\n",
       "    <tr>\n",
       "      <th>92</th>\n",
       "      <td>38.711417</td>\n",
       "      <td>-9.137544</td>\n",
       "      <td>05/15/2014 21:47</td>\n",
       "      <td>Lisbon</td>\n",
       "      <td>Portugal</td>\n",
       "    </tr>\n",
       "    <tr>\n",
       "      <th>93</th>\n",
       "      <td>38.711956</td>\n",
       "      <td>-9.137407</td>\n",
       "      <td>05/15/2014 22:17</td>\n",
       "      <td>Lisbon</td>\n",
       "      <td>Portugal</td>\n",
       "    </tr>\n",
       "    <tr>\n",
       "      <th>94</th>\n",
       "      <td>38.711875</td>\n",
       "      <td>-9.137304</td>\n",
       "      <td>05/15/2014 22:48</td>\n",
       "      <td>Lisbon</td>\n",
       "      <td>Portugal</td>\n",
       "    </tr>\n",
       "    <tr>\n",
       "      <th>95</th>\n",
       "      <td>38.711881</td>\n",
       "      <td>-9.137371</td>\n",
       "      <td>05/15/2014 23:18</td>\n",
       "      <td>Lisbon</td>\n",
       "      <td>Portugal</td>\n",
       "    </tr>\n",
       "    <tr>\n",
       "      <th>96</th>\n",
       "      <td>38.711881</td>\n",
       "      <td>-9.137313</td>\n",
       "      <td>05/15/2014 23:48</td>\n",
       "      <td>Lisbon</td>\n",
       "      <td>Portugal</td>\n",
       "    </tr>\n",
       "    <tr>\n",
       "      <th>97</th>\n",
       "      <td>38.711868</td>\n",
       "      <td>-9.137282</td>\n",
       "      <td>05/16/2014 00:18</td>\n",
       "      <td>Lisbon</td>\n",
       "      <td>Portugal</td>\n",
       "    </tr>\n",
       "    <tr>\n",
       "      <th>98</th>\n",
       "      <td>38.711855</td>\n",
       "      <td>-9.137310</td>\n",
       "      <td>05/16/2014 00:48</td>\n",
       "      <td>Lisbon</td>\n",
       "      <td>Portugal</td>\n",
       "    </tr>\n",
       "    <tr>\n",
       "      <th>99</th>\n",
       "      <td>38.711846</td>\n",
       "      <td>-9.137297</td>\n",
       "      <td>05/16/2014 01:18</td>\n",
       "      <td>Lisbon</td>\n",
       "      <td>Portugal</td>\n",
       "    </tr>\n",
       "  </tbody>\n",
       "</table>\n",
       "<p>100 rows × 5 columns</p>\n",
       "</div>"
      ],
      "text/plain": [
       "          lat       lon              date          city         country\n",
       "0   51.481292 -0.451011  05/14/2014 09:07  West Drayton  United Kingdom\n",
       "1   51.474005 -0.450999  05/14/2014 09:22      Hounslow  United Kingdom\n",
       "2   51.478199 -0.446081  05/14/2014 10:51      Hounslow  United Kingdom\n",
       "3   51.478199 -0.446081  05/14/2014 11:24      Hounslow  United Kingdom\n",
       "4   51.474146 -0.451562  05/14/2014 11:38      Hounslow  United Kingdom\n",
       "5   51.480146 -0.441103  05/14/2014 12:23      Hounslow  United Kingdom\n",
       "6   51.479669 -0.441024  05/14/2014 12:38      Hounslow  United Kingdom\n",
       "7   38.781775 -9.137544  05/14/2014 15:11        Lisbon        Portugal\n",
       "8   38.774422 -9.129195  05/14/2014 15:25        Lisbon        Portugal\n",
       "9   38.771939 -9.128911  05/14/2014 15:41        Lisbon        Portugal\n",
       "10  38.769433 -9.124403  05/14/2014 15:55        Lisbon        Portugal\n",
       "11  38.742987 -9.147780  05/14/2014 16:11        Lisbon        Portugal\n",
       "12  38.712816 -9.139833  05/14/2014 16:25        Lisbon        Portugal\n",
       "13  38.711050 -9.139739  05/14/2014 16:40        Lisbon        Portugal\n",
       "14  38.711924 -9.137434  05/14/2014 16:55        Lisbon        Portugal\n",
       "15  38.711283 -9.138797  05/14/2014 17:25        Lisbon        Portugal\n",
       "16  38.707192 -9.136824  05/14/2014 17:40        Lisbon        Portugal\n",
       "17  38.709623 -9.130610  05/14/2014 18:10        Lisbon        Portugal\n",
       "18  38.715637 -9.120558  05/14/2014 18:25        Lisbon        Portugal\n",
       "19  38.714363 -9.130658  05/14/2014 18:40        Lisbon        Portugal\n",
       "20  38.714373 -9.134549  05/14/2014 18:55        Lisbon        Portugal\n",
       "21  38.712536 -9.133150  05/14/2014 19:10        Lisbon        Portugal\n",
       "22  38.711977 -9.141788  05/14/2014 19:26        Lisbon        Portugal\n",
       "23  38.713834 -9.134406  05/14/2014 19:40        Lisbon        Portugal\n",
       "24  38.712462 -9.133156  05/14/2014 19:55        Lisbon        Portugal\n",
       "25  38.713181 -9.135343  05/14/2014 20:40        Lisbon        Portugal\n",
       "26  38.712796 -9.136014  05/14/2014 21:10        Lisbon        Portugal\n",
       "27  38.711812 -9.137284  05/14/2014 21:25        Lisbon        Portugal\n",
       "28  38.711797 -9.137318  05/14/2014 21:51        Lisbon        Portugal\n",
       "29  38.711875 -9.137331  05/14/2014 22:05        Lisbon        Portugal\n",
       "..        ...       ...               ...           ...             ...\n",
       "70  38.693780 -9.206363  05/15/2014 14:19        Lisbon        Portugal\n",
       "71  38.693424 -9.211899  05/15/2014 14:36        Lisbon        Portugal\n",
       "72  38.691944 -9.215560  05/15/2014 14:50        Lisbon        Portugal\n",
       "73  38.693309 -9.215355  05/15/2014 15:05        Lisbon        Portugal\n",
       "74  38.692088 -9.215276  05/15/2014 15:19        Lisbon        Portugal\n",
       "75  38.694591 -9.204477  05/15/2014 15:35        Lisbon        Portugal\n",
       "76  38.702512 -9.180504  05/15/2014 15:50        Lisbon        Portugal\n",
       "77  38.706345 -9.148578  05/15/2014 16:05        Lisbon        Portugal\n",
       "78  38.709973 -9.136570  05/15/2014 16:19        Lisbon        Portugal\n",
       "79  38.708419 -9.136322  05/15/2014 16:36        Lisbon        Portugal\n",
       "80  38.708487 -9.136022  05/15/2014 16:49        Lisbon        Portugal\n",
       "81  38.708468 -9.136230  05/15/2014 18:20        Lisbon        Portugal\n",
       "82  38.712145 -9.137510  05/15/2014 18:50        Lisbon        Portugal\n",
       "83  38.713462 -9.139126  05/15/2014 19:05        Lisbon        Portugal\n",
       "84  38.711902 -9.137323  05/15/2014 19:34        Lisbon        Portugal\n",
       "85  38.711875 -9.137332  05/15/2014 19:48        Lisbon        Portugal\n",
       "86  38.711871 -9.137337  05/15/2014 20:03        Lisbon        Portugal\n",
       "87  38.711882 -9.137298  05/15/2014 20:32        Lisbon        Portugal\n",
       "88  38.711856 -9.137314  05/15/2014 20:48        Lisbon        Portugal\n",
       "89  38.712631 -9.137656  05/15/2014 21:03        Lisbon        Portugal\n",
       "90  38.711851 -9.137330  05/15/2014 21:18        Lisbon        Portugal\n",
       "91  38.711426 -9.137560  05/15/2014 21:33        Lisbon        Portugal\n",
       "92  38.711417 -9.137544  05/15/2014 21:47        Lisbon        Portugal\n",
       "93  38.711956 -9.137407  05/15/2014 22:17        Lisbon        Portugal\n",
       "94  38.711875 -9.137304  05/15/2014 22:48        Lisbon        Portugal\n",
       "95  38.711881 -9.137371  05/15/2014 23:18        Lisbon        Portugal\n",
       "96  38.711881 -9.137313  05/15/2014 23:48        Lisbon        Portugal\n",
       "97  38.711868 -9.137282  05/16/2014 00:18        Lisbon        Portugal\n",
       "98  38.711855 -9.137310  05/16/2014 00:48        Lisbon        Portugal\n",
       "99  38.711846 -9.137297  05/16/2014 01:18        Lisbon        Portugal\n",
       "\n",
       "[100 rows x 5 columns]"
      ]
     },
     "execution_count": 34,
     "metadata": {},
     "output_type": "execute_result"
    }
   ],
   "source": [
    "dane_full = pd.read_csv(\"Dane/summer-travel-gps-full.csv\")\n",
    "dane_full.head(100)"
   ]
  },
  {
   "cell_type": "code",
   "execution_count": 10,
   "metadata": {
    "collapsed": false
   },
   "outputs": [
    {
     "data": {
      "text/html": [
       "<div>\n",
       "<table border=\"1\" class=\"dataframe\">\n",
       "  <thead>\n",
       "    <tr style=\"text-align: right;\">\n",
       "      <th></th>\n",
       "      <th>lon</th>\n",
       "      <th>lat</th>\n",
       "    </tr>\n",
       "  </thead>\n",
       "  <tbody>\n",
       "    <tr>\n",
       "      <th>0</th>\n",
       "      <td>-0.451011</td>\n",
       "      <td>51.481292</td>\n",
       "    </tr>\n",
       "    <tr>\n",
       "      <th>1</th>\n",
       "      <td>-0.450999</td>\n",
       "      <td>51.474005</td>\n",
       "    </tr>\n",
       "    <tr>\n",
       "      <th>2</th>\n",
       "      <td>-0.446081</td>\n",
       "      <td>51.478199</td>\n",
       "    </tr>\n",
       "    <tr>\n",
       "      <th>3</th>\n",
       "      <td>-0.446081</td>\n",
       "      <td>51.478199</td>\n",
       "    </tr>\n",
       "    <tr>\n",
       "      <th>4</th>\n",
       "      <td>-0.451562</td>\n",
       "      <td>51.474146</td>\n",
       "    </tr>\n",
       "  </tbody>\n",
       "</table>\n",
       "</div>"
      ],
      "text/plain": [
       "        lon        lat\n",
       "0 -0.451011  51.481292\n",
       "1 -0.450999  51.474005\n",
       "2 -0.446081  51.478199\n",
       "3 -0.446081  51.478199\n",
       "4 -0.451562  51.474146"
      ]
     },
     "execution_count": 10,
     "metadata": {},
     "output_type": "execute_result"
    }
   ],
   "source": [
    "dane = pd.read_csv(\"Dane/summer-travel-gps-full.csv\").iloc[:,:2].iloc[:,::-1]\n",
    "dane.head()"
   ]
  },
  {
   "cell_type": "code",
   "execution_count": 11,
   "metadata": {
    "collapsed": false
   },
   "outputs": [
    {
     "data": {
      "image/png": "[encoded data removed]",
      "text/plain": [
       "<matplotlib.figure.Figure at 0x7f3668d90ef0>"
      ]
     },
     "metadata": {},
     "output_type": "display_data"
    }
   ],
   "source": [
    "plt.scatter(dane.iloc[:,0],dane.iloc[:,1])\n",
    "plt.show()"
   ]
  },
  {
   "cell_type": "code",
   "execution_count": 6,
   "metadata": {
    "collapsed": true
   },
   "outputs": [],
   "source": [
    "from sklearn.cluster import DBSCAN"
   ]
  },
  {
   "cell_type": "code",
   "execution_count": 21,
   "metadata": {
    "collapsed": false
   },
   "outputs": [
    {
     "data": {
      "text/plain": [
       "DBSCAN(algorithm='auto', eps=0.2, leaf_size=30, metric='euclidean',\n",
       "    metric_params=None, min_samples=30, n_jobs=None, p=None)"
      ]
     },
     "execution_count": 21,
     "metadata": {},
     "output_type": "execute_result"
    }
   ],
   "source": [
    "model = DBSCAN(0.2,30)\n",
    "model.fit(dane)"
   ]
  },
  {
   "cell_type": "code",
   "execution_count": 22,
   "metadata": {
    "collapsed": false
   },
   "outputs": [
    {
     "data": {
      "text/plain": [
       "(array([-1,  0,  1,  2,  3,  4,  5,  6,  7,  8,  9, 10, 11]),\n",
       " array([209, 173,  74, 646,  89,  98, 140,  54,  51,  30,  34,  67,  94]))"
      ]
     },
     "execution_count": 22,
     "metadata": {},
     "output_type": "execute_result"
    }
   ],
   "source": [
    "np.unique(model.labels_, return_counts=True)"
   ]
  },
  {
   "cell_type": "code",
   "execution_count": 36,
   "metadata": {
    "collapsed": true
   },
   "outputs": [
    {
     "data": {
      "text/plain": [
       "0        Lisbon\n",
       "1         Porto\n",
       "2     Barcelona\n",
       "3        Krakow\n",
       "4        Prague\n",
       "5      Tübingen\n",
       "6      Freiburg\n",
       "7         Kotor\n",
       "8       Prizren\n",
       "9         Ohrid\n",
       "10       Athens\n",
       "11     Istanbul\n",
       "Name: city, dtype: object"
      ]
     },
     "execution_count": 36,
     "metadata": {},
     "output_type": "execute_result"
    }
   ],
   "source": [
    "dane_full.city.groupby(model.labels_).agg(lambda x:x.value_counts().index[0]).iloc[1:]"
   ]
  },
  {
   "cell_type": "code",
   "execution_count": 37,
   "metadata": {
    "collapsed": true
   },
   "outputs": [
    {
     "data": {
      "text/html": [
       "<div>\n",
       "<table border=\"1\" class=\"dataframe\">\n",
       "  <thead>\n",
       "    <tr style=\"text-align: right;\">\n",
       "      <th></th>\n",
       "      <th>lat</th>\n",
       "      <th>lon</th>\n",
       "    </tr>\n",
       "  </thead>\n",
       "  <tbody>\n",
       "    <tr>\n",
       "      <th>0</th>\n",
       "      <td>38.721166</td>\n",
       "      <td>-9.164221</td>\n",
       "    </tr>\n",
       "    <tr>\n",
       "      <th>1</th>\n",
       "      <td>41.144187</td>\n",
       "      <td>-8.613797</td>\n",
       "    </tr>\n",
       "    <tr>\n",
       "      <th>2</th>\n",
       "      <td>41.381009</td>\n",
       "      <td>2.156992</td>\n",
       "    </tr>\n",
       "    <tr>\n",
       "      <th>3</th>\n",
       "      <td>50.059008</td>\n",
       "      <td>19.931988</td>\n",
       "    </tr>\n",
       "    <tr>\n",
       "      <th>4</th>\n",
       "      <td>50.077551</td>\n",
       "      <td>14.443520</td>\n",
       "    </tr>\n",
       "    <tr>\n",
       "      <th>5</th>\n",
       "      <td>48.528882</td>\n",
       "      <td>9.062216</td>\n",
       "    </tr>\n",
       "    <tr>\n",
       "      <th>6</th>\n",
       "      <td>47.991538</td>\n",
       "      <td>7.864605</td>\n",
       "    </tr>\n",
       "    <tr>\n",
       "      <th>7</th>\n",
       "      <td>42.423492</td>\n",
       "      <td>18.771581</td>\n",
       "    </tr>\n",
       "    <tr>\n",
       "      <th>8</th>\n",
       "      <td>42.208403</td>\n",
       "      <td>20.737659</td>\n",
       "    </tr>\n",
       "    <tr>\n",
       "      <th>9</th>\n",
       "      <td>41.114182</td>\n",
       "      <td>20.798097</td>\n",
       "    </tr>\n",
       "    <tr>\n",
       "      <th>10</th>\n",
       "      <td>37.969904</td>\n",
       "      <td>23.728642</td>\n",
       "    </tr>\n",
       "    <tr>\n",
       "      <th>11</th>\n",
       "      <td>41.028454</td>\n",
       "      <td>28.970427</td>\n",
       "    </tr>\n",
       "  </tbody>\n",
       "</table>\n",
       "</div>"
      ],
      "text/plain": [
       "          lat        lon\n",
       "0   38.721166  -9.164221\n",
       "1   41.144187  -8.613797\n",
       "2   41.381009   2.156992\n",
       "3   50.059008  19.931988\n",
       "4   50.077551  14.443520\n",
       "5   48.528882   9.062216\n",
       "6   47.991538   7.864605\n",
       "7   42.423492  18.771581\n",
       "8   42.208403  20.737659\n",
       "9   41.114182  20.798097\n",
       "10  37.969904  23.728642\n",
       "11  41.028454  28.970427"
      ]
     },
     "execution_count": 37,
     "metadata": {},
     "output_type": "execute_result"
    }
   ],
   "source": [
    "dane_full.iloc[:,:2].groupby(model.labels_).mean().iloc[1:]"
   ]
  },
  {
   "cell_type": "code",
   "execution_count": 38,
   "metadata": {
    "collapsed": true
   },
   "outputs": [],
   "source": [
    "from sklearn.cluster import Birch"
   ]
  },
  {
   "cell_type": "code",
   "execution_count": 39,
   "metadata": {
    "collapsed": true
   },
   "outputs": [],
   "source": [
    "?Birch"
   ]
  },
  {
   "cell_type": "code",
   "execution_count": null,
   "metadata": {
    "collapsed": true
   },
   "outputs": [],
   "source": [
    "Birch(1,3,n_clusters=AgglomerativeClustering(3,...))"
   ]
  }
 ],
 "metadata": {
  "kernelspec": {
   "display_name": "Python 3",
   "language": "python",
   "name": "python3"
  },
  "language_info": {
   "codemirror_mode": {
    "name": "ipython",
    "version": 3
   },
   "file_extension": ".py",
   "mimetype": "text/x-python",
   "name": "python",
   "nbconvert_exporter": "python",
   "pygments_lexer": "ipython3",
   "version": "3.6.0"
  }
 },
 "nbformat": 4,
 "nbformat_minor": 2
}
