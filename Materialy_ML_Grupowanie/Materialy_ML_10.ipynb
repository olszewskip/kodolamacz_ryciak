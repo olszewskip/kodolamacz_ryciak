{
 "cells": [
  {
   "cell_type": "markdown",
   "metadata": {},
   "source": [
    "# Analiza skupień cz 2.:\n",
    "### Alorytmy grupowania dla dużych danych"
   ]
  },
  {
   "cell_type": "markdown",
   "metadata": {},
   "source": [
    "# Birch - algorytm wstępnego grupowania dla dużych danych\n",
    "\n",
    "https://www.cs.sfu.ca/CourseCentral/459/han/papers/zhang96.pdf\n",
    "\n",
    "prezentacja"
   ]
  },
  {
   "cell_type": "markdown",
   "metadata": {},
   "source": [
    "### Zadanie 1. Porównanie algorytmów: k-means, k-medians, minibatch kmeans\n",
    "\n",
    "\n",
    "Oszacuj ile czasu zajmie każdej z metod policzenie dla ..."
   ]
  },
  {
   "cell_type": "code",
   "execution_count": 8,
   "metadata": {
    "collapsed": true
   },
   "outputs": [],
   "source": [
    "from sklearn.cluster import Birch\n",
    "import numpy as np\n",
    "\n",
    "from sklearn.metrics.pairwise import pairwise_distances, distance\n",
    "\n",
    "import matplotlib.pyplot as plt\n",
    "%matplotlib inline"
   ]
  },
  {
   "cell_type": "code",
   "execution_count": null,
   "metadata": {
    "collapsed": true
   },
   "outputs": [],
   "source": [
    "data, labels = make_blobs(1000, centers=10,random_state=0,shuffle=True)\n",
    "plt.figure(figsize=(10,10))\n",
    "plt.scatter(data[:,0],data[:,1],s=1)\n",
    "plt.show()"
   ]
  },
  {
   "cell_type": "code",
   "execution_count": null,
   "metadata": {
    "collapsed": true
   },
   "outputs": [],
   "source": [
    "b = Birch(threshold=1,n_clusters=None)\n",
    "b.fit(data)"
   ]
  },
  {
   "cell_type": "code",
   "execution_count": null,
   "metadata": {
    "collapsed": true
   },
   "outputs": [],
   "source": [
    "b.subcluster_centers_"
   ]
  },
  {
   "cell_type": "code",
   "execution_count": null,
   "metadata": {
    "collapsed": true
   },
   "outputs": [],
   "source": [
    "len(b.subcluster_centers_)"
   ]
  },
  {
   "cell_type": "code",
   "execution_count": null,
   "metadata": {
    "collapsed": true
   },
   "outputs": [],
   "source": [
    "plt.figure(figsize=(10,10))\n",
    "plt.scatter(data[:,0],data[:,1],s=1)\n",
    "plt.scatter(b.subcluster_centers_[:,0],b.subcluster_centers_[:,1],s=10,c=\"red\",marker=\"x\")\n",
    "plt.show()\n",
    "\n",
    "#ZOBACZYC CO SIE STANIE JAK DAMY ZA DUZY PROG, NP 10"
   ]
  },
  {
   "cell_type": "code",
   "execution_count": null,
   "metadata": {
    "collapsed": true
   },
   "outputs": [],
   "source": [
    "from sklearn.cluster import AgglomerativeClustering, KMeans\n",
    "\n",
    "hc = AgglomerativeClustering(n_clusters=10) #OMOWIC, BO WCZESNIEJ SIE TO NIE POJAWILO\n",
    "hc.fit(b.subcluster_centers_)\n",
    "hc.labels_"
   ]
  },
  {
   "cell_type": "code",
   "execution_count": null,
   "metadata": {
    "collapsed": true
   },
   "outputs": [],
   "source": [
    "km = KMeans(n_clusters=10)\n",
    "km.fit(b.subcluster_centers_)\n",
    "km.labels_\n",
    "\n",
    "plt.figure(figsize=(10,10))\n",
    "plt.scatter(data[:,0],data[:,1],s=1,alpha=0.2)\n",
    "plt.scatter(b.subcluster_centers_[:,0],b.subcluster_centers_[:,1],s=10,c=\"red\",marker=\"x\")\n",
    "plt.scatter(km.cluster_centers_[:,0],km.cluster_centers_[:,1],marker=\"D\",c=\"black\")\n",
    "plt.show()"
   ]
  },
  {
   "cell_type": "code",
   "execution_count": null,
   "metadata": {
    "collapsed": true
   },
   "outputs": [],
   "source": [
    "b = Birch(threshold=1,n_clusters=10)\n",
    "b.fit(data)\n",
    "\n",
    "plt.figure(figsize=(10,10))\n",
    "plt.scatter(data[:,0],data[:,1],s=1)\n",
    "plt.scatter(b.subcluster_centers_[:,0],b.subcluster_centers_[:,1],s=10,c=\"red\",marker=\"x\")\n",
    "plt.show()\n",
    "\n",
    "#ZOBACZYC CO SIE STANIE JAK DAMY ZA DUZY PROG, NP 10"
   ]
  },
  {
   "cell_type": "code",
   "execution_count": null,
   "metadata": {
    "collapsed": true
   },
   "outputs": [],
   "source": [
    "b = Birch(threshold=1,n_clusters=KMeans(10))\n",
    "b.fit(data)\n",
    "b.labels_"
   ]
  },
  {
   "cell_type": "markdown",
   "metadata": {},
   "source": [
    "### Zadanie. Pogrupować poniższe dane i zwizualizować wynik - zarówno wyniki grupowania wstępnego, jak i grupowania końcowego (środki klastrów)\n",
    "\n",
    "SUGESTIA: OSZACOWAC ODLEGLOSCI ZEBY USTALIC SENSOWNIE PROG\n",
    "https://www.researchgate.net/publication/308941857_A-BIRCH_Automatic_Threshold_Estimation_for_the_BIRCH_Clustering_Algorithm"
   ]
  },
  {
   "cell_type": "code",
   "execution_count": null,
   "metadata": {
    "collapsed": true
   },
   "outputs": [],
   "source": [
    "import itertools\n",
    "from sklearn.datasets import make_blobs\n",
    "\n",
    "N_CLUSTERS = 500\n",
    "\n",
    "\n",
    "# samodzielnie powtorzyc analize dal 10 klastrow i miliona obserwacji\n",
    "\n",
    "\n",
    "data, labels = make_blobs(1000000, centers=N_CLUSTERS,cluster_std=4,center_box=[0,1000],random_state=0,shuffle=True)\n",
    "plt.figure(figsize=(10,10))\n",
    "plt.scatter(data[:,0],data[:,1],s=1)\n",
    "plt.show()\n",
    "\n"
   ]
  },
  {
   "cell_type": "code",
   "execution_count": null,
   "metadata": {
    "collapsed": true
   },
   "outputs": [],
   "source": [
    "from sklearn.metrics import pairwise_distances"
   ]
  },
  {
   "cell_type": "code",
   "execution_count": null,
   "metadata": {
    "collapsed": true,
    "scrolled": true
   },
   "outputs": [],
   "source": [
    "#Podejrzyjmy osowe odleglosci: \n",
    "# 10 najmniejszych odleglosci od losowych 1000 punktow\n",
    "np.sort(np.round(pairwise_distances(data[np.random.choice(range(len(data)),1000)]),1))[:10,:10]"
   ]
  },
  {
   "cell_type": "code",
   "execution_count": null,
   "metadata": {
    "collapsed": true
   },
   "outputs": [],
   "source": [
    "b = Birch(threshold=10,n_clusters=None)\n",
    "b.fit(data)"
   ]
  },
  {
   "cell_type": "code",
   "execution_count": null,
   "metadata": {
    "collapsed": true
   },
   "outputs": [],
   "source": [
    "b.subcluster_centers_"
   ]
  },
  {
   "cell_type": "code",
   "execution_count": null,
   "metadata": {
    "collapsed": true
   },
   "outputs": [],
   "source": [
    "len(b.subcluster_centers_)"
   ]
  },
  {
   "cell_type": "code",
   "execution_count": null,
   "metadata": {
    "collapsed": true
   },
   "outputs": [],
   "source": [
    "plt.figure(figsize=(10,10))\n",
    "plt.scatter(data[:,0],data[:,1],s=1)\n",
    "plt.scatter(b.subcluster_centers_[:,0],b.subcluster_centers_[:,1],s=10,c=\"red\",marker=\"x\")\n",
    "plt.show()\n",
    "\n",
    "#ZOBACZYC CO SIE STANIE JAK DAMY ZA DUZY PROG, NP 10"
   ]
  },
  {
   "cell_type": "code",
   "execution_count": null,
   "metadata": {
    "collapsed": true
   },
   "outputs": [],
   "source": [
    "b = Birch(threshold=10,n_clusters=500)\n",
    "b.fit(data)"
   ]
  },
  {
   "cell_type": "code",
   "execution_count": null,
   "metadata": {
    "collapsed": true
   },
   "outputs": [],
   "source": [
    "centers = np.zeros((N_CLUSTERS,2))\n",
    "for i in range(N_CLUSTERS):\n",
    "    centers[i,:] = np.mean(data[b.labels_==i,:],axis=0)"
   ]
  },
  {
   "cell_type": "code",
   "execution_count": null,
   "metadata": {
    "collapsed": true
   },
   "outputs": [],
   "source": [
    "plt.figure(figsize=(10,10))\n",
    "plt.scatter(data[:,0],data[:,1],s=1)\n",
    "plt.scatter(centers[:,0],centers[:,1],s=10,c=\"red\",marker=\"x\")\n",
    "plt.show()"
   ]
  },
  {
   "cell_type": "code",
   "execution_count": null,
   "metadata": {
    "collapsed": true
   },
   "outputs": [],
   "source": [
    "# PODANIE WLASNEGO MODELU DO GRUPOWANIA W DRUGIEJ FAZIE\n",
    "\n",
    "from sklearn.cluster import KMeans\n",
    "b = Birch(threshold=10,n_clusters=KMeans(N_CLUSTERS))\n",
    "b.fit(data)"
   ]
  },
  {
   "cell_type": "code",
   "execution_count": null,
   "metadata": {
    "collapsed": true
   },
   "outputs": [],
   "source": [
    "centers = np.zeros((N_CLUSTERS,2))\n",
    "for i in range(N_CLUSTERS):\n",
    "    centers[i,:] = np.mean(data[b.labels_==i,:],axis=0)\n",
    "plt.figure(figsize=(10,10))\n",
    "plt.scatter(data[:,0],data[:,1],s=1)\n",
    "plt.scatter(centers[:,0],centers[:,1],s=10,c=\"red\",marker=\"x\")\n",
    "plt.show()"
   ]
  },
  {
   "cell_type": "markdown",
   "metadata": {},
   "source": [
    "## Algorytm MiniBatch KMeans\n",
    "\n",
    "Parametry:\n",
    "\n",
    "k - liczba klastrów\n",
    "\n",
    "b - rozmiar batcha\n",
    "\n",
    "X - zbiór danych\n",
    "\n",
    "\n",
    "Inicjujemy środki klastrów c ∈ C jako losowe elementy z X\n",
    "\n",
    "v ← 0  // wektor liczności klastrów\n",
    "\n",
    "for i = 1 to t do:   // t iteracji - \n",
    "\n",
    "      M ← batch - losowy podzbiór danych wielkości b\n",
    "\n",
    "      for x ∈ M do:                   // dla każdego elementu x z batcha\n",
    "            d[x] ← f (C, x)           // przyporządkuj do x najbliższy klaster\n",
    "      end for\n",
    "      \n",
    "      for x ∈ M do:\n",
    "            c ← d[x]                  // weź środek klastra odpowiadający x\n",
    "            v[c] ← v[c] + 1           // zaktualizuj liczbę elementów w klastrze c\n",
    "            η ← 1 / v[c]              // oblicz tzw. learning rate\n",
    "            c ← (1 − η)c + ηx         // zaktualizuj środek (c to wektor)\n",
    "      end for\n",
    "end for\n",
    "\n",
    "http://scikit-learn.org/stable/modules/generated/sklearn.cluster.MiniBatchKMeans.html"
   ]
  },
  {
   "cell_type": "markdown",
   "metadata": {},
   "source": [
    "# Miara V-score\n",
    "\n",
    "https://clusteval.sdu.dk/1/clustering_quality_measures/15"
   ]
  },
  {
   "cell_type": "code",
   "execution_count": 2,
   "metadata": {
    "collapsed": false
   },
   "outputs": [
    {
     "name": "stdout",
     "output_type": "stream",
     "text": [
      "col_0  2  3  5\n",
      "row_0         \n",
      "0      3  0  0\n",
      "1      0  2  0\n",
      "2      0  0  1\n"
     ]
    },
    {
     "data": {
      "text/plain": [
       "1.0"
      ]
     },
     "execution_count": 2,
     "metadata": {},
     "output_type": "execute_result"
    }
   ],
   "source": [
    "from sklearn.metrics import v_measure_score\n",
    "import pandas as pd\n",
    "import numpy as np\n",
    "\n",
    "x = np.array([1,1,0,0,0,2])\n",
    "y = np.array([3,3,2,2,2,5])\n",
    "\n",
    "print(pd.crosstab(x,y))\n",
    "v_measure_score(x,y)"
   ]
  },
  {
   "cell_type": "code",
   "execution_count": 3,
   "metadata": {
    "collapsed": false
   },
   "outputs": [
    {
     "name": "stdout",
     "output_type": "stream",
     "text": [
      "col_0  2  3  5\n",
      "row_0         \n",
      "0      2  0  0\n",
      "1      1  2  0\n",
      "2      0  0  1\n"
     ]
    },
    {
     "data": {
      "text/plain": [
       "0.68533147896158664"
      ]
     },
     "execution_count": 3,
     "metadata": {},
     "output_type": "execute_result"
    }
   ],
   "source": [
    "x = np.array([1,1,1,0,0,2])\n",
    "y = np.array([3,3,2,2,2,5])\n",
    "\n",
    "print(pd.crosstab(x,y))\n",
    "v_measure_score(x,y)"
   ]
  },
  {
   "cell_type": "code",
   "execution_count": 4,
   "metadata": {
    "collapsed": false
   },
   "outputs": [
    {
     "name": "stdout",
     "output_type": "stream",
     "text": [
      "col_0  2  3  5\n",
      "row_0         \n",
      "0      1  1  1\n",
      "1      1  1  0\n",
      "2      1  0  0\n"
     ]
    },
    {
     "data": {
      "text/plain": [
       "0.22844382632052868"
      ]
     },
     "execution_count": 4,
     "metadata": {},
     "output_type": "execute_result"
    }
   ],
   "source": [
    "x = np.array([1,0,1,0,2,0])\n",
    "y = np.array([3,3,2,2,2,5])\n",
    "\n",
    "print(pd.crosstab(x,y))\n",
    "v_measure_score(x,y)"
   ]
  },
  {
   "cell_type": "markdown",
   "metadata": {},
   "source": [
    "### Zadanie. Analiza porównawcza alorytmów: KMeans, MiniBatchKMeans, Birch\n",
    "\n",
    "1) porównanie jakości wyników - v_score\n",
    "\n",
    "2) porówanie czasów\n",
    "\n",
    "Algorytm Birch przetestuj używając w drugiej fazie: 1) grupowania hierarchicznego 2) k-średnich\n",
    "\n",
    "Na tych danych co poprzednio.\n",
    "\n",
    "3) przeprowadzić analizę dla 500 oraz 10 klastrów.\n",
    "\n",
    "\n",
    "\n",
    "### Uwaga! W KMeans trzeba pamiętać o zaznaczeniu n_init = 1 !"
   ]
  },
  {
   "cell_type": "code",
   "execution_count": 5,
   "metadata": {
    "collapsed": true
   },
   "outputs": [],
   "source": [
    "from sklearn.cluster import MiniBatchKMeans"
   ]
  },
  {
   "cell_type": "code",
   "execution_count": 6,
   "metadata": {
    "collapsed": true
   },
   "outputs": [],
   "source": [
    "?MiniBatchKMeans"
   ]
  },
  {
   "cell_type": "code",
   "execution_count": null,
   "metadata": {
    "collapsed": true
   },
   "outputs": [],
   "source": [
    "N_CLUSTERS = 500\n",
    "\n",
    "\n",
    "# samodzielnie powtorzyc analize dal 10 klastrow i miliona obserwacji\n",
    "\n",
    "\n",
    "data, labels = make_blobs(100000, centers=N_CLUSTERS,cluster_std=4,center_box=[0,1000],random_state=0,shuffle=True)\n",
    "plt.figure(figsize=(10,10))\n",
    "plt.scatter(data[:,0],data[:,1],s=1)\n",
    "plt.show()"
   ]
  },
  {
   "cell_type": "markdown",
   "metadata": {},
   "source": [
    "# 2 algorytm K-centroidów\n",
    "\n",
    "### Przykład motywacyjny:"
   ]
  },
  {
   "cell_type": "code",
   "execution_count": 17,
   "metadata": {
    "collapsed": false
   },
   "outputs": [
    {
     "data": {
      "image/png": "[encoded data removed]",
      "text/plain": [
       "<matplotlib.figure.Figure at 0x7fc5b249f898>"
      ]
     },
     "metadata": {},
     "output_type": "display_data"
    }
   ],
   "source": [
    "np.random.seed(1234)\n",
    "data = np.concatenate([np.random.multivariate_normal([20,0],np.array([[10,0],[0,10]]),1000),\n",
    "                       np.random.multivariate_normal([35,0],np.array([[10,0],[0,10]]),500)])\n",
    "\n",
    "\n",
    "data = np.concatenate([data,\n",
    "                       np.random.multivariate_normal([8,0],[[80,0],[0,5]],50),\n",
    "                       np.random.multivariate_normal([-40,0],np.array([[40,0],[0,0]]),30)])\n",
    "\n",
    "plt.scatter(data[:,0],data[:,1], s=5)\n",
    "plt.axis('equal')\n",
    "plt.show()"
   ]
  },
  {
   "cell_type": "code",
   "execution_count": 18,
   "metadata": {
    "collapsed": false
   },
   "outputs": [
    {
     "data": {
      "image/png": "[encoded data removed]",
      "text/plain": [
       "<matplotlib.figure.Figure at 0x7fc5b2f6c400>"
      ]
     },
     "metadata": {},
     "output_type": "display_data"
    }
   ],
   "source": [
    "from sklearn.preprocessing import StandardScaler\n",
    "\n",
    "km = KMeans(2)\n",
    "km.fit(data)\n",
    "\n",
    "col = np.array([\"red\",\"green\",\"blue\"])\n",
    "plt.scatter(data[:,0],data[:,1],c = km.labels_, s=5)\n",
    "plt.scatter(km.cluster_centers_[:,0],km.cluster_centers_[:,1],s=200,marker=\"D\")\n",
    "plt.axis('equal')\n",
    "plt.show()"
   ]
  },
  {
   "cell_type": "code",
   "execution_count": 19,
   "metadata": {
    "collapsed": false
   },
   "outputs": [
    {
     "data": {
      "image/png": "[encoded data removed]",
      "text/plain": [
       "<matplotlib.figure.Figure at 0x7fc5b249f550>"
      ]
     },
     "metadata": {},
     "output_type": "display_data"
    }
   ],
   "source": [
    "from sklearn.preprocessing import StandardScaler\n",
    "\n",
    "sc = StandardScaler()\n",
    "data_sc = sc.fit_transform(data)\n",
    "\n",
    "km = KMeans(2)\n",
    "km.fit(data_sc)\n",
    "\n",
    "plt.scatter(data_sc[:,0],data_sc[:,1],c = km.labels_, s=5)\n",
    "plt.scatter(km.cluster_centers_[:,0],km.cluster_centers_[:,1],s=200,marker=\"D\")\n",
    "plt.axis('equal')\n",
    "plt.show()"
   ]
  },
  {
   "cell_type": "markdown",
   "metadata": {},
   "source": [
    "## Zadanie. Implementacja algorytmów k-medoidów\n",
    "\n",
    "1. Algorytm w zupełności analogiczny do K-średnich. Różnica:\n",
    "    - Środek klastra to punkt ze zbioru, który minimalizuje sumę odległości do pozostałych punktów z klastra\n",
    "    - Miara jakości (zamiast inercji) - suma sum odległości punktów w klastrach do ich środków \n",
    "    \n",
    "   Specyfikacja. \n",
    "   \n",
    "   Wywołanie:\n",
    "   \n",
    "    kmed = KMedoids(n_clusters=k)\n",
    "    \n",
    "    kmed.fit(data1)\n",
    "    \n",
    "    kmed.predict(data2)\n",
    "    \n",
    "   ma dawać rezultat zgodny z konwencją sklearna.\n",
    "   \n",
    "   Definiujemy w obiekcie tylko niezbędne. \"fit\" oraz \"predict\" maja być jedynymi publicznymi metodami.\n",
    "   \n",
    "2. Przeprowadzić testy implementacji\n",
    "\n",
    "3. Zaproponowac modyfikację jeszcze bardziej uodparniającą algorytm na obserwacje odstające \n",
    "\n",
    "4. Uogólnić klasę na k-centroidow - stworzyć nową analogiczną klasę, w której definicję środka oraz odległości przekazujemy jako argument podczas inicjowania obiektu.\n",
    "\n",
    "5. Dodać algorytm K_Medoidów do analizy porównawczej algorytmów"
   ]
  },
  {
   "cell_type": "code",
   "execution_count": 32,
   "metadata": {
    "collapsed": true
   },
   "outputs": [],
   "source": [
    "from sklearn.metrics import pairwise_distances\n",
    "import numpy as np\n",
    "\n",
    "\n",
    "\n",
    "class KMedoids(object):\n",
    "    \n",
    "    def __init__(self, n_clusters):\n",
    "        \n",
    "        self.n_clusters = n_clusters\n",
    "        self.cluster_centers = None\n",
    "        self.labels = None\n",
    "        self.tol = 1e-4\n",
    "        self.sum_of_distances = 0        \n",
    "        \n",
    "    def _calculate_centers(self, X):\n",
    "        \n",
    "        centers = []\n",
    "        for cluster in range(self.n_clusters):\n",
    "            x_c = X[self.labels==cluster]\n",
    "            d = pairwise_distances(x_c)\n",
    "            medoid_c = x_c[np.argmin(d.sum(axis=1))]\n",
    "            centers.append(medoid_c)\n",
    "            \n",
    "        self.cluster_centers = np.array(centers)\n",
    " \n",
    "        \n",
    "    def _assign_labels(self, X):\n",
    "        \n",
    "        self.labels = np.argmin(pairwise_distances(X,self.cluster_centers),axis=1)\n",
    "        \n",
    "        \n",
    "        \n",
    "    def _calculate_sum_of_distances(self,X):\n",
    "        \n",
    "        sum_of_distances = 0\n",
    "        for cluster in range(self.n_clusters):\n",
    "            sum_of_distances += np.sum(pairwise_distances(X[self.labels==cluster],self.cluster_centers[cluster].reshape((1,-1))))\n",
    "        self.sum_of_distances = sum_of_distances\n",
    "\n",
    "            \n",
    "            \n",
    "    def fit(self, X):\n",
    "        \n",
    "        if self.cluster_centers is None or self.labels is None:\n",
    "            \n",
    "            self.cluster_centers = X[np.random.choice(range(len(X)),self.n_clusters,False)]\n",
    "            self._assign_labels(X)\n",
    "            self._calculate_sum_of_distances(X)\n",
    "            \n",
    "       \n",
    "        crit = 2*self.sum_of_distances\n",
    "        while (crit - self.sum_of_distances)/crit > self.tol:\n",
    "            crit = self.sum_of_distances\n",
    "            self._calculate_centers(X)\n",
    "            self._assign_labels(X)\n",
    "            self._calculate_sum_of_distances(X)\n",
    "            print(crit)\n",
    "            \n",
    "                 \n",
    "        \n",
    "    def predict(self, X):\n",
    "        \n",
    "        return(np.argmin(pairwise_distances(X,self.centers),axis=1))\n",
    "        "
   ]
  },
  {
   "cell_type": "code",
   "execution_count": 33,
   "metadata": {
    "collapsed": true
   },
   "outputs": [],
   "source": [
    "kmed = KMedoids(2)"
   ]
  },
  {
   "cell_type": "code",
   "execution_count": 34,
   "metadata": {
    "collapsed": false
   },
   "outputs": [
    {
     "name": "stdout",
     "output_type": "stream",
     "text": [
      "11394.664974\n",
      "8298.77811784\n",
      "8296.8118383\n"
     ]
    }
   ],
   "source": [
    "kmed.fit(data)"
   ]
  },
  {
   "cell_type": "code",
   "execution_count": 35,
   "metadata": {
    "collapsed": false
   },
   "outputs": [
    {
     "data": {
      "text/plain": [
       "array([[ 34.82541096,   0.48508842],\n",
       "       [ 19.56741675,   0.0578355 ]])"
      ]
     },
     "execution_count": 35,
     "metadata": {},
     "output_type": "execute_result"
    }
   ],
   "source": [
    "kmed.cluster_centers"
   ]
  },
  {
   "cell_type": "code",
   "execution_count": 36,
   "metadata": {
    "collapsed": false
   },
   "outputs": [
    {
     "data": {
      "text/plain": [
       "KMeans(algorithm='auto', copy_x=True, init='k-means++', max_iter=300,\n",
       "    n_clusters=2, n_init=10, n_jobs=1, precompute_distances='auto',\n",
       "    random_state=None, tol=0.0001, verbose=0)"
      ]
     },
     "execution_count": 36,
     "metadata": {},
     "output_type": "execute_result"
    }
   ],
   "source": [
    "from sklearn.cluster import KMeans\n",
    "km = KMeans(2)\n",
    "km.fit(data)"
   ]
  },
  {
   "cell_type": "code",
   "execution_count": 37,
   "metadata": {
    "collapsed": false
   },
   "outputs": [
    {
     "data": {
      "image/png": "[encoded data removed]",
      "text/plain": [
       "<matplotlib.figure.Figure at 0x7fc5b23981d0>"
      ]
     },
     "metadata": {},
     "output_type": "display_data"
    }
   ],
   "source": [
    "plt.figure(figsize=(10,10))\n",
    "plt.scatter(data[:,0],data[:,1],s=5)\n",
    "plt.scatter(km.cluster_centers_[:,0],km.cluster_centers_[:,1],c=\"black\",s=50,marker=\"D\")\n",
    "plt.scatter(kmed.cluster_centers[:,0],kmed.cluster_centers[:,1],c=\"black\",s=200,marker=\"^\")\n",
    "plt.axis('equal')\n",
    "plt.show()"
   ]
  },
  {
   "cell_type": "markdown",
   "metadata": {},
   "source": [
    "# Case study - grupowanie tekstów - abstraktów artykułów\n",
    "\n",
    "https://archive.ics.uci.edu/ml/datasets/NSF+Research+Award+Abstracts+1990-2003 z folderu Data Folder ściągamy plik Part1. Jest to plik zawierający podstawowe informacje i abstrakty pewnego zbioru artykułów naukowych. Zadanie: pogrupować artykuły na podstawie abstraktów."
   ]
  },
  {
   "cell_type": "markdown",
   "metadata": {},
   "source": [
    "Uwaga: w porównywaniu dokumentów często dobrze sprawdza się metryka cosinusowa\n",
    "\n",
    "$cosine\\_dist(u,v) = 1- \\frac{u \\cdot v}{||u|| * ||v||}$"
   ]
  },
  {
   "cell_type": "code",
   "execution_count": null,
   "metadata": {
    "collapsed": true
   },
   "outputs": [],
   "source": []
  }
 ],
 "metadata": {
  "kernelspec": {
   "display_name": "Python 3",
   "language": "python",
   "name": "python3"
  },
  "language_info": {
   "codemirror_mode": {
    "name": "ipython",
    "version": 3
   },
   "file_extension": ".py",
   "mimetype": "text/x-python",
   "name": "python",
   "nbconvert_exporter": "python",
   "pygments_lexer": "ipython3",
   "version": "3.6.0"
  }
 },
 "nbformat": 4,
 "nbformat_minor": 1
}
