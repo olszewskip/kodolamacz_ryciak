{
 "cells": [
  {
   "cell_type": "markdown",
   "metadata": {},
   "source": [
    "# Konwolucyjne siecie neuronowe\n",
    "\n",
    "## Convolution neural networks, CNN\n",
    "\n",
    "<br>"
   ]
  },
  {
   "cell_type": "markdown",
   "metadata": {},
   "source": [
    "# Filtry jako ekstraktory informacji\n",
    "\n",
    "<img src=\"Grafika/Filter.png\" width=\"550\">\n",
    "\n",
    "<img src=\"Grafika/OriginalAndFilter.png\" width=\"550\">\n",
    "\n",
    "<img src=\"Grafika/FirstPixelMulitiplication.png\" width=\"550\">\n",
    "\n",
    "<img src=\"Grafika/SecondMultiplication.png\" width=\"550\">\n",
    "\n",
    "Źródło: https://adeshpande3.github.io/adeshpande3.github.io/A-Beginner's-Guide-To-Understanding-Convolutional-Neural-Networks/"
   ]
  },
  {
   "cell_type": "markdown",
   "metadata": {},
   "source": [
    "### Filtrowanie - konwolucja (splot):\n",
    "\n",
    "<img src=\"Grafika/matrixConvolution.jpg\" width=\"450\">\n",
    "\n",
    "Źródło: https://i.stack.imgur.com/SKgim.jpga"
   ]
  },
  {
   "cell_type": "markdown",
   "metadata": {},
   "source": [
    "### Warstwa konwolucyjna\n",
    "\n",
    "Warstawa konwolucyjna analizuje obraz \"kawałek po kawałku\" i zwraca informację o poszczególnych obszarach przy użyciu filtrów.\n",
    "\n",
    "Warstwa konwolucyjna składa się z K filtrów i zwraca K \"tablic\" powstałych przez przetworzenie wejścia kolejnymi filtrami.\n",
    "\n",
    "Operacja splotu (konwolucja):\n",
    "\n",
    "<img src=\"Grafika/Convolution_schematic.gif\" width=\"450\">\n",
    "\n",
    "Źródło: http://deeplearning.stanford.edu/wiki/images/6/6c/Convolution_schematic.gif"
   ]
  },
  {
   "cell_type": "markdown",
   "metadata": {},
   "source": [
    "### W przypadku macierzy trójwymiarowych, filtorwanie wygląda tak:\n",
    "\n",
    "<img src=\"https://i.stack.imgur.com/FjvuN.gif\" width=\"550\">"
   ]
  },
  {
   "cell_type": "markdown",
   "metadata": {},
   "source": [
    "### Sieć konwolucyjna uczy się ekstrachować istotne \"informacje\" - parametrami sieci są wagi w filtrach.\n",
    "\n",
    "Czyli sieć sama uczy się tego, co jest istotne w danych dla naszego celu."
   ]
  },
  {
   "cell_type": "markdown",
   "metadata": {},
   "source": [
    "W sieciach konwolucyjnych na wyjście splotu nakłada się funkcję aktywacji. Z reguły jest to ReLU:\n",
    "\n",
    "<img src=\"Grafika/relu.png\" width=\"350\">\n",
    "\n",
    "Źródło: https://ml4a.github.io/images/figures/relu.png\n",
    "\n",
    "Takie przekształcenie można interpretować w następujący sposób: jeżeli w danym obszarze jest coś co dany filtr \"rozpoznaje\" (wartość splotu większa od 0), to zwracamy po prostu wynik splotu. Natomiast jeśli dane nie pasują do danego filtra (wartość ujemna), to niezaleznie od tego co w tych danych jest, zwracamy 0, które mówi, że nie ma tego czego szukamy."
   ]
  },
  {
   "cell_type": "markdown",
   "metadata": {},
   "source": [
    "## Pooling (subsampling)\n",
    "\n",
    "Pooling to agregacja informacji - zamiast przechowywać całą tablicę, którą zwrócił filtr, wyciągamy sobie po jednej \"informacji\" z podobszarów. W ten sposób otrzymujemy tablicę o zredukowanym wymiarze.\n",
    "\n",
    "MaxPooling:\n",
    "\n",
    "<img src=\"Grafika/MaxPool.png\" width=\"550\">\n",
    "\n",
    "Źródło: https://adeshpande3.github.io/assets/MaxPool.png\n",
    "\n",
    "Jaką informację wyekstrahuje \"max pooling\"?\n",
    "\n",
    "A jaką \"average pooling\"?\n",
    "\n",
    "W praktyce z reguły po każdej warstwie konwolucyjnej daje się max pooling."
   ]
  },
  {
   "cell_type": "markdown",
   "metadata": {},
   "source": [
    "### Wielowarstwowa sieć konwolucyjna\n",
    "\n",
    "Wielowarstwowe sieci konwolucyjne wykorzystują wielokrotne składanie operacji filtrowania i uczą się wykrywać bardzo złożone zależności.\n",
    "\n",
    "Wówczas każda kolejna warstwa w jakiś sposób agreguje informacje z poprzedniej warstwy do ogólniejszego poziomu. Przykladowa interpretacja w kontekście klasyfikacji czy na danym zdjęciu jest człowiek:\n",
    "- pierwsza warstwa: rozpoznawianie kształtów/konturów\n",
    "- druga warstwa: detekcja części ciała\n",
    "- trzecia: detekcja człowiek\n",
    "\n",
    "\n",
    "<img src=\"Grafika/LeNet.png\" width=\"700\">\n",
    "Źródło: https://adeshpande3.github.io/assets/LeNet.png\"\n",
    "\n",
    "### Wyjście sieci\n",
    "\n",
    "Ostatnia warsta konwolucyjna (lub pooling) jest rozwijana do wektora. Ten wektor jest przepuszczany przez warstwy dense, które prowadzą do predykcji. Oczywiście można dokonywać predykcji bezpośrednio z rozwiniętego wektora."
   ]
  },
  {
   "cell_type": "markdown",
   "metadata": {},
   "source": [
    "### Uwaga. Filtr dla obrazka 2D jest tablicą 2D. Natomiast kolejne warstwy są 3D - dochodzi wymiar liczby filtrów. Dlatego dalsze filtry są kostami 3D, które mają głębokość równą liczbie filtrów w poprzedniej warstwie.\n",
    "\n",
    "<img src=\"Grafika/conv3D.jpg\" width=\"700\">\n",
    "\n",
    "Źródło: https://www.mathworks.com/content/mathworks/www/en/discovery/convolutional-neural-network/_jcr_content/mainParsys/image_copy.img.jpg/1497876372993.jpg\n",
    "\n",
    "Naturalnie, jeżeli na wejściu mamy obiekt więcej niż dwu-wymiarowy to już pierwsza warstwa używa filtrów, które są kostkami."
   ]
  },
  {
   "cell_type": "markdown",
   "metadata": {},
   "source": [
    "## Strides - wielkość kroku przesunięcia\n",
    "\n",
    "Określa dokładność z jaką chcemy skanować dane.\n",
    "\n",
    "Strides = (1,1)\n",
    "\n",
    "<img src=\"Grafika/Stride1.png\" width=\"600\">\n",
    "\n",
    "Strides = (2,2)\n",
    "\n",
    "<img src=\"Grafika/Stride2.png\" width=\"600\">\n",
    "\n",
    "Źródło: https://adeshpande3.github.io/adeshpande3.github.io/A-Beginner's-Guide-To-Understanding-Convolutional-Neural-Networks-Part-2/\n"
   ]
  },
  {
   "cell_type": "markdown",
   "metadata": {},
   "source": [
    "### Jeszcze jednym istotnym parametrem jest rozmiar filtra."
   ]
  },
  {
   "cell_type": "markdown",
   "metadata": {},
   "source": [
    "# Przechodzimy do praktyki!"
   ]
  },
  {
   "cell_type": "markdown",
   "metadata": {},
   "source": [
    "# Obrazki 2D (szare)\n",
    "\n",
    "http://scikit-learn.org/0.15/auto_examples/applications/face_recognition.html"
   ]
  },
  {
   "cell_type": "code",
   "execution_count": 10,
   "metadata": {
    "collapsed": false
   },
   "outputs": [],
   "source": [
    "import numpy as np\n",
    "import pandas as pd\n",
    "import os\n",
    "from keras.utils import np_utils"
   ]
  },
  {
   "cell_type": "code",
   "execution_count": 97,
   "metadata": {
    "collapsed": false
   },
   "outputs": [],
   "source": [
    "from sklearn.datasets import fetch_lfw_people\n",
    "\n",
    "lfw_people = fetch_lfw_people(min_faces_per_person=70, resize=0.4)\n",
    "\n",
    "n_samples, h, w = lfw_people.images.shape\n",
    "\n",
    "X = lfw_people.data\n",
    "n_features = X.shape[1]\n",
    "\n",
    "y = lfw_people.target\n",
    "\n",
    "target_names = lfw_people.target_names"
   ]
  },
  {
   "cell_type": "code",
   "execution_count": 98,
   "metadata": {
    "collapsed": false
   },
   "outputs": [
    {
     "data": {
      "text/plain": [
       "array([ 254.        ,  254.        ,  251.66667175, ...,   87.33333588,\n",
       "         88.66666412,   86.66666412], dtype=float32)"
      ]
     },
     "execution_count": 98,
     "metadata": {},
     "output_type": "execute_result"
    }
   ],
   "source": [
    "X[0] # wektor - pozniej zamienimy na macierz, bo to jest obraz"
   ]
  },
  {
   "cell_type": "code",
   "execution_count": 99,
   "metadata": {
    "collapsed": false
   },
   "outputs": [
    {
     "data": {
      "text/plain": [
       "(1288, 1850)"
      ]
     },
     "execution_count": 99,
     "metadata": {},
     "output_type": "execute_result"
    }
   ],
   "source": [
    "X.shape"
   ]
  },
  {
   "cell_type": "code",
   "execution_count": 100,
   "metadata": {
    "collapsed": false
   },
   "outputs": [
    {
     "data": {
      "text/plain": [
       "(array([0, 1, 2, 3, 4, 5, 6]), array([ 77, 236, 121, 530, 109,  71, 144]))"
      ]
     },
     "execution_count": 100,
     "metadata": {},
     "output_type": "execute_result"
    }
   ],
   "source": [
    "np.unique(y,return_counts=True)"
   ]
  },
  {
   "cell_type": "code",
   "execution_count": 101,
   "metadata": {
    "collapsed": false
   },
   "outputs": [
    {
     "data": {
      "text/plain": [
       "array([[ 0.,  0.,  0., ...,  0.,  1.,  0.],\n",
       "       [ 0.,  0.,  0., ...,  0.,  0.,  1.],\n",
       "       [ 0.,  0.,  0., ...,  0.,  0.,  0.],\n",
       "       ..., \n",
       "       [ 0.,  0.,  0., ...,  0.,  1.,  0.],\n",
       "       [ 0.,  0.,  0., ...,  0.,  0.,  0.],\n",
       "       [ 0.,  0.,  0., ...,  0.,  1.,  0.]], dtype=float32)"
      ]
     },
     "execution_count": 101,
     "metadata": {},
     "output_type": "execute_result"
    }
   ],
   "source": [
    "y = np_utils.to_categorical(y)\n",
    "y"
   ]
  },
  {
   "cell_type": "code",
   "execution_count": 102,
   "metadata": {
    "collapsed": true
   },
   "outputs": [],
   "source": [
    "n_classes = y.shape[1]"
   ]
  },
  {
   "cell_type": "code",
   "execution_count": 103,
   "metadata": {
    "collapsed": false
   },
   "outputs": [
    {
     "data": {
      "text/plain": [
       "array(['Ariel Sharon', 'Colin Powell', 'Donald Rumsfeld', 'George W Bush',\n",
       "       'Gerhard Schroeder', 'Hugo Chavez', 'Tony Blair'], \n",
       "      dtype='<U17')"
      ]
     },
     "execution_count": 103,
     "metadata": {},
     "output_type": "execute_result"
    }
   ],
   "source": [
    "target_names"
   ]
  },
  {
   "cell_type": "code",
   "execution_count": 104,
   "metadata": {
    "collapsed": false
   },
   "outputs": [],
   "source": [
    "X_train, X_test, y_train, y_test = train_test_split(\n",
    "    X, y, test_size=0.4)\n",
    "\n",
    "X_train = np.array([x.reshape((h, w, 1)) for x in X_train])\n",
    "X_test = np.array([x.reshape((h, w, 1)) for x in X_test])\n",
    "\n",
    "X_train = X_train / 255\n",
    "X_test = X_test / 255"
   ]
  },
  {
   "cell_type": "code",
   "execution_count": 105,
   "metadata": {
    "collapsed": false,
    "scrolled": true
   },
   "outputs": [
    {
     "data": {
      "text/plain": [
       "array([[[ 0.26797387],\n",
       "        [ 0.33594769],\n",
       "        [ 0.42091504],\n",
       "        ..., \n",
       "        [ 0.23137255],\n",
       "        [ 0.20915033],\n",
       "        [ 0.15163399]],\n",
       "\n",
       "       [[ 0.31111112],\n",
       "        [ 0.4013072 ],\n",
       "        [ 0.48104575],\n",
       "        ..., \n",
       "        [ 0.26274511],\n",
       "        [ 0.22091503],\n",
       "        [ 0.19607843]],\n",
       "\n",
       "       [[ 0.33986926],\n",
       "        [ 0.44313726],\n",
       "        [ 0.50196081],\n",
       "        ..., \n",
       "        [ 0.32418299],\n",
       "        [ 0.25882354],\n",
       "        [ 0.25490198]],\n",
       "\n",
       "       ..., \n",
       "       [[ 0.0496732 ],\n",
       "        [ 0.04575163],\n",
       "        [ 0.05882353],\n",
       "        ..., \n",
       "        [ 0.67189538],\n",
       "        [ 0.73725492],\n",
       "        [ 0.73202616]],\n",
       "\n",
       "       [[ 0.03660131],\n",
       "        [ 0.03921569],\n",
       "        [ 0.05359477],\n",
       "        ..., \n",
       "        [ 0.6156863 ],\n",
       "        [ 0.69934636],\n",
       "        [ 0.71241832]],\n",
       "\n",
       "       [[ 0.04183007],\n",
       "        [ 0.04183007],\n",
       "        [ 0.05098039],\n",
       "        ..., \n",
       "        [ 0.56862748],\n",
       "        [ 0.65751636],\n",
       "        [ 0.65228754]]], dtype=float32)"
      ]
     },
     "execution_count": 105,
     "metadata": {},
     "output_type": "execute_result"
    }
   ],
   "source": [
    "X_train[0]"
   ]
  },
  {
   "cell_type": "code",
   "execution_count": 106,
   "metadata": {
    "collapsed": false
   },
   "outputs": [
    {
     "data": {
      "image/png": "[encoded data removed]",
      "text/plain": [
       "<matplotlib.figure.Figure at 0x7fde80a1afd0>"
      ]
     },
     "metadata": {},
     "output_type": "display_data"
    }
   ],
   "source": [
    "images = X_train[:12]\n",
    "n_col = 4\n",
    "n_row = 3\n",
    "plt.figure(figsize=(1.8 * n_col, 2.4 * n_row))\n",
    "plt.subplots_adjust(bottom=0, left=.01, right=.99, top=.90, hspace=.35)\n",
    "for i in range(n_row * n_col):\n",
    "    plt.subplot(n_row, n_col, i + 1)\n",
    "    plt.imshow(images[i][:,:,0], cmap=plt.cm.gray)\n",
    "    plt.xticks(())\n",
    "    plt.yticks(())\n",
    "    \n",
    "plt.show()"
   ]
  },
  {
   "cell_type": "code",
   "execution_count": 107,
   "metadata": {
    "collapsed": false
   },
   "outputs": [
    {
     "data": {
      "text/plain": [
       "(772, 50, 37, 1)"
      ]
     },
     "execution_count": 107,
     "metadata": {},
     "output_type": "execute_result"
    }
   ],
   "source": [
    "X_train.shape"
   ]
  },
  {
   "cell_type": "code",
   "execution_count": 12,
   "metadata": {
    "collapsed": false
   },
   "outputs": [
    {
     "ename": "NameError",
     "evalue": "name 'y_train' is not defined",
     "output_type": "error",
     "traceback": [
      "\u001b[0;31m---------------------------------------------------------------------------\u001b[0m",
      "\u001b[0;31mNameError\u001b[0m                                 Traceback (most recent call last)",
      "\u001b[0;32m<ipython-input-12-d822561cbaf9>\u001b[0m in \u001b[0;36m<module>\u001b[0;34m()\u001b[0m\n\u001b[0;32m----> 1\u001b[0;31m \u001b[0my_train\u001b[0m\u001b[0;34m.\u001b[0m\u001b[0mshape\u001b[0m\u001b[0;34m\u001b[0m\u001b[0m\n\u001b[0m",
      "\u001b[0;31mNameError\u001b[0m: name 'y_train' is not defined"
     ]
    }
   ],
   "source": [
    "y_train.shape"
   ]
  },
  {
   "cell_type": "code",
   "execution_count": null,
   "metadata": {
    "collapsed": false
   },
   "outputs": [],
   "source": [
    "X_test.shape"
   ]
  },
  {
   "cell_type": "markdown",
   "metadata": {},
   "source": [
    "### Ćwiczenie 1. Punkt odniesienia\n",
    "\n",
    "Sprawdź klasyfikację przy użyciu perceptrona - sieć 0-warstwowa (lub 1-warstwowa licząc wyjście jako warstwę). Pamiętaj, że, aby uruchomić warstwę dense na danych, które nie są wektorem trzeba je \"rozwinąć\" przy uzyciu \"warstwy\" (operacji) Flatten. "
   ]
  },
  {
   "cell_type": "code",
   "execution_count": 108,
   "metadata": {
    "collapsed": true
   },
   "outputs": [],
   "source": [
    "from keras.models import Sequential\n",
    "\n",
    "from keras.layers import Dense, Flatten, Dropout, Activation\n",
    "\n",
    "from keras.layers.convolutional import Conv2D, MaxPooling2D, AveragePooling2D\n",
    "\n",
    "from keras.callbacks import EarlyStopping, ModelCheckpoint"
   ]
  },
  {
   "cell_type": "code",
   "execution_count": null,
   "metadata": {
    "collapsed": true
   },
   "outputs": [],
   "source": [
    "?Activation"
   ]
  },
  {
   "cell_type": "code",
   "execution_count": null,
   "metadata": {
    "collapsed": false
   },
   "outputs": [],
   "source": [
    "model = Sequential()\n",
    "model.add(Flatten(input_shape=(50,37,1)))\n",
    "model.add(Dense(n_classes,activation=\"softmax\"))\n",
    "\n",
    "model.compile(loss=\"categorical_crossentropy\",optimizer=\"adam\",metrics=[\"categorical_accuracy\"])\n",
    "\n",
    "print(model.summary())"
   ]
  },
  {
   "cell_type": "code",
   "execution_count": null,
   "metadata": {
    "collapsed": false,
    "scrolled": true
   },
   "outputs": [],
   "source": [
    "early_stopping = EarlyStopping(patience=3, monitor=\"val_loss\")\n",
    "\n",
    "model.fit(X_train,y_train,validation_split=0.25,epochs=100,callbacks=[early_stopping])\n",
    "\n",
    "model.evaluate(X_test,y_test)"
   ]
  },
  {
   "cell_type": "markdown",
   "metadata": {
    "collapsed": true
   },
   "source": [
    "Z wyciągnięciem modelu z najlepszej epoki:"
   ]
  },
  {
   "cell_type": "code",
   "execution_count": null,
   "metadata": {
    "collapsed": false
   },
   "outputs": [],
   "source": [
    "model = Sequential()\n",
    "model.add(Flatten(input_shape=(50,37,1)))\n",
    "model.add(Dense(n_classes, activation='softmax'))\n",
    "model.compile(loss='categorical_crossentropy', optimizer=\"adam\", metrics=['categorical_accuracy'])\n",
    "print(model.summary())\n",
    "\n",
    "early_stopping = EarlyStopping(patience=3,monitor=\"val_loss\")\n",
    "take_best_model = ModelCheckpoint(\"wagi.h5py\", save_best_only=True)\n",
    "\n",
    "model.fit(X_train, y_train, validation_split=0.25, epochs=100, callbacks=[early_stopping,take_best_model], batch_size=32,)\n",
    "\n",
    "model.load_weights(\"wagi.h5py\")\n",
    "scores = model.evaluate(X_test, y_test, verbose=0)\n",
    "os.remove(\"wagi.h5py\")\n",
    "\n",
    "print(\"Accuracy test: %.2f%%\" % (scores[1]*100))"
   ]
  },
  {
   "cell_type": "markdown",
   "metadata": {},
   "source": [
    "### Ćwiczenie 2.\n",
    "\n",
    "Sprawdź klasyfikację przy użyciu sieci jednowarstwowej, dla rozmiarów stanu ukrytego: 20,50,100,150,200,300."
   ]
  },
  {
   "cell_type": "code",
   "execution_count": null,
   "metadata": {
    "collapsed": false,
    "scrolled": true
   },
   "outputs": [],
   "source": [
    "Accuracies = []\n",
    "\n",
    "for h_dim in [20,50,100,150,200,300]:\n",
    "\n",
    "    model = Sequential()\n",
    "    model.add(Flatten(input_shape=(50,37,1)))\n",
    "    model.add(Dense(h_dim))\n",
    "    model.add(Dense(n_classes, activation='softmax'))\n",
    "    model.compile(loss='categorical_crossentropy', optimizer=\"adam\", metrics=['categorical_accuracy'])\n",
    "    print(model.summary())\n",
    "    \n",
    "    early_stopping = EarlyStopping(patience=3,monitor=\"val_loss\")\n",
    "    take_best_model = ModelCheckpoint(\"wagi.h5py\", save_best_only=True)\n",
    "    \n",
    "    model.fit(X_train, y_train, verbose=0,validation_split=0.25, epochs=100, callbacks=[early_stopping,take_best_model], batch_size=32,)\n",
    "\n",
    "    model.load_weights(\"wagi.h5py\")\n",
    "    os.remove(\"wagi.h5py\")\n",
    "    scores = model.evaluate(X_test, y_test, verbose=0)\n",
    "    Accuracies.append(scores[1]*100)\n",
    "    \n",
    "print(Accuracies)"
   ]
  },
  {
   "cell_type": "markdown",
   "metadata": {},
   "source": [
    "### Ćwiczenie 3\n",
    "\n",
    "Weź najlepszą sieć z poprzedniego kroku i dodaj kolejną warstwę dense - rozpatrz takie same wielkosci stanu ukrytego jak poprzednio."
   ]
  },
  {
   "cell_type": "code",
   "execution_count": null,
   "metadata": {
    "collapsed": true,
    "scrolled": true
   },
   "outputs": [],
   "source": [
    "Accuracies = []\n",
    "\n",
    "for h_dim in [20,50,100,150,200,300]:\n",
    "\n",
    "    model = Sequential()\n",
    "    model.add(Flatten(input_shape=(50,37,1)))\n",
    "    model.add(Dense(150, activation='relu', kernel_constraint=maxnorm(3)))\n",
    "    model.add(Dense(h_dim, activation='relu', kernel_constraint=maxnorm(3)))\n",
    "    model.add(Dense(n_classes, activation='softmax'))\n",
    "    model.compile(loss='categorical_crossentropy', optimizer=\"adam\", metrics=['categorical_accuracy'])\n",
    "    print(model.summary())\n",
    "    \n",
    "    early_stopping = EarlyStopping(patience=3,monitor=\"val_loss\")\n",
    "    take_best_model = ModelCheckpoint(\"wagi.h5py\", save_best_only=True)\n",
    "    \n",
    "    model.fit(X_train, y_train, verbose=0,validation_split=0.25, epochs=100, callbacks=[early_stopping,take_best_model], batch_size=32,)\n",
    "\n",
    "    model.load_weights(\"wagi.h5py\")\n",
    "    os.remove(\"wagi.h5py\")\n",
    "    scores = model.evaluate(X_test, y_test, verbose=0)\n",
    "    Accuracies.append(scores[1]*100)\n",
    "    \n",
    "Print(Accuracies)"
   ]
  },
  {
   "cell_type": "markdown",
   "metadata": {},
   "source": [
    "### Ćwiczenie 4. Prosta sieć konwolucyjna.\n",
    "\n",
    "Liczba filtrów: 10, wielkość filtra: 5,5."
   ]
  },
  {
   "cell_type": "code",
   "execution_count": null,
   "metadata": {
    "collapsed": true
   },
   "outputs": [],
   "source": [
    "?Conv2D"
   ]
  },
  {
   "cell_type": "code",
   "execution_count": null,
   "metadata": {
    "collapsed": false,
    "scrolled": true
   },
   "outputs": [],
   "source": [
    "model = Sequential()\n",
    "model.add(Conv2D(10, (5, 5), input_shape=(50,37,1), padding='valid', activation='relu'))\n",
    "model.add(Flatten())\n",
    "model.add(Dense(n_classes, activation='softmax'))\n",
    "model.compile(loss='categorical_crossentropy', optimizer=\"adam\", metrics=['categorical_accuracy'])\n",
    "print(model.summary())\n",
    "\n",
    "early_stopping = EarlyStopping(patience=3,monitor=\"val_loss\")\n",
    "take_best_model = ModelCheckpoint(\"wagi.h5py\", save_best_only=True)\n",
    "\n",
    "model.fit(X_train, y_train, validation_split=0.25, epochs=100, callbacks=[early_stopping,take_best_model], batch_size=32,)\n",
    "\n",
    "model.load_weights(\"wagi.h5py\")\n",
    "os.remove(\"wagi.h5py\")\n",
    "scores = model.evaluate(X_test, y_test, verbose=0)\n",
    "print(\"Accuracy test: %.2f%%\" % (scores[1]*100))"
   ]
  },
  {
   "cell_type": "markdown",
   "metadata": {},
   "source": [
    "Omówić strukturę - wyjaśnić co robi padding równy \"valid\"."
   ]
  },
  {
   "cell_type": "markdown",
   "metadata": {},
   "source": [
    "### Ćwiczenie 5. Zmień padding na \"same\"."
   ]
  },
  {
   "cell_type": "code",
   "execution_count": null,
   "metadata": {
    "collapsed": false,
    "scrolled": true
   },
   "outputs": [],
   "source": [
    "model = Sequential()\n",
    "model.add(Conv2D(10, (5, 5), input_shape=(50,37,1), padding='same', activation='relu'))\n",
    "model.add(Flatten())\n",
    "model.add(Dense(n_classes, activation='softmax'))\n",
    "model.compile(loss='categorical_crossentropy', optimizer=\"adam\", metrics=['categorical_accuracy'])\n",
    "print(model.summary())\n",
    "\n",
    "early_stopping = EarlyStopping(patience=3,monitor=\"val_loss\")\n",
    "take_best_model = ModelCheckpoint(\"wagi.h5py\", save_best_only=True)\n",
    "\n",
    "model.fit(X_train, y_train, validation_split=0.25, epochs=100, callbacks=[early_stopping,take_best_model], batch_size=32,)\n",
    "\n",
    "model.load_weights(\"wagi.h5py\")\n",
    "os.remove(\"wagi.h5py\")\n",
    "scores = model.evaluate(X_test, y_test, verbose=0)\n",
    "print(\"Accuracy test: %.2f%%\" % (scores[1]*100))"
   ]
  },
  {
   "cell_type": "code",
   "execution_count": null,
   "metadata": {
    "collapsed": false
   },
   "outputs": [],
   "source": [
    "X_test.shape"
   ]
  },
  {
   "cell_type": "markdown",
   "metadata": {},
   "source": [
    "### Ćwiczenie 6. Badanie parametrów:\n",
    "\n",
    "Liczby filtrów: 3, 5, 10, 15, 30\n",
    "\n",
    "Wielkości filtrów: (3,3),(5,5),(10,10)"
   ]
  },
  {
   "cell_type": "code",
   "execution_count": null,
   "metadata": {
    "collapsed": false
   },
   "outputs": [],
   "source": [
    "N_filters = [10,15,30]\n",
    "C = [3,5,10]\n",
    "\n",
    "from itertools import product\n",
    "\n",
    "for n_filters, c in product(N_filters, C):\n",
    "\n",
    "    model = Sequential()\n",
    "    model.add(Conv2D(n_filters, (c, c), input_shape=(50,37,1), padding='same', activation='relu'))\n",
    "    model.add(Flatten())\n",
    "    model.add(Dense(n_classes, activation='softmax'))\n",
    "    model.compile(loss='categorical_crossentropy', optimizer=\"adam\", metrics=['categorical_accuracy'])\n",
    "    \n",
    "    # wydaje sie, ze dwie ponizsze zmienne moglyby zostac zdefiniowane przed petla, ale jednak to nei dziala, wiec musza byc tu\n",
    "    # dla kazdego modelu definiowane od nowa\n",
    "    early_stopping = EarlyStopping(patience=3,monitor=\"val_loss\")\n",
    "    take_best_model = ModelCheckpoint(\"wagi.h5py\", save_best_only=True)\n",
    "    \n",
    "    model.fit(X_train, y_train, verbose=0,validation_split=0.25, epochs=100, \n",
    "              callbacks=[early_stopping,take_best_model], batch_size=32)\n",
    "    \n",
    "    model.load_weights(\"wagi.h5py\")\n",
    "    \n",
    "    scores = model.evaluate(X_test, y_test, verbose=0)\n",
    "    os.remove(\"wagi.h5py\")\n",
    "    print(n_filters, c, \" Accuracy test: %.2f%%\" % (scores[1]*100))"
   ]
  },
  {
   "cell_type": "markdown",
   "metadata": {},
   "source": [
    "**Uwaga:** to jest już sytuacja, która nie obrazuje prawdziwej jakości modelu - bo analizujemy jakość działania sieci z różnymi parametrami na zbiorze testowym. Żeby formalnie ocenić jakość działania najlepszej z tych ieci powinniśmy ją przetestować na nowym zbiorze!"
   ]
  },
  {
   "cell_type": "markdown",
   "metadata": {},
   "source": [
    "### Ćwiczenie 7. MaxPooling, AveragePooling\n",
    "\n",
    "Przetestuj dodanie warstwy pooling po warstwie konwolucyjnej, dla konwolucji z najlepszymi parametrami."
   ]
  },
  {
   "cell_type": "code",
   "execution_count": null,
   "metadata": {
    "collapsed": false
   },
   "outputs": [],
   "source": [
    "for pooling, poll_size in product([MaxPooling2D,AveragePooling2D],[(2,2),(4,4)]):\n",
    "\n",
    "    model = Sequential()\n",
    "    model.add(Conv2D(15, (10, 10), input_shape=(50,37,1), padding='same', activation='relu'))\n",
    "    model.add(pooling(pool_size))\n",
    "    model.add(Flatten())\n",
    "    model.add(Dense(n_classes, activation='softmax'))\n",
    "    model.compile(loss='categorical_crossentropy', optimizer=\"adam\", metrics=['categorical_accuracy'])\n",
    "    print(model.summary())\n",
    "  \n",
    "    early_stopping = EarlyStopping(patience=3,monitor=\"val_loss\")\n",
    "    take_best_model = ModelCheckpoint(\"wagi.h5py\", save_best_only=True)\n",
    "\n",
    "    model.fit(X_train, y_train, verbose=0,validation_split=0.25, epochs=100, callbacks=[early_stopping,take_best_model], batch_size=32,)\n",
    "\n",
    "    model.load_weights(\"wagi.h5py\")\n",
    "    os.remove(\"wagi.h5py\")\n",
    "    scores = model.evaluate(X_test, y_test, verbose=0)\n",
    "    print(\"Accuracy test: %.2f%%\" % (scores[1]*100))"
   ]
  },
  {
   "cell_type": "markdown",
   "metadata": {},
   "source": [
    "Spójrzmy na strukture powyższego - pooling (w takiej wersji) zmniejsza wymiar."
   ]
  },
  {
   "cell_type": "markdown",
   "metadata": {},
   "source": [
    "### Ćwiczenie 8. [Ten krok trwa kilkanaście minut]\n",
    "\n",
    "Testujemy liczbę, filtrów, ich rozmiary i rozmiar okna pooling jednoczesnie."
   ]
  },
  {
   "cell_type": "code",
   "execution_count": null,
   "metadata": {
    "collapsed": true,
    "scrolled": true
   },
   "outputs": [],
   "source": [
    "N_filters = [15,30,40]\n",
    "C = [3,5,7,10]\n",
    "P = [2,4,6]\n",
    "\n",
    "\n",
    "for n_filters, c, p in product(N_filters, C, P):\n",
    "\n",
    "    model = Sequential()\n",
    "    \n",
    "    model.add(Conv2D(n_filters, (c, c), input_shape=(50,37,1), padding='same', activation='relu'))\n",
    "    model.add(MaxPooling2D(pool_size=(p,p)))\n",
    "    \n",
    "    model.add(Flatten())\n",
    "    model.add(Dense(n_classes, activation='softmax'))\n",
    "    model.compile(loss='categorical_crossentropy', optimizer=\"adam\", metrics=['categorical_accuracy'])\n",
    "    #print(model.summary())\n",
    "  \n",
    "    early_stopping = EarlyStopping(patience=3,monitor=\"val_loss\")\n",
    "    take_best_model = ModelCheckpoint(\"wagi.h5py\", save_best_only=True)\n",
    "\n",
    "    model.fit(X_train, y_train, verbose=0,validation_split=0.25, epochs=100, callbacks=[early_stopping,take_best_model], batch_size=32,)\n",
    "\n",
    "    model.load_weights(\"wagi.h5py\")\n",
    "    os.remove(\"wagi.h5py\")\n",
    "    scores = model.evaluate(X_test, y_test, verbose=0)\n",
    "    print(n_filters, c, p, \"Accuracy test: %.2f%%\" % (scores[1]*100))"
   ]
  },
  {
   "cell_type": "markdown",
   "metadata": {},
   "source": [
    "### Ćwiczenie 9.\n",
    "\n",
    "Weź najlepszą sieć z poprzedniego kroku. Przetestuj dodanie warstwy dense i regularyzacji dropout, między poolingiem, a outputem.\n",
    "\n",
    "Rozważ wymiary stanu ukrytego: 10, 30, 50."
   ]
  },
  {
   "cell_type": "code",
   "execution_count": null,
   "metadata": {
    "collapsed": true,
    "scrolled": true
   },
   "outputs": [],
   "source": [
    "for h_dim in [10, 30, 50]:\n",
    "\n",
    "    model = Sequential()\n",
    "    model.add(Conv2D(15, (10, 10), input_shape=(50,37,1), padding='same', activation='relu'))\n",
    "    model.add(Dropout(0.2))\n",
    "    \n",
    "    model.add(MaxPooling2D(pool_size=(2, 2)))\n",
    "    \n",
    "    \n",
    "    model.add(Flatten())\n",
    "    model.add(Dense(h_dim))\n",
    "    model.add(Dropout(0.2))\n",
    "    \n",
    "    model.add(Dense(n_classes, activation='softmax'))\n",
    "    model.compile(loss='categorical_crossentropy', optimizer=\"adam\", metrics=['categorical_accuracy'])\n",
    "    print(model.summary())\n",
    "\n",
    "    early_stopping = EarlyStopping(patience=3,monitor=\"val_loss\")\n",
    "    take_best_model = ModelCheckpoint(\"wagi.h5py\", save_best_only=True)\n",
    "\n",
    "    model.fit(X_train, y_train, verbose=0,validation_split=0.25, epochs=100, callbacks=[early_stopping,take_best_model], batch_size=32,)\n",
    "\n",
    "    model.load_weights(\"wagi.h5py\")\n",
    "    os.remove(\"wagi.h5py\")\n",
    "    scores = model.evaluate(X_test, y_test, verbose=0)\n",
    "    print(\"Accuracy test: %.2f%%\" % (scores[1]*100))"
   ]
  },
  {
   "cell_type": "markdown",
   "metadata": {},
   "source": [
    "### Ćwiczenie 10. Dwie warstwy konwolucyjne.\n",
    "\n",
    "Zamiast warstwy dense dodanej w poprzednim kroku, wstaw warstwę konwolucyjną. Rozważ 5, 10, i 15 filtrów wymiarów 3x3, 5x5, 10x10."
   ]
  },
  {
   "cell_type": "code",
   "execution_count": null,
   "metadata": {
    "collapsed": true,
    "scrolled": false
   },
   "outputs": [],
   "source": [
    "for n_filters, c in product([10,20,30], [3,5,10]):\n",
    "\n",
    "    model = Sequential()\n",
    "    model.add(Conv2D(15, (10, 10), input_shape=(50,37,1), padding='same', activation='relu'))\n",
    "    model.add(MaxPooling2D(pool_size=(2, 2)))\n",
    "    \n",
    "    model.add(Conv2D(n_filters, (c, c), padding='same', activation='relu'))\n",
    "    \n",
    "    model.add(Flatten())\n",
    "    model.add(Dense(n_classes, activation='softmax'))\n",
    "    model.compile(loss='categorical_crossentropy', optimizer=\"adam\", metrics=['categorical_accuracy'])\n",
    "    print(model.summary())\n",
    "\n",
    "    early_stopping = EarlyStopping(patience=3,monitor=\"val_loss\")\n",
    "    take_best_model = ModelCheckpoint(\"wagi.h5py\", save_best_only=True)\n",
    "\n",
    "    model.fit(X_train, y_train, verbose=0,validation_split=0.25, epochs=100, callbacks=[early_stopping,take_best_model], batch_size=32,)\n",
    "\n",
    "    model.load_weights(\"wagi.h5py\")\n",
    "    os.remove(\"wagi.h5py\")\n",
    "    scores = model.evaluate(X_test, y_test, verbose=0)\n",
    "    print(n_filters, c, \"Accuracy test: %.2f%%\" % (scores[1]*100))"
   ]
  },
  {
   "cell_type": "markdown",
   "metadata": {},
   "source": [
    "Czyli widzimy, że się pogorszyło. Ale nie zrobilismy max poolingu po tej warstwie, który z reguły pomaga!"
   ]
  },
  {
   "cell_type": "markdown",
   "metadata": {},
   "source": [
    "### Ćwiczenie 11. \n",
    "\n",
    "Przetestuj dodanie do porzedniej sieci max pooling'u po drugiej warstwie konwolucyjnej, z poolsize równym (2,2) i strides równymi (1,1), (2,2). Czy strides równe (3,3), gdy poolsize = (2,2) ma sens?."
   ]
  },
  {
   "cell_type": "code",
   "execution_count": null,
   "metadata": {
    "collapsed": true,
    "scrolled": true
   },
   "outputs": [],
   "source": [
    "for s in [1,2]:\n",
    "\n",
    "    model = Sequential()\n",
    "    model.add(Conv2D(15, (10, 10), input_shape=(50,37,1), padding='same', activation='relu'))\n",
    "    model.add(MaxPooling2D(pool_size=(4, 4)))\n",
    "    model.add(Conv2D(20, (3, 3), padding='same', activation='relu'))\n",
    "    model.add(MaxPooling2D(pool_size=(2, 2),strides=(s,s)))\n",
    "    \n",
    "    model.add(Flatten())\n",
    "    model.add(Dense(n_classes, activation='softmax'))\n",
    "    model.compile(loss='categorical_crossentropy', optimizer=\"adam\", metrics=['categorical_accuracy'])\n",
    "    print(model.summary())\n",
    "\n",
    "    early_stopping = EarlyStopping(patience=3,monitor=\"val_loss\")\n",
    "    take_best_model = ModelCheckpoint(\"wagi.h5py\", save_best_only=True)\n",
    "\n",
    "    model.fit(X_train, y_train, verbose=0,validation_split=0.25, epochs=100, callbacks=[early_stopping,take_best_model], batch_size=32)\n",
    "\n",
    "    model.load_weights(\"wagi.h5py\")\n",
    "    os.remove(\"wagi.h5py\")\n",
    "    scores = model.evaluate(X_test, y_test, verbose=0)\n",
    "    print(\"Accuracy test: %.2f%%\" % (scores[1]*100))"
   ]
  },
  {
   "cell_type": "markdown",
   "metadata": {},
   "source": [
    "Czyli na tym możemy zakończyć konstrukcję najlpeszej sieci. W punkie 7 dostaliśmy najlepszą sieć (85%) i kolejne warstwy (dense, conv) nie dodały jakości."
   ]
  },
  {
   "cell_type": "markdown",
   "metadata": {},
   "source": [
    "### Ćwiczenie 12.\n",
    "\n",
    "Przetestuj ograniczenie normy filtra maxnorm(k) dla k równego 1,2,3,5,7,10,15,20,30."
   ]
  },
  {
   "cell_type": "code",
   "execution_count": null,
   "metadata": {
    "collapsed": true,
    "scrolled": true
   },
   "outputs": [],
   "source": [
    "for k in [1,2,3,5,7,10,15,20,30]:\n",
    "\n",
    "    model = Sequential()\n",
    "    model.add(Conv2D(15, (10, 10), input_shape=(50,37,1), padding='same', activation='relu', kernel_constraint=maxnorm(k)))\n",
    "    model.add(MaxPooling2D(pool_size=(4, 4)))\n",
    "    model.add(Flatten())\n",
    "    model.add(Dense(n_classes, activation='softmax'))\n",
    "    model.compile(loss='categorical_crossentropy', optimizer=\"adam\", metrics=['categorical_accuracy'])\n",
    "    #print(model.summary())\n",
    "\n",
    "    early_stopping = EarlyStopping(patience=3,monitor=\"val_loss\")\n",
    "    take_best_model = ModelCheckpoint(\"wagi.h5py\", save_best_only=True)\n",
    "\n",
    "    model.fit(X_train, y_train, verbose=0,validation_split=0.25, epochs=100, callbacks=[early_stopping,take_best_model], batch_size=batch_size)\n",
    "\n",
    "    model.load_weights(\"wagi.h5py\")\n",
    "    os.remove(\"wagi.h5py\")\n",
    "    scores = model.evaluate(X_test, y_test, verbose=0)\n",
    "    print(\"Accuracy test: %.2f%%\" % (scores[1]*100))"
   ]
  },
  {
   "cell_type": "markdown",
   "metadata": {},
   "source": [
    "I na tym możemy zakończyć budowę sieci."
   ]
  },
  {
   "cell_type": "markdown",
   "metadata": {},
   "source": [
    "### Ćwiczenie 13.\n",
    "\n",
    "Dla najlepszej sieci przetestuj wielkości batcha: 1,5,10,15,20,30."
   ]
  },
  {
   "cell_type": "code",
   "execution_count": null,
   "metadata": {
    "collapsed": true
   },
   "outputs": [],
   "source": [
    "for batch_size in [1,5,10,15,20,30]:\n",
    "\n",
    "    model = Sequential()\n",
    "    model.add(Conv2D(15, (10, 10), input_shape=(50,37,1), padding='same', activation='relu'))\n",
    "    model.add(MaxPooling2D(pool_size=(2, 2)))\n",
    "    model.add(Flatten())\n",
    "    model.add(Dense(n_classes, activation='softmax'))\n",
    "    model.compile(loss='categorical_crossentropy', optimizer=\"adam\", metrics=['categorical_accuracy'])\n",
    "    #print(model.summary())\n",
    "\n",
    "    early_stopping = EarlyStopping(patience=3,monitor=\"val_loss\")\n",
    "    take_best_model = ModelCheckpoint(\"wagi.h5py\", save_best_only=True)\n",
    "\n",
    "    model.fit(X_train, y_train, verbose=0,validation_split=0.25, epochs=100, callbacks=[early_stopping,take_best_model], batch_size=batch_size)\n",
    "\n",
    "    model.load_weights(\"wagi.h5py\")\n",
    "    os.remove(\"wagi.h5py\")\n",
    "    scores = model.evaluate(X_test, y_test, verbose=0)\n",
    "    print(\"Accuracy test: %.2f%%\" % (scores[1]*100))"
   ]
  },
  {
   "cell_type": "markdown",
   "metadata": {
    "collapsed": true
   },
   "source": [
    "<br>\n",
    "\n",
    "# Case study 2\n",
    "\n",
    "# Obrazki 3d (kolorowe - RGB)"
   ]
  },
  {
   "cell_type": "code",
   "execution_count": 109,
   "metadata": {
    "collapsed": false,
    "scrolled": true
   },
   "outputs": [
    {
     "name": "stdout",
     "output_type": "stream",
     "text": [
      "(7000, 32, 32, 3)\n",
      "(4000, 32, 32, 3)\n",
      "(array([0, 1, 2, 3], dtype=uint8), array([1738, 1733, 1779, 1750]))\n",
      "[[[170 180 198]\n",
      "  [168 178 196]\n",
      "  [177 185 203]\n",
      "  ..., \n",
      "  [162 179 215]\n",
      "  [158 178 214]\n",
      "  [157 177 212]]\n",
      "\n",
      " [[168 181 198]\n",
      "  [172 185 201]\n",
      "  [171 183 200]\n",
      "  ..., \n",
      "  [159 177 212]\n",
      "  [156 176 211]\n",
      "  [154 174 209]]\n",
      "\n",
      " [[154 170 186]\n",
      "  [149 165 181]\n",
      "  [129 144 162]\n",
      "  ..., \n",
      "  [161 178 214]\n",
      "  [157 177 212]\n",
      "  [154 174 209]]\n",
      "\n",
      " ..., \n",
      " [[ 74  84  80]\n",
      "  [ 76  85  81]\n",
      "  [ 78  85  82]\n",
      "  ..., \n",
      "  [ 71  75  78]\n",
      "  [ 68  72  75]\n",
      "  [ 61  65  68]]\n",
      "\n",
      " [[ 68  76  77]\n",
      "  [ 69  77  78]\n",
      "  [ 72  79  78]\n",
      "  ..., \n",
      "  [ 76  80  83]\n",
      "  [ 71  75  78]\n",
      "  [ 71  75  78]]\n",
      "\n",
      " [[ 67  75  78]\n",
      "  [ 68  76  79]\n",
      "  [ 69  75  76]\n",
      "  ..., \n",
      "  [ 75  79  82]\n",
      "  [ 71  75  78]\n",
      "  [ 73  77  80]]]\n"
     ]
    },
    {
     "ename": "NameError",
     "evalue": "name 'pyplot' is not defined",
     "output_type": "error",
     "traceback": [
      "\u001b[0;31m---------------------------------------------------------------------------\u001b[0m",
      "\u001b[0;31mNameError\u001b[0m                                 Traceback (most recent call last)",
      "\u001b[0;32m<ipython-input-109-9e381a68779d>\u001b[0m in \u001b[0;36m<module>\u001b[0;34m()\u001b[0m\n\u001b[1;32m     20\u001b[0m \u001b[0;31m# create a grid of 3x3 images\u001b[0m\u001b[0;34m\u001b[0m\u001b[0;34m\u001b[0m\u001b[0m\n\u001b[1;32m     21\u001b[0m \u001b[0;32mfor\u001b[0m \u001b[0mi\u001b[0m \u001b[0;32min\u001b[0m \u001b[0mrange\u001b[0m\u001b[0;34m(\u001b[0m\u001b[0;36m0\u001b[0m\u001b[0;34m,\u001b[0m \u001b[0;36m9\u001b[0m\u001b[0;34m)\u001b[0m\u001b[0;34m:\u001b[0m\u001b[0;34m\u001b[0m\u001b[0m\n\u001b[0;32m---> 22\u001b[0;31m         \u001b[0mpyplot\u001b[0m\u001b[0;34m.\u001b[0m\u001b[0msubplot\u001b[0m\u001b[0;34m(\u001b[0m\u001b[0;36m330\u001b[0m \u001b[0;34m+\u001b[0m \u001b[0;36m1\u001b[0m \u001b[0;34m+\u001b[0m \u001b[0mi\u001b[0m\u001b[0;34m)\u001b[0m\u001b[0;34m\u001b[0m\u001b[0m\n\u001b[0m\u001b[1;32m     23\u001b[0m         \u001b[0mpyplot\u001b[0m\u001b[0;34m.\u001b[0m\u001b[0mimshow\u001b[0m\u001b[0;34m(\u001b[0m\u001b[0mtoimage\u001b[0m\u001b[0;34m(\u001b[0m\u001b[0mX_train\u001b[0m\u001b[0;34m[\u001b[0m\u001b[0mi\u001b[0m\u001b[0;34m]\u001b[0m\u001b[0;34m)\u001b[0m\u001b[0;34m)\u001b[0m\u001b[0;34m\u001b[0m\u001b[0m\n\u001b[1;32m     24\u001b[0m \u001b[0;31m# show the plot\u001b[0m\u001b[0;34m\u001b[0m\u001b[0;34m\u001b[0m\u001b[0m\n",
      "\u001b[0;31mNameError\u001b[0m: name 'pyplot' is not defined"
     ]
    }
   ],
   "source": [
    "from keras.datasets import cifar10\n",
    "from scipy.misc import toimage\n",
    "\n",
    "import numpy as np\n",
    "\n",
    "# load data\n",
    "(X_train, y_train), (X_test, y_test) = cifar10.load_data()\n",
    "\n",
    "nb_classes = 4\n",
    "n_samples = 7000\n",
    "\n",
    "X_train, y_train = X_train[np.where(y_train<nb_classes)[0]][:n_samples], y_train[np.where(y_train<nb_classes)[0]][:n_samples]\n",
    "X_test, y_test = X_test[np.where(y_test<nb_classes)[0]], y_test[np.where(y_test<nb_classes)[0]]\n",
    "\n",
    "print(X_train.shape)\n",
    "print(X_test.shape)\n",
    "print(np.unique(y_train,return_counts=True))\n",
    "print(X_train[0])\n",
    "\n",
    "# create a grid of 3x3 images\n",
    "for i in range(0, 9):\n",
    "\tpyplot.subplot(330 + 1 + i)\n",
    "\tpyplot.imshow(toimage(X_train[i]))\n",
    "# show the plot\n",
    "pyplot.show()"
   ]
  },
  {
   "cell_type": "code",
   "execution_count": 110,
   "metadata": {
    "collapsed": false
   },
   "outputs": [
    {
     "data": {
      "text/plain": [
       "(32, 32, 3)"
      ]
     },
     "execution_count": 110,
     "metadata": {},
     "output_type": "execute_result"
    }
   ],
   "source": [
    "# normalize inputs from 0-255 to 0.0-1.0\n",
    "\n",
    "X_train = X_train / 255\n",
    "X_test = X_test / 255\n",
    "\n",
    "# one hot encode outputs\n",
    "y_train = np_utils.to_categorical(y_train)\n",
    "y_test = np_utils.to_categorical(y_test)\n",
    "\n",
    "num_classes = y_test.shape[1]\n",
    "\n",
    "y_train[0:5]\n",
    "\n",
    "X_train[0].shape"
   ]
  },
  {
   "cell_type": "markdown",
   "metadata": {},
   "source": [
    "### Zadanie 1. Zbuduj jednowarstwową siec konwolucyjną z maxpoolingiem.\n",
    "\n",
    "Liczba filtrów: 32; rozmiar filtra: 5x5."
   ]
  },
  {
   "cell_type": "code",
   "execution_count": null,
   "metadata": {
    "collapsed": false
   },
   "outputs": [],
   "source": [
    "model = Sequential()\n",
    "model.add(Conv2D(32, (5, 5), input_shape=(32, 32,3), padding='same', activation='relu', kernel_constraint=maxnorm(3)))\n",
    "model.add(MaxPooling2D(pool_size=(2, 2)))\n",
    "model.add(Flatten())\n",
    "model.add(Dense(num_classes, activation='softmax'))\n",
    "model.compile(loss='categorical_crossentropy', optimizer=\"adam\", metrics=['categorical_accuracy'])\n",
    "print(model.summary())"
   ]
  },
  {
   "cell_type": "code",
   "execution_count": null,
   "metadata": {
    "collapsed": false,
    "scrolled": true
   },
   "outputs": [],
   "source": [
    "early_stopping = EarlyStopping(patience=3,monitor=\"val_loss\")\n",
    "take_best_model = ModelCheckpoint(\"wagi.h5py\", save_best_only=True)\n",
    "\n",
    "model.fit(X_train, y_train, validation_split=0.14, epochs=100, callbacks=[early_stopping,take_best_model], batch_size=32)\n",
    "\n",
    "model.load_weights(\"wagi.h5py\")\n",
    "os.remove(\"wagi.h5py\")\n",
    "scores = model.evaluate(X_test, y_test, verbose=0)\n",
    "print(\"Accuracy test: %.2f%%\" % (scores[1]*100))"
   ]
  },
  {
   "cell_type": "markdown",
   "metadata": {},
   "source": [
    "### Zadanie 2. Dodaj warstwę dense między poolingiem a wyjściem.\n",
    "\n",
    "Rozpatrz rozmiary tej warstwy: 100, 250, 500"
   ]
  },
  {
   "cell_type": "code",
   "execution_count": null,
   "metadata": {
    "collapsed": true
   },
   "outputs": [],
   "source": [
    "model = Sequential()\n",
    "model.add(Conv2D(32, (5, 5), input_shape=(32, 32,3), padding='same', activation='relu', kernel_constraint=maxnorm(3)))\n",
    "model.add(MaxPooling2D(pool_size=(2, 2)))\n",
    "model.add(Flatten())\n",
    "model.add(Dense(512, activation='relu', kernel_constraint=maxnorm(3)))\n",
    "model.add(Dense(num_classes, activation='softmax'))\n",
    "model.compile(loss='categorical_crossentropy', optimizer=\"adam\", metrics=['categorical_accuracy'])\n",
    "print(model.summary())"
   ]
  },
  {
   "cell_type": "code",
   "execution_count": null,
   "metadata": {
    "collapsed": true,
    "scrolled": true
   },
   "outputs": [],
   "source": [
    "early_stopping = EarlyStopping(patience=3,monitor=\"val_loss\")\n",
    "take_best_model = ModelCheckpoint(\"wagi.h5py\", save_best_only=True)\n",
    "\n",
    "model.fit(X_train, y_train, validation_split=0.14, epochs=100, callbacks=[early_stopping,take_best_model], batch_size=32)\n",
    "\n",
    "model.load_weights(\"wagi.h5py\")\n",
    "os.remove(\"wagi.h5py\")\n",
    "scores = model.evaluate(X_test, y_test, verbose=0)\n",
    "print(\"Accuracy test: %.2f%%\" % (scores[1]*100))"
   ]
  },
  {
   "cell_type": "markdown",
   "metadata": {},
   "source": [
    "### Zadanie 3. Zdadaj dwuwarstwową sieć konwolucyjną\n",
    "\n",
    "Max pooling tylko po pierwszej konwolucji"
   ]
  },
  {
   "cell_type": "code",
   "execution_count": null,
   "metadata": {
    "collapsed": true
   },
   "outputs": [],
   "source": []
  },
  {
   "cell_type": "markdown",
   "metadata": {},
   "source": [
    "### Zadanie 4. Zdadaj dwuwarstwową sieć kowolucyjną\n",
    "\n",
    "Max pooling po obu warstwach konwolucyjnych."
   ]
  },
  {
   "cell_type": "code",
   "execution_count": null,
   "metadata": {
    "collapsed": true
   },
   "outputs": [],
   "source": [
    "model = Sequential()\n",
    "model.add(Conv2D(32, (3, 3), input_shape=(3, 32, 32), padding='same', activation='relu', kernel_constraint=maxnorm(3)))\n",
    "model.add(Dropout(0.2))\n",
    "model.add(Conv2D(32, (3, 3), activation='relu', padding='same', kernel_constraint=maxnorm(3)))\n",
    "model.add(MaxPooling2D(pool_size=(2, 2)))\n",
    "model.add(Flatten())\n",
    "model.add(Dense(512, activation='relu', kernel_constraint=maxnorm(3)))\n",
    "model.add(Dropout(0.5))\n",
    "model.add(Dense(num_classes, activation='softmax'))\n",
    "# Compile model\n",
    "epochs = 25\n",
    "#lrate = 0.01\n",
    "#decay = lrate/epochs\n",
    "#sgd = SGD(lr=lrate, momentum=0.9, decay=decay, nesterov=False)\n",
    "model.compile(loss='categorical_crossentropy', optimizer=\"adam\", metrics=['accuracy'])\n",
    "print(model.summary())\n",
    "\n",
    "early_stopping = EarlyStopping(patience=3,monitor=\"val_loss\")\n",
    "take_best_model = ModelCheckpoint(\"wagi.h5py\", save_best_only=True)\n",
    "\n",
    "model.fit(X_train, y_train, validation_split=0.14, epochs=100, callbacks=[early_stopping,take_best_model], batch_size=32)\n",
    "\n",
    "model.load_weights(\"wagi.h5py\")\n",
    "os.remove(\"wagi.h5py\")\n",
    "scores = model.evaluate(X_test, y_test, verbose=0)\n",
    "print(\"Accuracy test: %.2f%%\" % (scores[1]*100))"
   ]
  },
  {
   "cell_type": "markdown",
   "metadata": {},
   "source": [
    "### Zadanie 5. Do poprzedniej sieci wstaw regularyzację dropout na obu warstwach konwolucyjnych.\n",
    "\n",
    "Rozważ poziomy 0.2 i 0.5."
   ]
  },
  {
   "cell_type": "markdown",
   "metadata": {},
   "source": [
    "### Zadanie 6. Zbudować i przetestować sieć przestawioną na rysunku:\n",
    "\n",
    "<img src=\"https://adeshpande3.github.io/assets/LeNet.png\" width=\"700\">\n",
    "Źródło: https://adeshpande3.github.io/assets/LeNet.png\"\n"
   ]
  },
  {
   "cell_type": "code",
   "execution_count": null,
   "metadata": {
    "collapsed": false
   },
   "outputs": [],
   "source": [
    "model = Sequential()\n",
    "model.add(Conv2D(6, (5, 5), input_shape=(32, 32, 3), padding='valid', activation='relu', kernel_constraint=maxnorm(3)))\n",
    "model.add(MaxPooling2D(pool_size=(2, 2)))\n",
    "#model.add(Dropout(0.2))\n",
    "model.add(Conv2D(16, (5, 5), activation='relu', padding='valid', kernel_constraint=maxnorm(3)))\n",
    "model.add(MaxPooling2D(pool_size=(2, 2)))\n",
    "model.add(Flatten())\n",
    "model.add(Dense(120, activation='tanh', kernel_constraint=maxnorm(3)))\n",
    "model.add(Dense(84, activation='tanh', kernel_constraint=maxnorm(3)))\n",
    "#model.add(Dropout(0.5))\n",
    "model.add(Dense(num_classes, activation='softmax'))\n",
    "\n",
    "\n",
    "model.compile(loss='categorical_crossentropy', optimizer=\"adam\", metrics=['accuracy'])\n",
    "print(model.summary())\n",
    "\n",
    "early_stopping = EarlyStopping(patience=3,monitor=\"val_loss\")\n",
    "take_best_model = ModelCheckpoint(\"wagi.h5py\", save_best_only=True)\n",
    "\n",
    "model.fit(X_train, y_train, validation_split=0.14, epochs=100, callbacks=[early_stopping,take_best_model], batch_size=32)\n",
    "\n",
    "\n",
    "model.load_weights(\"wagi.h5py\")\n",
    "os.remove(\"wagi.h5py\")\n",
    "scores = model.evaluate(X_test, y_test, verbose=0)\n",
    "print(\"Accuracy test: %.2f%%\" % (scores[1]*100))"
   ]
  },
  {
   "cell_type": "code",
   "execution_count": null,
   "metadata": {
    "collapsed": true
   },
   "outputs": [],
   "source": []
  },
  {
   "cell_type": "code",
   "execution_count": null,
   "metadata": {
    "collapsed": true
   },
   "outputs": [],
   "source": []
  }
 ],
 "metadata": {
  "kernelspec": {
   "display_name": "Python 3",
   "language": "python",
   "name": "python3"
  },
  "language_info": {
   "codemirror_mode": {
    "name": "ipython",
    "version": 3
   },
   "file_extension": ".py",
   "mimetype": "text/x-python",
   "name": "python",
   "nbconvert_exporter": "python",
   "pygments_lexer": "ipython3",
   "version": "3.6.0"
  }
 },
 "nbformat": 4,
 "nbformat_minor": 2
}
